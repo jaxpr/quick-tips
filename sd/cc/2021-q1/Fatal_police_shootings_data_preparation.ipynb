{
  "nbformat": 4,
  "nbformat_minor": 0,
  "metadata": {
    "colab": {
      "name": "Fatal police shootings data preparation.ipynb",
      "provenance": [],
      "collapsed_sections": [
        "P_H8OVlqTvNI",
        "GtuLGxVFWDSF"
      ],
      "toc_visible": true
    },
    "kernelspec": {
      "name": "python3",
      "display_name": "Python 3"
    }
  },
  "cells": [
    {
      "cell_type": "markdown",
      "metadata": {
        "id": "5ZLdMofvJ8yI"
      },
      "source": [
        "# Fatal police shootings data preparation using `pandas`, `scipy` and `statsmodels`\r\n",
        "\r\n",
        "In this hands-on session you will be introduced to best practices to tackle a time series related project and performing exploratory data analysis. We will be using a modified version of the infamous US [fatal police shootings](https://data.world/data-society/fatal-police-shootings) dataset. Our goal is to prepare this data for the fictional use-case of predicting the number of fatal police shootings.\r\n",
        "\r\n",
        "We will cover the following topics:\r\n",
        "1. Data loading, inspection, and transforming to time series dataset\r\n",
        "2. Sampling and imputation\r\n",
        "3. Stationarity check and performing decomposition\r\n",
        "4. Glancing over a possible solution to get started with forecasting, namely ARIMA\r\n",
        "\r\n",
        "Bonus section left as an exercise to the agent\r\n",
        "4. Outlier detection\r\n",
        "\r\n",
        "**Instructions**: walk through the notebook while executing all (code) cells. You will encounter 4 exercises, always try to give them a shot. If you get stuck, the answer is given afterwards in a 'SPOILER ALERT' block. Good luck!\r\n",
        "\r\n",
        "---"
      ]
    },
    {
      "cell_type": "code",
      "metadata": {
        "id": "3oYJHjR5BKw0",
        "colab": {
          "base_uri": "https://localhost:8080/"
        },
        "outputId": "6e2ad552-bf97-441f-e180-74bfd817f774"
      },
      "source": [
        "# Install requirements\r\n",
        "!pip install statsmodels==0.12.1\r\n",
        "!pip install plotly==4.14.3\r\n",
        "\r\n",
        "# Import base packages\r\n",
        "import pandas as pd \r\n",
        "import numpy as np\r\n",
        "import plotly\r\n",
        "pd.options.plotting.backend = \"plotly\"\r\n"
      ],
      "execution_count": null,
      "outputs": [
        {
          "output_type": "stream",
          "text": [
            "Collecting statsmodels==0.12.1\n",
            "\u001b[?25l  Downloading https://files.pythonhosted.org/packages/be/4c/9e2435ca6645d6bafa2b51bb11f0a365b28934a2ffe9d6e339d67130926d/statsmodels-0.12.1-cp36-cp36m-manylinux1_x86_64.whl (9.5MB)\n",
            "\u001b[K     |████████████████████████████████| 9.5MB 5.2MB/s \n",
            "\u001b[?25hRequirement already satisfied: scipy>=1.1 in /usr/local/lib/python3.6/dist-packages (from statsmodels==0.12.1) (1.4.1)\n",
            "Requirement already satisfied: numpy>=1.15 in /usr/local/lib/python3.6/dist-packages (from statsmodels==0.12.1) (1.19.5)\n",
            "Requirement already satisfied: patsy>=0.5 in /usr/local/lib/python3.6/dist-packages (from statsmodels==0.12.1) (0.5.1)\n",
            "Requirement already satisfied: pandas>=0.21 in /usr/local/lib/python3.6/dist-packages (from statsmodels==0.12.1) (1.1.5)\n",
            "Requirement already satisfied: six in /usr/local/lib/python3.6/dist-packages (from patsy>=0.5->statsmodels==0.12.1) (1.15.0)\n",
            "Requirement already satisfied: python-dateutil>=2.7.3 in /usr/local/lib/python3.6/dist-packages (from pandas>=0.21->statsmodels==0.12.1) (2.8.1)\n",
            "Requirement already satisfied: pytz>=2017.2 in /usr/local/lib/python3.6/dist-packages (from pandas>=0.21->statsmodels==0.12.1) (2018.9)\n",
            "Installing collected packages: statsmodels\n",
            "  Found existing installation: statsmodels 0.10.2\n",
            "    Uninstalling statsmodels-0.10.2:\n",
            "      Successfully uninstalled statsmodels-0.10.2\n",
            "Successfully installed statsmodels-0.12.1\n",
            "Collecting plotly==4.14.3\n",
            "\u001b[?25l  Downloading https://files.pythonhosted.org/packages/1f/f6/bd3c17c8003b6641df1228e80e1acac97ed8402635e46c2571f8e1ef63af/plotly-4.14.3-py2.py3-none-any.whl (13.2MB)\n",
            "\u001b[K     |████████████████████████████████| 13.2MB 339kB/s \n",
            "\u001b[?25hRequirement already satisfied: retrying>=1.3.3 in /usr/local/lib/python3.6/dist-packages (from plotly==4.14.3) (1.3.3)\n",
            "Requirement already satisfied: six in /usr/local/lib/python3.6/dist-packages (from plotly==4.14.3) (1.15.0)\n",
            "Installing collected packages: plotly\n",
            "  Found existing installation: plotly 4.4.1\n",
            "    Uninstalling plotly-4.4.1:\n",
            "      Successfully uninstalled plotly-4.4.1\n",
            "Successfully installed plotly-4.14.3\n"
          ],
          "name": "stdout"
        }
      ]
    },
    {
      "cell_type": "markdown",
      "metadata": {
        "id": "B9Q7KyfNMNTE"
      },
      "source": [
        "## 1. Dataset loading and inspection\r\n",
        "\r\n",
        "First we will download the fatal police shootings dataset from our bucket. As you can see we have lots of information, including name of the victim, type of violence, whether the killed victim had mental health issues, location, and so on."
      ]
    },
    {
      "cell_type": "code",
      "metadata": {
        "id": "EsUWWYjKvUR7",
        "colab": {
          "base_uri": "https://localhost:8080/"
        },
        "outputId": "14efb463-b425-4a5f-b19a-b0091b2ffce6"
      },
      "source": [
        "import pandas as pd\r\n",
        "from google.colab import auth\r\n",
        "\r\n",
        "# Authenticate\r\n",
        "auth.authenticate_user()\r\n",
        "\r\n",
        "# Download\r\n",
        "project_id = 'protean-set-301812'\r\n",
        "!gcloud config set project {project_id}\r\n",
        "bucket_name='structured_data_chapter'\r\n",
        "!gsutil cp gs://{bucket_name}/fatal_police_shootings_data_modified.csv /tmp/fatal_police_shootings_data_modified.csv"
      ],
      "execution_count": null,
      "outputs": [
        {
          "output_type": "stream",
          "text": [
            "Updated property [core/project].\n",
            "Copying gs://structured_data_chapter/fatal_police_shootings_data_modified.csv...\n",
            "- [1 files][714.6 KiB/714.6 KiB]                                                \n",
            "Operation completed over 1 objects/714.6 KiB.                                    \n"
          ],
          "name": "stdout"
        }
      ]
    },
    {
      "cell_type": "code",
      "metadata": {
        "colab": {
          "base_uri": "https://localhost:8080/",
          "height": 182
        },
        "id": "TuyEbGtXJfij",
        "outputId": "359c54ac-a09d-4ede-e1be-68fd43c5d387"
      },
      "source": [
        "# Read\n",
        "df = data = pd.read_csv('/tmp/fatal_police_shootings_data_modified.csv')\n",
        "df.head(2)"
      ],
      "execution_count": null,
      "outputs": [
        {
          "output_type": "execute_result",
          "data": {
            "text/html": [
              "<div>\n",
              "<style scoped>\n",
              "    .dataframe tbody tr th:only-of-type {\n",
              "        vertical-align: middle;\n",
              "    }\n",
              "\n",
              "    .dataframe tbody tr th {\n",
              "        vertical-align: top;\n",
              "    }\n",
              "\n",
              "    .dataframe thead th {\n",
              "        text-align: right;\n",
              "    }\n",
              "</style>\n",
              "<table border=\"1\" class=\"dataframe\">\n",
              "  <thead>\n",
              "    <tr style=\"text-align: right;\">\n",
              "      <th></th>\n",
              "      <th>Unnamed: 0</th>\n",
              "      <th>index</th>\n",
              "      <th>id</th>\n",
              "      <th>name</th>\n",
              "      <th>date</th>\n",
              "      <th>manner_of_death</th>\n",
              "      <th>armed</th>\n",
              "      <th>age</th>\n",
              "      <th>gender</th>\n",
              "      <th>race</th>\n",
              "      <th>city</th>\n",
              "      <th>state</th>\n",
              "      <th>signs_of_mental_illness</th>\n",
              "      <th>threat_level</th>\n",
              "      <th>flee</th>\n",
              "      <th>body_camera</th>\n",
              "      <th>longitude</th>\n",
              "      <th>latitude</th>\n",
              "      <th>is_geocoding_exact</th>\n",
              "    </tr>\n",
              "  </thead>\n",
              "  <tbody>\n",
              "    <tr>\n",
              "      <th>0</th>\n",
              "      <td>0</td>\n",
              "      <td>5749</td>\n",
              "      <td>6266</td>\n",
              "      <td>Walter Wallace</td>\n",
              "      <td>2020-10-26</td>\n",
              "      <td>shot</td>\n",
              "      <td>knife</td>\n",
              "      <td>27.0</td>\n",
              "      <td>M</td>\n",
              "      <td>B</td>\n",
              "      <td>Philadelphia</td>\n",
              "      <td>PA</td>\n",
              "      <td>True</td>\n",
              "      <td>other</td>\n",
              "      <td>Not fleeing</td>\n",
              "      <td>True</td>\n",
              "      <td>-75.244</td>\n",
              "      <td>39.958</td>\n",
              "      <td>True</td>\n",
              "    </tr>\n",
              "    <tr>\n",
              "      <th>1</th>\n",
              "      <td>1</td>\n",
              "      <td>2144</td>\n",
              "      <td>2393</td>\n",
              "      <td>Earl Riley</td>\n",
              "      <td>2017-02-28</td>\n",
              "      <td>shot</td>\n",
              "      <td>gun</td>\n",
              "      <td>25.0</td>\n",
              "      <td>M</td>\n",
              "      <td>B</td>\n",
              "      <td>Houston</td>\n",
              "      <td>TX</td>\n",
              "      <td>False</td>\n",
              "      <td>attack</td>\n",
              "      <td>Not fleeing</td>\n",
              "      <td>False</td>\n",
              "      <td>-95.538</td>\n",
              "      <td>29.651</td>\n",
              "      <td>True</td>\n",
              "    </tr>\n",
              "  </tbody>\n",
              "</table>\n",
              "</div>"
            ],
            "text/plain": [
              "   Unnamed: 0  index    id  ... longitude latitude is_geocoding_exact\n",
              "0           0   5749  6266  ...   -75.244   39.958               True\n",
              "1           1   2144  2393  ...   -95.538   29.651               True\n",
              "\n",
              "[2 rows x 19 columns]"
            ]
          },
          "metadata": {
            "tags": []
          },
          "execution_count": 3
        }
      ]
    },
    {
      "cell_type": "markdown",
      "metadata": {
        "id": "MM5LGHbbrQNM"
      },
      "source": [
        "Our client, the Washington Post, has generated the dataset and wants us to give an estimation on how many **sane** people will be fatally shot by the police in the US over the next weeks. Let's find out which information we can use for that!"
      ]
    },
    {
      "cell_type": "code",
      "metadata": {
        "colab": {
          "base_uri": "https://localhost:8080/"
        },
        "id": "kjxiffM5GpAg",
        "outputId": "2288d8c8-4f56-41e5-afcb-557dc1c59022"
      },
      "source": [
        "df.info()"
      ],
      "execution_count": null,
      "outputs": [
        {
          "output_type": "stream",
          "text": [
            "<class 'pandas.core.frame.DataFrame'>\n",
            "RangeIndex: 5772 entries, 0 to 5771\n",
            "Data columns (total 19 columns):\n",
            " #   Column                   Non-Null Count  Dtype  \n",
            "---  ------                   --------------  -----  \n",
            " 0   Unnamed: 0               5772 non-null   int64  \n",
            " 1   index                    5772 non-null   int64  \n",
            " 2   id                       5772 non-null   int64  \n",
            " 3   name                     5569 non-null   object \n",
            " 4   date                     5772 non-null   object \n",
            " 5   manner_of_death          5772 non-null   object \n",
            " 6   armed                    5554 non-null   object \n",
            " 7   age                      5524 non-null   float64\n",
            " 8   gender                   5771 non-null   object \n",
            " 9   race                     5245 non-null   object \n",
            " 10  city                     5772 non-null   object \n",
            " 11  state                    5772 non-null   object \n",
            " 12  signs_of_mental_illness  5772 non-null   bool   \n",
            " 13  threat_level             5772 non-null   object \n",
            " 14  flee                     5451 non-null   object \n",
            " 15  body_camera              5772 non-null   bool   \n",
            " 16  longitude                5492 non-null   float64\n",
            " 17  latitude                 5492 non-null   float64\n",
            " 18  is_geocoding_exact       5772 non-null   bool   \n",
            "dtypes: bool(3), float64(3), int64(3), object(10)\n",
            "memory usage: 738.5+ KB\n"
          ],
          "name": "stdout"
        }
      ]
    },
    {
      "cell_type": "markdown",
      "metadata": {
        "id": "yx5QedjGQ7sK"
      },
      "source": [
        "### Exercise 1: Transform the data to a time series dataset. \r\n",
        "Think about the steps that are needed to solve the use-case. Try transforming the information we have into a time series dataset.\r\n",
        "\r\n",
        "*Hint: Which features should we take into account? What should we do/check before transformation?*"
      ]
    },
    {
      "cell_type": "code",
      "metadata": {
        "id": "c4q6OjR-RurH"
      },
      "source": [
        "# Your solution here"
      ],
      "execution_count": null,
      "outputs": []
    },
    {
      "cell_type": "markdown",
      "metadata": {
        "id": "6HmW82KoRvph"
      },
      "source": [
        "\r\n",
        "**Answer**:\r\n",
        "\r\n",
        "Continue with the notebook (open the spoiler alert)\r\n",
        "\r\n",
        "---\r\n",
        "\r\n"
      ]
    },
    {
      "cell_type": "markdown",
      "metadata": {
        "id": "ee9p6nYhQq16"
      },
      "source": [
        "#### SPOILER ALERT"
      ]
    },
    {
      "cell_type": "markdown",
      "metadata": {
        "id": "yaQS9FdDYVyE"
      },
      "source": [
        "To have this table transformed to a time series dataset, we'll have to aggregate the dataset and select only the columns we need for the filtering, being `date` and `signs_of_mental_illness`."
      ]
    },
    {
      "cell_type": "code",
      "metadata": {
        "colab": {
          "base_uri": "https://localhost:8080/"
        },
        "id": "YysVUmKb32NR",
        "outputId": "d605a85d-6511-46f4-9cef-77af4328529e"
      },
      "source": [
        "df['signs_of_mental_illness'].value_counts()"
      ],
      "execution_count": null,
      "outputs": [
        {
          "output_type": "execute_result",
          "data": {
            "text/plain": [
              "False    4428\n",
              "True     1344\n",
              "Name: signs_of_mental_illness, dtype: int64"
            ]
          },
          "metadata": {
            "tags": []
          },
          "execution_count": 6
        }
      ]
    },
    {
      "cell_type": "code",
      "metadata": {
        "colab": {
          "base_uri": "https://localhost:8080/"
        },
        "id": "oZkZpUEjHF9c",
        "outputId": "65564e75-5e03-4e05-bf11-491a8468f87e"
      },
      "source": [
        "df[[\"signs_of_mental_illness\",\"date\"]].isnull().values.any()"
      ],
      "execution_count": null,
      "outputs": [
        {
          "output_type": "execute_result",
          "data": {
            "text/plain": [
              "False"
            ]
          },
          "metadata": {
            "tags": []
          },
          "execution_count": 7
        }
      ]
    },
    {
      "cell_type": "markdown",
      "metadata": {
        "id": "xzlLW6b77jDD"
      },
      "source": [
        "**Great!** The features that we need do not have missing data! In this case, we don't need to think about general imputation steps. Let's now visualize how the data is spread across the past few years."
      ]
    },
    {
      "cell_type": "code",
      "metadata": {
        "id": "GdfhG5pwzBUQ",
        "colab": {
          "base_uri": "https://localhost:8080/"
        },
        "outputId": "bfe5902c-2e4f-41a7-a2f0-6e65a3afa97e"
      },
      "source": [
        "df[\"date\"] = df[\"date\"].astype(\"datetime64\")\r\n",
        "df[\"date\"].groupby(df[\"date\"].dt.year).count().plot(kind=\"bar\")"
      ],
      "execution_count": null,
      "outputs": [
        {
          "output_type": "execute_result",
          "data": {
            "text/plain": [
              "<matplotlib.axes._subplots.AxesSubplot at 0x7fab82dda1d0>"
            ]
          },
          "metadata": {
            "tags": []
          },
          "execution_count": 8
        },
        {
          "output_type": "display_data",
          "data": {
            "image/png": "[encoded data removed]",
            "text/plain": [
              "<Figure size 432x288 with 1 Axes>"
            ]
          },
          "metadata": {
            "tags": [],
            "needs_background": "light"
          }
        }
      ]
    },
    {
      "cell_type": "markdown",
      "metadata": {
        "id": "0QPVcZmu7mOX"
      },
      "source": [
        "Let's now aggregate and filter the data in one step. For this, always start working with the lowest level possible, e.g. daily if you have daily data!\n",
        "\n",
        "---\n",
        "\n"
      ]
    },
    {
      "cell_type": "code",
      "metadata": {
        "colab": {
          "base_uri": "https://localhost:8080/"
        },
        "id": "CGrI47LM4CLW",
        "outputId": "f506cce7-6ad4-47be-8cd7-c18db62548a8"
      },
      "source": [
        "tsdf = df[['date', 'signs_of_mental_illness', 'id']].groupby(['signs_of_mental_illness', pd.Grouper(key='date', freq='D')])\\\n",
        "       .count()\\\n",
        "       .reset_index()\\\n",
        "       .rename(columns={'id': 'quantity'})\n",
        "\n",
        "tsdf = tsdf[tsdf[\"signs_of_mental_illness\"]==False][['date','quantity']].set_index('date')\n",
        "\n",
        "tsdf.head()"
      ],
      "execution_count": null,
      "outputs": [
        {
          "output_type": "execute_result",
          "data": {
            "text/html": [
              "<div>\n",
              "<style scoped>\n",
              "    .dataframe tbody tr th:only-of-type {\n",
              "        vertical-align: middle;\n",
              "    }\n",
              "\n",
              "    .dataframe tbody tr th {\n",
              "        vertical-align: top;\n",
              "    }\n",
              "\n",
              "    .dataframe thead th {\n",
              "        text-align: right;\n",
              "    }\n",
              "</style>\n",
              "<table border=\"1\" class=\"dataframe\">\n",
              "  <thead>\n",
              "    <tr style=\"text-align: right;\">\n",
              "      <th></th>\n",
              "      <th>quantity</th>\n",
              "    </tr>\n",
              "    <tr>\n",
              "      <th>date</th>\n",
              "      <th></th>\n",
              "    </tr>\n",
              "  </thead>\n",
              "  <tbody>\n",
              "    <tr>\n",
              "      <th>2015-01-02</th>\n",
              "      <td>1</td>\n",
              "    </tr>\n",
              "    <tr>\n",
              "      <th>2015-01-03</th>\n",
              "      <td>1</td>\n",
              "    </tr>\n",
              "    <tr>\n",
              "      <th>2015-01-04</th>\n",
              "      <td>2</td>\n",
              "    </tr>\n",
              "    <tr>\n",
              "      <th>2015-01-05</th>\n",
              "      <td>1</td>\n",
              "    </tr>\n",
              "    <tr>\n",
              "      <th>2015-01-06</th>\n",
              "      <td>4</td>\n",
              "    </tr>\n",
              "  </tbody>\n",
              "</table>\n",
              "</div>"
            ],
            "text/plain": [
              "            quantity\n",
              "date                \n",
              "2015-01-02         1\n",
              "2015-01-03         1\n",
              "2015-01-04         2\n",
              "2015-01-05         1\n",
              "2015-01-06         4"
            ]
          },
          "metadata": {
            "tags": []
          },
          "execution_count": 9
        }
      ]
    },
    {
      "cell_type": "markdown",
      "metadata": {
        "id": "aHGz2psT76Jj"
      },
      "source": [
        "See [the pandas documentation](https://pandas.pydata.org/pandas-docs/stable/user_guide/timeseries.html#offset-aliases) for all the options regarding time settings!\n"
      ]
    },
    {
      "cell_type": "markdown",
      "metadata": {
        "id": "J8Ju0qOd9U2h"
      },
      "source": [
        "---\n",
        "Nice! now we have a time-series ready dataframe, with one explanatory variable (being the forecast variable itself).\n",
        "We could add extra columns to this dataframe with variables that can improve predicions (e.g. economic indicators when forecasting sales). In this case we could look for riot data, or include indicators of when controversial legislative decisions were made.\n",
        "\n",
        "\n",
        "> Small note : When forecasting, keep in mind that some packages (Prophet and NeuralProphet for example) make it possible to add holidays or special events\n",
        "\n",
        "\n",
        "\n",
        "\n",
        "\n",
        "Before we fit a model to the dataset we need to:\n",
        "- Impute missing values in our time series dataset, if any\n",
        "- Gather more insights from the data by decomposing the time series and checking stationarity!\n"
      ]
    },
    {
      "cell_type": "markdown",
      "metadata": {
        "id": "R80qiMbXo6U1"
      },
      "source": [
        "---\r\n",
        "## 2. Sampling and imputation\r\n",
        "\r\n",
        "Let's have a look at the data through different glasses, namely sample periods. "
      ]
    },
    {
      "cell_type": "code",
      "metadata": {
        "id": "OJJ1VwIZwnG6",
        "colab": {
          "base_uri": "https://localhost:8080/",
          "height": 287
        },
        "outputId": "14470c8f-29a3-4205-bf85-1674cb2d4e24"
      },
      "source": [
        "#daily data\r\n",
        "tsdf.plot()"
      ],
      "execution_count": null,
      "outputs": [
        {
          "output_type": "execute_result",
          "data": {
            "text/plain": [
              "<matplotlib.axes._subplots.AxesSubplot at 0x7fab82d607f0>"
            ]
          },
          "metadata": {
            "tags": []
          },
          "execution_count": 10
        },
        {
          "output_type": "display_data",
          "data": {
            "image/png": "[encoded data removed]",
            "text/plain": [
              "<Figure size 432x288 with 1 Axes>"
            ]
          },
          "metadata": {
            "tags": [],
            "needs_background": "light"
          }
        }
      ]
    },
    {
      "cell_type": "code",
      "metadata": {
        "colab": {
          "base_uri": "https://localhost:8080/",
          "height": 297
        },
        "id": "_bQHMRRGLMho",
        "outputId": "e15eaac1-fd8c-4ab5-b235-13a972c19305"
      },
      "source": [
        "# weekly\n",
        "tsdf.resample(\"W-MON\").mean().plot()"
      ],
      "execution_count": null,
      "outputs": [
        {
          "output_type": "execute_result",
          "data": {
            "text/plain": [
              "<matplotlib.axes._subplots.AxesSubplot at 0x7fab815994e0>"
            ]
          },
          "metadata": {
            "tags": []
          },
          "execution_count": 11
        },
        {
          "output_type": "display_data",
          "data": {
            "image/png": "[encoded data removed]",
            "text/plain": [
              "<Figure size 432x288 with 1 Axes>"
            ]
          },
          "metadata": {
            "tags": [],
            "needs_background": "light"
          }
        }
      ]
    },
    {
      "cell_type": "code",
      "metadata": {
        "colab": {
          "base_uri": "https://localhost:8080/",
          "height": 297
        },
        "id": "ogEimDqFLVqt",
        "outputId": "db3dc0b5-a5d2-4586-bb9c-8044ace85cc5"
      },
      "source": [
        "# monthly \n",
        "tsdf.resample(\"M\").mean().plot()"
      ],
      "execution_count": null,
      "outputs": [
        {
          "output_type": "execute_result",
          "data": {
            "text/plain": [
              "<matplotlib.axes._subplots.AxesSubplot at 0x7fab82e7c208>"
            ]
          },
          "metadata": {
            "tags": []
          },
          "execution_count": 12
        },
        {
          "output_type": "display_data",
          "data": {
            "image/png": "[encoded data removed]",
            "text/plain": [
              "<Figure size 432x288 with 1 Axes>"
            ]
          },
          "metadata": {
            "tags": [],
            "needs_background": "light"
          }
        }
      ]
    },
    {
      "cell_type": "code",
      "metadata": {
        "colab": {
          "base_uri": "https://localhost:8080/",
          "height": 297
        },
        "id": "fE8hu151LfSa",
        "outputId": "d05f53a0-068f-41b2-f1da-2830e69a62b2"
      },
      "source": [
        "# yearly\n",
        "tsdf.resample(\"Y\").mean().plot()"
      ],
      "execution_count": null,
      "outputs": [
        {
          "output_type": "execute_result",
          "data": {
            "text/plain": [
              "<matplotlib.axes._subplots.AxesSubplot at 0x7fab8151bf60>"
            ]
          },
          "metadata": {
            "tags": []
          },
          "execution_count": 13
        },
        {
          "output_type": "display_data",
          "data": {
            "image/png": "[encoded data removed]",
            "text/plain": [
              "<Figure size 432x288 with 1 Axes>"
            ]
          },
          "metadata": {
            "tags": [],
            "needs_background": "light"
          }
        }
      ]
    },
    {
      "cell_type": "markdown",
      "metadata": {
        "id": "k5TSn67TLrao"
      },
      "source": [
        "Well well well.. It seems like our customer has **a gap** in its data. Also remark that when we'd only look at the yearly data, we'd not be able to detect that data is missing at all!\n",
        "\n",
        "\n",
        "*   Because the missing data itself is very concentrated and spans between two different time stamps, it seems **very unlikely that the missingness mechanism is MCAR**.\n",
        "*   Unfortunately, for this hands-on session I was not able to get the CIO from the Washington Post to join, but he said that in that period, there for sure were fatal police shootings. So we'll have to assume that something simply went wrong in their data collection process and now we have to **patch the gap as good as possible**.\n"
      ]
    },
    {
      "cell_type": "markdown",
      "metadata": {
        "id": "JIobE02ARTZY"
      },
      "source": [
        ">Note that it does not always make sense to work with the most granular form of the data.\n",
        "*   Statistical intuition; it is easier to predict what a group of people will do in contrast to what a single person will do. \n",
        "*   Keep in mind that the client will probably always want to have the most granular results (e.g. forecasts), so challenge them on this request and keep in mind that aggregating the data can result in a better solution to their problem.\n"
      ]
    },
    {
      "cell_type": "code",
      "metadata": {
        "id": "1sV1x91ERVnY"
      },
      "source": [
        "# Let's resample to weeks to comply with what the client wants in the end!\n",
        "sampletime = \"W-MON\"\n",
        "tsdf = tsdf.resample(sampletime).sum()\n",
        "\n",
        "# Let's now convert the nans to zeros\n",
        "tsdf[\"quantity\"] = tsdf[\"quantity\"].replace(0, np.nan)\n",
        "\n",
        "# Also get rid of the first and last item of the dataset, as we have no data \n",
        "# ranging from monday until sunday for those 2 weeks\n",
        "tsdf = tsdf[1:-1]"
      ],
      "execution_count": null,
      "outputs": []
    },
    {
      "cell_type": "markdown",
      "metadata": {
        "id": "jrnP6i1jTbMs"
      },
      "source": [
        "### Exercise 2: Impute!\r\n",
        "\r\n",
        "Hint: All of the time series imputation techniques we've covered so far are built-in in pandas. Isn't that nice? See [this link](https://pandas.pydata.org/pandas-docs/stable/reference/api/pandas.DataFrame.interpolate.html) for the documentation.\r\n",
        "\r\n",
        "The solution can be found under the spoiler."
      ]
    },
    {
      "cell_type": "code",
      "metadata": {
        "id": "ZB3bdqcOTQjm",
        "colab": {
          "base_uri": "https://localhost:8080/",
          "height": 297
        },
        "outputId": "5e7d2334-2d40-4251-bc9a-adafb1b06eee"
      },
      "source": [
        "# To help you out and visualize your results, I prepared this function\r\n",
        "\r\n",
        "def make_data_easy_to_visualize(df):\r\n",
        "    \"\"\"Make sure that the columns that are not called 'quantity' only contain the imputed values.\r\n",
        "\r\n",
        "    Args:\r\n",
        "        df (pandas.DataFrame): dataframe containing the original data (in 'quantity' column)\r\n",
        "        and imputed data (in the non-'quantity' columns).\r\n",
        "\r\n",
        "    Returns:\r\n",
        "        pandas.DataFrame: Cleaned dataframe which shows only the imputed values when plotted.\r\n",
        "    \"\"\"\r\n",
        "    index = df['quantity'].index[df['quantity'].apply(np.isnan)]\r\n",
        "\r\n",
        "    int_index_start = df.index.get_loc(index[0])\r\n",
        "    int_index_end = df.index.get_loc(index[-1])\r\n",
        "\r\n",
        "    for col in df.columns:\r\n",
        "        if col == \"quantity\":\r\n",
        "            continue\r\n",
        "        # else\r\n",
        "        df[col].iloc[:int_index_start]=None\r\n",
        "        df[col].iloc[int_index_end+1:]=None\r\n",
        "    return df\r\n",
        "\r\n",
        "# an example with two types of imputation techniques, being mean and median imputation:\r\n",
        "testdf = tsdf.copy()\r\n",
        "testdf[\"mean\"] = testdf[\"quantity\"].fillna(testdf[\"quantity\"].mean())\r\n",
        "testdf[\"median\"] = testdf[\"quantity\"].fillna(testdf[\"quantity\"].median())\r\n",
        "dfviztest = make_data_easy_to_visualize(testdf)\r\n",
        "dfviztest.plot()"
      ],
      "execution_count": null,
      "outputs": [
        {
          "output_type": "execute_result",
          "data": {
            "text/plain": [
              "<matplotlib.axes._subplots.AxesSubplot at 0x7fab813cfb38>"
            ]
          },
          "metadata": {
            "tags": []
          },
          "execution_count": 15
        },
        {
          "output_type": "display_data",
          "data": {
            "image/png": "[encoded data removed]",
            "text/plain": [
              "<Figure size 432x288 with 1 Axes>"
            ]
          },
          "metadata": {
            "tags": [],
            "needs_background": "light"
          }
        }
      ]
    },
    {
      "cell_type": "code",
      "metadata": {
        "id": "uzqrRfmQ0amr"
      },
      "source": [
        "# Your solution here"
      ],
      "execution_count": null,
      "outputs": []
    },
    {
      "cell_type": "markdown",
      "metadata": {
        "id": "P_H8OVlqTvNI"
      },
      "source": [
        "---\r\n",
        "\r\n",
        "#### SPOILER ALERT\r\n"
      ]
    },
    {
      "cell_type": "markdown",
      "metadata": {
        "id": "GIfXI2QV0mYs"
      },
      "source": [
        "There are lots of options to choose from, as you can see in the docs. It never hurts to check lots of them, as it's quite straightforward to do. Remember that you can also take a (weighted) combination of multiple imputation techniques!\n",
        "\n",
        "The ones below are techniques that work very well in practice:"
      ]
    },
    {
      "cell_type": "code",
      "metadata": {
        "id": "Oc1D3xz1ZZ3L",
        "colab": {
          "base_uri": "https://localhost:8080/",
          "height": 299
        },
        "outputId": "8169357c-c93a-4c99-f5d8-f4a71d8498ef"
      },
      "source": [
        "tsdf[\"rolling_mean\"] = tsdf[\"quantity\"].fillna(tsdf[\"quantity\"].rolling(24,min_periods=1,).mean())\r\n",
        "tsdf[\"rolling_median\"] = tsdf[\"quantity\"].fillna(tsdf[\"quantity\"].rolling(24,min_periods=1,).median())\r\n",
        "\r\n",
        "for interpolation_method in [\"nearest\",\"linear\",\"cubic\"]:\r\n",
        "    tsdf[interpolation_method] = tsdf[\"quantity\"].interpolate(method=interpolation_method)\r\n",
        "\r\n",
        "# cubic is the same as a third order polynomial\r\n",
        "# df_interpolated[\"poly\"] = df[\"quantity\"].interpolate(method=\"polynomial\", order=3)\r\n",
        "\r\n",
        "tsdf[\"spline_cubic\"] = tsdf[\"quantity\"].interpolate(method=\"spline\", order=3)\r\n",
        "tsdf[\"spline_5th_order\"] = tsdf[\"quantity\"].interpolate(method=\"spline\", order=5)\r\n",
        "\r\n",
        "tsdfviz = make_data_easy_to_visualize(tsdf)\r\n",
        "tsdfviz.plot()"
      ],
      "execution_count": null,
      "outputs": [
        {
          "output_type": "execute_result",
          "data": {
            "text/plain": [
              "<matplotlib.axes._subplots.AxesSubplot at 0x7fab770f45c0>"
            ]
          },
          "metadata": {
            "tags": []
          },
          "execution_count": 17
        },
        {
          "output_type": "display_data",
          "data": {
            "image/png": "[encoded data removed]",
            "text/plain": [
              "<Figure size 432x288 with 1 Axes>"
            ]
          },
          "metadata": {
            "tags": [],
            "needs_background": "light"
          }
        }
      ]
    },
    {
      "cell_type": "code",
      "metadata": {
        "colab": {
          "base_uri": "https://localhost:8080/",
          "height": 469
        },
        "id": "mZzI1xs31GbA",
        "outputId": "b036401f-6d9c-40e9-bc86-563c0448fc3f"
      },
      "source": [
        "tsdfviz = make_data_easy_to_visualize(tsdf[80:120])\n",
        "tsdfviz.plot()"
      ],
      "execution_count": null,
      "outputs": [
        {
          "output_type": "stream",
          "text": [
            "/usr/local/lib/python3.6/dist-packages/ipykernel_launcher.py:22: SettingWithCopyWarning: \n",
            "A value is trying to be set on a copy of a slice from a DataFrame\n",
            "\n",
            "See the caveats in the documentation: https://pandas.pydata.org/pandas-docs/stable/user_guide/indexing.html#returning-a-view-versus-a-copy\n",
            "/usr/local/lib/python3.6/dist-packages/ipykernel_launcher.py:23: SettingWithCopyWarning: \n",
            "A value is trying to be set on a copy of a slice from a DataFrame\n",
            "\n",
            "See the caveats in the documentation: https://pandas.pydata.org/pandas-docs/stable/user_guide/indexing.html#returning-a-view-versus-a-copy\n"
          ],
          "name": "stderr"
        },
        {
          "output_type": "execute_result",
          "data": {
            "text/plain": [
              "<matplotlib.axes._subplots.AxesSubplot at 0x7fab813e07f0>"
            ]
          },
          "metadata": {
            "tags": []
          },
          "execution_count": 18
        },
        {
          "output_type": "display_data",
          "data": {
            "image/png": "[encoded data removed]",
            "text/plain": [
              "<Figure size 432x288 with 1 Axes>"
            ]
          },
          "metadata": {
            "tags": [],
            "needs_background": "light"
          }
        }
      ]
    },
    {
      "cell_type": "markdown",
      "metadata": {
        "id": "gbk1TdUI22cl"
      },
      "source": [
        "**Lots of options** as you can see. How do you choose whichever suits best? \n",
        "1. Tie back to the stakeholders; which interpolation data makes most sense in their experiences?\n",
        "2. Possibly take a number of options into account for modeling, and check which yields the best results\n",
        "Extra; If you have enough data from before the gap, you might also be able to wield a forecasting approach to fill in the data\n",
        "\n",
        "Note that the method that turns out to work best on the weekly data is not necessarily the method that works best on other kinds of aggregations (monthly for example).\n",
        "\n",
        "In our case, nearest or linear seems to do pretty OK!"
      ]
    },
    {
      "cell_type": "code",
      "metadata": {
        "id": "Sneb_8gc9_tS"
      },
      "source": [
        "tsdf[\"quantity\"] = tsdf[\"quantity\"].fillna(tsdf[\"quantity\"].rolling(24,min_periods=1,).median())"
      ],
      "execution_count": null,
      "outputs": []
    },
    {
      "cell_type": "markdown",
      "metadata": {
        "id": "aeH6sqVfo3uN"
      },
      "source": [
        "## 3. Check stationarity and perform time series decomposition\r\n",
        "\r\n",
        "Let's have a look at the decomposition using our beloved [STL method](https://www.statsmodels.org/stable/examples/notebooks/generated/stl_decomposition.html). For the stationarity check, we'll use the combination of [KPSS](https://www.statsmodels.org/stable/generated/statsmodels.tsa.stattools.kpss.html) and [ADF](https://www.statsmodels.org/stable/generated/statsmodels.tsa.stattools.adfuller.html?highlight=adf#statsmodels.tsa.stattools.adfuller). Be sure to double check the null hypotheses for each, because they have a different meaning!"
      ]
    },
    {
      "cell_type": "markdown",
      "metadata": {
        "id": "xQSr6am2V8SV"
      },
      "source": [
        "---\r\n",
        "### Exercise 3: Interpret results of STL and the stationarity checks\r\n",
        "\r\n"
      ]
    },
    {
      "cell_type": "code",
      "metadata": {
        "id": "7BakkNo_WP26"
      },
      "source": [
        "from statsmodels.tsa.seasonal import STL\r\n",
        "from statsmodels.tsa.stattools import kpss\r\n",
        "from statsmodels.tsa.stattools import adfuller as adf\r\n",
        "\r\n",
        "# Your solution here"
      ],
      "execution_count": null,
      "outputs": []
    },
    {
      "cell_type": "markdown",
      "metadata": {
        "id": "GtuLGxVFWDSF"
      },
      "source": [
        "#### SPOILER ALERT"
      ]
    },
    {
      "cell_type": "markdown",
      "metadata": {
        "id": "-WYmNRZ9As05"
      },
      "source": [
        ""
      ]
    },
    {
      "cell_type": "code",
      "metadata": {
        "id": "dxn92CYUaWef",
        "colab": {
          "base_uri": "https://localhost:8080/",
          "height": 297
        },
        "outputId": "7eebd09b-b16a-4a31-9719-c0fca36f1826"
      },
      "source": [
        "from statsmodels.tsa.seasonal import STL\r\n",
        "stl = STL(tsdf[\"quantity\"])\r\n",
        "res = stl.fit()\r\n",
        "fig = res.plot()"
      ],
      "execution_count": null,
      "outputs": [
        {
          "output_type": "display_data",
          "data": {
            "image/png": "[encoded data removed]",
            "text/plain": [
              "<Figure size 432x288 with 4 Axes>"
            ]
          },
          "metadata": {
            "tags": [],
            "needs_background": "light"
          }
        }
      ]
    },
    {
      "cell_type": "markdown",
      "metadata": {
        "id": "QOt3sxDDEVot"
      },
      "source": [
        "There's no seasonality we can infer from the data, and the trend (small changes really, but still indicative) shows that there might be some underlying process going on that shows why these fluctuations exist over time. \n",
        "\n",
        "After some research, it seems that a very plausible explanation lies within the fact that these fluctuations are the result of **multiple processes going on at once**. \n",
        "\n",
        "\n",
        "> It appears that police violence over the past years has increased in rural regions, while fatal police shootings happened less in big cities because of regulations and awareness [[Source](https://fivethirtyeight.com/features/police-are-killing-fewer-people-in-big-cities-but-more-in-suburban-and-rural-america/)]. That also means that at this point, we should pivot and split the data to have a data set representing rural regions and urban regions. I'll leave this as homework and we'll continue as-is ;)\n",
        "\n"
      ]
    },
    {
      "cell_type": "code",
      "metadata": {
        "id": "MnERNmHYDjkz",
        "colab": {
          "base_uri": "https://localhost:8080/"
        },
        "outputId": "f67021fe-0454-4d2c-acc5-74772ea7191e"
      },
      "source": [
        "kpsstest = kpss(tsdf[\"quantity\"])\r\n",
        "kpss_output = pd.Series(kpsstest[0:3], index=['Test Statistic','p-value','Lags Used'])\r\n",
        "for key,value in kpsstest[3].items():\r\n",
        "    kpss_output['Critical Value (%s)'%key] = value\r\n",
        "\r\n",
        "adftest = adf(tsdf[\"quantity\"], autolag='AIC')\r\n",
        "adf_output = pd.Series(adftest[0:4], index=['Test Statistic','p-value','#Lags Used','Number of Observations Used'])\r\n",
        "for key,value in adftest[4].items():\r\n",
        "    adf_output['Critical Value (%s)'%key] = value"
      ],
      "execution_count": null,
      "outputs": [
        {
          "output_type": "stream",
          "text": [
            "/usr/local/lib/python3.6/dist-packages/statsmodels/tsa/stattools.py:1850: FutureWarning: The behavior of using nlags=None will change in release 0.13.Currently nlags=None is the same as nlags=\"legacy\", and so a sample-size lag length is used. After the next release, the default will change to be the same as nlags=\"auto\" which uses an automatic lag length selection method. To silence this warning, either use \"auto\" or \"legacy\"\n",
            "  warnings.warn(msg, FutureWarning)\n",
            "/usr/local/lib/python3.6/dist-packages/statsmodels/tsa/stattools.py:1886: InterpolationWarning: The test statistic is outside of the range of p-values available in the\n",
            "look-up table. The actual p-value is greater than the p-value returned.\n",
            "\n",
            "  warn_msg.format(direction=\"greater\"), InterpolationWarning\n"
          ],
          "name": "stderr"
        }
      ]
    },
    {
      "cell_type": "code",
      "metadata": {
        "colab": {
          "base_uri": "https://localhost:8080/"
        },
        "id": "JCKfzfSRGzin",
        "outputId": "64b2b9db-9bd3-4c9c-f190-0562fb64cbfd"
      },
      "source": [
        "print(\"KPSS\\n\",kpss_output,\"\\n\")\n",
        "print(\"ADF\\n\",adf_output,\"\\n\")"
      ],
      "execution_count": null,
      "outputs": [
        {
          "output_type": "stream",
          "text": [
            "KPSS\n",
            " Test Statistic            0.221697\n",
            "p-value                   0.100000\n",
            "Lags Used                16.000000\n",
            "Critical Value (10%)      0.347000\n",
            "Critical Value (5%)       0.463000\n",
            "Critical Value (2.5%)     0.574000\n",
            "Critical Value (1%)       0.739000\n",
            "dtype: float64 \n",
            "\n",
            "ADF\n",
            " Test Statistic                -1.574859e+01\n",
            "p-value                        1.231134e-28\n",
            "#Lags Used                     0.000000e+00\n",
            "Number of Observations Used    3.090000e+02\n",
            "Critical Value (1%)           -3.451691e+00\n",
            "Critical Value (5%)           -2.870939e+00\n",
            "Critical Value (10%)          -2.571778e+00\n",
            "dtype: float64 \n",
            "\n"
          ],
          "name": "stdout"
        }
      ]
    },
    {
      "cell_type": "markdown",
      "metadata": {
        "id": "5gTPvxpZG11e"
      },
      "source": [
        "If we arbitrarily pick 0.05 as alpha (the critical value/significance level), then:\n",
        "1. **The null hypothesis** can not be rejected for the **KPSS test** (null hypothesis = no unit root = data is stationary; rejecting null hypothesis = unit root = data is not stationary)\n",
        "2. There is evidence for **rejecting the null hypothesis** in favor of the alternative for the **ADF test**. (null hypothesis = unit root = data is not stationary; rejecting null hypothesis = no unit root = data is stationary)\n",
        "\n",
        "This means that both test say that the data is stationary already, Yay!\n",
        "\n",
        "---\n",
        "\n",
        "In case these tests say that the data is not stationary, transformations such as differencing can change this (see below for an example)"
      ]
    },
    {
      "cell_type": "code",
      "metadata": {
        "colab": {
          "base_uri": "https://localhost:8080/",
          "height": 297
        },
        "id": "BfZpBsKtKkxB",
        "outputId": "53e3b5cb-f10e-4b96-d5ac-96b5f1743cf4"
      },
      "source": [
        "diff = tsdf['quantity'] - tsdf['quantity'].shift(1)\n",
        "df = diff.notna()\n",
        "diff.plot()"
      ],
      "execution_count": null,
      "outputs": [
        {
          "output_type": "execute_result",
          "data": {
            "text/plain": [
              "<matplotlib.axes._subplots.AxesSubplot at 0x7fab813c3c50>"
            ]
          },
          "metadata": {
            "tags": []
          },
          "execution_count": 24
        },
        {
          "output_type": "display_data",
          "data": {
            "image/png": "[encoded data removed]",
            "text/plain": [
              "<Figure size 432x288 with 1 Axes>"
            ]
          },
          "metadata": {
            "tags": [],
            "needs_background": "light"
          }
        }
      ]
    },
    {
      "cell_type": "markdown",
      "metadata": {
        "id": "BEbWE-pONfaz"
      },
      "source": [
        "## 4. Ready to do forecasting!"
      ]
    },
    {
      "cell_type": "markdown",
      "metadata": {
        "id": "j_1_BIbhNEDm"
      },
      "source": [
        "This section shows how we can then train a first benchmarking model, namely ARIMA to end conclude this hands-on!"
      ]
    },
    {
      "cell_type": "code",
      "metadata": {
        "colab": {
          "base_uri": "https://localhost:8080/"
        },
        "id": "OzFhSFbTMLql",
        "outputId": "ee952595-d597-442f-d7a0-58fbb16d27e7"
      },
      "source": [
        "!pip install pyramid-arima"
      ],
      "execution_count": null,
      "outputs": [
        {
          "output_type": "stream",
          "text": [
            "Requirement already satisfied: pyramid-arima in /usr/local/lib/python3.6/dist-packages (0.9.0)\n",
            "Requirement already satisfied: statsmodels>=0.9.0 in /usr/local/lib/python3.6/dist-packages (from pyramid-arima) (0.12.1)\n",
            "Requirement already satisfied: scikit-learn>=0.17 in /usr/local/lib/python3.6/dist-packages (from pyramid-arima) (0.22.2.post1)\n",
            "Requirement already satisfied: Cython>=0.23 in /usr/local/lib/python3.6/dist-packages (from pyramid-arima) (0.29.21)\n",
            "Requirement already satisfied: scipy>=0.9 in /usr/local/lib/python3.6/dist-packages (from pyramid-arima) (1.4.1)\n",
            "Requirement already satisfied: numpy>=1.10 in /usr/local/lib/python3.6/dist-packages (from pyramid-arima) (1.19.5)\n",
            "Requirement already satisfied: pandas>=0.19 in /usr/local/lib/python3.6/dist-packages (from pyramid-arima) (1.1.5)\n",
            "Requirement already satisfied: patsy>=0.5 in /usr/local/lib/python3.6/dist-packages (from statsmodels>=0.9.0->pyramid-arima) (0.5.1)\n",
            "Requirement already satisfied: joblib>=0.11 in /usr/local/lib/python3.6/dist-packages (from scikit-learn>=0.17->pyramid-arima) (1.0.0)\n",
            "Requirement already satisfied: pytz>=2017.2 in /usr/local/lib/python3.6/dist-packages (from pandas>=0.19->pyramid-arima) (2018.9)\n",
            "Requirement already satisfied: python-dateutil>=2.7.3 in /usr/local/lib/python3.6/dist-packages (from pandas>=0.19->pyramid-arima) (2.8.1)\n",
            "Requirement already satisfied: six in /usr/local/lib/python3.6/dist-packages (from patsy>=0.5->statsmodels>=0.9.0->pyramid-arima) (1.15.0)\n"
          ],
          "name": "stdout"
        }
      ]
    },
    {
      "cell_type": "code",
      "metadata": {
        "id": "iSLvOgjrMvjf"
      },
      "source": [
        "train = tsdf[\"quantity\"][:290]\n",
        "test = tsdf[\"quantity\"][290:]"
      ],
      "execution_count": null,
      "outputs": []
    },
    {
      "cell_type": "code",
      "metadata": {
        "colab": {
          "base_uri": "https://localhost:8080/"
        },
        "id": "BcSKcTY_M4U-",
        "outputId": "4b0eb424-d3b9-4a14-aad6-66d7f058819e"
      },
      "source": [
        "print(train.shape)\n",
        "print(test.shape)"
      ],
      "execution_count": null,
      "outputs": [
        {
          "output_type": "stream",
          "text": [
            "(290,)\n",
            "(20,)\n"
          ],
          "name": "stdout"
        }
      ]
    },
    {
      "cell_type": "code",
      "metadata": {
        "colab": {
          "base_uri": "https://localhost:8080/"
        },
        "id": "vqziRsNXLyE9",
        "outputId": "a498d417-6e7f-4e3b-e592-2288685b8ec9"
      },
      "source": [
        "import pyramid as pm\n",
        "\n",
        "# Fit two different ARIMAs\n",
        "m = pm.auto_arima(train, error_action='ignore', seasonal=False, suppress_warnings=True)\n"
      ],
      "execution_count": null,
      "outputs": [
        {
          "output_type": "stream",
          "text": [
            "/usr/local/lib/python3.6/dist-packages/sklearn/externals/six.py:31: FutureWarning: The module is deprecated in version 0.21 and will be removed in version 0.23 since we've dropped support for Python 2.7. Please rely on the official version of six (https://pypi.org/project/six/).\n",
            "  \"(https://pypi.org/project/six/).\", FutureWarning)\n",
            "/usr/local/lib/python3.6/dist-packages/sklearn/externals/joblib/__init__.py:15: FutureWarning: sklearn.externals.joblib is deprecated in 0.21 and will be removed in 0.23. Please import this functionality directly from joblib, which can be installed with: pip install joblib. If this warning is raised when loading pickled models, you may need to re-serialize those models with scikit-learn 0.21+.\n",
            "  warnings.warn(msg, category=FutureWarning)\n",
            "/usr/local/lib/python3.6/dist-packages/pyramid/__init__.py:68: UserWarning: \n",
            "    The 'pyramid' package will be migrating to a new namespace beginning in \n",
            "    version 1.0.0: 'pmdarima'. This is due to a package name collision with the\n",
            "    Pyramid web framework. For more information, see Issue #34:\n",
            "    \n",
            "        https://github.com/tgsmith61591/pyramid/issues/34\n",
            "        \n",
            "    The package will subsequently be installable via the name 'pmdarima'; the\n",
            "    only functional change to the user will be the import name. All imports\n",
            "    from 'pyramid' will change to 'pmdarima'.\n",
            "    \n",
            "  \"\"\", UserWarning)\n"
          ],
          "name": "stderr"
        }
      ]
    },
    {
      "cell_type": "code",
      "metadata": {
        "colab": {
          "base_uri": "https://localhost:8080/"
        },
        "id": "oSmpqxRVMPlT",
        "outputId": "09170cac-ca1f-461f-b4e5-9ceedc432fa9"
      },
      "source": [
        "#check the order of the final arima model: \n",
        "print(m.order)"
      ],
      "execution_count": null,
      "outputs": [
        {
          "output_type": "stream",
          "text": [
            "(1, 0, 1)\n"
          ],
          "name": "stdout"
        }
      ]
    },
    {
      "cell_type": "code",
      "metadata": {
        "colab": {
          "base_uri": "https://localhost:8080/",
          "height": 309
        },
        "id": "qELY1oUnNdFN",
        "outputId": "dd4a9bfc-f512-48a3-b08c-7cbef782067e"
      },
      "source": [
        "test.plot()"
      ],
      "execution_count": null,
      "outputs": [
        {
          "output_type": "execute_result",
          "data": {
            "text/plain": [
              "<matplotlib.axes._subplots.AxesSubplot at 0x7fab5a8e36a0>"
            ]
          },
          "metadata": {
            "tags": []
          },
          "execution_count": 30
        },
        {
          "output_type": "display_data",
          "data": {
            "image/png": "[encoded data removed]",
            "text/plain": [
              "<Figure size 432x288 with 1 Axes>"
            ]
          },
          "metadata": {
            "tags": [],
            "needs_background": "light"
          }
        }
      ]
    },
    {
      "cell_type": "code",
      "metadata": {
        "colab": {
          "base_uri": "https://localhost:8080/",
          "height": 299
        },
        "id": "UPGgdsJEMs_X",
        "outputId": "b69e3712-36f5-4cc9-860c-1d46fdb1fad3"
      },
      "source": [
        "import matplotlib.pyplot as plt\n",
        "\n",
        "fig, axes = plt.subplots()\n",
        "x = np.arange(test.shape[0])\n",
        "\n",
        "# Plot\n",
        "axes.scatter(x, test, marker='x')\n",
        "axes.plot(x, m.predict(n_periods=test.shape[0]))\n",
        "axes.set_title('Test samples vs. forecasts')"
      ],
      "execution_count": null,
      "outputs": [
        {
          "output_type": "execute_result",
          "data": {
            "text/plain": [
              "Text(0.5, 1.0, 'Test samples vs. forecasts')"
            ]
          },
          "metadata": {
            "tags": []
          },
          "execution_count": 31
        },
        {
          "output_type": "display_data",
          "data": {
            "image/png": "[encoded data removed]",
            "text/plain": [
              "<Figure size 432x288 with 1 Axes>"
            ]
          },
          "metadata": {
            "tags": [],
            "needs_background": "light"
          }
        }
      ]
    },
    {
      "cell_type": "markdown",
      "metadata": {
        "id": "j85we8jTOMhS"
      },
      "source": [
        "It seems like our best performing ARIMA model is not able to model the fluctuations, which is no big surprise as the data itself is very arid and does not show a constant seasonal component. Do not be demotivated at this point, because these results (forecasting a near straight line with your best model) is happening lots of times when working with time series. The best things you can do at this point are : \n",
        "1. Tie back and check assumptions (data imputation/sampling)\n",
        "2. Tie back and rephrase the use-case question (rural vs urban)\n",
        "3. Add in extra data such as indicators\n",
        "4. Try out some more models (other configurations of ARIMA, theta, Prophet, NeuralProphet (? - WIP))\n",
        "5. Check for outliers --> see extra section"
      ]
    },
    {
      "cell_type": "markdown",
      "metadata": {
        "id": "uQFysEh0NiQJ"
      },
      "source": [
        "# In summary\r\n",
        "\r\n",
        "You have been introduced to the go to way of tackling a time series project in which we learnt how to turn your tabular dataset into a time series dataset, resample the dataset and run an exploratory analysis. You saw how you, as a time series expert, check for stationarity and decompose time series data to gain insights from the data at hand. You also saw some specific time series imputation techniques."
      ]
    },
    {
      "cell_type": "markdown",
      "metadata": {
        "id": "RP99aRcMn96j"
      },
      "source": [
        "---\r\n",
        "\r\n",
        "## Bonus Content\r\n"
      ]
    },
    {
      "cell_type": "markdown",
      "metadata": {
        "id": "E0cKk-uKMaAj"
      },
      "source": [
        "### 5. Outlier detection\r\n",
        "\r\n",
        "One thing we didn't cover and you might need in your projects is outlier detection!\r\n",
        "\r\n",
        "For this purpose, we prepared a out of the box function in which you can use on out of 3 different SOTA outlier detection techniques. Can you find the two most apparent outliers in the dataset?"
      ]
    },
    {
      "cell_type": "code",
      "metadata": {
        "id": "V212BwiwE374"
      },
      "source": [
        "from sklearn.linear_model import LinearRegression\r\n",
        "from sklearn.ensemble import IsolationForest\r\n",
        "from sklearn.preprocessing import StandardScaler\r\n",
        "from sklearn.svm import OneClassSVM\r\n",
        "\r\n",
        "def outlier_detection(series, method, **kwargs):\r\n",
        "    \"\"\"\r\n",
        "    series is preferably the residual series\r\n",
        "    method is one of: 'regression', 'forest', SVM'\r\n",
        "        (linear regression, IsolatedForest, OneClassSVM)\r\n",
        "        default to SVM\r\n",
        "        (default parameters: k=3, outliers_fraction = 0.01 (for contamination and nu),  gamma = 0.01)\r\n",
        "\r\n",
        "    returns the indices of the outliers\r\n",
        "    \"\"\"\r\n",
        "\r\n",
        "    if method == 'regression':\r\n",
        "\r\n",
        "        # set k parameter. How many std from many to be outlier\r\n",
        "        if \"k\" in kwargs:\r\n",
        "            k = kwargs[\"k\"]\r\n",
        "        else:\r\n",
        "            k = 3\r\n",
        "\r\n",
        "        # fit linear model\r\n",
        "        X = [i for i in range(0, len(series))]\r\n",
        "        X = np.reshape(X, (len(X), 1))\r\n",
        "        y = series.values\r\n",
        "        model = LinearRegression()\r\n",
        "        model.fit(X, y)\r\n",
        "        # calculate trend\r\n",
        "        trend = model.predict(X)\r\n",
        "        # detrend\r\n",
        "        detrended = [y[i] - trend[i] for i in range(0, len(series))]\r\n",
        "        # determine mean and std\r\n",
        "        mean = np.mean(detrended)\r\n",
        "        std = np.std(detrended)\r\n",
        "        # location of outliers. If more than k times from mean\r\n",
        "        idx = (detrended < mean - k * std) | (detrended > mean + k * std)\r\n",
        "        idx = [counter for counter, value in enumerate(idx) if value]\r\n",
        "\r\n",
        "    elif method == \"forest\":\r\n",
        "\r\n",
        "        # set outliers_fraction parameter. proportion of outliers in the data set\r\n",
        "        if \"outliers_fraction\" in kwargs:\r\n",
        "            outliers_fraction = kwargs[\"outliers_fraction\"]\r\n",
        "        else:\r\n",
        "            outliers_fraction = 0.01\r\n",
        "\r\n",
        "        series = pd.DataFrame(series)\r\n",
        "        # fit Isolated forest\r\n",
        "        scaler = StandardScaler()\r\n",
        "        np_scaled = scaler.fit_transform(series)\r\n",
        "        series = pd.DataFrame(np_scaled)\r\n",
        "        model = IsolationForest(contamination=outliers_fraction)\r\n",
        "        model.fit(series)\r\n",
        "        # predict data\r\n",
        "        anomaly = pd.Series(model.predict(series))\r\n",
        "        # location of outliers\r\n",
        "        idx = [counter for counter, value in enumerate(anomaly) if value == -1]\r\n",
        "        \r\n",
        "    else:  # OneClassSVM\r\n",
        "\r\n",
        "        # set outliers_fraction parameter. Basically proportion of outliers in the data set\r\n",
        "        if \"outliers_fraction\" in kwargs:\r\n",
        "            outliers_fraction = kwargs[\"outliers_fraction\"]\r\n",
        "        else:\r\n",
        "            outliers_fraction = 0.01\r\n",
        "        # smoothing paramter\r\n",
        "        if \"gamma\" in kwargs:\r\n",
        "            gamma = kwargs[\"gamma\"]\r\n",
        "        else:\r\n",
        "            gamma = 0.01\r\n",
        "\r\n",
        "        series = pd.DataFrame(series)\r\n",
        "        # fit SVM\r\n",
        "        scaler = StandardScaler()\r\n",
        "        np_scaled = scaler.fit_transform(series)\r\n",
        "        series = pd.DataFrame(np_scaled)\r\n",
        "        model = OneClassSVM(nu=outliers_fraction, kernel=\"rbf\", gamma=0.01)\r\n",
        "        model.fit(series)\r\n",
        "        # predict data\r\n",
        "        anomaly = pd.Series(model.predict(series))\r\n",
        "        # location of outliers\r\n",
        "        idx = [counter for counter, value in enumerate(anomaly) if value == -1]\r\n",
        "\r\n",
        "    return idx"
      ],
      "execution_count": null,
      "outputs": []
    },
    {
      "cell_type": "code",
      "metadata": {
        "colab": {
          "base_uri": "https://localhost:8080/"
        },
        "id": "f4vG3PsnSDNd",
        "outputId": "a6397e5d-d832-4ebe-bcbd-c22dc6520cfb"
      },
      "source": [
        "# Ideally, you end up with a very clean decomposition of trend, seasonality component and residuals\n",
        "# in that case, do outlier detection on the residuals (res is the returned object from the STL decomposition)\n",
        "outlier_detection(res.resid, method=\"regression\")\n",
        "# we'll get results from this, \n",
        "# but because the decomposition visually hasn't been all that nice, we better rely on the original dataset"
      ],
      "execution_count": null,
      "outputs": [
        {
          "output_type": "execute_result",
          "data": {
            "text/plain": [
              "[109, 229]"
            ]
          },
          "metadata": {
            "tags": []
          },
          "execution_count": 33
        }
      ]
    },
    {
      "cell_type": "code",
      "metadata": {
        "colab": {
          "base_uri": "https://localhost:8080/"
        },
        "id": "s3t_3DPtSLRT",
        "outputId": "d5ff487d-325b-4dd1-a0d8-6e71568235ae"
      },
      "source": [
        "# when this is not the case (in this example), you should put more emphasis on the outlier detection of the original time series\n",
        "outlier_detection(tsdf[\"quantity\"], method=\"regression\")"
      ],
      "execution_count": null,
      "outputs": [
        {
          "output_type": "execute_result",
          "data": {
            "text/plain": [
              "[21, 281]"
            ]
          },
          "metadata": {
            "tags": []
          },
          "execution_count": 34
        }
      ]
    },
    {
      "cell_type": "code",
      "metadata": {
        "id": "6uVlQjOSStVo"
      },
      "source": [
        "# 21: because data was duplicated! (you can check this in original dataset) - see below\n",
        "# 281: to check with client, outlier or not?"
      ],
      "execution_count": null,
      "outputs": []
    },
    {
      "cell_type": "code",
      "metadata": {
        "colab": {
          "base_uri": "https://localhost:8080/"
        },
        "id": "KfsaO7SVUUeI",
        "outputId": "06cffedb-b4a1-42d7-a17d-de890bc076e8"
      },
      "source": [
        "tsdf.iloc[21].name"
      ],
      "execution_count": null,
      "outputs": [
        {
          "output_type": "execute_result",
          "data": {
            "text/plain": [
              "Timestamp('2015-06-08 00:00:00', freq='W-MON')"
            ]
          },
          "metadata": {
            "tags": []
          },
          "execution_count": 36
        }
      ]
    },
    {
      "cell_type": "code",
      "metadata": {
        "colab": {
          "base_uri": "https://localhost:8080/",
          "height": 1000
        },
        "id": "2Ff8P-yfUW3m",
        "outputId": "c8d1f5f3-8173-49ff-d9a1-05a00f66c432"
      },
      "source": [
        "data[\"date\"] = data[\"date\"].astype(\"datetime64\")\n",
        "data[(data[\"date\"] > pd.Timestamp(2015, 6, 2)) & (data[\"date\"] < pd.Timestamp(2015, 6, 4))]\n",
        "# Roald Neal snuck in the dataset too many times!"
      ],
      "execution_count": null,
      "outputs": [
        {
          "output_type": "execute_result",
          "data": {
            "text/html": [
              "<div>\n",
              "<style scoped>\n",
              "    .dataframe tbody tr th:only-of-type {\n",
              "        vertical-align: middle;\n",
              "    }\n",
              "\n",
              "    .dataframe tbody tr th {\n",
              "        vertical-align: top;\n",
              "    }\n",
              "\n",
              "    .dataframe thead th {\n",
              "        text-align: right;\n",
              "    }\n",
              "</style>\n",
              "<table border=\"1\" class=\"dataframe\">\n",
              "  <thead>\n",
              "    <tr style=\"text-align: right;\">\n",
              "      <th></th>\n",
              "      <th>Unnamed: 0</th>\n",
              "      <th>index</th>\n",
              "      <th>id</th>\n",
              "      <th>name</th>\n",
              "      <th>date</th>\n",
              "      <th>manner_of_death</th>\n",
              "      <th>armed</th>\n",
              "      <th>age</th>\n",
              "      <th>gender</th>\n",
              "      <th>race</th>\n",
              "      <th>city</th>\n",
              "      <th>state</th>\n",
              "      <th>signs_of_mental_illness</th>\n",
              "      <th>threat_level</th>\n",
              "      <th>flee</th>\n",
              "      <th>body_camera</th>\n",
              "      <th>longitude</th>\n",
              "      <th>latitude</th>\n",
              "      <th>is_geocoding_exact</th>\n",
              "    </tr>\n",
              "  </thead>\n",
              "  <tbody>\n",
              "    <tr>\n",
              "      <th>83</th>\n",
              "      <td>86</td>\n",
              "      <td>405</td>\n",
              "      <td>511</td>\n",
              "      <td>Roald Neal</td>\n",
              "      <td>2015-06-03</td>\n",
              "      <td>shot</td>\n",
              "      <td>NaN</td>\n",
              "      <td>66.0</td>\n",
              "      <td>M</td>\n",
              "      <td>W</td>\n",
              "      <td>Byram</td>\n",
              "      <td>TN</td>\n",
              "      <td>False</td>\n",
              "      <td>attack</td>\n",
              "      <td>Car</td>\n",
              "      <td>False</td>\n",
              "      <td>-71.470367</td>\n",
              "      <td>42.169619</td>\n",
              "      <td>False</td>\n",
              "    </tr>\n",
              "    <tr>\n",
              "      <th>115</th>\n",
              "      <td>118</td>\n",
              "      <td>405</td>\n",
              "      <td>511</td>\n",
              "      <td>Roald Neal</td>\n",
              "      <td>2015-06-03</td>\n",
              "      <td>shot</td>\n",
              "      <td>NaN</td>\n",
              "      <td>66.0</td>\n",
              "      <td>M</td>\n",
              "      <td>W</td>\n",
              "      <td>Byram</td>\n",
              "      <td>TN</td>\n",
              "      <td>False</td>\n",
              "      <td>attack</td>\n",
              "      <td>Car</td>\n",
              "      <td>False</td>\n",
              "      <td>-73.808145</td>\n",
              "      <td>41.255998</td>\n",
              "      <td>False</td>\n",
              "    </tr>\n",
              "    <tr>\n",
              "      <th>490</th>\n",
              "      <td>500</td>\n",
              "      <td>405</td>\n",
              "      <td>511</td>\n",
              "      <td>Roald Neal</td>\n",
              "      <td>2015-06-03</td>\n",
              "      <td>shot</td>\n",
              "      <td>NaN</td>\n",
              "      <td>66.0</td>\n",
              "      <td>M</td>\n",
              "      <td>W</td>\n",
              "      <td>Byram</td>\n",
              "      <td>TN</td>\n",
              "      <td>False</td>\n",
              "      <td>attack</td>\n",
              "      <td>Car</td>\n",
              "      <td>False</td>\n",
              "      <td>-71.319179</td>\n",
              "      <td>43.713788</td>\n",
              "      <td>False</td>\n",
              "    </tr>\n",
              "    <tr>\n",
              "      <th>671</th>\n",
              "      <td>686</td>\n",
              "      <td>405</td>\n",
              "      <td>511</td>\n",
              "      <td>Ronald Neal</td>\n",
              "      <td>2015-06-03</td>\n",
              "      <td>shot</td>\n",
              "      <td>gun</td>\n",
              "      <td>56.0</td>\n",
              "      <td>M</td>\n",
              "      <td>W</td>\n",
              "      <td>Byram</td>\n",
              "      <td>NJ</td>\n",
              "      <td>True</td>\n",
              "      <td>attack</td>\n",
              "      <td>Not fleeing</td>\n",
              "      <td>False</td>\n",
              "      <td>-73.808145</td>\n",
              "      <td>41.255998</td>\n",
              "      <td>True</td>\n",
              "    </tr>\n",
              "    <tr>\n",
              "      <th>842</th>\n",
              "      <td>859</td>\n",
              "      <td>405</td>\n",
              "      <td>511</td>\n",
              "      <td>Roald Neal</td>\n",
              "      <td>2015-06-03</td>\n",
              "      <td>shot</td>\n",
              "      <td>gun</td>\n",
              "      <td>66.0</td>\n",
              "      <td>M</td>\n",
              "      <td>W</td>\n",
              "      <td>Byram</td>\n",
              "      <td>TN</td>\n",
              "      <td>True</td>\n",
              "      <td>attack</td>\n",
              "      <td>Car</td>\n",
              "      <td>False</td>\n",
              "      <td>-73.808145</td>\n",
              "      <td>41.255998</td>\n",
              "      <td>True</td>\n",
              "    </tr>\n",
              "    <tr>\n",
              "      <th>938</th>\n",
              "      <td>957</td>\n",
              "      <td>404</td>\n",
              "      <td>510</td>\n",
              "      <td>Edelmiro Hernandez</td>\n",
              "      <td>2015-06-03</td>\n",
              "      <td>shot</td>\n",
              "      <td>knife</td>\n",
              "      <td>33.0</td>\n",
              "      <td>M</td>\n",
              "      <td>H</td>\n",
              "      <td>Fuqua</td>\n",
              "      <td>TX</td>\n",
              "      <td>False</td>\n",
              "      <td>other</td>\n",
              "      <td>Car</td>\n",
              "      <td>False</td>\n",
              "      <td>-95.214000</td>\n",
              "      <td>29.619000</td>\n",
              "      <td>True</td>\n",
              "    </tr>\n",
              "    <tr>\n",
              "      <th>1033</th>\n",
              "      <td>1053</td>\n",
              "      <td>405</td>\n",
              "      <td>511</td>\n",
              "      <td>Ronald Neal</td>\n",
              "      <td>2015-06-03</td>\n",
              "      <td>shot</td>\n",
              "      <td>gun</td>\n",
              "      <td>66.0</td>\n",
              "      <td>M</td>\n",
              "      <td>W</td>\n",
              "      <td>Byram</td>\n",
              "      <td>NJ</td>\n",
              "      <td>True</td>\n",
              "      <td>attack</td>\n",
              "      <td>Not fleeing</td>\n",
              "      <td>False</td>\n",
              "      <td>-73.808145</td>\n",
              "      <td>41.255998</td>\n",
              "      <td>True</td>\n",
              "    </tr>\n",
              "    <tr>\n",
              "      <th>1090</th>\n",
              "      <td>1110</td>\n",
              "      <td>405</td>\n",
              "      <td>511</td>\n",
              "      <td>Roald Neal</td>\n",
              "      <td>2015-06-03</td>\n",
              "      <td>shot</td>\n",
              "      <td>NaN</td>\n",
              "      <td>66.0</td>\n",
              "      <td>M</td>\n",
              "      <td>W</td>\n",
              "      <td>Byram</td>\n",
              "      <td>TN</td>\n",
              "      <td>False</td>\n",
              "      <td>attack</td>\n",
              "      <td>Car</td>\n",
              "      <td>False</td>\n",
              "      <td>-69.867989</td>\n",
              "      <td>44.920908</td>\n",
              "      <td>False</td>\n",
              "    </tr>\n",
              "    <tr>\n",
              "      <th>1384</th>\n",
              "      <td>1411</td>\n",
              "      <td>405</td>\n",
              "      <td>511</td>\n",
              "      <td>Roald Neal</td>\n",
              "      <td>2015-06-03</td>\n",
              "      <td>shot</td>\n",
              "      <td>NaN</td>\n",
              "      <td>66.0</td>\n",
              "      <td>M</td>\n",
              "      <td>W</td>\n",
              "      <td>Byram</td>\n",
              "      <td>TN</td>\n",
              "      <td>False</td>\n",
              "      <td>attack</td>\n",
              "      <td>Car</td>\n",
              "      <td>False</td>\n",
              "      <td>-71.470367</td>\n",
              "      <td>43.074678</td>\n",
              "      <td>False</td>\n",
              "    </tr>\n",
              "    <tr>\n",
              "      <th>1430</th>\n",
              "      <td>1459</td>\n",
              "      <td>405</td>\n",
              "      <td>511</td>\n",
              "      <td>Roald Neal</td>\n",
              "      <td>2015-06-03</td>\n",
              "      <td>shot</td>\n",
              "      <td>NaN</td>\n",
              "      <td>66.0</td>\n",
              "      <td>M</td>\n",
              "      <td>W</td>\n",
              "      <td>Byram</td>\n",
              "      <td>TN</td>\n",
              "      <td>False</td>\n",
              "      <td>attack</td>\n",
              "      <td>Car</td>\n",
              "      <td>False</td>\n",
              "      <td>-73.772326</td>\n",
              "      <td>41.255998</td>\n",
              "      <td>False</td>\n",
              "    </tr>\n",
              "    <tr>\n",
              "      <th>1453</th>\n",
              "      <td>1482</td>\n",
              "      <td>407</td>\n",
              "      <td>513</td>\n",
              "      <td>Rudy Baca</td>\n",
              "      <td>2015-06-03</td>\n",
              "      <td>shot and Tasered</td>\n",
              "      <td>unarmed</td>\n",
              "      <td>36.0</td>\n",
              "      <td>M</td>\n",
              "      <td>H</td>\n",
              "      <td>Los Lunas</td>\n",
              "      <td>NM</td>\n",
              "      <td>False</td>\n",
              "      <td>attack</td>\n",
              "      <td>Not fleeing</td>\n",
              "      <td>False</td>\n",
              "      <td>-106.756000</td>\n",
              "      <td>34.751000</td>\n",
              "      <td>True</td>\n",
              "    </tr>\n",
              "    <tr>\n",
              "      <th>1548</th>\n",
              "      <td>1580</td>\n",
              "      <td>405</td>\n",
              "      <td>511</td>\n",
              "      <td>Roald Neal</td>\n",
              "      <td>2015-06-03</td>\n",
              "      <td>shot</td>\n",
              "      <td>gun</td>\n",
              "      <td>66.0</td>\n",
              "      <td>M</td>\n",
              "      <td>W</td>\n",
              "      <td>Byram</td>\n",
              "      <td>NJ</td>\n",
              "      <td>True</td>\n",
              "      <td>attack</td>\n",
              "      <td>Not fleeing</td>\n",
              "      <td>False</td>\n",
              "      <td>-73.808145</td>\n",
              "      <td>41.255998</td>\n",
              "      <td>True</td>\n",
              "    </tr>\n",
              "    <tr>\n",
              "      <th>1733</th>\n",
              "      <td>1772</td>\n",
              "      <td>405</td>\n",
              "      <td>511</td>\n",
              "      <td>Roald Neal</td>\n",
              "      <td>2015-06-03</td>\n",
              "      <td>shot</td>\n",
              "      <td>NaN</td>\n",
              "      <td>66.0</td>\n",
              "      <td>M</td>\n",
              "      <td>W</td>\n",
              "      <td>Byram</td>\n",
              "      <td>TN</td>\n",
              "      <td>False</td>\n",
              "      <td>attack</td>\n",
              "      <td>Car</td>\n",
              "      <td>False</td>\n",
              "      <td>-71.319179</td>\n",
              "      <td>43.074678</td>\n",
              "      <td>False</td>\n",
              "    </tr>\n",
              "    <tr>\n",
              "      <th>2194</th>\n",
              "      <td>2240</td>\n",
              "      <td>405</td>\n",
              "      <td>511</td>\n",
              "      <td>Roald Neal</td>\n",
              "      <td>2015-06-03</td>\n",
              "      <td>shot</td>\n",
              "      <td>NaN</td>\n",
              "      <td>66.0</td>\n",
              "      <td>M</td>\n",
              "      <td>W</td>\n",
              "      <td>Byram</td>\n",
              "      <td>TN</td>\n",
              "      <td>False</td>\n",
              "      <td>attack</td>\n",
              "      <td>Car</td>\n",
              "      <td>False</td>\n",
              "      <td>-70.515539</td>\n",
              "      <td>44.920908</td>\n",
              "      <td>False</td>\n",
              "    </tr>\n",
              "    <tr>\n",
              "      <th>2368</th>\n",
              "      <td>2421</td>\n",
              "      <td>405</td>\n",
              "      <td>511</td>\n",
              "      <td>Roald Neal</td>\n",
              "      <td>2015-06-03</td>\n",
              "      <td>shot</td>\n",
              "      <td>NaN</td>\n",
              "      <td>66.0</td>\n",
              "      <td>M</td>\n",
              "      <td>W</td>\n",
              "      <td>Byram</td>\n",
              "      <td>TN</td>\n",
              "      <td>False</td>\n",
              "      <td>attack</td>\n",
              "      <td>Car</td>\n",
              "      <td>False</td>\n",
              "      <td>-72.964958</td>\n",
              "      <td>41.726831</td>\n",
              "      <td>False</td>\n",
              "    </tr>\n",
              "    <tr>\n",
              "      <th>2576</th>\n",
              "      <td>2631</td>\n",
              "      <td>405</td>\n",
              "      <td>511</td>\n",
              "      <td>Roald Neal</td>\n",
              "      <td>2015-06-03</td>\n",
              "      <td>shot</td>\n",
              "      <td>NaN</td>\n",
              "      <td>66.0</td>\n",
              "      <td>M</td>\n",
              "      <td>W</td>\n",
              "      <td>Byram</td>\n",
              "      <td>TN</td>\n",
              "      <td>False</td>\n",
              "      <td>attack</td>\n",
              "      <td>Car</td>\n",
              "      <td>False</td>\n",
              "      <td>-73.772326</td>\n",
              "      <td>41.404394</td>\n",
              "      <td>False</td>\n",
              "    </tr>\n",
              "    <tr>\n",
              "      <th>2605</th>\n",
              "      <td>2661</td>\n",
              "      <td>406</td>\n",
              "      <td>512</td>\n",
              "      <td>Lorenzo Garza</td>\n",
              "      <td>2015-06-03</td>\n",
              "      <td>shot</td>\n",
              "      <td>gun</td>\n",
              "      <td>46.0</td>\n",
              "      <td>M</td>\n",
              "      <td>H</td>\n",
              "      <td>Delano</td>\n",
              "      <td>CA</td>\n",
              "      <td>False</td>\n",
              "      <td>attack</td>\n",
              "      <td>Car</td>\n",
              "      <td>False</td>\n",
              "      <td>-119.223000</td>\n",
              "      <td>35.787000</td>\n",
              "      <td>True</td>\n",
              "    </tr>\n",
              "    <tr>\n",
              "      <th>2621</th>\n",
              "      <td>2678</td>\n",
              "      <td>405</td>\n",
              "      <td>511</td>\n",
              "      <td>Roald Neal</td>\n",
              "      <td>2015-06-03</td>\n",
              "      <td>shot</td>\n",
              "      <td>NaN</td>\n",
              "      <td>66.0</td>\n",
              "      <td>M</td>\n",
              "      <td>W</td>\n",
              "      <td>Byram</td>\n",
              "      <td>TN</td>\n",
              "      <td>False</td>\n",
              "      <td>attack</td>\n",
              "      <td>Car</td>\n",
              "      <td>False</td>\n",
              "      <td>-72.291658</td>\n",
              "      <td>42.169619</td>\n",
              "      <td>False</td>\n",
              "    </tr>\n",
              "    <tr>\n",
              "      <th>2889</th>\n",
              "      <td>2955</td>\n",
              "      <td>405</td>\n",
              "      <td>511</td>\n",
              "      <td>Roald Neal</td>\n",
              "      <td>2015-06-03</td>\n",
              "      <td>shot</td>\n",
              "      <td>NaN</td>\n",
              "      <td>66.0</td>\n",
              "      <td>M</td>\n",
              "      <td>W</td>\n",
              "      <td>Byram</td>\n",
              "      <td>TN</td>\n",
              "      <td>False</td>\n",
              "      <td>attack</td>\n",
              "      <td>Car</td>\n",
              "      <td>False</td>\n",
              "      <td>-72.964958</td>\n",
              "      <td>41.404394</td>\n",
              "      <td>False</td>\n",
              "    </tr>\n",
              "    <tr>\n",
              "      <th>3002</th>\n",
              "      <td>3071</td>\n",
              "      <td>403</td>\n",
              "      <td>509</td>\n",
              "      <td>Miguel Martinez</td>\n",
              "      <td>2015-06-03</td>\n",
              "      <td>shot</td>\n",
              "      <td>gun</td>\n",
              "      <td>18.0</td>\n",
              "      <td>M</td>\n",
              "      <td>H</td>\n",
              "      <td>Ellis County</td>\n",
              "      <td>TX</td>\n",
              "      <td>True</td>\n",
              "      <td>attack</td>\n",
              "      <td>Car</td>\n",
              "      <td>False</td>\n",
              "      <td>-96.864000</td>\n",
              "      <td>32.301000</td>\n",
              "      <td>True</td>\n",
              "    </tr>\n",
              "    <tr>\n",
              "      <th>3058</th>\n",
              "      <td>3128</td>\n",
              "      <td>405</td>\n",
              "      <td>511</td>\n",
              "      <td>Ronald Neal</td>\n",
              "      <td>2015-06-03</td>\n",
              "      <td>shot</td>\n",
              "      <td>gun</td>\n",
              "      <td>56.0</td>\n",
              "      <td>M</td>\n",
              "      <td>W</td>\n",
              "      <td>Byram</td>\n",
              "      <td>NJ</td>\n",
              "      <td>True</td>\n",
              "      <td>attack</td>\n",
              "      <td>Not fleeing</td>\n",
              "      <td>False</td>\n",
              "      <td>-73.808145</td>\n",
              "      <td>40.953000</td>\n",
              "      <td>True</td>\n",
              "    </tr>\n",
              "    <tr>\n",
              "      <th>3258</th>\n",
              "      <td>3332</td>\n",
              "      <td>405</td>\n",
              "      <td>511</td>\n",
              "      <td>Roald Neal</td>\n",
              "      <td>2015-06-03</td>\n",
              "      <td>shot</td>\n",
              "      <td>NaN</td>\n",
              "      <td>66.0</td>\n",
              "      <td>M</td>\n",
              "      <td>W</td>\n",
              "      <td>Byram</td>\n",
              "      <td>TN</td>\n",
              "      <td>False</td>\n",
              "      <td>attack</td>\n",
              "      <td>Car</td>\n",
              "      <td>False</td>\n",
              "      <td>-70.515539</td>\n",
              "      <td>44.470726</td>\n",
              "      <td>False</td>\n",
              "    </tr>\n",
              "    <tr>\n",
              "      <th>3895</th>\n",
              "      <td>3983</td>\n",
              "      <td>405</td>\n",
              "      <td>511</td>\n",
              "      <td>Roald Neal</td>\n",
              "      <td>2015-06-03</td>\n",
              "      <td>shot</td>\n",
              "      <td>NaN</td>\n",
              "      <td>66.0</td>\n",
              "      <td>M</td>\n",
              "      <td>W</td>\n",
              "      <td>Byram</td>\n",
              "      <td>TN</td>\n",
              "      <td>False</td>\n",
              "      <td>attack</td>\n",
              "      <td>Car</td>\n",
              "      <td>False</td>\n",
              "      <td>-72.291658</td>\n",
              "      <td>41.726831</td>\n",
              "      <td>False</td>\n",
              "    </tr>\n",
              "    <tr>\n",
              "      <th>4305</th>\n",
              "      <td>4401</td>\n",
              "      <td>405</td>\n",
              "      <td>511</td>\n",
              "      <td>Roald Neal</td>\n",
              "      <td>2015-06-03</td>\n",
              "      <td>shot</td>\n",
              "      <td>NaN</td>\n",
              "      <td>66.0</td>\n",
              "      <td>M</td>\n",
              "      <td>W</td>\n",
              "      <td>Byram</td>\n",
              "      <td>TN</td>\n",
              "      <td>False</td>\n",
              "      <td>attack</td>\n",
              "      <td>Car</td>\n",
              "      <td>False</td>\n",
              "      <td>-71.243764</td>\n",
              "      <td>44.470726</td>\n",
              "      <td>False</td>\n",
              "    </tr>\n",
              "    <tr>\n",
              "      <th>4384</th>\n",
              "      <td>4481</td>\n",
              "      <td>405</td>\n",
              "      <td>511</td>\n",
              "      <td>Roald Neal</td>\n",
              "      <td>2015-06-03</td>\n",
              "      <td>shot</td>\n",
              "      <td>gun</td>\n",
              "      <td>66.0</td>\n",
              "      <td>M</td>\n",
              "      <td>W</td>\n",
              "      <td>Byram</td>\n",
              "      <td>TN</td>\n",
              "      <td>True</td>\n",
              "      <td>attack</td>\n",
              "      <td>Car</td>\n",
              "      <td>False</td>\n",
              "      <td>-73.808145</td>\n",
              "      <td>41.255998</td>\n",
              "      <td>False</td>\n",
              "    </tr>\n",
              "    <tr>\n",
              "      <th>4731</th>\n",
              "      <td>4836</td>\n",
              "      <td>405</td>\n",
              "      <td>511</td>\n",
              "      <td>Roald Neal</td>\n",
              "      <td>2015-06-03</td>\n",
              "      <td>shot</td>\n",
              "      <td>NaN</td>\n",
              "      <td>66.0</td>\n",
              "      <td>M</td>\n",
              "      <td>W</td>\n",
              "      <td>Byram</td>\n",
              "      <td>TN</td>\n",
              "      <td>False</td>\n",
              "      <td>attack</td>\n",
              "      <td>Car</td>\n",
              "      <td>False</td>\n",
              "      <td>-71.243764</td>\n",
              "      <td>43.713788</td>\n",
              "      <td>False</td>\n",
              "    </tr>\n",
              "    <tr>\n",
              "      <th>4750</th>\n",
              "      <td>4857</td>\n",
              "      <td>405</td>\n",
              "      <td>511</td>\n",
              "      <td>Roald Neal</td>\n",
              "      <td>2015-06-03</td>\n",
              "      <td>shot</td>\n",
              "      <td>gun</td>\n",
              "      <td>66.0</td>\n",
              "      <td>M</td>\n",
              "      <td>W</td>\n",
              "      <td>Byram</td>\n",
              "      <td>TN</td>\n",
              "      <td>False</td>\n",
              "      <td>attack</td>\n",
              "      <td>Car</td>\n",
              "      <td>False</td>\n",
              "      <td>-73.808145</td>\n",
              "      <td>41.255998</td>\n",
              "      <td>False</td>\n",
              "    </tr>\n",
              "    <tr>\n",
              "      <th>4969</th>\n",
              "      <td>5082</td>\n",
              "      <td>405</td>\n",
              "      <td>511</td>\n",
              "      <td>Ronald Neal</td>\n",
              "      <td>2015-06-03</td>\n",
              "      <td>shot</td>\n",
              "      <td>gun</td>\n",
              "      <td>56.0</td>\n",
              "      <td>M</td>\n",
              "      <td>W</td>\n",
              "      <td>Byram</td>\n",
              "      <td>NJ</td>\n",
              "      <td>True</td>\n",
              "      <td>attack</td>\n",
              "      <td>Not fleeing</td>\n",
              "      <td>False</td>\n",
              "      <td>-74.741000</td>\n",
              "      <td>40.953000</td>\n",
              "      <td>True</td>\n",
              "    </tr>\n",
              "    <tr>\n",
              "      <th>5160</th>\n",
              "      <td>5278</td>\n",
              "      <td>405</td>\n",
              "      <td>511</td>\n",
              "      <td>Roald Neal</td>\n",
              "      <td>2015-06-03</td>\n",
              "      <td>shot</td>\n",
              "      <td>gun</td>\n",
              "      <td>66.0</td>\n",
              "      <td>M</td>\n",
              "      <td>W</td>\n",
              "      <td>Byram</td>\n",
              "      <td>NJ</td>\n",
              "      <td>True</td>\n",
              "      <td>attack</td>\n",
              "      <td>Car</td>\n",
              "      <td>False</td>\n",
              "      <td>-73.808145</td>\n",
              "      <td>41.255998</td>\n",
              "      <td>True</td>\n",
              "    </tr>\n",
              "  </tbody>\n",
              "</table>\n",
              "</div>"
            ],
            "text/plain": [
              "      Unnamed: 0  index   id  ...   longitude   latitude is_geocoding_exact\n",
              "83            86    405  511  ...  -71.470367  42.169619              False\n",
              "115          118    405  511  ...  -73.808145  41.255998              False\n",
              "490          500    405  511  ...  -71.319179  43.713788              False\n",
              "671          686    405  511  ...  -73.808145  41.255998               True\n",
              "842          859    405  511  ...  -73.808145  41.255998               True\n",
              "938          957    404  510  ...  -95.214000  29.619000               True\n",
              "1033        1053    405  511  ...  -73.808145  41.255998               True\n",
              "1090        1110    405  511  ...  -69.867989  44.920908              False\n",
              "1384        1411    405  511  ...  -71.470367  43.074678              False\n",
              "1430        1459    405  511  ...  -73.772326  41.255998              False\n",
              "1453        1482    407  513  ... -106.756000  34.751000               True\n",
              "1548        1580    405  511  ...  -73.808145  41.255998               True\n",
              "1733        1772    405  511  ...  -71.319179  43.074678              False\n",
              "2194        2240    405  511  ...  -70.515539  44.920908              False\n",
              "2368        2421    405  511  ...  -72.964958  41.726831              False\n",
              "2576        2631    405  511  ...  -73.772326  41.404394              False\n",
              "2605        2661    406  512  ... -119.223000  35.787000               True\n",
              "2621        2678    405  511  ...  -72.291658  42.169619              False\n",
              "2889        2955    405  511  ...  -72.964958  41.404394              False\n",
              "3002        3071    403  509  ...  -96.864000  32.301000               True\n",
              "3058        3128    405  511  ...  -73.808145  40.953000               True\n",
              "3258        3332    405  511  ...  -70.515539  44.470726              False\n",
              "3895        3983    405  511  ...  -72.291658  41.726831              False\n",
              "4305        4401    405  511  ...  -71.243764  44.470726              False\n",
              "4384        4481    405  511  ...  -73.808145  41.255998              False\n",
              "4731        4836    405  511  ...  -71.243764  43.713788              False\n",
              "4750        4857    405  511  ...  -73.808145  41.255998              False\n",
              "4969        5082    405  511  ...  -74.741000  40.953000               True\n",
              "5160        5278    405  511  ...  -73.808145  41.255998               True\n",
              "\n",
              "[29 rows x 19 columns]"
            ]
          },
          "metadata": {
            "tags": []
          },
          "execution_count": 37
        }
      ]
    }
  ]
}