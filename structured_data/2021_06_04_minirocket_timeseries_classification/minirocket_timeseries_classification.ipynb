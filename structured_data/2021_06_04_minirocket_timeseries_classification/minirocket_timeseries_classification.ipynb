{
  "nbformat": 4,
  "nbformat_minor": 0,
  "metadata": {
    "colab": {
      "name": "minirocket_timeseries_classification.ipynb",
      "provenance": [],
      "collapsed_sections": [
        "17Jx1YYUwlpa",
        "fPbgCtA-Bcsw",
        "Dluqokv30aOs",
        "SrAl2_bcBdxa",
        "gJdHf7rVDVv-",
        "c6EAsC0triyz",
        "XOxQt-ZhNoiw"
      ],
      "toc_visible": true
    },
    "kernelspec": {
      "display_name": "Python 3",
      "name": "python3"
    },
    "language_info": {
      "name": "python"
    },
    "accelerator": "GPU"
  },
  "cells": [
    {
      "cell_type": "markdown",
      "metadata": {
        "id": "B6VOmYD2zLsJ"
      },
      "source": [
        "# MINIROCKET 🚀"
      ]
    },
    {
      "cell_type": "markdown",
      "metadata": {
        "id": "MASVDEDz6shP"
      },
      "source": [
        "## Introduction\n",
        "This notebook will present the exploration and analysis of the recently surfaced _MINIROCKET: A Very Fast (Almost) Deterministic Transform for Time Series Classification_ (A. Dempster et al., 2020). A (brief) summarization of this paper's method and references to the original work is provided in [_Key concepts_](#key-concepts).\n",
        "\n",
        "With its kernel-based feature extraction, [_MINIROCKET_](#key-concepts) can extract features in both CPU and GPU environments at a fraction of _tsfresh_'s efficient or comprehensive feature calculator settings execution time (especially for large datasets), achieving a similar accuracy  but at the cost of features that are not at all interpretable. \n",
        "Additionally, while it is not as fast as the almost instantaneous Fourier transformed (_fft_/_stft_) features, _MINIROCKET_  generally offers better performance.\n",
        "\n",
        "Specifically, with this notebook a basic implementation of _MINIROCKET_ is provided and tested against _tsfresh_ and Fourier feature extraction in terms of speed and performance for a medium sized dataset ([_Experiment 1_](#experiment-1)). It also looks into the difference in runtime of CPU and GPU implementations for large datasets ([_Experiment 2_](#experiment-2)). Finally, this notebook is concluded with a number of key [_Take-aways_](#takeaways) on when and how to use _MINIROCKET_."
      ]
    },
    {
      "cell_type": "code",
      "metadata": {
        "id": "-g7tdHV1Kvc8",
        "cellView": "form"
      },
      "source": [
        "#@title A number of notes to consider before you start running this notebook...  { run: \"auto\" }\n",
        "#@markdown 1. To explore all features present in this notebook, make sure you **execute the notebook's contents using a GPU runtime**. This can be checked using the [_Environment setup_](#gpu-test) code cell.\n",
        "#@markdown 2. In order to ensure that your runtime is restarted after installing missing Python packages, **the runtime will be purposefully crashed** after executing the [_Install packages_](#package-installation) code cell. You should be able to simply continue running the remainder of the notebook after this forced restart!  \n",
        "#@markdown 3. Extracting features using the _tsfresh_ method can take around 10 minutes. **If you are (absolutely, 100%, no doubt) certain that you want to wait while _tsfresh_ are being extracted, tick the checkbox below**.\n",
        "run_tsfresh_check = False #@param {type:\"boolean\", run:\"auto\"}\n",
        "\n",
        "# Persist variable as pickle to refer to after purposely crashing the notebook\n",
        "import pickle\n",
        "with open('run_tsfresh_check.pickle', 'wb') as f:\n",
        "    pickle.dump(run_tsfresh_check, f)"
      ],
      "execution_count": null,
      "outputs": []
    },
    {
      "cell_type": "markdown",
      "metadata": {
        "id": "17Jx1YYUwlpa"
      },
      "source": [
        "<a name=\"key-concepts\"></a>\n",
        "## Key concepts\n",
        "Below, some of the work's key technical aspects are listed. For a detailed description of the development process and implementation of the feature transform, please refer to its [publication preprint on arXiv](https://arxiv.org/abs/2012.08791) and to the accompanying [official GitHub repository](https://github.com/angus924/minirocket)."
      ]
    },
    {
      "cell_type": "markdown",
      "metadata": {
        "id": "htYYZruNwegq"
      },
      "source": [
        "- **MINI**mally **R**and**O**m **C**onvolutional **KE**rnel **T**ransform (_MINIROCKET_) transforms an input time series using convolutional kernels, and uses the transformed features to train a linear classifier. It improves on the concept of its predecessor with a number of key changes to the kernels in terms of length, weights, bias, dilation, and padding, as well as resulting changes to the features.\n",
        "    - The preceding *ROCKET* transform used kernels with lengths selected randomly from {7, 9, 11}, weights drawn from N(0, 1), bias terms drawn from U(−1, 1), random dilations, and random paddings. Two features, namely PPV (Positive Predictive Value) and max, are computed per kernel, for a total of 20,000 features. \n",
        "    - There are 2^9 = 512 possible two-valued kernels of length 9. MINIROCKET_ uses a subset of 84 of these kernels, a subset which balances accuracy with the computational advantages of using a small, fixed set of kernels and is almost entirely deterministic.\n",
        "    - While random convolutional kernels are highly effective, it is possible to achieve essentially the same accuracy using a mostly-deterministic\n",
        "and much faster procedure. \n",
        "- Paired with a linear ridge classifier, _MINIROCKET_ represents a significant advance in accuracy relative to computational cost."
      ]
    },
    {
      "cell_type": "markdown",
      "metadata": {
        "id": "dFQQhhFO3XJt"
      },
      "source": [
        "<a name=\"setup\"></a>\n",
        "## Setup\n",
        "This section deals with setting up the Google Colab environment and importing all the necessary dependencies. \n",
        "\n",
        "Note that **your session will crash when running** `Install packages` **if missing packages have to be installed**. This is **normal behaviour**, as this forces the runtime to be restarted _with_ the installed packages."
      ]
    },
    {
      "cell_type": "markdown",
      "metadata": {
        "id": "xvyR5sPzB0lW"
      },
      "source": [
        "<a name=\"package-installation\"></a>\n",
        "### Install packages\n",
        "This cell will check if all packages are installed. If not, **they will be installed and your session will be restarted (or rather, crashed and forced to restart)**! Rerunning this cell will confirm that the installation was successful, meaning you can move on."
      ]
    },
    {
      "cell_type": "code",
      "metadata": {
        "colab": {
          "base_uri": "https://localhost:8080/"
        },
        "id": "1vAhrYtIt5Sq",
        "outputId": "5234bb3f-65d3-4041-bb47-62f0d6128ac8"
      },
      "source": [
        "import_errors = []\n",
        "\n",
        "import scipy\n",
        "if scipy.__version__ == '1.4.1':\n",
        "    print(f'Upgrading package: \"{\"scipy\"}\"...')\n",
        "    !pip install scipy>=1.5\n",
        "    import_errors.append('scipy')\n",
        "\n",
        "try:\n",
        "    import tsai\n",
        "except ImportError as e:\n",
        "    print(f'Installing package: \"{\"tsai\"}\"...')\n",
        "    #!pip install -Uqq tsai\n",
        "    !pip install -Uqq git+https://github.com/timeseriesAI/tsai.git\n",
        "    import_errors.append('tsai')\n",
        "\n",
        "if import_errors:\n",
        "    print(f'The following 3rd party packages had to be installed: {import_errors}.')\n",
        "    print('Restarting runtime...')\n",
        "    import os\n",
        "    os.kill(os.getpid(), 9)\n",
        "else:\n",
        "    print('All packages are installed and up-to-date!')"
      ],
      "execution_count": null,
      "outputs": [
        {
          "output_type": "stream",
          "text": [
            "All packages are installed and up-to-date!\n"
          ],
          "name": "stdout"
        }
      ]
    },
    {
      "cell_type": "markdown",
      "metadata": {
        "id": "fPbgCtA-Bcsw"
      },
      "source": [
        "### Import dependencies"
      ]
    },
    {
      "cell_type": "code",
      "metadata": {
        "id": "EaEqtgyU3WUe",
        "colab": {
          "base_uri": "https://localhost:8080/"
        },
        "outputId": "6a8b6dec-197d-451c-e060-b3e3d237c761"
      },
      "source": [
        "# Import native packages\n",
        "import json\n",
        "import os\n",
        "import requests\n",
        "\n",
        "# Import auxillary packages\n",
        "from matplotlib import pyplot as plt\n",
        "import numpy as np\n",
        "import pandas as pd\n",
        "import tabulate\n",
        "\n",
        "# Import machine learning packages\n",
        "import fastai\n",
        "\n",
        "from lightgbm import LGBMClassifier\n",
        "\n",
        "import pickle\n",
        "\n",
        "from scipy import signal\n",
        "from scipy.fft import fft, rfft\n",
        "\n",
        "import seaborn as sn\n",
        "\n",
        "from sklearn.feature_selection import VarianceThreshold\n",
        "from sklearn.linear_model import RidgeClassifierCV\n",
        "from sklearn.metrics import accuracy_score, precision_score, recall_score, roc_auc_score, confusion_matrix, f1_score\n",
        "from sklearn.pipeline import make_pipeline\n",
        "from sklearn.svm import SVC\n",
        "\n",
        "from sktime.transformations.panel.rocket import MiniRocket as MiniRocket_sktime, MiniRocketMultivariate as MiniRocketMultivariate_sktime\n",
        "from sktime.datasets.base import load_UCR_UEA_dataset\n",
        "\n",
        "import torch\n",
        "\n",
        "from tsai.all import *\n",
        "from tsai.all import MiniRocketClassifier as MiniRocket_fastai\n",
        "\n",
        "import tsfresh\n",
        "from tsfresh.feature_extraction.settings import ComprehensiveFCParameters, MinimalFCParameters, EfficientFCParameters"
      ],
      "execution_count": null,
      "outputs": [
        {
          "output_type": "stream",
          "text": [
            "/usr/local/lib/python3.7/dist-packages/numba/np/ufunc/parallel.py:365: NumbaWarning: The TBB threading layer requires TBB version 2019.5 or later i.e., TBB_INTERFACE_VERSION >= 11005. Found TBB_INTERFACE_VERSION = 9107. The TBB threading layer is disabled.\n",
            "  warnings.warn(problem)\n"
          ],
          "name": "stderr"
        }
      ]
    },
    {
      "cell_type": "markdown",
      "metadata": {
        "id": "WmN1fEcKBcvI"
      },
      "source": [
        "<a name=\"gpu-test\"></a>\n",
        "### Environment setup\n",
        "Running this checks if your colab instance is connected to a GPU. If it is, CUDA will be available and a GPU name will be returned."
      ]
    },
    {
      "cell_type": "code",
      "metadata": {
        "id": "mlf8Dfj1Bnja",
        "colab": {
          "base_uri": "https://localhost:8080/"
        },
        "outputId": "71ae33c7-79b7-45eb-e398-e22674a3999e"
      },
      "source": [
        "print(\n",
        "    tabulate.tabulate(\n",
        "        [\n",
        "            ['CUDA available:', torch.cuda.is_available()],\n",
        "            ['GPU name:', torch.cuda.get_device_name(0)]\n",
        "        ],\n",
        "        tablefmt='plain'\n",
        "    )\n",
        ")"
      ],
      "execution_count": null,
      "outputs": [
        {
          "output_type": "stream",
          "text": [
            "CUDA available:  True\n",
            "GPU name:        Tesla T4\n"
          ],
          "name": "stdout"
        }
      ]
    },
    {
      "cell_type": "markdown",
      "metadata": {
        "id": "Dluqokv30aOs"
      },
      "source": [
        "<a name='data'></a>\n",
        "## Data\n",
        "In this section, code is provided for gathering data from the [UEA & UCR Time Series Classification Repository](http://www.timeseriesclassification.com/index.php) and reshaping it for use with the _fastai_ library.  We use these datasets to compare the _MINIROCKET_, _tsfresh_, and Fourier transform feature extraction methods.\n"
      ]
    },
    {
      "cell_type": "markdown",
      "metadata": {
        "id": "SrAl2_bcBdxa"
      },
      "source": [
        "### Helper functions\n",
        "A number of alterations to an existing _sktime_ function to fix issues and better suit our needs. The `load_from_arff_to_dataframe` function is used to read the dataset from `.arff` or _Attribute-Relation File Format_ files in case the more common `.ts` or _TypeScript_ files are missing.\n"
      ]
    },
    {
      "cell_type": "code",
      "metadata": {
        "id": "9cbh_tw881KM"
      },
      "source": [
        "def load_from_arff_to_dataframe(\n",
        "    full_file_path_and_name,\n",
        "    has_class_labels=True,\n",
        "    return_separate_X_and_y=True,\n",
        "    replace_missing_vals_with=\"NaN\",\n",
        "):\n",
        "    \"\"\"Loads data from a .arff file into a Pandas DataFrame.\n",
        "\n",
        "    Args:\n",
        "        full_file_path_and_name: str\n",
        "            The full pathname of the .arff file to read.\n",
        "        has_class_labels: bool\n",
        "            true then line contains separated strings and class value contains\n",
        "            list of separated strings, check for 'return_separate_X_and_y'\n",
        "            false otherwise.\n",
        "        return_separate_X_and_y: bool\n",
        "            true then X and y values should be returned as separate Data Frames (\n",
        "            X) and a numpy array (y), false otherwise.\n",
        "            This is only relevant for data.\n",
        "        replace_missing_vals_with: str\n",
        "            The value that missing values in the text file should be replaced\n",
        "            with prior to parsing.\n",
        "\n",
        "    Returns:\n",
        "        DataFrame, ndarray\n",
        "            If return_separate_X_and_y then a tuple containing a DataFrame and a\n",
        "            numpy array containing the relevant time-series and corresponding\n",
        "            class values.\n",
        "        DataFrame\n",
        "            If not return_separate_X_and_y then a single DataFrame containing\n",
        "            all time series and (if relevant) a column \"class_vals\" the\n",
        "            associated class values.\n",
        "    \"\"\"\n",
        "\n",
        "    instance_list = []\n",
        "    class_val_list = []\n",
        "\n",
        "    data_started = False\n",
        "    is_multi_variate = False\n",
        "    is_first_case = True\n",
        "\n",
        "    # Parse the file\n",
        "    with open(full_file_path_and_name, \"r\") as f:\n",
        "        for line in f:\n",
        "\n",
        "            if line.strip():\n",
        "                if (\n",
        "                    is_multi_variate is False\n",
        "                    and \"@attribute\" in line.lower()\n",
        "                    and \"relational\" in line.lower()\n",
        "                ):\n",
        "                    is_multi_variate = True\n",
        "\n",
        "                if \"@data\" in line.lower():\n",
        "                    data_started = True\n",
        "                    continue\n",
        "\n",
        "                # if the 'data tag has been found, the header information\n",
        "                # has been cleared and now data can be loaded\n",
        "                if data_started:\n",
        "                    line = line.replace(\"?\", replace_missing_vals_with)\n",
        "\n",
        "                    if is_multi_variate:\n",
        "                        if has_class_labels:\n",
        "                            line, class_val = line.split(\"',\")\n",
        "                            class_val_list.append(class_val.strip())\n",
        "                        dimensions = line.split(\"\\\\n\")\n",
        "                        dimensions[0] = dimensions[0].replace(\"'\", \"\")\n",
        "\n",
        "                        if is_first_case:\n",
        "                            for _d in range(len(dimensions)):\n",
        "                                instance_list.append([])\n",
        "                            is_first_case = False\n",
        "\n",
        "                        for dim in range(len(dimensions)):\n",
        "                            instance_list[dim].append(\n",
        "                                pd.Series(\n",
        "                                    [float(i) for i in dimensions[dim].split(\",\") if i != '']\n",
        "                                )\n",
        "                            )\n",
        "\n",
        "                    else:\n",
        "                        if is_first_case:\n",
        "                            instance_list.append([])\n",
        "                            is_first_case = False\n",
        "\n",
        "                        line_parts = line.split(\",\")\n",
        "                        if has_class_labels:\n",
        "                            instance_list[0].append(\n",
        "                                pd.Series(\n",
        "                                    [\n",
        "                                        float(i)\n",
        "                                        for i in line_parts[: len(line_parts) - 1]\n",
        "                                    ]\n",
        "                                )\n",
        "                            )\n",
        "                            class_val_list.append(line_parts[-1].strip())\n",
        "                        else:\n",
        "                            instance_list[0].append(\n",
        "                                pd.Series(\n",
        "                                    [float(i) for i in line_parts[: len(line_parts)]]\n",
        "                                )\n",
        "                            )\n",
        "\n",
        "    x_data = pd.DataFrame(dtype=np.float32)\n",
        "    for dim in range(len(instance_list)):\n",
        "        x_data[\"dim_\" + str(dim)] = instance_list[dim]\n",
        "\n",
        "    if has_class_labels:\n",
        "        if return_separate_X_and_y:\n",
        "            return x_data, np.asarray(class_val_list)\n",
        "        else:\n",
        "            x_data[\"class_vals\"] = pd.Series(class_val_list)\n",
        "\n",
        "    return x_data\n"
      ],
      "execution_count": null,
      "outputs": []
    },
    {
      "cell_type": "markdown",
      "metadata": {
        "id": "X5ZKuMLsN4zH"
      },
      "source": [
        "### Main functions"
      ]
    },
    {
      "cell_type": "code",
      "metadata": {
        "id": "2IMygdHk7yE2"
      },
      "source": [
        "def get_data(data, split):\n",
        "    \"\"\"Wrapper around the sktime `load_from_arff_to_dataframe` function that\n",
        "    attempts to read the dataset from .ts files and falls back to .arff files\n",
        "    in case the former are missing.\n",
        "\n",
        "    Args:\n",
        "        data: str\n",
        "            The nominal name of the dataset corresponding to the name given in \n",
        "            the UEA and UCR repository for time series classification.\n",
        "        split: str\n",
        "            Whether to return the split for training ('train') or testing\n",
        "            ('test') the classifier.\n",
        "\n",
        "    Returns:\n",
        "        Dataframe, ndarray\n",
        "            A tuple containing a DataFrame and a numpy array containing the \n",
        "            relevant time series and corresponding class values.\n",
        "    \"\"\"\n",
        "    try:\n",
        "        X, y = load_UCR_UEA_dataset(data, split=split.lower(), return_X_y=True)\n",
        "    except FileNotFoundError as e:\n",
        "        error_path = str(e).split(' ')[-1].strip(\"'\")\n",
        "        arff_base_path = '/'.join('.'.join(error_path.split('.')[:-1]) .split('/')[:-1])\n",
        "        arff_path = '/'.join(arff_base_path.split('/')[:-1]) + '/' + arff_base_path.split('/')[-1] + '/' + data + '/'\n",
        "        \n",
        "        arff_file = arff_path + f'{data}_{split.upper()}.arff'\n",
        "        \n",
        "        X, y = load_from_arff_to_dataframe(arff_file)\n",
        "\n",
        "\n",
        "    # Standardize labelling to integers that start at 0 and increase incrementally\n",
        "    y_standard = np.zeros_like(y)\n",
        "    for index, label in enumerate(np.unique(y)):\n",
        "        y_standard[y == label] = index\n",
        "    y = y_standard\n",
        "\n",
        "    return X, y"
      ],
      "execution_count": null,
      "outputs": []
    },
    {
      "cell_type": "code",
      "metadata": {
        "id": "vwC_Vh8R09ot"
      },
      "source": [
        "def reshape_fastai_data(X, y):\n",
        "    \"\"\"Reshapes the raw time series into the format required by the fastai \n",
        "    library.\n",
        "\n",
        "    Args:\n",
        "        X: Dataframe\n",
        "            The time series that must be transformed.\n",
        "        y: ndarray\n",
        "            The corresponding class values of the time series in X.\n",
        "            \n",
        "    Returns:\n",
        "        Dataframe, ndarray\n",
        "            A tuple containing the reshaped DataFrame and a numpy array \n",
        "            containing the relevant time series and corresponding class values.\n",
        "    \"\"\"\n",
        "    X_reshaped = []\n",
        "    for col in X.columns:\n",
        "        for i, row in X[col].iteritems():\n",
        "            X_reshaped.append(row.to_numpy(dtype=np.float32).reshape(1, -1))\n",
        "    X_reshaped = np.array(X_reshaped)\n",
        "    \n",
        "    return X_reshaped, y"
      ],
      "execution_count": null,
      "outputs": []
    },
    {
      "cell_type": "markdown",
      "metadata": {
        "id": "s8kkPFlj_6cg"
      },
      "source": [
        "<a name=\"models\"></a>\n",
        "## Models\n",
        "This section implements the different time series transformers and classifiers for testing, namely the *MINIROCKET* feature transformation and the *tsfresh* feature extraction, both paired with a ridge classifier to reproduce the *MINIROCKET* results described in their paper and to allow for fair comparison between both feature extraction methods."
      ]
    },
    {
      "cell_type": "markdown",
      "metadata": {
        "id": "q_3i-y8c__Pk"
      },
      "source": [
        "<a name=\"minirocket\"></a>\n",
        "### *MINIROCKET*\n",
        "This wrapper function makes *MINIROCKET* configuration easier. Do you want to train the classifier using the _sktime_ or the _tsai_ implementation? Execute on CPU or GPU? Train and test online or offline? Perform data augmentation?\n"
      ]
    },
    {
      "cell_type": "code",
      "metadata": {
        "id": "X5Kh6HxYD0Qb"
      },
      "source": [
        "def minirocket_classifier(data,\n",
        "                          mode='cpu',\n",
        "                          src='tsai',\n",
        "                          epochs=50,\n",
        "                          lr=None,\n",
        "                          offline=True,\n",
        "                          augm=False):\n",
        "    \"\"\"A wrapper around the *MINIROCKET* feature transformation method to allow\n",
        "    for easy configuration.\n",
        "\n",
        "    Args:\n",
        "        data: str\n",
        "            The nominal name of the dataset corresponding to the name given in \n",
        "            the UEA and UCR repository for time series classification.\n",
        "        mode: str\n",
        "            Whether to run the transformation on CPU ('cpu') or GPU ('gpu').\n",
        "        src: str\n",
        "            Whether to run the transformation using the sktime or tsai\n",
        "            implementation.\n",
        "        epochs: int\n",
        "            The number of epochs to train the classifier for.\n",
        "        lr: float\n",
        "            When running on GPU, sets the optimizer's learning rate.\n",
        "        offline: bool\n",
        "            When running on GPU, whether to run the transformation offline or \n",
        "            online.\n",
        "        aug: bool\n",
        "            When running on GPU, whether to augment to input time series or not.\n",
        "    Returns:\n",
        "        ndarray, ndarray\n",
        "            A tuple of the predicted classes for the test split of the data and\n",
        "            the actual classes of these test samples.\n",
        "    \"\"\"\n",
        "    print('Running MINIROCKET classifier...')\n",
        "\n",
        "    # Catch configuration conflicts\n",
        "    if mode not in ['cpu', 'gpu']:\n",
        "        raise ValueError('MINIROCKET mode should be either \"cpu\" or \"gpu\"...')\n",
        "    \n",
        "    if mode == 'gpu' and src == 'sktime':\n",
        "        raise ValueError('MINIROCKET by sktime can only be run on GPU...')\n",
        "\n",
        "    # Load dataset\n",
        "    timer.start(False)\n",
        "    X_train, y_train = get_data(data, split='train')\n",
        "    X_test, y_test = get_data(data, split='test')\n",
        "    t1 = timer.stop()\n",
        "    print('  Data loading:  ', t1)\n",
        "\n",
        "   # Initialize pipeline\n",
        "    if mode == 'cpu':\n",
        "        if src == 'sktime':\n",
        "            # Define MINIROCKET transformer\n",
        "            if X_train.shape[1] == 1:\n",
        "                # Univariate data\n",
        "                minirocket = MiniRocket_sktime()\n",
        "            else:\n",
        "                # Multivariate data\n",
        "                minirocket = MiniRocketMultivariate_sktime()\n",
        "    \n",
        "            # Define classifier\n",
        "            classifier = RidgeClassifierCV(alphas=np.logspace(-3, 3, 10), normalize=True)\n",
        "\n",
        "            # Construct pipeline\n",
        "            model = make_pipeline(\n",
        "                minirocket, \n",
        "                classifier\n",
        "            )\n",
        "        elif src == 'tsai':\n",
        "            model = MiniRocket_fastai()\n",
        "        else:\n",
        "            raise ValueError('MINIROCKET source should be either \"sktime\" or \"tsai\"...')\n",
        "    elif mode == 'gpu':\n",
        "        # Reshape data\n",
        "        X_train, y_train = reshape_fastai_data(X_train, y_train)\n",
        "        X_test, y_test = reshape_fastai_data(X_test, y_test)\n",
        "        \n",
        "        X = np.concatenate([X_train, X_test], axis=0)\n",
        "        y = np.concatenate([y_train, y_test], axis=0)\n",
        "        splits = [range(len(X_train)), range(len(X_train), len(X_train) + len(X_test))]\n",
        "\n",
        "        # Configure transformations\n",
        "        transformations = [None, TSClassification()]\n",
        "        if augm:\n",
        "            batch_transformations = [TSStandardize(by_sample=True), TSMagScale(), TSWindowWarp()]\n",
        "        else:\n",
        "            batch_transformations = TSStandardize(by_sample=True)\n",
        "\n",
        "            \n",
        "        # Using tsai/fastai, create DataLoaders and model\n",
        "        if offline:          \n",
        "            # Create MiniRocket feature transformer\n",
        "            minirocket_features = MiniRocketFeatures(\n",
        "                c_in=X.shape[1], \n",
        "                seq_len=X.shape[2]\n",
        "            ).to(default_device())\n",
        "\n",
        "            # Fit transformer to training features\n",
        "            X_train = torch.from_numpy(X[splits[0]]).to(default_device())\n",
        "            minirocket_features.fit(X_train)\n",
        "\n",
        "            # Transform train and test features\n",
        "            X_feat = get_minirocket_features(X, minirocket_features, chunksize=1024, to_np=True)\n",
        "            X_feat.shape, type(X_feat)\n",
        "\n",
        "            dataloaders = get_ts_dls(X_feat, y, splits=splits, tfms=transformations, batch_tfms=batch_transformations)\n",
        "            # Model is a linear classifier Head\n",
        "            minirocket_classifier = build_ts_model(MiniRocketHead, dls=dataloaders)\n",
        "        else: # online\n",
        "            dataloaders = get_ts_dls(X, y, splits=splits, tfms=transformations, batch_tfms=batch_transformations)\n",
        "            minirocket_classifier = build_ts_model(MiniRocket, dls=dataloaders)\n",
        "        \n",
        "        model = Learner(dataloaders, minirocket_classifier, metrics=accuracy, cbs=[ShowGraph()])\n",
        "\n",
        "\n",
        "    # Train pipeline\n",
        "    timer.start(False)\n",
        "    if mode == 'cpu':\n",
        "        model.fit(X_train, y_train)\n",
        "    elif mode == 'gpu':\n",
        "        if not lr:\n",
        "            # Drop into fastai and use it to find a good learning rate\n",
        "            lr = model.lr_find().lr_steep # Start from steep learning rate to start ADAM optimization from\n",
        "\n",
        "        # Train learner\n",
        "        model.fit_one_cycle(epochs, lr, wd=0.01) # Include weight decay for ridge regularization             \n",
        "    t2 = timer.stop()\n",
        "    print('  Model training:', t2)\n",
        "\n",
        "    # Test pipeline\n",
        "    timer.start(False)\n",
        "    if mode == 'cpu':\n",
        "        r_test = model.predict(X_test)\n",
        "        acc_test = model.score(X_test, y_test)\n",
        "    elif mode == 'gpu':\n",
        "        r_test, y_test = model.get_preds()\n",
        "        acc_test = len(np.where(np.array(np.argmax(r_test, axis=1)) == np.array(y_test))[0]) / len(r_test) \n",
        "    t3 = timer.stop()\n",
        "    print('  Model testing: ', t3)\n",
        "\n",
        "    # Print results\n",
        "    print('  Configuration:')\n",
        "    print(\n",
        "        tabulate.tabulate(\n",
        "            [\n",
        "                ['', '', 'data:', f'\"{data}\" ({\"univariate\" if X_train.shape[1] == 1 else \"multivariate\"})'],\n",
        "                ['', '', 'mode:', f'\"{mode}\"'],\n",
        "                ['', '', 'src:', f'\"{src}\"'],\n",
        "                ['', '', 'epochs:', epochs if mode=='gpu' else None],\n",
        "                ['', '', 'lr:', lr if mode=='gpu' else None]\n",
        "            ],\n",
        "            tablefmt='plain'\n",
        "        )\n",
        "    )\n",
        "    print('  Performance:')\n",
        "    print(\n",
        "        tabulate.tabulate(\n",
        "            [\n",
        "                ['', '', 'test_acc:', f'{acc_test:.4f}'],\n",
        "            ],\n",
        "            tablefmt='plain'\n",
        "        )\n",
        "    )\n",
        "    print('  Run time:')\n",
        "    print(\n",
        "        tabulate.tabulate(\n",
        "            [\n",
        "                ['', 'data:', t1],\n",
        "                ['', 'training:', t2],\n",
        "                ['', 'testing:', t3],\n",
        "            ],\n",
        "            headers=['', 'total:', t1+t2+t3],\n",
        "            tablefmt='plain'\n",
        "        )\n",
        "    )\n",
        "\n",
        "    return r_test, y_test"
      ],
      "execution_count": null,
      "outputs": []
    },
    {
      "cell_type": "markdown",
      "metadata": {
        "id": "LcWZKEI3HyLl"
      },
      "source": [
        "<a name=\"tsfresh\"></a>\n",
        "### *tsfresh*\n",
        "A wrapper around time series classification with feature extraction using [_tsfresh_](https://tsfresh.readthedocs.io/en/latest/). Since we aim to offer a fair comparison between the qualities of _MINIROCKET_ and _tsfresh_ — the current go to feature extraction method for time series — we only include the combination with a ridge classifier."
      ]
    },
    {
      "cell_type": "markdown",
      "metadata": {
        "id": "UJs1Ox2dLgWa"
      },
      "source": [
        "##### Helper functions\n",
        "A number of alterations to existing _tsai_ functions to fix issues and better suit our needs.\n"
      ]
    },
    {
      "cell_type": "code",
      "metadata": {
        "id": "bH1oICDZGIoD"
      },
      "source": [
        "def get_relevant_ts_features(X:Union[np.ndarray, torch.Tensor], \n",
        "                             y:Union[None, np.ndarray, torch.Tensor]=None, \n",
        "                             features:Union[str, dict]='min',\n",
        "                             n_jobs:Optional[int]=None, \n",
        "                             **kwargs):\n",
        "    \"\"\"Feature extraction using the tsfresh package.\n",
        "\n",
        "    Args:\n",
        "        X: Union[np.ndarray, torch.Tensor]\n",
        "             np.array or torch.Tesnor of shape [samples, dimensions, timesteps].\n",
        "        y: Union[None, np.ndarray, torch.Tensor]\n",
        "            Not required for unlabeled data. Otherwise, you need to pass it.\n",
        "        features: Union[str, dict]\n",
        "            'minimal', 'efficient', 'comprehensive', or a dictionary. Be aware that \n",
        "            'efficient' and 'comprehensive' may required substantial memory and time.\n",
        "        n_jobs: Optional[int]\n",
        "            The number of jobs to run the feature exctaction with.\n",
        "\n",
        "    Returns:\n",
        "        Dataframe\n",
        "            A dataframe containing the features extracted using the\n",
        "            configuration specified with the function's arguments.\n",
        "    \"\"\"\n",
        "    df = to_tsfresh_df(X)\n",
        "    n_jobs = ifnone(n_jobs, defaults.cpus)\n",
        "    if 'default_fc_parameters' in kwargs.keys(): default_fc_parameters = default_fc_parameters\n",
        "    elif features == 'minimal': default_fc_parameters = MinimalFCParameters()\n",
        "    elif features == 'efficient': default_fc_parameters = EfficientFCParameters()\n",
        "    elif features == 'comprehensive': default_fc_parameters = ComprehensiveFCParameters()\n",
        "    else: default_fc_parameters = None\n",
        "    df = tsfresh.extract_relevant_features(df, y=pd.Series(data=y), column_id=\"id\", n_jobs=n_jobs, default_fc_parameters=default_fc_parameters, **kwargs)\n",
        "    if y is not None:\n",
        "        if y.ndim == 1: y = y.reshape(-1,1)\n",
        "        for i in range(y.shape[-1]):\n",
        "            df['target' if y.shape[-1] == 1 else f'target_{i}'] = y[:, i]\n",
        "    return df\n"
      ],
      "execution_count": null,
      "outputs": []
    },
    {
      "cell_type": "markdown",
      "metadata": {
        "id": "o-ojkVG2dxNC"
      },
      "source": [
        "#### Main functions"
      ]
    },
    {
      "cell_type": "code",
      "metadata": {
        "id": "TX96nwQ5YENe"
      },
      "source": [
        "def tsfresh_classifier(data,\n",
        "                       features):\n",
        "    \"\"\"A wrapper around the tsfresh feature transformation method to allow\n",
        "    for easy configuration.\n",
        "\n",
        "    Args:\n",
        "        data: str\n",
        "            The nominal name of the dataset corresponding to the name given in \n",
        "            the UEA and UCR repository for time series classification.\n",
        "        features: str\n",
        "            A configuration parameter for tsfresh feature extraction ('minimal', \n",
        "            'efficient', 'comprehensive').\n",
        "\n",
        "    Returns:\n",
        "        ndarray, ndarray\n",
        "            A tuple of the predicted classes for the test split of the data and\n",
        "            the actual classes of these test samples.\n",
        "    \"\"\"\n",
        "    # Catch configuration conflicts\n",
        "    if features not in ['comprehensive', 'efficient', 'minimal', None]:\n",
        "        raise ValueError('TSFRESH feature calculator configuration must be \"comprehensive\", \"efficient\", \"minimal\", or None...')\n",
        "\n",
        "    # Load and reshape dataset\n",
        "    timer.start(False)\n",
        "    X_train, y_train = get_data(data, split='train')\n",
        "    X_train, y_train = reshape_fastai_data(X_train, y_train)\n",
        "\n",
        "    X_test, y_test = get_data(data, split='test')\n",
        "    X_test, y_test = reshape_fastai_data(X_test, y_test)\n",
        "    t1 = timer.stop()\n",
        "\n",
        "    # Combine train and test data\n",
        "    X = np.concatenate([X_train, X_test], axis=0)\n",
        "    y = np.concatenate([y_train, y_test], axis=0)\n",
        "    splits = [range(len(X_train)), range(len(X_train), len(X_train) + len(X_test))]\n",
        "\n",
        "    # Extract features\n",
        "    timer.start(False)\n",
        "    feat = get_relevant_ts_features(X, y, features=features, n_jobs=4)\n",
        "    feat = feat.dropna(axis=1)\n",
        "\n",
        "    # Split and shuffle training and test data\n",
        "    train_feat = feat.iloc[splits[0]].sample(frac=1).reset_index(drop=True)\n",
        "    X_train_feat, y_train = train_feat.drop(columns=['target']), train_feat['target']\n",
        "    \n",
        "    test_feat = feat.iloc[splits[1]]\n",
        "    X_test_feat, y_test = test_feat.drop(columns=['target']), test_feat['target']\n",
        "\n",
        "    # Train classifier\n",
        "    ridge_classifier = RidgeClassifierCV(alphas=np.logspace(-3, 3, 10), normalize=True)\n",
        "    ridge_classifier.fit(X_train_feat, y_train)\n",
        "    t2 = timer.stop()\n",
        "\n",
        "    # Test classifier\n",
        "    timer.start(False)\n",
        "    r_test = ridge_classifier.predict(X_test_feat)\n",
        "    acc_test = ridge_classifier.score(X_test_feat, y_test)\n",
        "    t3 = timer.stop()\n",
        "\n",
        "    # Print results\n",
        "    print('  Configuration:')\n",
        "    print(\n",
        "        tabulate.tabulate(\n",
        "            [\n",
        "                ['', '', 'data:', f'\"{data}\" ({\"univariate\" if X_train.shape[1] == 1 else \"multivariate\"})'],\n",
        "                ['', '', 'features:', f'\"{features}\"'],\n",
        "            ],\n",
        "            tablefmt='plain'\n",
        "        )\n",
        "    )\n",
        "    print('  Performance:')\n",
        "    print(\n",
        "        tabulate.tabulate(\n",
        "            [\n",
        "                ['', '', 'test_acc:', f'{acc_test:.4f}'],\n",
        "            ],\n",
        "            tablefmt='plain'\n",
        "        )\n",
        "    )\n",
        "    print('  Run time:')\n",
        "    print(\n",
        "        tabulate.tabulate(\n",
        "            [\n",
        "                ['', 'data:', t1],\n",
        "                ['', 'training:', t2],\n",
        "                ['', 'testing:', t3],\n",
        "            ],\n",
        "            headers=['', 'total:', t1+t2+t3],\n",
        "            tablefmt='plain'\n",
        "        )\n",
        "    )\n",
        "\n",
        "    return r_test, y_test.to_numpy() # Return labels as a NumPy array"
      ],
      "execution_count": null,
      "outputs": []
    },
    {
      "cell_type": "markdown",
      "metadata": {
        "id": "gJdHf7rVDVv-"
      },
      "source": [
        "### _scipy.fft_\n",
        "A wrapper around time series classification with feature extraction using [_scipy_](https://docs.scipy.org/doc/scipy/reference/tutorial/fft.html)'s Fast Fourier Transform (_fft_) feature extraction. To offer a fair comparison between the qualities of _MINIROCKET_ and _fft_, we only pair these features with a ridge classifier."
      ]
    },
    {
      "cell_type": "code",
      "metadata": {
        "id": "d2wXJNWADYNp"
      },
      "source": [
        "def fft_classifier(data):\n",
        "    \"\"\"A wrapper around the fft feature transformation method to allow\n",
        "    for easy configuration.\n",
        "\n",
        "    Args:\n",
        "        data: str\n",
        "            The nominal name of the dataset corresponding to the name given in \n",
        "            the UEA and UCR repository for time series classification.\n",
        "\n",
        "    Returns:\n",
        "        ndarray, ndarray\n",
        "            A tuple of the predicted classes for the test split of the data and\n",
        "            the actual classes of these test samples.\n",
        "    \"\"\"\n",
        "    # Load and reshape dataset\n",
        "    timer.start(False)\n",
        "    X_train, y_train = get_data(data, split='train')\n",
        "    X_train, y_train = reshape_fastai_data(X_train, y_train)\n",
        "\n",
        "    X_test, y_test = get_data(data, split='test')\n",
        "    X_test, y_test = reshape_fastai_data(X_test, y_test)\n",
        "    t1 = timer.stop()\n",
        "\n",
        "    # Combine train and test data\n",
        "    X = np.concatenate([X_train, X_test], axis=0)\n",
        "    y = np.concatenate([y_train, y_test], axis=0)\n",
        "    splits = [range(len(X_train)), range(len(X_train), len(X_train) + len(X_test))]\n",
        "    \n",
        "    # Extract features\n",
        "    timer.start(False)\n",
        "    fourier = fft(X)\n",
        "    feat = np.column_stack((fourier.real, fourier.imag))\n",
        "\n",
        "    # Split and shuffle training and test data\n",
        "    X_train_feat = feat[splits[0]]\n",
        "    X_test_feat = feat[splits[1]]\n",
        "\n",
        "    # Train classifier\n",
        "    nsamples, nx, ny = X_train_feat.shape\n",
        "    X_train_feat = X_train_feat.reshape((nsamples,nx*ny))\n",
        "\n",
        "    ridge_classifier = RidgeClassifierCV(alphas=np.logspace(-3, 3, 10), normalize=True)\n",
        "    ridge_classifier.fit(X_train_feat, y_train)\n",
        "    t2 = timer.stop()\n",
        "\n",
        "    # Test classifier\n",
        "    timer.start(False)\n",
        "    nsamples, nx, ny = X_test_feat.shape\n",
        "    X_test_feat = X_test_feat.reshape((nsamples,nx*ny))\n",
        "\n",
        "    r_test = ridge_classifier.predict(X_test_feat)\n",
        "    acc_test = ridge_classifier.score(X_test_feat, y_test)\n",
        "    t3 = timer.stop()\n",
        "\n",
        "    # Print results\n",
        "    print('  Configuration:')\n",
        "    print(\n",
        "        tabulate.tabulate(\n",
        "            [\n",
        "                ['', '', 'data:', f'\"{data}\" ({\"univariate\" if X_train.shape[1] == 1 else \"multivariate\"})']\n",
        "            ],\n",
        "            tablefmt='plain'\n",
        "        )\n",
        "    )\n",
        "    print('  Performance:')\n",
        "    print(\n",
        "        tabulate.tabulate(\n",
        "            [\n",
        "                ['', '', 'test_acc:', f'{acc_test:.4f}'],\n",
        "            ],\n",
        "            tablefmt='plain'\n",
        "        )\n",
        "    )\n",
        "    print('  Run time:')\n",
        "    print(\n",
        "        tabulate.tabulate(\n",
        "            [\n",
        "                ['', 'data:', t1],\n",
        "                ['', 'training:', t2],\n",
        "                ['', 'testing:', t3],\n",
        "            ],\n",
        "            headers=['', 'total:', t1+t2+t3],\n",
        "            tablefmt='plain'\n",
        "        )\n",
        "    )\n",
        "\n",
        "    return r_test, y_test"
      ],
      "execution_count": null,
      "outputs": []
    },
    {
      "cell_type": "markdown",
      "metadata": {
        "id": "c6EAsC0triyz"
      },
      "source": [
        "### _scipy.signal.stft_\n",
        "A wrapper around time series classification with feature extraction using [_scipy_](https://docs.scipy.org/doc/scipy/reference/generated/scipy.signal.stft.html)'s Short Time Fourier Transform (_stft_) feature extraction. To offer a fair comparison between the qualities of _MINIROCKET_ and _stft_, we only pair these features with a ridge classifier."
      ]
    },
    {
      "cell_type": "code",
      "metadata": {
        "id": "a9ngnEyPPFof"
      },
      "source": [
        "def stft_classifier(data):\n",
        "    \"\"\"A wrapper around the fft feature transformation method to allow\n",
        "    for easy configuration.\n",
        "\n",
        "    Args:\n",
        "        data: str\n",
        "            The nominal name of the dataset corresponding to the name given in \n",
        "            the UEA and UCR repository for time series classification.\n",
        "\n",
        "    Returns:\n",
        "        ndarray, ndarray\n",
        "            A tuple of the predicted classes for the test split of the data and\n",
        "            the actual classes of these test samples.\n",
        "    \"\"\"\n",
        "    # Load and reshape dataset\n",
        "    timer.start(False)\n",
        "    X_train, y_train = get_data(data, split='train')\n",
        "    X_train, y_train = reshape_fastai_data(X_train, y_train)\n",
        "\n",
        "    X_test, y_test = get_data(data, split='test')\n",
        "    X_test, y_test = reshape_fastai_data(X_test, y_test)\n",
        "    t1 = timer.stop()\n",
        "\n",
        "    # Combine train and test data\n",
        "    X = np.concatenate([X_train, X_test], axis=0)\n",
        "    y = np.concatenate([y_train, y_test], axis=0)\n",
        "    splits = [range(len(X_train)), range(len(X_train), len(X_train) + len(X_test))]\n",
        "\n",
        "    # Extract features\n",
        "    timer.start(False)\n",
        "    f, ts, feat = signal.stft(X, nperseg=X.shape[2])\n",
        "    feat=np.abs(feat)\n",
        "\n",
        "    # Split and shuffle training and test data\n",
        "    X_train_feat = feat[splits[0]]\n",
        "    X_test_feat = feat[splits[1]]\n",
        "\n",
        "    # Train classifier\n",
        "    nsamples, nx, ny, nz = X_train_feat.shape\n",
        "    X_train_feat = X_train_feat.reshape((nsamples,nx*ny*nz))\n",
        "\n",
        "    ridge_classifier = RidgeClassifierCV(alphas=np.logspace(-3, 3, 10), normalize=True)\n",
        "    ridge_classifier.fit(X_train_feat, y_train)\n",
        "    t2 = timer.stop()\n",
        "\n",
        "    # Test classifier\n",
        "    timer.start(False)\n",
        "    nsamples, nx, ny, nz = X_test_feat.shape\n",
        "    X_test_feat = X_test_feat.reshape((nsamples,nx*ny*nz))\n",
        "\n",
        "    r_test = ridge_classifier.predict(X_test_feat)\n",
        "    acc_test = ridge_classifier.score(X_test_feat, y_test)\n",
        "    t3 = timer.stop()\n",
        "\n",
        "    # Print results\n",
        "    print('  Configuration:')\n",
        "    print(\n",
        "        tabulate.tabulate(\n",
        "            [\n",
        "                ['', '', 'data:', f'\"{data}\" ({\"univariate\" if X_train.shape[1] == 1 else \"multivariate\"})']\n",
        "            ],\n",
        "            tablefmt='plain'\n",
        "        )\n",
        "    )\n",
        "    print('  Performance:')\n",
        "    print(\n",
        "        tabulate.tabulate(\n",
        "            [\n",
        "                ['', '', 'test_acc:', f'{acc_test:.4f}'],\n",
        "            ],\n",
        "            tablefmt='plain'\n",
        "        )\n",
        "    )\n",
        "    print('  Run time:')\n",
        "    print(\n",
        "        tabulate.tabulate(\n",
        "            [\n",
        "                ['', 'data:', t1],\n",
        "                ['', 'training:', t2],\n",
        "                ['', 'testing:', t3],\n",
        "            ],\n",
        "            headers=['', 'total:', t1+t2+t3],\n",
        "            tablefmt='plain'\n",
        "        )\n",
        "    )\n",
        "\n",
        "    return r_test, y_test"
      ],
      "execution_count": null,
      "outputs": []
    },
    {
      "cell_type": "markdown",
      "metadata": {
        "id": "XOxQt-ZhNoiw"
      },
      "source": [
        "## Metrics\n",
        "A selection of metrics and plots to assess performance of the  models being compared in this notebook. For each model (variation) being tested, its accuracy, precision, recall, F1, AUC and confusion matrix is determined and displayed for easy performance comparison."
      ]
    },
    {
      "cell_type": "code",
      "metadata": {
        "id": "B585NLyBNo54"
      },
      "source": [
        "def evaluate_predictions(pred, truth, model=None):\n",
        "    # Convert tensors to numpy arrays\n",
        "    if not isinstance(pred, np.ndarray) or not isinstance(truth, np.ndarray):\n",
        "        pred, truth = np.argmax(pred.cpu().detach().numpy(), axis=1), truth.cpu().detach().numpy()\n",
        "\n",
        "    # Correct dtypes of arrays\n",
        "    truth = np.array(truth, dtype=int)\n",
        "    pred = np.array(pred, dtype=int)\n",
        "\n",
        "    # Calculate metrics\n",
        "    accuracy = accuracy_score(truth, pred)\n",
        "    precision = precision_score(truth, pred, labels=np.unique(pred), average='weighted')\n",
        "\n",
        "    recall = recall_score(truth, pred, average='weighted')\n",
        "\n",
        "    f1 = 2 * (precision * recall) / (precision + recall)\n",
        "    if len(np.unique(truth)) > 2: \n",
        "        # One-hot encoding of predictions is required for multiclass ROC calculation\n",
        "        truth_onehot = np.eye(np.max(truth) + 1)[truth]\n",
        "        pred_onehot = np.eye(np.max(truth) + 1)[pred]\n",
        "        roc_auc = roc_auc_score(truth, pred_onehot, average='weighted', multi_class='ovr')\n",
        "    else:\n",
        "        roc_auc = roc_auc_score(truth, pred, average='weighted', multi_class='ovr')\n",
        "    conf_matrix = confusion_matrix(truth, pred)\n",
        "    \n",
        "\n",
        "    # Print results\n",
        "    print('  Detailed performance')\n",
        "    print(\n",
        "        tabulate.tabulate(\n",
        "            [\n",
        "                    ['', '', 'accuracy:', f'{accuracy:4f}'],\n",
        "                    ['', '', 'precision:', f'{precision:4f}'],\n",
        "                    ['', '', 'recall:', f'{recall:4f}'],\n",
        "                    ['', '', 'f1:', f'{f1:4f}'],\n",
        "                    ['', '', 'roc auc:', f'{roc_auc:4f}'],\n",
        "                    ['', '', 'confusion matrix:', '']\n",
        "            ],\n",
        "            tablefmt='plain'\n",
        "        )\n",
        "    )    \n",
        "    \n",
        "    # Show confusion matrix\n",
        "    df_cm = pd.DataFrame(conf_matrix, index=range(len(conf_matrix)), columns=range(len(conf_matrix[0])))\n",
        "    plt.figure(figsize = (10,7))\n",
        "    sn.heatmap(df_cm, annot=True, cmap=sn.color_palette(\"rocket_r\", as_cmap=True))\n"
      ],
      "execution_count": null,
      "outputs": []
    },
    {
      "cell_type": "markdown",
      "metadata": {
        "id": "5oJjG1E_A38Z"
      },
      "source": [
        "## Experiments\n",
        "You have arrived at the most important part of the notebook!\n",
        "Prepare for lift-off... 🚀\n"
      ]
    },
    {
      "cell_type": "markdown",
      "metadata": {
        "id": "qQrk9TvYMhC-"
      },
      "source": [
        "<a name=\"experiment-1\"></a>\n",
        "### Experiment 1: Feature extraction with *MINIROCKET* vs. _tsfresh_\n",
        "In this first experiment, the _MINIROCKET_ feature transformation is compared to the current frequently used method for feature extraction, namely _tsfresh_. Both performance and training and inference speed will be assessed for a(n arbitrarily) medium sized dataset: the UEA & UCR Time Series Classification Repository [_Wafer_](http://www.timeseriesclassification.com/description.php?Dataset=Wafer) dataset."
      ]
    },
    {
      "cell_type": "markdown",
      "metadata": {
        "id": "VMP8VM4MuFpl"
      },
      "source": [
        "- **Train size**: 1000\n",
        "- **Test size**: 6164\n",
        "- **Sample length**: 152\n",
        "- **Number of classes**: 2 (abnormal: 0, normal: 1)\n",
        "\n",
        "This dataset relates to semiconductor microelectronics fabrication: each sample in the _Wafer_ database contains measurements recorded by one sensor during the processing of one wafer by one tool. The measurements are classified as either normal or abnormal. \n",
        "\n",
        "The dataset is imbalanced, favoring normal measurments (1-9)."
      ]
    },
    {
      "cell_type": "markdown",
      "metadata": {
        "id": "sqB4FjqdWowk"
      },
      "source": [
        "#### *MINIROCKET*"
      ]
    },
    {
      "cell_type": "code",
      "metadata": {
        "id": "2LyrvRtTWoDG",
        "colab": {
          "base_uri": "https://localhost:8080/",
          "height": 843
        },
        "outputId": "3b510c03-21f4-4737-c3af-bfda0e9e0a1f"
      },
      "source": [
        "minirocket_preds, minirocket_truths = minirocket_classifier(data='Wafer', mode='cpu', src='sktime')\n",
        "evaluate_predictions(minirocket_preds, minirocket_truths)"
      ],
      "execution_count": null,
      "outputs": [
        {
          "output_type": "stream",
          "text": [
            "Running MINIROCKET classifier...\n",
            "  Data loading:   0:00:01.254342\n",
            "  Model training: 0:00:01.506285\n",
            "  Model testing:  0:00:05.411579\n",
            "  Configuration:\n",
            "    data:    \"Wafer\" (univariate)\n",
            "    mode:    \"cpu\"\n",
            "    src:     \"sktime\"\n",
            "    epochs:\n",
            "    lr:\n",
            "  Performance:\n",
            "    test_acc:  0.9987\n",
            "  Run time:\n",
            "    total:     0:00:08.172206\n",
            "    data:      0:00:01.254342\n",
            "    training:  0:00:01.506285\n",
            "    testing:   0:00:05.411579\n",
            "  Detailed performance\n",
            "    accuracy:          0.998702\n",
            "    precision:         0.998701\n",
            "    recall:            0.998702\n",
            "    f1:                0.998702\n",
            "    roc auc:           0.995968\n",
            "    confusion matrix:\n"
          ],
          "name": "stdout"
        },
        {
          "output_type": "display_data",
          "data": {
            "image/png": "[encoded data removed]",
            "text/plain": [
              "<Figure size 720x504 with 2 Axes>"
            ]
          },
          "metadata": {
            "tags": [],
            "needs_background": "light"
          }
        }
      ]
    },
    {
      "cell_type": "markdown",
      "metadata": {
        "id": "aE2NkcOl_O1W"
      },
      "source": [
        "After a little over **8 seconds** — including 1,3 seconds to load the data — _MINIROCKET_ features enabled the classifier to achieve **near-perfect performance** with only 5 of the 6.164 test samples classified incorrectly in the presence of a heavy class imbalance. With little to no optimizations for the dataset, features were extracted quickly to enable versatile classification of imbalanced datasets.\n",
        "\n",
        "Unfortunately, the performance of the classifier cannot be attributed to a selection of _MINIROCKET_'s features as a feature cannot (currently) be linked to the kernel that enabled its calculation... This causes the feature transformation to **lack any explainability whatsoever**."
      ]
    },
    {
      "cell_type": "markdown",
      "metadata": {
        "id": "OJHP8VsNXcwy"
      },
      "source": [
        "#### _tsfresh_ (minimal)"
      ]
    },
    {
      "cell_type": "code",
      "metadata": {
        "colab": {
          "base_uri": "https://localhost:8080/",
          "height": 1000
        },
        "id": "FyLpqr8YXdBp",
        "outputId": "32d40f6f-a36d-4dce-8186-d6d97f27b366"
      },
      "source": [
        "tsfresh_min_preds, tsfresh_min_truths = tsfresh_classifier('Wafer', 'minimal')\n",
        "evaluate_predictions(tsfresh_min_preds, tsfresh_min_truths)"
      ],
      "execution_count": null,
      "outputs": [
        {
          "output_type": "stream",
          "text": [
            "\n",
            "Feature Extraction:   0%|          | 0/20 [00:00<?, ?it/s]\u001b[A\n",
            "Feature Extraction:   5%|▌         | 1/20 [00:01<00:21,  1.15s/it]\u001b[A\n",
            "Feature Extraction:  10%|█         | 2/20 [00:01<00:16,  1.11it/s]\u001b[A\n",
            "Feature Extraction:  15%|█▌        | 3/20 [00:01<00:12,  1.37it/s]\u001b[A\n",
            "Feature Extraction:  20%|██        | 4/20 [00:02<00:09,  1.61it/s]\u001b[A\n",
            "Feature Extraction:  25%|██▌       | 5/20 [00:02<00:08,  1.82it/s]\u001b[A\n",
            "Feature Extraction:  30%|███       | 6/20 [00:02<00:06,  2.26it/s]\u001b[A\n",
            "Feature Extraction:  35%|███▌      | 7/20 [00:03<00:05,  2.36it/s]\u001b[A\n",
            "Feature Extraction:  40%|████      | 8/20 [00:03<00:04,  2.65it/s]\u001b[A\n",
            "Feature Extraction:  45%|████▌     | 9/20 [00:03<00:04,  2.49it/s]\u001b[A\n",
            "Feature Extraction:  50%|█████     | 10/20 [00:04<00:03,  2.69it/s]\u001b[A\n",
            "Feature Extraction:  55%|█████▌    | 11/20 [00:04<00:03,  2.88it/s]\u001b[A\n",
            "Feature Extraction:  60%|██████    | 12/20 [00:04<00:02,  2.79it/s]\u001b[A\n",
            "Feature Extraction:  65%|██████▌   | 13/20 [00:05<00:02,  2.65it/s]\u001b[A\n",
            "Feature Extraction:  70%|███████   | 14/20 [00:05<00:02,  2.85it/s]\u001b[A\n",
            "Feature Extraction:  75%|███████▌  | 15/20 [00:05<00:01,  2.76it/s]\u001b[A\n",
            "Feature Extraction:  80%|████████  | 16/20 [00:06<00:01,  2.85it/s]\u001b[A\n",
            "Feature Extraction:  85%|████████▌ | 17/20 [00:06<00:01,  2.90it/s]\u001b[A\n",
            "Feature Extraction:  90%|█████████ | 18/20 [00:06<00:00,  3.06it/s]\u001b[A\n",
            "Feature Extraction:  95%|█████████▌| 19/20 [00:07<00:00,  3.33it/s]\u001b[A\n",
            "Feature Extraction: 100%|██████████| 20/20 [00:07<00:00,  2.73it/s]\n"
          ],
          "name": "stderr"
        },
        {
          "output_type": "stream",
          "text": [
            "  Configuration:\n",
            "    data:      \"Wafer\" (univariate)\n",
            "    features:  \"minimal\"\n",
            "  Performance:\n",
            "    test_acc:  0.8933\n",
            "  Run time:\n",
            "    total:     0:00:16.680062\n",
            "    data:      0:00:06.925826\n",
            "    training:  0:00:09.704937\n",
            "    testing:   0:00:00.049299\n",
            "  Detailed performance\n",
            "    accuracy:          0.893251\n",
            "    precision:         0.904659\n",
            "    recall:            0.893251\n",
            "    f1:                0.898919\n",
            "    roc auc:           0.505263\n",
            "    confusion matrix:\n"
          ],
          "name": "stdout"
        },
        {
          "output_type": "display_data",
          "data": {
            "image/png": "[encoded data removed]",
            "text/plain": [
              "<Figure size 720x504 with 2 Axes>"
            ]
          },
          "metadata": {
            "tags": [],
            "needs_background": "light"
          }
        }
      ]
    },
    {
      "cell_type": "markdown",
      "metadata": {
        "id": "EGh4da_sUoVs"
      },
      "source": [
        "While minimal _tsfresh_ feature extraction is just faster than _MINIROCKET_ feature transformation — clocking in at **just under 5,5 seconds** — it is clear that this configuration does not allow the classifier to distinguish between both target classes and causes it to **default to the majority class**."
      ]
    },
    {
      "cell_type": "markdown",
      "metadata": {
        "id": "TLWWmaYMt6oS"
      },
      "source": [
        "#### *tsfresh* (efficient)"
      ]
    },
    {
      "cell_type": "code",
      "metadata": {
        "colab": {
          "base_uri": "https://localhost:8080/"
        },
        "id": "S38T4Sb2Mrps",
        "outputId": "af1a6a11-2c8e-4be6-db47-3438a6475d51"
      },
      "source": [
        "if os.path.exists('run_tsfresh_check.pickle'):\n",
        "    # Read variable from pickle \n",
        "    with open('run_tsfresh_check.pickle', 'rb') as f:\n",
        "        run_tsfresh_check = pickle.load(f)\n",
        "\n",
        "    \n",
        "else:\n",
        "    run_tsfresh_check = False\n",
        "    print('Variable `run_tsfresh_check` was not set at the start of the notebook!')\n",
        "    print('Returning cached results...')\n",
        "    print('')\n",
        "\n",
        "# Run tsfresh or print \"cached\" tsfresh results\n",
        "if run_tsfresh_check:\n",
        "    tsfresh_efficient_preds, tsfresh_efficient_truths = tsfresh_classifier('Wafer', 'efficient')\n",
        "else:\n",
        "    print(\"\"\"Feature Extraction: 100%|██████████| 20/20 [06:18<00:00, 18.94s/it]\n",
        "  Configuration:\n",
        "    data:      \"Wafer\" (univariate)\n",
        "    features:  \"efficient\"\n",
        "  Performance:\n",
        "    test_acc:  1\n",
        "  Run time:\n",
        "    total:     0:06:41.838190\n",
        "    data:      0:00:01.522345\n",
        "    training:  0:06:40.285368\n",
        "    testing:   0:00:00.030477\n",
        "\"\"\")"
      ],
      "execution_count": null,
      "outputs": [
        {
          "output_type": "stream",
          "text": [
            "Feature Extraction: 100%|██████████| 20/20 [06:18<00:00, 18.94s/it]\n",
            "  Configuration:\n",
            "    data:      \"Wafer\" (univariate)\n",
            "    features:  \"efficient\"\n",
            "  Performance:\n",
            "    test_acc:  1\n",
            "  Run time:\n",
            "    total:     0:06:41.838190\n",
            "    data:      0:00:01.522345\n",
            "    training:  0:06:40.285368\n",
            "    testing:   0:00:00.030477\n",
            "\n"
          ],
          "name": "stdout"
        }
      ]
    },
    {
      "cell_type": "markdown",
      "metadata": {
        "id": "Qzvh2UE4UgMr"
      },
      "source": [
        "To achieve performance on par with _MINIROCKET_ (actually even achieving perfect performance), _tsfresh_'s 'efficient' configuration required over 6 minutes and 40 seconds — that is 400 seconds or roughly **60 times longer than _MINIROCKET_**.\n",
        "\n",
        "While it does offer **perfect performance**, the increase in classification accuracy is only marginal (5 samples) and does thus not outweigh the exponential increase in run time. A bigger trade-off is that of explainability; whereas _MINIROCKET_ offers 10.000 features that cannot be traced back to the kernel that they originated from, _tsfresh_ features are **theoretical statistical measures from the data that offer (some) interpretability**; note that this is only a limited form of explainability, as the interpretation of, e.g., a time series' _5th Welch density coefficient_ may offer very little insights.\n",
        "\n",
        "Since perfect performance could be achieved, running _tsfresh_ configured to extract 'comprehensive' features is unnecessary as it would run even longer (though not much) with no accuracy increase."
      ]
    },
    {
      "cell_type": "markdown",
      "metadata": {
        "id": "WQ867ds5r-xU"
      },
      "source": [
        "#### _fft_/_stft_"
      ]
    },
    {
      "cell_type": "code",
      "metadata": {
        "colab": {
          "base_uri": "https://localhost:8080/",
          "height": 705
        },
        "id": "_1Koljipr-Yg",
        "outputId": "d19c248c-e31f-42b0-d030-23aeb88d32cb"
      },
      "source": [
        "fft_min_preds, fft_min_truths = fft_classifier('Wafer')\n",
        "evaluate_predictions(fft_min_preds, fft_min_truths)"
      ],
      "execution_count": null,
      "outputs": [
        {
          "output_type": "stream",
          "text": [
            "  Configuration:\n",
            "    data:  \"Wafer\" (univariate)\n",
            "  Performance:\n",
            "    test_acc:  0.9267\n",
            "  Run time:\n",
            "    total:     0:00:10.608669\n",
            "    data:      0:00:10.118359\n",
            "    training:  0:00:00.453927\n",
            "    testing:   0:00:00.036383\n",
            "  Detailed performance\n",
            "    accuracy:          0.926671\n",
            "    precision:         0.926045\n",
            "    recall:            0.926671\n",
            "    f1:                0.926358\n",
            "    roc auc:           0.674030\n",
            "    confusion matrix:\n"
          ],
          "name": "stdout"
        },
        {
          "output_type": "display_data",
          "data": {
            "image/png": "[encoded data removed]",
            "text/plain": [
              "<Figure size 720x504 with 2 Axes>"
            ]
          },
          "metadata": {
            "tags": [],
            "needs_background": "light"
          }
        }
      ]
    },
    {
      "cell_type": "code",
      "metadata": {
        "colab": {
          "base_uri": "https://localhost:8080/",
          "height": 705
        },
        "id": "YUFN_Fq_sTY-",
        "outputId": "e2a597b4-2ca1-439e-8bb0-891865aeecc6"
      },
      "source": [
        "stft_min_preds, stft_min_truths = stft_classifier('Wafer')\n",
        "evaluate_predictions(stft_min_preds, stft_min_truths)"
      ],
      "execution_count": null,
      "outputs": [
        {
          "output_type": "stream",
          "text": [
            "  Configuration:\n",
            "    data:  \"Wafer\" (univariate)\n",
            "  Performance:\n",
            "    test_acc:  0.9966\n",
            "  Run time:\n",
            "    total:     0:00:06.815153\n",
            "    data:      0:00:06.130693\n",
            "    training:  0:00:00.638099\n",
            "    testing:   0:00:00.046361\n",
            "  Detailed performance\n",
            "    accuracy:          0.996593\n",
            "    precision:         0.996644\n",
            "    recall:            0.996593\n",
            "    f1:                0.996619\n",
            "    roc auc:           0.995447\n",
            "    confusion matrix:\n"
          ],
          "name": "stdout"
        },
        {
          "output_type": "display_data",
          "data": {
            "image/png": "[encoded data removed]",
            "text/plain": [
              "<Figure size 720x504 with 2 Axes>"
            ]
          },
          "metadata": {
            "tags": [],
            "needs_background": "light"
          }
        }
      ]
    },
    {
      "cell_type": "markdown",
      "metadata": {
        "id": "kfcNYFkjslB7"
      },
      "source": [
        "While Fourier transformed features are also quick to calculate (and can even extract features for large datasets in a matter of seconds), **classification performance when learning with these features is generally worse** than with _MINIROCKET_ features. Additionally, while inherently interpretable, depending on the use case Fourier transformed features **may or may not offer additional insights into how predictions are made**."
      ]
    },
    {
      "cell_type": "markdown",
      "metadata": {
        "id": "v-ZsD-KdLBOS"
      },
      "source": [
        "<a name=\"experiment-2\"></a>\n",
        "### Experiment 2: *MINIROCKET* execution on CPU vs. GPU\n",
        "The second experiment compares _MINIROCKET_ implementations for CPU and GPU execution in terms of their execution speeds on so-called _large sized_ datasets (\\> 10.000 samples as defined by the authors) and checkes their performances for any discrepancies in accuracy. For this, the UEA & UCR Time Series Classification Repository [_ElectricDevices_](http://www.timeseriesclassification.com/description.php?Dataset=ElectricDevices) dataset was used."
      ]
    },
    {
      "cell_type": "markdown",
      "metadata": {
        "id": "CihqT-X6J2ID"
      },
      "source": [
        "- **Train size**: 8926\n",
        "- **Test size**: 7711\n",
        "- **Sample length**: 96\n",
        "- **Number of classes**: 7 (types of electric devices)\n",
        "\n",
        "The intention of this dataset was to collect behavioural data about how consumers use electricity within the home to help reduce the UK's carbon footprint. The data contains readings from 251 households, sampled in two-minute intervals over a month."
      ]
    },
    {
      "cell_type": "markdown",
      "metadata": {
        "id": "pvqaBJJRYSYT"
      },
      "source": [
        "#### CPU\n",
        "A CPU implementation is provided by both the [_sktime_](https://github.com/alan-turing-institute/sktime) (specialized time series algorithms and _sklearn_ compatible tools to build, tune and validate time series models for multiple learning problems) and [_tsai_](https://github.com/timeseriesAI/tsai) (state-of-the-art deep learning for time series and sequence modeling, built on top of _Pytorch_ and _fastai_) packages. Experiments showed that the _sktime_ implementation was increasingly faster for growing dataset sizes and will thus be preferred here."
      ]
    },
    {
      "cell_type": "code",
      "metadata": {
        "id": "jXz2S0T5YZ2Q",
        "colab": {
          "base_uri": "https://localhost:8080/",
          "height": 843
        },
        "outputId": "b2101a2e-b82a-463e-f20d-ddab9aa5dae4"
      },
      "source": [
        "cpu_preds, cpu_truths = minirocket_classifier(data='ElectricDevices', mode='cpu', src='sktime')\n",
        "evaluate_predictions(cpu_preds, cpu_truths)"
      ],
      "execution_count": null,
      "outputs": [
        {
          "output_type": "stream",
          "text": [
            "Running MINIROCKET classifier...\n",
            "  Data loading:   0:00:02.886858\n",
            "  Model training: 0:03:05.234877\n",
            "  Model testing:  0:00:04.767857\n",
            "  Configuration:\n",
            "    data:    \"ElectricDevices\" (univariate)\n",
            "    mode:    \"cpu\"\n",
            "    src:     \"sktime\"\n",
            "    epochs:\n",
            "    lr:\n",
            "  Performance:\n",
            "    test_acc:  0.7375\n",
            "  Run time:\n",
            "    total:     0:03:12.889592\n",
            "    data:      0:00:02.886858\n",
            "    training:  0:03:05.234877\n",
            "    testing:   0:00:04.767857\n",
            "  Detailed performance\n",
            "    accuracy:          0.737518\n",
            "    precision:         0.738070\n",
            "    recall:            0.737518\n",
            "    f1:                0.737794\n",
            "    roc auc:           0.839620\n",
            "    confusion matrix:\n"
          ],
          "name": "stdout"
        },
        {
          "output_type": "display_data",
          "data": {
            "image/png": "[encoded data removed]",
            "text/plain": [
              "<Figure size 720x504 with 2 Axes>"
            ]
          },
          "metadata": {
            "tags": [],
            "needs_background": "light"
          }
        }
      ]
    },
    {
      "cell_type": "markdown",
      "metadata": {
        "id": "Bt8I1vNKkrNK"
      },
      "source": [
        "While still very manageble, _MINIROCKET_ on CPU for large(r) datasets takes around 3 minutes and 13 seconds: just above 3 minutes for training and about 4 seconds for inference."
      ]
    },
    {
      "cell_type": "markdown",
      "metadata": {
        "id": "T2SrsTylYWmw"
      },
      "source": [
        "#### GPU\n",
        "The [_tsai_](https://github.com/timeseriesAI/tsai) package also provides the GPU implementation of _MINIROCKET_. The ADAM optimizer is used to train the model and learning parameters are configured arbitrarily for fast convergence and to avoid overfitting. Note that thorough hyper-parameter tuning would allow for even smoother learning and better performance."
      ]
    },
    {
      "cell_type": "code",
      "metadata": {
        "id": "yISvkTPEYaOt",
        "colab": {
          "base_uri": "https://localhost:8080/",
          "height": 1000
        },
        "outputId": "5c493fc1-92be-4022-ae6e-f36f5f788342"
      },
      "source": [
        "gpu_preds, gpu_truths = minirocket_classifier(data='ElectricDevices', mode='gpu', src='tsai', epochs=25, lr=0.03)\n",
        "evaluate_predictions(gpu_preds, gpu_truths)"
      ],
      "execution_count": null,
      "outputs": [
        {
          "output_type": "stream",
          "text": [
            "Running MINIROCKET classifier...\n",
            "  Data loading:   0:00:02.780908\n"
          ],
          "name": "stdout"
        },
        {
          "output_type": "display_data",
          "data": {
            "text/html": [
              "<table border=\"1\" class=\"dataframe\">\n",
              "  <thead>\n",
              "    <tr style=\"text-align: left;\">\n",
              "      <th>epoch</th>\n",
              "      <th>train_loss</th>\n",
              "      <th>valid_loss</th>\n",
              "      <th>accuracy</th>\n",
              "      <th>time</th>\n",
              "    </tr>\n",
              "  </thead>\n",
              "  <tbody>\n",
              "    <tr>\n",
              "      <td>0</td>\n",
              "      <td>0.930264</td>\n",
              "      <td>3.286802</td>\n",
              "      <td>0.592919</td>\n",
              "      <td>00:01</td>\n",
              "    </tr>\n",
              "    <tr>\n",
              "      <td>1</td>\n",
              "      <td>2.296274</td>\n",
              "      <td>8.042296</td>\n",
              "      <td>0.634678</td>\n",
              "      <td>00:01</td>\n",
              "    </tr>\n",
              "    <tr>\n",
              "      <td>2</td>\n",
              "      <td>2.814741</td>\n",
              "      <td>13.702708</td>\n",
              "      <td>0.621839</td>\n",
              "      <td>00:01</td>\n",
              "    </tr>\n",
              "    <tr>\n",
              "      <td>3</td>\n",
              "      <td>3.531851</td>\n",
              "      <td>10.794168</td>\n",
              "      <td>0.715860</td>\n",
              "      <td>00:01</td>\n",
              "    </tr>\n",
              "    <tr>\n",
              "      <td>4</td>\n",
              "      <td>2.192313</td>\n",
              "      <td>6.194710</td>\n",
              "      <td>0.635975</td>\n",
              "      <td>00:01</td>\n",
              "    </tr>\n",
              "    <tr>\n",
              "      <td>5</td>\n",
              "      <td>1.727652</td>\n",
              "      <td>6.672072</td>\n",
              "      <td>0.694333</td>\n",
              "      <td>00:01</td>\n",
              "    </tr>\n",
              "    <tr>\n",
              "      <td>6</td>\n",
              "      <td>1.824360</td>\n",
              "      <td>5.558929</td>\n",
              "      <td>0.723252</td>\n",
              "      <td>00:01</td>\n",
              "    </tr>\n",
              "    <tr>\n",
              "      <td>7</td>\n",
              "      <td>1.294801</td>\n",
              "      <td>6.849711</td>\n",
              "      <td>0.643496</td>\n",
              "      <td>00:01</td>\n",
              "    </tr>\n",
              "    <tr>\n",
              "      <td>8</td>\n",
              "      <td>1.221262</td>\n",
              "      <td>5.532034</td>\n",
              "      <td>0.675918</td>\n",
              "      <td>00:01</td>\n",
              "    </tr>\n",
              "    <tr>\n",
              "      <td>9</td>\n",
              "      <td>1.345328</td>\n",
              "      <td>7.057313</td>\n",
              "      <td>0.665672</td>\n",
              "      <td>00:01</td>\n",
              "    </tr>\n",
              "    <tr>\n",
              "      <td>10</td>\n",
              "      <td>1.234298</td>\n",
              "      <td>4.247603</td>\n",
              "      <td>0.709117</td>\n",
              "      <td>00:01</td>\n",
              "    </tr>\n",
              "    <tr>\n",
              "      <td>11</td>\n",
              "      <td>1.041056</td>\n",
              "      <td>5.768422</td>\n",
              "      <td>0.686422</td>\n",
              "      <td>00:01</td>\n",
              "    </tr>\n",
              "    <tr>\n",
              "      <td>12</td>\n",
              "      <td>0.835235</td>\n",
              "      <td>4.915597</td>\n",
              "      <td>0.693166</td>\n",
              "      <td>00:01</td>\n",
              "    </tr>\n",
              "    <tr>\n",
              "      <td>13</td>\n",
              "      <td>0.661082</td>\n",
              "      <td>5.577408</td>\n",
              "      <td>0.652056</td>\n",
              "      <td>00:01</td>\n",
              "    </tr>\n",
              "    <tr>\n",
              "      <td>14</td>\n",
              "      <td>0.728049</td>\n",
              "      <td>5.892763</td>\n",
              "      <td>0.665154</td>\n",
              "      <td>00:01</td>\n",
              "    </tr>\n",
              "    <tr>\n",
              "      <td>15</td>\n",
              "      <td>0.520861</td>\n",
              "      <td>4.390387</td>\n",
              "      <td>0.714175</td>\n",
              "      <td>00:01</td>\n",
              "    </tr>\n",
              "    <tr>\n",
              "      <td>16</td>\n",
              "      <td>0.444763</td>\n",
              "      <td>3.393656</td>\n",
              "      <td>0.716639</td>\n",
              "      <td>00:01</td>\n",
              "    </tr>\n",
              "    <tr>\n",
              "      <td>17</td>\n",
              "      <td>0.425664</td>\n",
              "      <td>3.316183</td>\n",
              "      <td>0.727662</td>\n",
              "      <td>00:01</td>\n",
              "    </tr>\n",
              "    <tr>\n",
              "      <td>18</td>\n",
              "      <td>0.308615</td>\n",
              "      <td>3.162470</td>\n",
              "      <td>0.712100</td>\n",
              "      <td>00:01</td>\n",
              "    </tr>\n",
              "    <tr>\n",
              "      <td>19</td>\n",
              "      <td>0.295159</td>\n",
              "      <td>2.714464</td>\n",
              "      <td>0.727402</td>\n",
              "      <td>00:01</td>\n",
              "    </tr>\n",
              "    <tr>\n",
              "      <td>20</td>\n",
              "      <td>0.229793</td>\n",
              "      <td>2.614348</td>\n",
              "      <td>0.697964</td>\n",
              "      <td>00:01</td>\n",
              "    </tr>\n",
              "    <tr>\n",
              "      <td>21</td>\n",
              "      <td>0.219899</td>\n",
              "      <td>2.659436</td>\n",
              "      <td>0.711321</td>\n",
              "      <td>00:01</td>\n",
              "    </tr>\n",
              "    <tr>\n",
              "      <td>22</td>\n",
              "      <td>0.199480</td>\n",
              "      <td>2.406341</td>\n",
              "      <td>0.718324</td>\n",
              "      <td>00:01</td>\n",
              "    </tr>\n",
              "    <tr>\n",
              "      <td>23</td>\n",
              "      <td>0.189586</td>\n",
              "      <td>2.443489</td>\n",
              "      <td>0.715212</td>\n",
              "      <td>00:01</td>\n",
              "    </tr>\n",
              "    <tr>\n",
              "      <td>24</td>\n",
              "      <td>0.184542</td>\n",
              "      <td>2.414471</td>\n",
              "      <td>0.716639</td>\n",
              "      <td>00:01</td>\n",
              "    </tr>\n",
              "  </tbody>\n",
              "</table>"
            ],
            "text/plain": [
              "<IPython.core.display.HTML object>"
            ]
          },
          "metadata": {
            "tags": []
          }
        },
        {
          "output_type": "display_data",
          "data": {
            "image/png": "[encoded data removed]",
            "text/plain": [
              "<Figure size 432x288 with 1 Axes>"
            ]
          },
          "metadata": {
            "tags": []
          }
        },
        {
          "output_type": "display_data",
          "data": {
            "image/png": "[encoded data removed]",
            "text/plain": [
              "<Figure size 864x288 with 2 Axes>"
            ]
          },
          "metadata": {
            "tags": [],
            "needs_background": "light"
          }
        },
        {
          "output_type": "stream",
          "text": [
            "  Model training: 0:00:38.811557\n"
          ],
          "name": "stdout"
        },
        {
          "output_type": "display_data",
          "data": {
            "text/html": [
              ""
            ],
            "text/plain": [
              "<IPython.core.display.HTML object>"
            ]
          },
          "metadata": {
            "tags": []
          }
        },
        {
          "output_type": "stream",
          "text": [
            "  Model testing:  0:00:00.524061\n",
            "  Configuration:\n",
            "    data:    \"ElectricDevices\" (univariate)\n",
            "    mode:    \"gpu\"\n",
            "    src:     \"tsai\"\n",
            "    epochs:  25\n",
            "    lr:      0.03\n",
            "  Performance:\n",
            "    test_acc:  0.7166\n",
            "  Run time:\n",
            "    total:     0:00:42.116526\n",
            "    data:      0:00:02.780908\n",
            "    training:  0:00:38.811557\n",
            "    testing:   0:00:00.524061\n",
            "  Detailed performance\n",
            "    accuracy:          0.716639\n",
            "    precision:         0.715492\n",
            "    recall:            0.716639\n",
            "    f1:                0.716065\n",
            "    roc auc:           0.828946\n",
            "    confusion matrix:\n"
          ],
          "name": "stdout"
        },
        {
          "output_type": "display_data",
          "data": {
            "image/png": "[encoded data removed]",
            "text/plain": [
              "<Figure size 720x504 with 2 Axes>"
            ]
          },
          "metadata": {
            "tags": [],
            "needs_background": "light"
          }
        }
      ]
    },
    {
      "cell_type": "markdown",
      "metadata": {
        "id": "2HprND06g7Zg"
      },
      "source": [
        "As expected, GPU _MINIROCKET_ accuracy is in the same ball-park as its CPU counterpart (and discrepancies can thus be allotted randomness in the kernel selection and the suboptimal learning configuration) and both implementations seem to enable the same classification errors when looking at the confusion matrix. However, the **runtime is significantly shorter** — running on GPU took about a fifth the training time and less than a ninth of the inference time!"
      ]
    },
    {
      "cell_type": "markdown",
      "metadata": {
        "id": "8sHNjkShdaed"
      },
      "source": [
        "<a name='takeaways'></a>\n",
        "## Take-aways\n",
        "Based on the results of the two experiments in this notebook, the following guidelines can be considered:\n",
        "- Features transformed with **_MINIROCKET_ enable performance on par with the current way of working** (namely 'efficient'/'comprehensive' _tsfresh_ feature extraction).\n",
        "- _MINIROCKET_ **significantly reduces the runtime required for a similar accuracy** as _tsfresh_. Whereas runtimes of _tsfresh_ increase exponentially for growing dataset sizes and become infeasible quite fast, _MINIROCKET_ runtimes stay manageble even for large datasets (or datasets with long samples) by using its GPU implementation.\n",
        "- _MINIROCKET_ features generally enable a classifier to be **more performant than the Fourier transformed features** that can be generated almost instanteneously.\n",
        "- Its **GPU implementation is useful for datasets with over 10.000 samples**; for smaller datasets use its CPU implementation for the minimal runtime.\n",
        "- The above _MINIROCKET_ perks come **at the cost of model interpretability**; its features cannot be linked back to the kernels that they originated from and can thus not be explained. On the contrary, Fourier and _tsfresh_ features are theoretical measures that can be interpreted (but they may still offer very little insights).\n",
        "\n",
        "Considering the above guidelines, _MINIROCKET_ feature extraction thus offers a great way to quickly establish a baseline performance for a new time series classification problem before delving into more time consuming or more interpretable methods. Additionally, it can be used to obtain state-of-the-art performance with minimal effort if explainability is not required."
      ]
    }
  ]
}