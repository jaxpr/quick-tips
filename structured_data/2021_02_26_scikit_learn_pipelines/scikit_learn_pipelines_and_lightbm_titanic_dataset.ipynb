{
  "nbformat": 4,
  "nbformat_minor": 0,
  "metadata": {
    "colab": {
      "name": " Titanic survival using Pipelines and LightGBM.ipynb",
      "provenance": [],
      "collapsed_sections": []
    },
    "kernelspec": {
      "name": "python3",
      "display_name": "Python 3"
    }
  },
  "cells": [
    {
      "cell_type": "markdown",
      "metadata": {
        "id": "5ZLdMofvJ8yI"
      },
      "source": [
        "# Titanic survival using scikit-learn `Pipelines` and `LightGBM`\n",
        "\n",
        "In this notebook you will be introduced to `scikit-learn` best practices using `Pipelines` and how you can easily incorporate a SOTA gradient boosting tree model: `LightGBM`. We will be using a simplified version of the famous [titanic](https://www.kaggle.com/c/titanic) survival dataset to keep the focus on the library/model learnings.\n",
        "\n",
        "We will cover the following topics:\n",
        "1. Data loading and inspection\n",
        "2. Introduction of the preprocessing `pipeline`\n",
        "3. Incorporate a sklearn classifier in the `pipeline`\n",
        "4. Switch out the sklearn classifier for the `LightGBM` model\n",
        "\n",
        "Bonus sections:\n",
        "5. Hyper parameter tuning\n",
        "6. Model and Instance Explainability\n",
        "\n",
        "---"
      ]
    },
    {
      "cell_type": "code",
      "metadata": {
        "id": "3oYJHjR5BKw0"
      },
      "source": [
        "# For the purpose of pipeline visualization we require a recent scikit-learn\r\n",
        "!pip install scikit-learn==0.23"
      ],
      "execution_count": null,
      "outputs": []
    },
    {
      "cell_type": "markdown",
      "metadata": {
        "id": "B9Q7KyfNMNTE"
      },
      "source": [
        "## 1. Dataset loading and inspection\r\n",
        "\r\n",
        "First we will download the titanic dataset from our bucket. As you can see we have basic passenger information: class, sex, age, fare price, embark location and if he/she survived."
      ]
    },
    {
      "cell_type": "code",
      "metadata": {
        "id": "EsUWWYjKvUR7",
        "colab": {
          "base_uri": "https://localhost:8080/",
          "height": 106
        },
        "outputId": "c04d72bb-6930-4cfb-feb9-bd1a20e1ea9f"
      },
      "source": [
        "import pandas as pd\r\n",
        "\r\n",
        "df = pd.read_csv('titanic.csv')\r\n",
        "df.head(2)"
      ],
      "execution_count": 14,
      "outputs": [
        {
          "output_type": "execute_result",
          "data": {
            "text/html": [
              "<div>\n",
              "<style scoped>\n",
              "    .dataframe tbody tr th:only-of-type {\n",
              "        vertical-align: middle;\n",
              "    }\n",
              "\n",
              "    .dataframe tbody tr th {\n",
              "        vertical-align: top;\n",
              "    }\n",
              "\n",
              "    .dataframe thead th {\n",
              "        text-align: right;\n",
              "    }\n",
              "</style>\n",
              "<table border=\"1\" class=\"dataframe\">\n",
              "  <thead>\n",
              "    <tr style=\"text-align: right;\">\n",
              "      <th></th>\n",
              "      <th>Pclass</th>\n",
              "      <th>Sex</th>\n",
              "      <th>Age</th>\n",
              "      <th>Fare</th>\n",
              "      <th>Embarked</th>\n",
              "      <th>Survived</th>\n",
              "    </tr>\n",
              "  </thead>\n",
              "  <tbody>\n",
              "    <tr>\n",
              "      <th>0</th>\n",
              "      <td>3</td>\n",
              "      <td>male</td>\n",
              "      <td>22.0</td>\n",
              "      <td>7.2500</td>\n",
              "      <td>S</td>\n",
              "      <td>0</td>\n",
              "    </tr>\n",
              "    <tr>\n",
              "      <th>1</th>\n",
              "      <td>1</td>\n",
              "      <td>female</td>\n",
              "      <td>38.0</td>\n",
              "      <td>71.2833</td>\n",
              "      <td>C</td>\n",
              "      <td>1</td>\n",
              "    </tr>\n",
              "  </tbody>\n",
              "</table>\n",
              "</div>"
            ],
            "text/plain": [
              "   Pclass     Sex   Age     Fare Embarked  Survived\n",
              "0       3    male  22.0   7.2500        S         0\n",
              "1       1  female  38.0  71.2833        C         1"
            ]
          },
          "metadata": {
            "tags": []
          },
          "execution_count": 14
        }
      ]
    },
    {
      "cell_type": "markdown",
      "metadata": {
        "id": "MM5LGHbbrQNM"
      },
      "source": [
        "We will do binary classification on this survivor target, using the previously mentioned features. As such we define the `FEATURES` and `TARGET`. To later assess our performance in a fair way we split the data into a train and a test set."
      ]
    },
    {
      "cell_type": "code",
      "metadata": {
        "id": "Jcc0FchMxPYJ",
        "colab": {
          "base_uri": "https://localhost:8080/"
        },
        "outputId": "4707de65-b0c4-49ff-b116-e752c8136864"
      },
      "source": [
        "from sklearn.model_selection import train_test_split\r\n",
        "\r\n",
        "FEATURES = ['Pclass', 'Sex', 'Age', 'Fare', 'Embarked']\r\n",
        "TARGET = 'Survived'\r\n",
        "\r\n",
        "train_df, test_df = train_test_split(df, train_size=0.7,\r\n",
        "                                     shuffle=True, random_state=42)\r\n",
        "\r\n",
        "X_train, y_train = train_df[FEATURES], train_df[TARGET]\r\n",
        "X_test, y_test = test_df[FEATURES], test_df[TARGET]\r\n",
        "\r\n",
        "print(f'Train size: {len(train_df)}, test size: {len(test_df)}')"
      ],
      "execution_count": 15,
      "outputs": [
        {
          "output_type": "stream",
          "text": [
            "Train size: 623, test size: 268\n"
          ],
          "name": "stdout"
        }
      ]
    },
    {
      "cell_type": "markdown",
      "metadata": {
        "id": "wZdHJOkkQiE4"
      },
      "source": [
        "Now that we have our sets defined lets see how the data looks."
      ]
    },
    {
      "cell_type": "code",
      "metadata": {
        "id": "634Od2yYwwmh",
        "colab": {
          "base_uri": "https://localhost:8080/"
        },
        "outputId": "706d1d1f-113e-4748-843a-1cb6d6b306e1"
      },
      "source": [
        "X_train.info()"
      ],
      "execution_count": 16,
      "outputs": [
        {
          "output_type": "stream",
          "text": [
            "<class 'pandas.core.frame.DataFrame'>\n",
            "Int64Index: 623 entries, 445 to 102\n",
            "Data columns (total 5 columns):\n",
            " #   Column    Non-Null Count  Dtype  \n",
            "---  ------    --------------  -----  \n",
            " 0   Pclass    623 non-null    int64  \n",
            " 1   Sex       623 non-null    object \n",
            " 2   Age       499 non-null    float64\n",
            " 3   Fare      623 non-null    float64\n",
            " 4   Embarked  622 non-null    object \n",
            "dtypes: float64(2), int64(1), object(2)\n",
            "memory usage: 29.2+ KB\n"
          ],
          "name": "stdout"
        }
      ]
    },
    {
      "cell_type": "markdown",
      "metadata": {
        "id": "yx5QedjGQ7sK"
      },
      "source": [
        "## 2. Preprocesing the data\r\n",
        "As we are dealing with dirty data, we need to preprocess it such that we can use it in a model.\r\n",
        "\r\n",
        "We are dealing with a combination of categorical (`Sex` and `Embarked`) and numerical (`Pclass`, `Age`, `Fare`) features. In addition `Age` and `Embarked` contain missing values. These we need to [impute](https://scikit-learn.org/stable/modules/generated/sklearn.impute.SimpleImputer.html) before we can fit a model."
      ]
    },
    {
      "cell_type": "code",
      "metadata": {
        "id": "JWsba2t6RZgx"
      },
      "source": [
        "numerical_features = ['Age', 'Fare', 'Pclass']\r\n",
        "categorical_features = ['Sex', 'Embarked']"
      ],
      "execution_count": 17,
      "outputs": []
    },
    {
      "cell_type": "markdown",
      "metadata": {
        "id": "Cpk8yGYqRfSK"
      },
      "source": [
        "Let's inspect the categorical features:"
      ]
    },
    {
      "cell_type": "code",
      "metadata": {
        "id": "GdfhG5pwzBUQ",
        "colab": {
          "base_uri": "https://localhost:8080/"
        },
        "outputId": "c52a8590-6912-47e2-fafc-0bd3bdadd75f"
      },
      "source": [
        "print(f'Stats for categorical features:\\n')\r\n",
        "print('\\n\\n'.join([str(X_train[feature].value_counts()) \r\n",
        "                   for feature in categorical_features]))"
      ],
      "execution_count": 18,
      "outputs": [
        {
          "output_type": "stream",
          "text": [
            "Stats for categorical features:\n",
            "\n",
            "male      410\n",
            "female    213\n",
            "Name: Sex, dtype: int64\n",
            "\n",
            "S    457\n",
            "C    110\n",
            "Q     55\n",
            "Name: Embarked, dtype: int64\n"
          ],
          "name": "stdout"
        }
      ]
    },
    {
      "cell_type": "markdown",
      "metadata": {
        "id": "ceqT1D0OYCdQ"
      },
      "source": [
        "As we can see we, are dealing with a low number of categories that we need to map to a numerical value. In this case [ordinal encoding](https://scikit-learn.org/stable/modules/generated/sklearn.preprocessing.OrdinalEncoder.html) should suffice i.e. use the following mapping:\r\n",
        "- male: 0, female: 1\r\n",
        "- S: 0, C: 1, Q : 2"
      ]
    },
    {
      "cell_type": "markdown",
      "metadata": {
        "id": "r1YSuGsuYCha"
      },
      "source": [
        "\r\n",
        "\r\n",
        "In summary, before we fit a model to the dataset we need to:\r\n",
        "- Impute missing values\r\n",
        "- Encode categorical features\r\n",
        "\r\n",
        "This is a perfect job for the `scikit-learn` `Pipeline`. This object chains multiple [`Estimators`](https://scikit-learn.org/stable/developers/develop.html) essentially making the preprocessing part of the model. This simplifies execution, makes hyper parameter tuning on the preprocessing possible and reduces the risk of dataset leakage.\r\n",
        "\r\n",
        "Here is an visual example of such a `Pipeline` object:\r\n"
      ]
    },
    {
      "cell_type": "markdown",
      "metadata": {
        "id": "-PTcF-Iydj9U"
      },
      "source": [
        "![pipeline.png](data:image/png;base64,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)\r\n"
      ]
    },
    {
      "cell_type": "markdown",
      "metadata": {
        "id": "B9t6fDkAdpfd"
      },
      "source": [
        "The pipeline is divided into two main components: *preprocessing* and *modeling*. As we can see, the preprocessing applies operations separately to the numerical (num) features and to the categorical (cat) features. Next, we will replicate this preprocessor to solve our dataset issues."
      ]
    },
    {
      "cell_type": "markdown",
      "metadata": {
        "id": "R80qiMbXo6U1"
      },
      "source": [
        "---\r\n",
        "### Creating a preprocessing pipeline\r\n",
        "\r\n",
        "For the preprocessing we need to apply imputation to both the categorical and numerical features. However, encoding we only need to apply to the categorical features. In addition, it is good practice to normalize numerical features. Hence, we need to split the preprocessing pipeline into two branches: *numerical* and *categorical*. Let's define them both."
      ]
    },
    {
      "cell_type": "code",
      "metadata": {
        "id": "OJJ1VwIZwnG6"
      },
      "source": [
        "# Pipeline object that we introduced above\r\n",
        "from sklearn.pipeline import Pipeline \r\n",
        "# Imputation Transformer\r\n",
        "from sklearn.impute import SimpleImputer\r\n",
        "# Encoding Transformers\r\n",
        "from sklearn.preprocessing import OrdinalEncoder, StandardScaler\r\n",
        "\r\n",
        "# Defining the categorical pipeline\r\n",
        "#   steps of the pipeline have the form: ('name', TransformerObject)\r\n",
        "categorical_pipe = Pipeline(steps=[\r\n",
        "    ('imputer', SimpleImputer(strategy='most_frequent')),\r\n",
        "    ('encoder', OrdinalEncoder(categories='auto'))               \r\n",
        "])\r\n",
        "\r\n",
        "# Defining the numerical pipeline\r\n",
        "numerical_pipe = Pipeline(steps=[\r\n",
        "    ('imputer', SimpleImputer(strategy='mean')),\r\n",
        "    ('normalizer', StandardScaler())                                        \r\n",
        "])"
      ],
      "execution_count": 19,
      "outputs": []
    },
    {
      "cell_type": "markdown",
      "metadata": {
        "id": "3_ffb8UyG0KG"
      },
      "source": [
        "Let's have a look at what we created (it is interactive HTML!):"
      ]
    },
    {
      "cell_type": "code",
      "metadata": {
        "id": "Lm9umSvTisqi",
        "colab": {
          "base_uri": "https://localhost:8080/",
          "height": 111
        },
        "outputId": "372f466b-60e7-472b-9892-153f52c24b68"
      },
      "source": [
        "from sklearn import set_config\r\n",
        "set_config(display='diagram')\r\n",
        "\r\n",
        "categorical_pipe"
      ],
      "execution_count": 20,
      "outputs": [
        {
          "output_type": "execute_result",
          "data": {
            "text/html": [
              "<style>div.sk-top-container {color: black;background-color: white;}div.sk-toggleable {background-color: white;}label.sk-toggleable__label {cursor: pointer;display: block;width: 100%;margin-bottom: 0;padding: 0.2em 0.3em;box-sizing: border-box;text-align: center;}div.sk-toggleable__content {max-height: 0;max-width: 0;overflow: hidden;text-align: left;background-color: #f0f8ff;}div.sk-toggleable__content pre {margin: 0.2em;color: black;border-radius: 0.25em;background-color: #f0f8ff;}input.sk-toggleable__control:checked~div.sk-toggleable__content {max-height: 200px;max-width: 100%;overflow: auto;}div.sk-estimator input.sk-toggleable__control:checked~label.sk-toggleable__label {background-color: #d4ebff;}div.sk-label input.sk-toggleable__control:checked~label.sk-toggleable__label {background-color: #d4ebff;}input.sk-hidden--visually {border: 0;clip: rect(1px 1px 1px 1px);clip: rect(1px, 1px, 1px, 1px);height: 1px;margin: -1px;overflow: hidden;padding: 0;position: absolute;width: 1px;}div.sk-estimator {font-family: monospace;background-color: #f0f8ff;margin: 0.25em 0.25em;border: 1px dotted black;border-radius: 0.25em;box-sizing: border-box;}div.sk-estimator:hover {background-color: #d4ebff;}div.sk-parallel-item::after {content: \"\";width: 100%;border-bottom: 1px solid gray;flex-grow: 1;}div.sk-label:hover label.sk-toggleable__label {background-color: #d4ebff;}div.sk-serial::before {content: \"\";position: absolute;border-left: 1px solid gray;box-sizing: border-box;top: 2em;bottom: 0;left: 50%;}div.sk-serial {display: flex;flex-direction: column;align-items: center;background-color: white;}div.sk-item {z-index: 1;}div.sk-parallel {display: flex;align-items: stretch;justify-content: center;background-color: white;}div.sk-parallel-item {display: flex;flex-direction: column;position: relative;background-color: white;}div.sk-parallel-item:first-child::after {align-self: flex-end;width: 50%;}div.sk-parallel-item:last-child::after {align-self: flex-start;width: 50%;}div.sk-parallel-item:only-child::after {width: 0;}div.sk-dashed-wrapped {border: 1px dashed gray;margin: 0.2em;box-sizing: border-box;padding-bottom: 0.1em;background-color: white;position: relative;}div.sk-label label {font-family: monospace;font-weight: bold;background-color: white;display: inline-block;line-height: 1.2em;}div.sk-label-container {position: relative;z-index: 2;text-align: center;}div.sk-container {display: inline-block;position: relative;}</style><div class=\"sk-top-container\"><div class=\"sk-container\"><div class=\"sk-item sk-dashed-wrapped\"><div class=\"sk-label-container\"><div class=\"sk-label sk-toggleable\"><input class=\"sk-toggleable__control sk-hidden--visually\" id=\"0a360ff8-cdcc-4d20-8859-786544975c4f\" type=\"checkbox\" ><label class=\"sk-toggleable__label\" for=\"0a360ff8-cdcc-4d20-8859-786544975c4f\">Pipeline</label><div class=\"sk-toggleable__content\"><pre>Pipeline(steps=[('imputer', SimpleImputer(strategy='most_frequent')),\n",
              "                ('encoder', OrdinalEncoder())])</pre></div></div></div><div class=\"sk-serial\"><div class=\"sk-item\"><div class=\"sk-estimator sk-toggleable\"><input class=\"sk-toggleable__control sk-hidden--visually\" id=\"fb025e0c-daca-4802-9c8d-083ce1bdbab6\" type=\"checkbox\" ><label class=\"sk-toggleable__label\" for=\"fb025e0c-daca-4802-9c8d-083ce1bdbab6\">SimpleImputer</label><div class=\"sk-toggleable__content\"><pre>SimpleImputer(strategy='most_frequent')</pre></div></div></div><div class=\"sk-item\"><div class=\"sk-estimator sk-toggleable\"><input class=\"sk-toggleable__control sk-hidden--visually\" id=\"99140d4c-c301-46f1-8b10-c4143b9ecd27\" type=\"checkbox\" ><label class=\"sk-toggleable__label\" for=\"99140d4c-c301-46f1-8b10-c4143b9ecd27\">OrdinalEncoder</label><div class=\"sk-toggleable__content\"><pre>OrdinalEncoder()</pre></div></div></div></div></div></div></div>"
            ],
            "text/plain": [
              "Pipeline(steps=[('imputer', SimpleImputer(strategy='most_frequent')),\n",
              "                ('encoder', OrdinalEncoder())])"
            ]
          },
          "metadata": {
            "tags": []
          },
          "execution_count": 20
        }
      ]
    },
    {
      "cell_type": "code",
      "metadata": {
        "id": "wtUAM8C-i4ek",
        "colab": {
          "base_uri": "https://localhost:8080/",
          "height": 111
        },
        "outputId": "210b7855-71a0-4454-ac48-052f3c327d79"
      },
      "source": [
        "numerical_pipe"
      ],
      "execution_count": 21,
      "outputs": [
        {
          "output_type": "execute_result",
          "data": {
            "text/html": [
              "<style>div.sk-top-container {color: black;background-color: white;}div.sk-toggleable {background-color: white;}label.sk-toggleable__label {cursor: pointer;display: block;width: 100%;margin-bottom: 0;padding: 0.2em 0.3em;box-sizing: border-box;text-align: center;}div.sk-toggleable__content {max-height: 0;max-width: 0;overflow: hidden;text-align: left;background-color: #f0f8ff;}div.sk-toggleable__content pre {margin: 0.2em;color: black;border-radius: 0.25em;background-color: #f0f8ff;}input.sk-toggleable__control:checked~div.sk-toggleable__content {max-height: 200px;max-width: 100%;overflow: auto;}div.sk-estimator input.sk-toggleable__control:checked~label.sk-toggleable__label {background-color: #d4ebff;}div.sk-label input.sk-toggleable__control:checked~label.sk-toggleable__label {background-color: #d4ebff;}input.sk-hidden--visually {border: 0;clip: rect(1px 1px 1px 1px);clip: rect(1px, 1px, 1px, 1px);height: 1px;margin: -1px;overflow: hidden;padding: 0;position: absolute;width: 1px;}div.sk-estimator {font-family: monospace;background-color: #f0f8ff;margin: 0.25em 0.25em;border: 1px dotted black;border-radius: 0.25em;box-sizing: border-box;}div.sk-estimator:hover {background-color: #d4ebff;}div.sk-parallel-item::after {content: \"\";width: 100%;border-bottom: 1px solid gray;flex-grow: 1;}div.sk-label:hover label.sk-toggleable__label {background-color: #d4ebff;}div.sk-serial::before {content: \"\";position: absolute;border-left: 1px solid gray;box-sizing: border-box;top: 2em;bottom: 0;left: 50%;}div.sk-serial {display: flex;flex-direction: column;align-items: center;background-color: white;}div.sk-item {z-index: 1;}div.sk-parallel {display: flex;align-items: stretch;justify-content: center;background-color: white;}div.sk-parallel-item {display: flex;flex-direction: column;position: relative;background-color: white;}div.sk-parallel-item:first-child::after {align-self: flex-end;width: 50%;}div.sk-parallel-item:last-child::after {align-self: flex-start;width: 50%;}div.sk-parallel-item:only-child::after {width: 0;}div.sk-dashed-wrapped {border: 1px dashed gray;margin: 0.2em;box-sizing: border-box;padding-bottom: 0.1em;background-color: white;position: relative;}div.sk-label label {font-family: monospace;font-weight: bold;background-color: white;display: inline-block;line-height: 1.2em;}div.sk-label-container {position: relative;z-index: 2;text-align: center;}div.sk-container {display: inline-block;position: relative;}</style><div class=\"sk-top-container\"><div class=\"sk-container\"><div class=\"sk-item sk-dashed-wrapped\"><div class=\"sk-label-container\"><div class=\"sk-label sk-toggleable\"><input class=\"sk-toggleable__control sk-hidden--visually\" id=\"87b99f00-a8e6-4636-b406-7a1d7227830b\" type=\"checkbox\" ><label class=\"sk-toggleable__label\" for=\"87b99f00-a8e6-4636-b406-7a1d7227830b\">Pipeline</label><div class=\"sk-toggleable__content\"><pre>Pipeline(steps=[('imputer', SimpleImputer()), ('normalizer', StandardScaler())])</pre></div></div></div><div class=\"sk-serial\"><div class=\"sk-item\"><div class=\"sk-estimator sk-toggleable\"><input class=\"sk-toggleable__control sk-hidden--visually\" id=\"d465def5-81d0-41ce-ab2f-b60dc78913ca\" type=\"checkbox\" ><label class=\"sk-toggleable__label\" for=\"d465def5-81d0-41ce-ab2f-b60dc78913ca\">SimpleImputer</label><div class=\"sk-toggleable__content\"><pre>SimpleImputer()</pre></div></div></div><div class=\"sk-item\"><div class=\"sk-estimator sk-toggleable\"><input class=\"sk-toggleable__control sk-hidden--visually\" id=\"63e967ef-b0c8-49f9-8b04-051652cc3ad4\" type=\"checkbox\" ><label class=\"sk-toggleable__label\" for=\"63e967ef-b0c8-49f9-8b04-051652cc3ad4\">StandardScaler</label><div class=\"sk-toggleable__content\"><pre>StandardScaler()</pre></div></div></div></div></div></div></div>"
            ],
            "text/plain": [
              "Pipeline(steps=[('imputer', SimpleImputer()), ('normalizer', StandardScaler())])"
            ]
          },
          "metadata": {
            "tags": []
          },
          "execution_count": 21
        }
      ]
    },
    {
      "cell_type": "markdown",
      "metadata": {
        "id": "6-6HBEqiHAET"
      },
      "source": [
        "Now that we have created the preprocessing for the categorical and numerical features, we need to combine them into one. This can be done using the [`ColumnTransformer`](https://scikit-learn.org/stable/modules/generated/sklearn.compose.ColumnTransformer.html) which is a component that can apply different transformations to different columns of the DataFrame."
      ]
    },
    {
      "cell_type": "code",
      "metadata": {
        "id": "n3tQ4pGKe1Na",
        "colab": {
          "base_uri": "https://localhost:8080/",
          "height": 134
        },
        "outputId": "25963f37-ca2e-477a-e30c-d15ce37dbba6"
      },
      "source": [
        "from sklearn.compose import ColumnTransformer\r\n",
        "\r\n",
        "preprocessing_pipe = ColumnTransformer(\r\n",
        "    transformers=[\r\n",
        "      # ('name', Transformer, [column names])\r\n",
        "        ('num', numerical_pipe, numerical_features),\r\n",
        "        ('cat', categorical_pipe, categorical_features)]\r\n",
        ")\r\n",
        "\r\n",
        "preprocessing_pipe"
      ],
      "execution_count": 22,
      "outputs": [
        {
          "output_type": "execute_result",
          "data": {
            "text/html": [
              "<style>div.sk-top-container {color: black;background-color: white;}div.sk-toggleable {background-color: white;}label.sk-toggleable__label {cursor: pointer;display: block;width: 100%;margin-bottom: 0;padding: 0.2em 0.3em;box-sizing: border-box;text-align: center;}div.sk-toggleable__content {max-height: 0;max-width: 0;overflow: hidden;text-align: left;background-color: #f0f8ff;}div.sk-toggleable__content pre {margin: 0.2em;color: black;border-radius: 0.25em;background-color: #f0f8ff;}input.sk-toggleable__control:checked~div.sk-toggleable__content {max-height: 200px;max-width: 100%;overflow: auto;}div.sk-estimator input.sk-toggleable__control:checked~label.sk-toggleable__label {background-color: #d4ebff;}div.sk-label input.sk-toggleable__control:checked~label.sk-toggleable__label {background-color: #d4ebff;}input.sk-hidden--visually {border: 0;clip: rect(1px 1px 1px 1px);clip: rect(1px, 1px, 1px, 1px);height: 1px;margin: -1px;overflow: hidden;padding: 0;position: absolute;width: 1px;}div.sk-estimator {font-family: monospace;background-color: #f0f8ff;margin: 0.25em 0.25em;border: 1px dotted black;border-radius: 0.25em;box-sizing: border-box;}div.sk-estimator:hover {background-color: #d4ebff;}div.sk-parallel-item::after {content: \"\";width: 100%;border-bottom: 1px solid gray;flex-grow: 1;}div.sk-label:hover label.sk-toggleable__label {background-color: #d4ebff;}div.sk-serial::before {content: \"\";position: absolute;border-left: 1px solid gray;box-sizing: border-box;top: 2em;bottom: 0;left: 50%;}div.sk-serial {display: flex;flex-direction: column;align-items: center;background-color: white;}div.sk-item {z-index: 1;}div.sk-parallel {display: flex;align-items: stretch;justify-content: center;background-color: white;}div.sk-parallel-item {display: flex;flex-direction: column;position: relative;background-color: white;}div.sk-parallel-item:first-child::after {align-self: flex-end;width: 50%;}div.sk-parallel-item:last-child::after {align-self: flex-start;width: 50%;}div.sk-parallel-item:only-child::after {width: 0;}div.sk-dashed-wrapped {border: 1px dashed gray;margin: 0.2em;box-sizing: border-box;padding-bottom: 0.1em;background-color: white;position: relative;}div.sk-label label {font-family: monospace;font-weight: bold;background-color: white;display: inline-block;line-height: 1.2em;}div.sk-label-container {position: relative;z-index: 2;text-align: center;}div.sk-container {display: inline-block;position: relative;}</style><div class=\"sk-top-container\"><div class=\"sk-container\"><div class=\"sk-item sk-dashed-wrapped\"><div class=\"sk-label-container\"><div class=\"sk-label sk-toggleable\"><input class=\"sk-toggleable__control sk-hidden--visually\" id=\"5fd30026-8758-4140-b306-dc0fb273cd85\" type=\"checkbox\" ><label class=\"sk-toggleable__label\" for=\"5fd30026-8758-4140-b306-dc0fb273cd85\">ColumnTransformer</label><div class=\"sk-toggleable__content\"><pre>ColumnTransformer(transformers=[('num',\n",
              "                                 Pipeline(steps=[('imputer', SimpleImputer()),\n",
              "                                                 ('normalizer',\n",
              "                                                  StandardScaler())]),\n",
              "                                 ['Age', 'Fare', 'Pclass']),\n",
              "                                ('cat',\n",
              "                                 Pipeline(steps=[('imputer',\n",
              "                                                  SimpleImputer(strategy='most_frequent')),\n",
              "                                                 ('encoder',\n",
              "                                                  OrdinalEncoder())]),\n",
              "                                 ['Sex', 'Embarked'])])</pre></div></div></div><div class=\"sk-parallel\"><div class=\"sk-parallel-item\"><div class=\"sk-item\"><div class=\"sk-label-container\"><div class=\"sk-label sk-toggleable\"><input class=\"sk-toggleable__control sk-hidden--visually\" id=\"b08bd8bb-0d85-4dd5-8e0e-7793d99250f2\" type=\"checkbox\" ><label class=\"sk-toggleable__label\" for=\"b08bd8bb-0d85-4dd5-8e0e-7793d99250f2\">num</label><div class=\"sk-toggleable__content\"><pre>['Age', 'Fare', 'Pclass']</pre></div></div></div><div class=\"sk-serial\"><div class=\"sk-item\"><div class=\"sk-serial\"><div class=\"sk-item\"><div class=\"sk-estimator sk-toggleable\"><input class=\"sk-toggleable__control sk-hidden--visually\" id=\"e04c94a5-0d64-4c2c-aced-00f6a9055d12\" type=\"checkbox\" ><label class=\"sk-toggleable__label\" for=\"e04c94a5-0d64-4c2c-aced-00f6a9055d12\">SimpleImputer</label><div class=\"sk-toggleable__content\"><pre>SimpleImputer()</pre></div></div></div><div class=\"sk-item\"><div class=\"sk-estimator sk-toggleable\"><input class=\"sk-toggleable__control sk-hidden--visually\" id=\"f98c22bd-03de-4da1-ac22-6bdb105c2f06\" type=\"checkbox\" ><label class=\"sk-toggleable__label\" for=\"f98c22bd-03de-4da1-ac22-6bdb105c2f06\">StandardScaler</label><div class=\"sk-toggleable__content\"><pre>StandardScaler()</pre></div></div></div></div></div></div></div></div><div class=\"sk-parallel-item\"><div class=\"sk-item\"><div class=\"sk-label-container\"><div class=\"sk-label sk-toggleable\"><input class=\"sk-toggleable__control sk-hidden--visually\" id=\"2848c415-742c-4f73-a10c-7a5e4cd41a9c\" type=\"checkbox\" ><label class=\"sk-toggleable__label\" for=\"2848c415-742c-4f73-a10c-7a5e4cd41a9c\">cat</label><div class=\"sk-toggleable__content\"><pre>['Sex', 'Embarked']</pre></div></div></div><div class=\"sk-serial\"><div class=\"sk-item\"><div class=\"sk-serial\"><div class=\"sk-item\"><div class=\"sk-estimator sk-toggleable\"><input class=\"sk-toggleable__control sk-hidden--visually\" id=\"198c4fc5-84a8-4f42-b620-df17f1474f79\" type=\"checkbox\" ><label class=\"sk-toggleable__label\" for=\"198c4fc5-84a8-4f42-b620-df17f1474f79\">SimpleImputer</label><div class=\"sk-toggleable__content\"><pre>SimpleImputer(strategy='most_frequent')</pre></div></div></div><div class=\"sk-item\"><div class=\"sk-estimator sk-toggleable\"><input class=\"sk-toggleable__control sk-hidden--visually\" id=\"db130edf-3e1c-4240-8b85-10fd3789033d\" type=\"checkbox\" ><label class=\"sk-toggleable__label\" for=\"db130edf-3e1c-4240-8b85-10fd3789033d\">OrdinalEncoder</label><div class=\"sk-toggleable__content\"><pre>OrdinalEncoder()</pre></div></div></div></div></div></div></div></div></div></div></div></div>"
            ],
            "text/plain": [
              "ColumnTransformer(transformers=[('num',\n",
              "                                 Pipeline(steps=[('imputer', SimpleImputer()),\n",
              "                                                 ('normalizer',\n",
              "                                                  StandardScaler())]),\n",
              "                                 ['Age', 'Fare', 'Pclass']),\n",
              "                                ('cat',\n",
              "                                 Pipeline(steps=[('imputer',\n",
              "                                                  SimpleImputer(strategy='most_frequent')),\n",
              "                                                 ('encoder',\n",
              "                                                  OrdinalEncoder())]),\n",
              "                                 ['Sex', 'Embarked'])])"
            ]
          },
          "metadata": {
            "tags": []
          },
          "execution_count": 22
        }
      ]
    },
    {
      "cell_type": "markdown",
      "metadata": {
        "id": "BIDE-p4aHpik"
      },
      "source": [
        "A perfect match! Now to double check that indeed the preprocessing works, we call the fit_transform operation on the train data:"
      ]
    },
    {
      "cell_type": "code",
      "metadata": {
        "id": "972O8hRPA9SC",
        "colab": {
          "base_uri": "https://localhost:8080/"
        },
        "outputId": "66f30d70-7dba-49c7-daee-30ea9363681a"
      },
      "source": [
        "# You can see what the preprocessing pipeline does does if you execute the following code\r\n",
        "X_train_transformed = preprocessing_pipe.fit_transform(X_train)\r\n",
        "pd.DataFrame(X_train_transformed).info()"
      ],
      "execution_count": 23,
      "outputs": [
        {
          "output_type": "stream",
          "text": [
            "<class 'pandas.core.frame.DataFrame'>\n",
            "RangeIndex: 623 entries, 0 to 622\n",
            "Data columns (total 5 columns):\n",
            " #   Column  Non-Null Count  Dtype  \n",
            "---  ------  --------------  -----  \n",
            " 0   0       623 non-null    float64\n",
            " 1   1       623 non-null    float64\n",
            " 2   2       623 non-null    float64\n",
            " 3   3       623 non-null    float64\n",
            " 4   4       623 non-null    float64\n",
            "dtypes: float64(5)\n",
            "memory usage: 24.5 KB\n"
          ],
          "name": "stdout"
        }
      ]
    },
    {
      "cell_type": "markdown",
      "metadata": {
        "id": "Bajw4NnBH12t"
      },
      "source": [
        "All features are nicely imputed and are now of a numerical type. Let's add a prediction model on top of this!"
      ]
    },
    {
      "cell_type": "markdown",
      "metadata": {
        "id": "aeH6sqVfo3uN"
      },
      "source": [
        "## 3. Adding a scikit-learn model\r\n",
        "\r\n",
        "To do actual predictions using our features we need to add a model on top of the transformations. In this case we will add a simple `RandomForestClassifier`.\r\n",
        "\r\n"
      ]
    },
    {
      "cell_type": "code",
      "metadata": {
        "id": "q2OzodRTDKuz",
        "colab": {
          "base_uri": "https://localhost:8080/",
          "height": 198
        },
        "outputId": "50cae7a5-651d-4e21-eafb-8934d43a4b07"
      },
      "source": [
        "from sklearn.ensemble import RandomForestClassifier\n",
        "\n",
        "full_pipe = Pipeline(steps=[\n",
        "    ('preprocessor', preprocessing_pipe),\n",
        "    ('clf', RandomForestClassifier(n_estimators=20, random_state=42))\n",
        "])\n",
        "\n",
        "full_pipe"
      ],
      "execution_count": 24,
      "outputs": [
        {
          "output_type": "execute_result",
          "data": {
            "text/html": [
              "<style>div.sk-top-container {color: black;background-color: white;}div.sk-toggleable {background-color: white;}label.sk-toggleable__label {cursor: pointer;display: block;width: 100%;margin-bottom: 0;padding: 0.2em 0.3em;box-sizing: border-box;text-align: center;}div.sk-toggleable__content {max-height: 0;max-width: 0;overflow: hidden;text-align: left;background-color: #f0f8ff;}div.sk-toggleable__content pre {margin: 0.2em;color: black;border-radius: 0.25em;background-color: #f0f8ff;}input.sk-toggleable__control:checked~div.sk-toggleable__content {max-height: 200px;max-width: 100%;overflow: auto;}div.sk-estimator input.sk-toggleable__control:checked~label.sk-toggleable__label {background-color: #d4ebff;}div.sk-label input.sk-toggleable__control:checked~label.sk-toggleable__label {background-color: #d4ebff;}input.sk-hidden--visually {border: 0;clip: rect(1px 1px 1px 1px);clip: rect(1px, 1px, 1px, 1px);height: 1px;margin: -1px;overflow: hidden;padding: 0;position: absolute;width: 1px;}div.sk-estimator {font-family: monospace;background-color: #f0f8ff;margin: 0.25em 0.25em;border: 1px dotted black;border-radius: 0.25em;box-sizing: border-box;}div.sk-estimator:hover {background-color: #d4ebff;}div.sk-parallel-item::after {content: \"\";width: 100%;border-bottom: 1px solid gray;flex-grow: 1;}div.sk-label:hover label.sk-toggleable__label {background-color: #d4ebff;}div.sk-serial::before {content: \"\";position: absolute;border-left: 1px solid gray;box-sizing: border-box;top: 2em;bottom: 0;left: 50%;}div.sk-serial {display: flex;flex-direction: column;align-items: center;background-color: white;}div.sk-item {z-index: 1;}div.sk-parallel {display: flex;align-items: stretch;justify-content: center;background-color: white;}div.sk-parallel-item {display: flex;flex-direction: column;position: relative;background-color: white;}div.sk-parallel-item:first-child::after {align-self: flex-end;width: 50%;}div.sk-parallel-item:last-child::after {align-self: flex-start;width: 50%;}div.sk-parallel-item:only-child::after {width: 0;}div.sk-dashed-wrapped {border: 1px dashed gray;margin: 0.2em;box-sizing: border-box;padding-bottom: 0.1em;background-color: white;position: relative;}div.sk-label label {font-family: monospace;font-weight: bold;background-color: white;display: inline-block;line-height: 1.2em;}div.sk-label-container {position: relative;z-index: 2;text-align: center;}div.sk-container {display: inline-block;position: relative;}</style><div class=\"sk-top-container\"><div class=\"sk-container\"><div class=\"sk-item sk-dashed-wrapped\"><div class=\"sk-label-container\"><div class=\"sk-label sk-toggleable\"><input class=\"sk-toggleable__control sk-hidden--visually\" id=\"58a0bae1-1141-4689-94a0-38715a902e4a\" type=\"checkbox\" ><label class=\"sk-toggleable__label\" for=\"58a0bae1-1141-4689-94a0-38715a902e4a\">Pipeline</label><div class=\"sk-toggleable__content\"><pre>Pipeline(steps=[('preprocessor',\n",
              "                 ColumnTransformer(transformers=[('num',\n",
              "                                                  Pipeline(steps=[('imputer',\n",
              "                                                                   SimpleImputer()),\n",
              "                                                                  ('normalizer',\n",
              "                                                                   StandardScaler())]),\n",
              "                                                  ['Age', 'Fare', 'Pclass']),\n",
              "                                                 ('cat',\n",
              "                                                  Pipeline(steps=[('imputer',\n",
              "                                                                   SimpleImputer(strategy='most_frequent')),\n",
              "                                                                  ('encoder',\n",
              "                                                                   OrdinalEncoder())]),\n",
              "                                                  ['Sex', 'Embarked'])])),\n",
              "                ('estimator',\n",
              "                 RandomForestClassifier(n_estimators=20, random_state=42))])</pre></div></div></div><div class=\"sk-serial\"><div class=\"sk-item sk-dashed-wrapped\"><div class=\"sk-label-container\"><div class=\"sk-label sk-toggleable\"><input class=\"sk-toggleable__control sk-hidden--visually\" id=\"dde53844-66ad-4229-a2e3-ade18b92452c\" type=\"checkbox\" ><label class=\"sk-toggleable__label\" for=\"dde53844-66ad-4229-a2e3-ade18b92452c\">preprocessor: ColumnTransformer</label><div class=\"sk-toggleable__content\"><pre>ColumnTransformer(transformers=[('num',\n",
              "                                 Pipeline(steps=[('imputer', SimpleImputer()),\n",
              "                                                 ('normalizer',\n",
              "                                                  StandardScaler())]),\n",
              "                                 ['Age', 'Fare', 'Pclass']),\n",
              "                                ('cat',\n",
              "                                 Pipeline(steps=[('imputer',\n",
              "                                                  SimpleImputer(strategy='most_frequent')),\n",
              "                                                 ('encoder',\n",
              "                                                  OrdinalEncoder())]),\n",
              "                                 ['Sex', 'Embarked'])])</pre></div></div></div><div class=\"sk-parallel\"><div class=\"sk-parallel-item\"><div class=\"sk-item\"><div class=\"sk-label-container\"><div class=\"sk-label sk-toggleable\"><input class=\"sk-toggleable__control sk-hidden--visually\" id=\"3913fdb2-7f10-4c34-b499-9099f8caf95f\" type=\"checkbox\" ><label class=\"sk-toggleable__label\" for=\"3913fdb2-7f10-4c34-b499-9099f8caf95f\">num</label><div class=\"sk-toggleable__content\"><pre>['Age', 'Fare', 'Pclass']</pre></div></div></div><div class=\"sk-serial\"><div class=\"sk-item\"><div class=\"sk-serial\"><div class=\"sk-item\"><div class=\"sk-estimator sk-toggleable\"><input class=\"sk-toggleable__control sk-hidden--visually\" id=\"64e8bf54-2d19-46d8-a27f-fd1c2f71f2ad\" type=\"checkbox\" ><label class=\"sk-toggleable__label\" for=\"64e8bf54-2d19-46d8-a27f-fd1c2f71f2ad\">SimpleImputer</label><div class=\"sk-toggleable__content\"><pre>SimpleImputer()</pre></div></div></div><div class=\"sk-item\"><div class=\"sk-estimator sk-toggleable\"><input class=\"sk-toggleable__control sk-hidden--visually\" id=\"30244ff3-9ea5-4334-a65b-04f716da96a1\" type=\"checkbox\" ><label class=\"sk-toggleable__label\" for=\"30244ff3-9ea5-4334-a65b-04f716da96a1\">StandardScaler</label><div class=\"sk-toggleable__content\"><pre>StandardScaler()</pre></div></div></div></div></div></div></div></div><div class=\"sk-parallel-item\"><div class=\"sk-item\"><div class=\"sk-label-container\"><div class=\"sk-label sk-toggleable\"><input class=\"sk-toggleable__control sk-hidden--visually\" id=\"973d4dde-2493-47ed-b3b7-003e7bfb491e\" type=\"checkbox\" ><label class=\"sk-toggleable__label\" for=\"973d4dde-2493-47ed-b3b7-003e7bfb491e\">cat</label><div class=\"sk-toggleable__content\"><pre>['Sex', 'Embarked']</pre></div></div></div><div class=\"sk-serial\"><div class=\"sk-item\"><div class=\"sk-serial\"><div class=\"sk-item\"><div class=\"sk-estimator sk-toggleable\"><input class=\"sk-toggleable__control sk-hidden--visually\" id=\"348f80c0-5ff2-4417-bd96-2a7b7620bb04\" type=\"checkbox\" ><label class=\"sk-toggleable__label\" for=\"348f80c0-5ff2-4417-bd96-2a7b7620bb04\">SimpleImputer</label><div class=\"sk-toggleable__content\"><pre>SimpleImputer(strategy='most_frequent')</pre></div></div></div><div class=\"sk-item\"><div class=\"sk-estimator sk-toggleable\"><input class=\"sk-toggleable__control sk-hidden--visually\" id=\"097acd0a-cbbf-48fd-9bfb-835520bba2b4\" type=\"checkbox\" ><label class=\"sk-toggleable__label\" for=\"097acd0a-cbbf-48fd-9bfb-835520bba2b4\">OrdinalEncoder</label><div class=\"sk-toggleable__content\"><pre>OrdinalEncoder()</pre></div></div></div></div></div></div></div></div></div></div><div class=\"sk-item\"><div class=\"sk-estimator sk-toggleable\"><input class=\"sk-toggleable__control sk-hidden--visually\" id=\"b97980dd-b539-4e54-8614-71a9ea9a572e\" type=\"checkbox\" ><label class=\"sk-toggleable__label\" for=\"b97980dd-b539-4e54-8614-71a9ea9a572e\">RandomForestClassifier</label><div class=\"sk-toggleable__content\"><pre>RandomForestClassifier(n_estimators=20, random_state=42)</pre></div></div></div></div></div></div></div>"
            ],
            "text/plain": [
              "Pipeline(steps=[('preprocessor',\n",
              "                 ColumnTransformer(transformers=[('num',\n",
              "                                                  Pipeline(steps=[('imputer',\n",
              "                                                                   SimpleImputer()),\n",
              "                                                                  ('normalizer',\n",
              "                                                                   StandardScaler())]),\n",
              "                                                  ['Age', 'Fare', 'Pclass']),\n",
              "                                                 ('cat',\n",
              "                                                  Pipeline(steps=[('imputer',\n",
              "                                                                   SimpleImputer(strategy='most_frequent')),\n",
              "                                                                  ('encoder',\n",
              "                                                                   OrdinalEncoder())]),\n",
              "                                                  ['Sex', 'Embarked'])])),\n",
              "                ('estimator',\n",
              "                 RandomForestClassifier(n_estimators=20, random_state=42))])"
            ]
          },
          "metadata": {
            "tags": []
          },
          "execution_count": 24
        }
      ]
    },
    {
      "cell_type": "markdown",
      "metadata": {
        "id": "PqPu7H3WJ7kV"
      },
      "source": [
        "Now we can train our full pipeline, like you would a normal model, and assess the the accuracy. Note that the `X_train` *fitted* preprocessing is applied to `X_test` too."
      ]
    },
    {
      "cell_type": "code",
      "metadata": {
        "id": "MnERNmHYDjkz",
        "colab": {
          "base_uri": "https://localhost:8080/"
        },
        "outputId": "8d134cbe-c29c-44e5-8f75-55f2748729df"
      },
      "source": [
        "model = full_pipe.fit(X_train, y_train)\r\n",
        "\r\n",
        "print(f'Train accuracy: {model.score(X_train, y_train):.2f}')\r\n",
        "print(f'Test accuracy: {model.score(X_test, y_test):.2f}')"
      ],
      "execution_count": 25,
      "outputs": [
        {
          "output_type": "stream",
          "text": [
            "Train accuracy: 0.97\n",
            "Test accuracy: 0.79\n"
          ],
          "name": "stdout"
        }
      ]
    },
    {
      "cell_type": "markdown",
      "metadata": {
        "id": "hq7MtqcOKMtg"
      },
      "source": [
        "Actually our accuracy is pretty okay given the features that we have. However, \r\n",
        "let's assume we were dealing with a more complicated dataset and we wanted to squeeze out the last bits of performance, what to do? \r\n",
        "\r\n",
        "Given that we already tried a tree based model (bag of trees) on our dataset a logical next step would be a Gradient Boosting Tree model. In a recent comparison of ours, we found that the LightGBM model delivers the best performance/cpu time, so let's give that one a shot."
      ]
    },
    {
      "cell_type": "markdown",
      "metadata": {
        "id": "BEbWE-pONfaz"
      },
      "source": [
        "## 4. Move to LightGBM"
      ]
    },
    {
      "cell_type": "markdown",
      "metadata": {
        "id": "j_1_BIbhNEDm"
      },
      "source": [
        "Luckily for us (almost) all major structured data models in the ML space have a `scikit-learn` compatible API. From the `lightgbm` package we can simpy import the `LGBMClassifier` and substitute it for any `scikit-learn` classifier. The same holds true for the `LGBMRegressor`. "
      ]
    },
    {
      "cell_type": "code",
      "metadata": {
        "id": "dxn92CYUaWef",
        "colab": {
          "base_uri": "https://localhost:8080/",
          "height": 198
        },
        "outputId": "d30d6cf7-2f91-40a8-dab5-25bc69564641"
      },
      "source": [
        "from lightgbm import LGBMClassifier\n",
        "\n",
        "full_pipe = Pipeline(steps=[\n",
        "    ('preprocessor', preprocessing_pipe),\n",
        "    ('clf', LGBMClassifier(n_estimators=20, random_state=42))\n",
        "])\n",
        "\n",
        "full_pipe"
      ],
      "execution_count": 26,
      "outputs": [
        {
          "output_type": "execute_result",
          "data": {
            "text/html": [
              "<style>div.sk-top-container {color: black;background-color: white;}div.sk-toggleable {background-color: white;}label.sk-toggleable__label {cursor: pointer;display: block;width: 100%;margin-bottom: 0;padding: 0.2em 0.3em;box-sizing: border-box;text-align: center;}div.sk-toggleable__content {max-height: 0;max-width: 0;overflow: hidden;text-align: left;background-color: #f0f8ff;}div.sk-toggleable__content pre {margin: 0.2em;color: black;border-radius: 0.25em;background-color: #f0f8ff;}input.sk-toggleable__control:checked~div.sk-toggleable__content {max-height: 200px;max-width: 100%;overflow: auto;}div.sk-estimator input.sk-toggleable__control:checked~label.sk-toggleable__label {background-color: #d4ebff;}div.sk-label input.sk-toggleable__control:checked~label.sk-toggleable__label {background-color: #d4ebff;}input.sk-hidden--visually {border: 0;clip: rect(1px 1px 1px 1px);clip: rect(1px, 1px, 1px, 1px);height: 1px;margin: -1px;overflow: hidden;padding: 0;position: absolute;width: 1px;}div.sk-estimator {font-family: monospace;background-color: #f0f8ff;margin: 0.25em 0.25em;border: 1px dotted black;border-radius: 0.25em;box-sizing: border-box;}div.sk-estimator:hover {background-color: #d4ebff;}div.sk-parallel-item::after {content: \"\";width: 100%;border-bottom: 1px solid gray;flex-grow: 1;}div.sk-label:hover label.sk-toggleable__label {background-color: #d4ebff;}div.sk-serial::before {content: \"\";position: absolute;border-left: 1px solid gray;box-sizing: border-box;top: 2em;bottom: 0;left: 50%;}div.sk-serial {display: flex;flex-direction: column;align-items: center;background-color: white;}div.sk-item {z-index: 1;}div.sk-parallel {display: flex;align-items: stretch;justify-content: center;background-color: white;}div.sk-parallel-item {display: flex;flex-direction: column;position: relative;background-color: white;}div.sk-parallel-item:first-child::after {align-self: flex-end;width: 50%;}div.sk-parallel-item:last-child::after {align-self: flex-start;width: 50%;}div.sk-parallel-item:only-child::after {width: 0;}div.sk-dashed-wrapped {border: 1px dashed gray;margin: 0.2em;box-sizing: border-box;padding-bottom: 0.1em;background-color: white;position: relative;}div.sk-label label {font-family: monospace;font-weight: bold;background-color: white;display: inline-block;line-height: 1.2em;}div.sk-label-container {position: relative;z-index: 2;text-align: center;}div.sk-container {display: inline-block;position: relative;}</style><div class=\"sk-top-container\"><div class=\"sk-container\"><div class=\"sk-item sk-dashed-wrapped\"><div class=\"sk-label-container\"><div class=\"sk-label sk-toggleable\"><input class=\"sk-toggleable__control sk-hidden--visually\" id=\"7f98b855-4f59-46e7-a73f-c9e7d29ed5dd\" type=\"checkbox\" ><label class=\"sk-toggleable__label\" for=\"7f98b855-4f59-46e7-a73f-c9e7d29ed5dd\">Pipeline</label><div class=\"sk-toggleable__content\"><pre>Pipeline(steps=[('preprocessor',\n",
              "                 ColumnTransformer(transformers=[('num',\n",
              "                                                  Pipeline(steps=[('imputer',\n",
              "                                                                   SimpleImputer()),\n",
              "                                                                  ('normalizer',\n",
              "                                                                   StandardScaler())]),\n",
              "                                                  ['Age', 'Fare', 'Pclass']),\n",
              "                                                 ('cat',\n",
              "                                                  Pipeline(steps=[('imputer',\n",
              "                                                                   SimpleImputer(strategy='most_frequent')),\n",
              "                                                                  ('encoder',\n",
              "                                                                   OrdinalEncoder())]),\n",
              "                                                  ['Sex', 'Embarked'])])),\n",
              "                ('estimator',\n",
              "                 LGBMClassifier(n_estimators=20, random_state=42))])</pre></div></div></div><div class=\"sk-serial\"><div class=\"sk-item sk-dashed-wrapped\"><div class=\"sk-label-container\"><div class=\"sk-label sk-toggleable\"><input class=\"sk-toggleable__control sk-hidden--visually\" id=\"d7c0c6ae-c193-4bbd-b307-2ec81f3c5e94\" type=\"checkbox\" ><label class=\"sk-toggleable__label\" for=\"d7c0c6ae-c193-4bbd-b307-2ec81f3c5e94\">preprocessor: ColumnTransformer</label><div class=\"sk-toggleable__content\"><pre>ColumnTransformer(transformers=[('num',\n",
              "                                 Pipeline(steps=[('imputer', SimpleImputer()),\n",
              "                                                 ('normalizer',\n",
              "                                                  StandardScaler())]),\n",
              "                                 ['Age', 'Fare', 'Pclass']),\n",
              "                                ('cat',\n",
              "                                 Pipeline(steps=[('imputer',\n",
              "                                                  SimpleImputer(strategy='most_frequent')),\n",
              "                                                 ('encoder',\n",
              "                                                  OrdinalEncoder())]),\n",
              "                                 ['Sex', 'Embarked'])])</pre></div></div></div><div class=\"sk-parallel\"><div class=\"sk-parallel-item\"><div class=\"sk-item\"><div class=\"sk-label-container\"><div class=\"sk-label sk-toggleable\"><input class=\"sk-toggleable__control sk-hidden--visually\" id=\"96bfd8cf-aba8-4793-bc55-90ddfb831793\" type=\"checkbox\" ><label class=\"sk-toggleable__label\" for=\"96bfd8cf-aba8-4793-bc55-90ddfb831793\">num</label><div class=\"sk-toggleable__content\"><pre>['Age', 'Fare', 'Pclass']</pre></div></div></div><div class=\"sk-serial\"><div class=\"sk-item\"><div class=\"sk-serial\"><div class=\"sk-item\"><div class=\"sk-estimator sk-toggleable\"><input class=\"sk-toggleable__control sk-hidden--visually\" id=\"f9b1857b-0796-4120-a0d2-cd605367920e\" type=\"checkbox\" ><label class=\"sk-toggleable__label\" for=\"f9b1857b-0796-4120-a0d2-cd605367920e\">SimpleImputer</label><div class=\"sk-toggleable__content\"><pre>SimpleImputer()</pre></div></div></div><div class=\"sk-item\"><div class=\"sk-estimator sk-toggleable\"><input class=\"sk-toggleable__control sk-hidden--visually\" id=\"c53b7d85-0557-4294-9f29-54fb775c0ef2\" type=\"checkbox\" ><label class=\"sk-toggleable__label\" for=\"c53b7d85-0557-4294-9f29-54fb775c0ef2\">StandardScaler</label><div class=\"sk-toggleable__content\"><pre>StandardScaler()</pre></div></div></div></div></div></div></div></div><div class=\"sk-parallel-item\"><div class=\"sk-item\"><div class=\"sk-label-container\"><div class=\"sk-label sk-toggleable\"><input class=\"sk-toggleable__control sk-hidden--visually\" id=\"845cf1b3-76a5-4874-8476-971448fb73c1\" type=\"checkbox\" ><label class=\"sk-toggleable__label\" for=\"845cf1b3-76a5-4874-8476-971448fb73c1\">cat</label><div class=\"sk-toggleable__content\"><pre>['Sex', 'Embarked']</pre></div></div></div><div class=\"sk-serial\"><div class=\"sk-item\"><div class=\"sk-serial\"><div class=\"sk-item\"><div class=\"sk-estimator sk-toggleable\"><input class=\"sk-toggleable__control sk-hidden--visually\" id=\"ff8046df-002e-4f6d-b79d-dfcea1ee393d\" type=\"checkbox\" ><label class=\"sk-toggleable__label\" for=\"ff8046df-002e-4f6d-b79d-dfcea1ee393d\">SimpleImputer</label><div class=\"sk-toggleable__content\"><pre>SimpleImputer(strategy='most_frequent')</pre></div></div></div><div class=\"sk-item\"><div class=\"sk-estimator sk-toggleable\"><input class=\"sk-toggleable__control sk-hidden--visually\" id=\"e23975be-f88f-48a6-a7bd-4f685f12fd64\" type=\"checkbox\" ><label class=\"sk-toggleable__label\" for=\"e23975be-f88f-48a6-a7bd-4f685f12fd64\">OrdinalEncoder</label><div class=\"sk-toggleable__content\"><pre>OrdinalEncoder()</pre></div></div></div></div></div></div></div></div></div></div><div class=\"sk-item\"><div class=\"sk-estimator sk-toggleable\"><input class=\"sk-toggleable__control sk-hidden--visually\" id=\"139742cf-aad9-4005-aac3-29087d4b928c\" type=\"checkbox\" ><label class=\"sk-toggleable__label\" for=\"139742cf-aad9-4005-aac3-29087d4b928c\">LGBMClassifier</label><div class=\"sk-toggleable__content\"><pre>LGBMClassifier(n_estimators=20, random_state=42)</pre></div></div></div></div></div></div></div>"
            ],
            "text/plain": [
              "Pipeline(steps=[('preprocessor',\n",
              "                 ColumnTransformer(transformers=[('num',\n",
              "                                                  Pipeline(steps=[('imputer',\n",
              "                                                                   SimpleImputer()),\n",
              "                                                                  ('normalizer',\n",
              "                                                                   StandardScaler())]),\n",
              "                                                  ['Age', 'Fare', 'Pclass']),\n",
              "                                                 ('cat',\n",
              "                                                  Pipeline(steps=[('imputer',\n",
              "                                                                   SimpleImputer(strategy='most_frequent')),\n",
              "                                                                  ('encoder',\n",
              "                                                                   OrdinalEncoder())]),\n",
              "                                                  ['Sex', 'Embarked'])])),\n",
              "                ('estimator',\n",
              "                 LGBMClassifier(n_estimators=20, random_state=42))])"
            ]
          },
          "metadata": {
            "tags": []
          },
          "execution_count": 26
        }
      ]
    },
    {
      "cell_type": "code",
      "metadata": {
        "id": "Ri8b2LzoEybg",
        "colab": {
          "base_uri": "https://localhost:8080/"
        },
        "outputId": "43886fe7-49ab-4088-c8f7-133086c73fab"
      },
      "source": [
        "model = full_pipe.fit(X_train, y_train)\r\n",
        "\r\n",
        "print(f'Train accuracy: {model.score(X_train, y_train):.2f}')\r\n",
        "print(f'Test accuracy: {model.score(X_test, y_test):.2f}')"
      ],
      "execution_count": 27,
      "outputs": [
        {
          "output_type": "stream",
          "text": [
            "Train accuracy: 0.85\n",
            "Test accuracy: 0.79\n"
          ],
          "name": "stdout"
        }
      ]
    },
    {
      "cell_type": "markdown",
      "metadata": {
        "id": "uQFysEh0NiQJ"
      },
      "source": [
        "Not the performance gain you may have hoped for, as the dataset is too 'simple'. But not to worry, you will encounter more challenging situations in the field. And when you do, now you know how easy it is to get started on the latest Gradient Boosting Trees using scikit learn best practices.\r\n",
        "\r\n",
        "For the interested reader, we have added a section on hyper parameter tuning on the pipeline object. Make sure to check it out below!\r\n",
        "\r\n",
        "\r\n",
        "\r\n",
        "# In summary\r\n",
        "\r\n",
        "You have been introduced to the `scikit-learn` [`Pipeline`](https://scikit-learn.org/stable/modules/generated/sklearn.pipeline.Pipeline.html) object. This object chains preprocessing and modeling together for easy execution and hyper parameter tuning (see the bonus content). In addition, you have seen how you can easily combine scikit-learn with the latest GBMs to kickstart your next project."
      ]
    },
    {
      "cell_type": "markdown",
      "metadata": {
        "id": "RP99aRcMn96j"
      },
      "source": [
        "---\r\n",
        "\r\n",
        "## Bonus Content\r\n"
      ]
    },
    {
      "cell_type": "markdown",
      "metadata": {
        "id": "E0cKk-uKMaAj"
      },
      "source": [
        "\r\n",
        "### 5. Hyper parameter tuning\r\n",
        "\r\n",
        "Just building a model isn't all, you also need to find the right parameters for the model! This is important especially for gradient boosting as they are very sensitive to hyper parameters. \r\n",
        "\r\n",
        "In the next block we show how to build up the hyper parameter space, *including* tuning for the preprocessing.\r\n",
        "\r\n",
        "#### Defining the search space"
      ]
    },
    {
      "cell_type": "code",
      "metadata": {
        "id": "V212BwiwE374"
      },
      "source": [
        "# Import random sampling methods to more efficiently sample the hp search space\n",
        "from scipy.stats import uniform, randint\n",
        "from sklearn.utils.fixes import loguniform\n",
        "\n",
        "# Search space for the model\n",
        "search_space = {\n",
        "        'n_estimators': randint(low=50, high=500),  # Boosting steps\n",
        "        'boosting_type': ['gbdt', 'dart', 'goss'],  # Various boosting tricks, see presentation\n",
        "        'max_depth': randint(low=3, high=9),  # Depth of the DTs\n",
        "        'num_leaves': [int(2**9)],  # Only restrict by depth\n",
        "        'learning_rate': loguniform(1e-4, 1),  # Sample on a log scale\n",
        "        'reg_alpha': uniform(loc=0.0, scale=2.0),  # Regularization\n",
        "        'reg_lambda': uniform(loc=0.0, scale=2.0),  # Regularization\n",
        "}\n",
        "# Add prefix to indicate to which part of the pipeline the search space belongs\n",
        "search_space = {'clf__' + key: value for key, value in search_space.items()}\n",
        "\n",
        "# Paramter tuning for the numerical impute strategy\n",
        "search_space.update({'preprocessor__num__imputer__strategy': ['mean', 'median'],})"
      ],
      "execution_count": 28,
      "outputs": []
    },
    {
      "cell_type": "markdown",
      "metadata": {
        "id": "1DyS2YKMnt-M"
      },
      "source": [
        "#### Setting the validation set strategy\r\n",
        "\r\n",
        "In addition to defining the search space, we also need to come up with a validation strategy. Typically a model is trained on various train and validation sets. The HPs are judged based on the score on the various validation sets. Here we will go for shuffle split, which is graphically explained below:\r\n",
        "\r\n",
        "![](https://scikit-learn.org/stable/_images/sphx_glr_plot_cv_indices_006.png)\r\n",
        "\r\n",
        "Much more strategies exist, for which we refer to the [scikit-learn documentation](https://scikit-learn.org/stable/auto_examples/model_selection/plot_cv_indices.html#sphx-glr-auto-examples-model-selection-plot-cv-indices-py)."
      ]
    },
    {
      "cell_type": "code",
      "metadata": {
        "id": "ZtR6iIjVnj1Y"
      },
      "source": [
        "from sklearn.model_selection import ShuffleSplit\r\n",
        "\r\n",
        "cross_validator = ShuffleSplit(n_splits=10, test_size=0.1, random_state=42)"
      ],
      "execution_count": 29,
      "outputs": []
    },
    {
      "cell_type": "markdown",
      "metadata": {
        "id": "7dE3zsrlSbSy"
      },
      "source": [
        "#### Randomized grid search\r\n",
        "\r\n",
        "We now have all the ingredients to apply hyperparameter tuning to our pipeline. We choose for *Randomized* grid search, which is more efficient than regular grid search in sampling the space. For more background please visit [scikit-learn grid search](https://scikit-learn.org/stable/modules/grid_search.html)."
      ]
    },
    {
      "cell_type": "code",
      "metadata": {
        "id": "_l4hMCE4nlcl",
        "colab": {
          "base_uri": "https://localhost:8080/",
          "height": 266
        },
        "outputId": "9a10c6f1-72d0-43e4-85b7-422f1894841f"
      },
      "source": [
        "from sklearn.model_selection import RandomizedSearchCV\r\n",
        "\r\n",
        "search = RandomizedSearchCV(estimator=full_pipe,\r\n",
        "                            cv=cross_validator,\r\n",
        "                            param_distributions=search_space,\r\n",
        "                            verbose=1,\r\n",
        "                            refit=True,  # After having found the best HPs refit to the whole set\r\n",
        "                            random_state=42,\r\n",
        "                            n_jobs=-1)  # Parallel <3\r\n",
        "\r\n",
        "search.fit(X_train, y_train)"
      ],
      "execution_count": 30,
      "outputs": [
        {
          "output_type": "stream",
          "text": [
            "Fitting 10 folds for each of 10 candidates, totalling 100 fits\n"
          ],
          "name": "stdout"
        },
        {
          "output_type": "stream",
          "text": [
            "[Parallel(n_jobs=-1)]: Using backend LokyBackend with 2 concurrent workers.\n",
            "[Parallel(n_jobs=-1)]: Done  46 tasks      | elapsed:    7.6s\n",
            "[Parallel(n_jobs=-1)]: Done 100 out of 100 | elapsed:   14.8s finished\n"
          ],
          "name": "stderr"
        },
        {
          "output_type": "execute_result",
          "data": {
            "text/html": [
              "<style>div.sk-top-container {color: black;background-color: white;}div.sk-toggleable {background-color: white;}label.sk-toggleable__label {cursor: pointer;display: block;width: 100%;margin-bottom: 0;padding: 0.2em 0.3em;box-sizing: border-box;text-align: center;}div.sk-toggleable__content {max-height: 0;max-width: 0;overflow: hidden;text-align: left;background-color: #f0f8ff;}div.sk-toggleable__content pre {margin: 0.2em;color: black;border-radius: 0.25em;background-color: #f0f8ff;}input.sk-toggleable__control:checked~div.sk-toggleable__content {max-height: 200px;max-width: 100%;overflow: auto;}div.sk-estimator input.sk-toggleable__control:checked~label.sk-toggleable__label {background-color: #d4ebff;}div.sk-label input.sk-toggleable__control:checked~label.sk-toggleable__label {background-color: #d4ebff;}input.sk-hidden--visually {border: 0;clip: rect(1px 1px 1px 1px);clip: rect(1px, 1px, 1px, 1px);height: 1px;margin: -1px;overflow: hidden;padding: 0;position: absolute;width: 1px;}div.sk-estimator {font-family: monospace;background-color: #f0f8ff;margin: 0.25em 0.25em;border: 1px dotted black;border-radius: 0.25em;box-sizing: border-box;}div.sk-estimator:hover {background-color: #d4ebff;}div.sk-parallel-item::after {content: \"\";width: 100%;border-bottom: 1px solid gray;flex-grow: 1;}div.sk-label:hover label.sk-toggleable__label {background-color: #d4ebff;}div.sk-serial::before {content: \"\";position: absolute;border-left: 1px solid gray;box-sizing: border-box;top: 2em;bottom: 0;left: 50%;}div.sk-serial {display: flex;flex-direction: column;align-items: center;background-color: white;}div.sk-item {z-index: 1;}div.sk-parallel {display: flex;align-items: stretch;justify-content: center;background-color: white;}div.sk-parallel-item {display: flex;flex-direction: column;position: relative;background-color: white;}div.sk-parallel-item:first-child::after {align-self: flex-end;width: 50%;}div.sk-parallel-item:last-child::after {align-self: flex-start;width: 50%;}div.sk-parallel-item:only-child::after {width: 0;}div.sk-dashed-wrapped {border: 1px dashed gray;margin: 0.2em;box-sizing: border-box;padding-bottom: 0.1em;background-color: white;position: relative;}div.sk-label label {font-family: monospace;font-weight: bold;background-color: white;display: inline-block;line-height: 1.2em;}div.sk-label-container {position: relative;z-index: 2;text-align: center;}div.sk-container {display: inline-block;position: relative;}</style><div class=\"sk-top-container\"><div class=\"sk-container\"><div class=\"sk-item sk-dashed-wrapped\"><div class=\"sk-label-container\"><div class=\"sk-label sk-toggleable\"><input class=\"sk-toggleable__control sk-hidden--visually\" id=\"f9e3d158-72a0-4192-b2b9-f453608e4199\" type=\"checkbox\" ><label class=\"sk-toggleable__label\" for=\"f9e3d158-72a0-4192-b2b9-f453608e4199\">RandomizedSearchCV</label><div class=\"sk-toggleable__content\"><pre>RandomizedSearchCV(cv=ShuffleSplit(n_splits=10, random_state=42, test_size=0.1, train_size=None),\n",
              "                   estimator=Pipeline(steps=[('preprocessor',\n",
              "                                              ColumnTransformer(transformers=[('num',\n",
              "                                                                               Pipeline(steps=[('imputer',\n",
              "                                                                                                SimpleImputer()),\n",
              "                                                                                               ('normalizer',\n",
              "                                                                                                StandardScaler())]),\n",
              "                                                                               ['Age',\n",
              "                                                                                'Fare',\n",
              "                                                                                'Pclass']),\n",
              "                                                                              ('cat',\n",
              "                                                                               Pipeline(steps=[('imputer',\n",
              "                                                                                                SimpleImputer(strategy='most_frequent'...\n",
              "                                        'estimator__n_estimators': <scipy.stats._distn_infrastructure.rv_frozen object at 0x7f301df685d0>,\n",
              "                                        'estimator__num_leaves': [512],\n",
              "                                        'estimator__reg_alpha': <scipy.stats._distn_infrastructure.rv_frozen object at 0x7f301df9a790>,\n",
              "                                        'estimator__reg_lambda': <scipy.stats._distn_infrastructure.rv_frozen object at 0x7f301df9aa90>,\n",
              "                                        'preprocessor__num__imputer__strategy': ['mean',\n",
              "                                                                                 'median']},\n",
              "                   random_state=42, verbose=1)</pre></div></div></div><div class=\"sk-parallel\"><div class=\"sk-parallel-item\"><div class=\"sk-item\"><div class=\"sk-serial\"><div class=\"sk-item\"><div class=\"sk-serial\"><div class=\"sk-item sk-dashed-wrapped\"><div class=\"sk-label-container\"><div class=\"sk-label sk-toggleable\"><input class=\"sk-toggleable__control sk-hidden--visually\" id=\"f310b30c-3947-4cab-9099-a3e89b28eec7\" type=\"checkbox\" ><label class=\"sk-toggleable__label\" for=\"f310b30c-3947-4cab-9099-a3e89b28eec7\">preprocessor: ColumnTransformer</label><div class=\"sk-toggleable__content\"><pre>ColumnTransformer(transformers=[('num',\n",
              "                                 Pipeline(steps=[('imputer', SimpleImputer()),\n",
              "                                                 ('normalizer',\n",
              "                                                  StandardScaler())]),\n",
              "                                 ['Age', 'Fare', 'Pclass']),\n",
              "                                ('cat',\n",
              "                                 Pipeline(steps=[('imputer',\n",
              "                                                  SimpleImputer(strategy='most_frequent')),\n",
              "                                                 ('encoder',\n",
              "                                                  OrdinalEncoder())]),\n",
              "                                 ['Sex', 'Embarked'])])</pre></div></div></div><div class=\"sk-parallel\"><div class=\"sk-parallel-item\"><div class=\"sk-item\"><div class=\"sk-label-container\"><div class=\"sk-label sk-toggleable\"><input class=\"sk-toggleable__control sk-hidden--visually\" id=\"9d3f9567-0bca-4f76-972c-f363a65081b7\" type=\"checkbox\" ><label class=\"sk-toggleable__label\" for=\"9d3f9567-0bca-4f76-972c-f363a65081b7\">num</label><div class=\"sk-toggleable__content\"><pre>['Age', 'Fare', 'Pclass']</pre></div></div></div><div class=\"sk-serial\"><div class=\"sk-item\"><div class=\"sk-serial\"><div class=\"sk-item\"><div class=\"sk-estimator sk-toggleable\"><input class=\"sk-toggleable__control sk-hidden--visually\" id=\"9c28c21b-37bb-4639-9a95-1a61c4ad4a43\" type=\"checkbox\" ><label class=\"sk-toggleable__label\" for=\"9c28c21b-37bb-4639-9a95-1a61c4ad4a43\">SimpleImputer</label><div class=\"sk-toggleable__content\"><pre>SimpleImputer()</pre></div></div></div><div class=\"sk-item\"><div class=\"sk-estimator sk-toggleable\"><input class=\"sk-toggleable__control sk-hidden--visually\" id=\"26ae4407-da44-472c-bf26-eba6aae246a5\" type=\"checkbox\" ><label class=\"sk-toggleable__label\" for=\"26ae4407-da44-472c-bf26-eba6aae246a5\">StandardScaler</label><div class=\"sk-toggleable__content\"><pre>StandardScaler()</pre></div></div></div></div></div></div></div></div><div class=\"sk-parallel-item\"><div class=\"sk-item\"><div class=\"sk-label-container\"><div class=\"sk-label sk-toggleable\"><input class=\"sk-toggleable__control sk-hidden--visually\" id=\"82b2b693-ec96-4bfa-bd8d-81177289e888\" type=\"checkbox\" ><label class=\"sk-toggleable__label\" for=\"82b2b693-ec96-4bfa-bd8d-81177289e888\">cat</label><div class=\"sk-toggleable__content\"><pre>['Sex', 'Embarked']</pre></div></div></div><div class=\"sk-serial\"><div class=\"sk-item\"><div class=\"sk-serial\"><div class=\"sk-item\"><div class=\"sk-estimator sk-toggleable\"><input class=\"sk-toggleable__control sk-hidden--visually\" id=\"73c2b44c-4886-43fe-a9b6-b7106c18b7d9\" type=\"checkbox\" ><label class=\"sk-toggleable__label\" for=\"73c2b44c-4886-43fe-a9b6-b7106c18b7d9\">SimpleImputer</label><div class=\"sk-toggleable__content\"><pre>SimpleImputer(strategy='most_frequent')</pre></div></div></div><div class=\"sk-item\"><div class=\"sk-estimator sk-toggleable\"><input class=\"sk-toggleable__control sk-hidden--visually\" id=\"56a286b9-d102-4bd2-89e7-c3d2041c6a1e\" type=\"checkbox\" ><label class=\"sk-toggleable__label\" for=\"56a286b9-d102-4bd2-89e7-c3d2041c6a1e\">OrdinalEncoder</label><div class=\"sk-toggleable__content\"><pre>OrdinalEncoder()</pre></div></div></div></div></div></div></div></div></div></div><div class=\"sk-item\"><div class=\"sk-estimator sk-toggleable\"><input class=\"sk-toggleable__control sk-hidden--visually\" id=\"a5cbad12-a719-4e05-8165-ce57adabdffb\" type=\"checkbox\" ><label class=\"sk-toggleable__label\" for=\"a5cbad12-a719-4e05-8165-ce57adabdffb\">LGBMClassifier</label><div class=\"sk-toggleable__content\"><pre>LGBMClassifier(n_estimators=20, random_state=42)</pre></div></div></div></div></div></div></div></div></div></div></div></div>"
            ],
            "text/plain": [
              "RandomizedSearchCV(cv=ShuffleSplit(n_splits=10, random_state=42, test_size=0.1, train_size=None),\n",
              "                   estimator=Pipeline(steps=[('preprocessor',\n",
              "                                              ColumnTransformer(transformers=[('num',\n",
              "                                                                               Pipeline(steps=[('imputer',\n",
              "                                                                                                SimpleImputer()),\n",
              "                                                                                               ('normalizer',\n",
              "                                                                                                StandardScaler())]),\n",
              "                                                                               ['Age',\n",
              "                                                                                'Fare',\n",
              "                                                                                'Pclass']),\n",
              "                                                                              ('cat',\n",
              "                                                                               Pipeline(steps=[('imputer',\n",
              "                                                                                                SimpleImputer(strategy='most_frequent'...\n",
              "                                        'estimator__n_estimators': <scipy.stats._distn_infrastructure.rv_frozen object at 0x7f301df685d0>,\n",
              "                                        'estimator__num_leaves': [512],\n",
              "                                        'estimator__reg_alpha': <scipy.stats._distn_infrastructure.rv_frozen object at 0x7f301df9a790>,\n",
              "                                        'estimator__reg_lambda': <scipy.stats._distn_infrastructure.rv_frozen object at 0x7f301df9aa90>,\n",
              "                                        'preprocessor__num__imputer__strategy': ['mean',\n",
              "                                                                                 'median']},\n",
              "                   random_state=42, verbose=1)"
            ]
          },
          "metadata": {
            "tags": []
          },
          "execution_count": 30
        }
      ]
    },
    {
      "cell_type": "code",
      "metadata": {
        "id": "bApKouIRVHQU",
        "colab": {
          "base_uri": "https://localhost:8080/"
        },
        "outputId": "a9ec0a3a-fb47-4e1b-da94-1b5a1dcae09a"
      },
      "source": [
        "# Extract the best pipeline\r\n",
        "best_model = search.best_estimator_\r\n",
        "\r\n",
        "print(f'Train accuracy: {model.score(X_train, y_train):.2f}')\r\n",
        "print(f'Test accuracy: {model.score(X_test, y_test):.2f}')"
      ],
      "execution_count": 31,
      "outputs": [
        {
          "output_type": "stream",
          "text": [
            "Train accuracy: 0.85\n",
            "Test accuracy: 0.79\n"
          ],
          "name": "stdout"
        }
      ]
    },
    {
      "cell_type": "markdown",
      "metadata": {
        "id": "vts4F89xO-Eu"
      },
      "source": [
        "# 6. Model and Instance Explainability\r\n",
        "\r\n",
        "A big plus of using Tree based models is that they are so called 'white-box' models i.e. decisions can be followed. Typically, these models have built-in features to display the 'feature importance', a number indicating how important a certain feature is for modeling decisions. Below is an example for LightGBM:"
      ]
    },
    {
      "cell_type": "code",
      "metadata": {
        "id": "zwt7VUnrlvD9",
        "colab": {
          "base_uri": "https://localhost:8080/",
          "height": 329
        },
        "outputId": "25ec0925-cc42-4f94-d7d5-7708731a3c59"
      },
      "source": [
        "from lightgbm import plot_importance\r\n",
        "\r\n",
        "plot_importance(best_model[1])\r\n",
        "\r\n",
        "print('Column mapping:')\r\n",
        "print(list(zip(range(5), X_train.columns)))"
      ],
      "execution_count": 32,
      "outputs": [
        {
          "output_type": "stream",
          "text": [
            "Column mapping:\n",
            "[(0, 'Pclass'), (1, 'Sex'), (2, 'Age'), (3, 'Fare'), (4, 'Embarked')]\n"
          ],
          "name": "stdout"
        },
        {
          "output_type": "display_data",
          "data": {
            "image/png": "[encoded data removed]",
            "text/plain": [
              "<Figure size 432x288 with 1 Axes>"
            ]
          },
          "metadata": {
            "tags": [],
            "needs_background": "light"
          }
        }
      ]
    },
    {
      "cell_type": "markdown",
      "metadata": {
        "id": "trnIPzyrhIsW"
      },
      "source": [
        "If you want to go a step further and not only explain global model behavior, but go up to the instance / individual sample level we advice you to have a look at [SHAP](https://github.com/slundberg/shap). And stay tuned, as in the future we will probably take a deep dive into that library."
      ]
    }
  ]
}
