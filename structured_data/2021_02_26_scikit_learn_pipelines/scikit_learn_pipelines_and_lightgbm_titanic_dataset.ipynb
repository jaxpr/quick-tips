{
  "nbformat": 4,
  "nbformat_minor": 0,
  "metadata": {
    "colab": {
      "name": " Titanic survival using Pipelines and LightGBM.ipynb",
      "provenance": [],
      "collapsed_sections": []
    },
    "kernelspec": {
      "name": "python3",
      "display_name": "Python 3",
      "language": "python"
    }
  },
  "cells": [
    {
      "cell_type": "markdown",
      "metadata": {
        "id": "5ZLdMofvJ8yI"
      },
      "source": [
        "# Titanic survival using scikit-learn `Pipelines` and `LightGBM`\n",
        "\n",
        "In this notebook you will be introduced to `scikit-learn` best practices using `Pipelines` and how you can easily incorporate a SOTA gradient boosting tree model: `LightGBM`. We will be using a simplified version of the famous [titanic](https://www.kaggle.com/c/titanic) survival dataset to keep the focus on the library/model learnings.\n",
        "\n",
        "We will cover the following topics:\n",
        "1. Data loading and inspection\n",
        "2. Introduction of the preprocessing `pipeline`\n",
        "3. Incorporate a sklearn classifier in the `pipeline`\n",
        "4. Switch out the sklearn classifier for the `LightGBM` model\n",
        "\n",
        "Bonus sections:\n",
        "5. Hyper parameter tuning\n",
        "6. Model and Instance Explainability\n",
        "\n",
        "---"
      ]
    },
    {
      "cell_type": "code",
      "metadata": {
        "id": "3oYJHjR5BKw0"
      },
      "source": [
        "# For the purpose of pipeline visualization we require a recent scikit-learn\r\n",
        "!pip install scikit-learn==0.23"
      ],
      "execution_count": null,
      "outputs": []
    },
    {
      "cell_type": "markdown",
      "metadata": {
        "id": "B9Q7KyfNMNTE"
      },
      "source": [
        "## 1. Dataset loading and inspection\r\n",
        "\r\n",
        "First we will download the titanic dataset from our bucket. As you can see we have basic passenger information: class, sex, age, fare price, location of embarkment and whether he/she survived."
      ]
    },
    {
      "cell_type": "code",
      "metadata": {
        "id": "EsUWWYjKvUR7",
        "colab": {
          "base_uri": "https://localhost:8080/",
          "height": 106
        },
        "outputId": "c04d72bb-6930-4cfb-feb9-bd1a20e1ea9f"
      },
      "source": [
        "import pandas as pd\r\n",
        "\r\n",
        "df = pd.read_csv('titanic.csv')\r\n",
        "df.head(2)"
      ],
      "execution_count": 1,
      "outputs": [
        {
          "output_type": "execute_result",
          "data": {
            "text/plain": [
              "   Pclass     Sex   Age     Fare Embarked  Survived\n",
              "0       3    male  22.0   7.2500        S         0\n",
              "1       1  female  38.0  71.2833        C         1"
            ],
            "text/html": "<div>\n<style scoped>\n    .dataframe tbody tr th:only-of-type {\n        vertical-align: middle;\n    }\n\n    .dataframe tbody tr th {\n        vertical-align: top;\n    }\n\n    .dataframe thead th {\n        text-align: right;\n    }\n</style>\n<table border=\"1\" class=\"dataframe\">\n  <thead>\n    <tr style=\"text-align: right;\">\n      <th></th>\n      <th>Pclass</th>\n      <th>Sex</th>\n      <th>Age</th>\n      <th>Fare</th>\n      <th>Embarked</th>\n      <th>Survived</th>\n    </tr>\n  </thead>\n  <tbody>\n    <tr>\n      <th>0</th>\n      <td>3</td>\n      <td>male</td>\n      <td>22.0</td>\n      <td>7.2500</td>\n      <td>S</td>\n      <td>0</td>\n    </tr>\n    <tr>\n      <th>1</th>\n      <td>1</td>\n      <td>female</td>\n      <td>38.0</td>\n      <td>71.2833</td>\n      <td>C</td>\n      <td>1</td>\n    </tr>\n  </tbody>\n</table>\n</div>"
          },
          "metadata": {},
          "execution_count": 1
        }
      ]
    },
    {
      "cell_type": "markdown",
      "metadata": {
        "id": "MM5LGHbbrQNM"
      },
      "source": [
        "We will do binary classification on this survivor target, using the previously mentioned features. As such we define the `FEATURES` and `TARGET`. To later assess our performance in a fair way we split the data into a train and a test set."
      ]
    },
    {
      "cell_type": "code",
      "metadata": {
        "id": "Jcc0FchMxPYJ",
        "colab": {
          "base_uri": "https://localhost:8080/"
        },
        "outputId": "4707de65-b0c4-49ff-b116-e752c8136864"
      },
      "source": [
        "from sklearn.model_selection import train_test_split\r\n",
        "\r\n",
        "FEATURES = ['Pclass', 'Sex', 'Age', 'Fare', 'Embarked']\r\n",
        "TARGET = 'Survived'\r\n",
        "\r\n",
        "train_df, test_df = train_test_split(df, train_size=0.7,\r\n",
        "                                     shuffle=True, random_state=42)\r\n",
        "\r\n",
        "X_train, y_train = train_df[FEATURES], train_df[TARGET]\r\n",
        "X_test, y_test = test_df[FEATURES], test_df[TARGET]\r\n",
        "\r\n",
        "print(f'Train size: {len(train_df)}, test size: {len(test_df)}')"
      ],
      "execution_count": 2,
      "outputs": [
        {
          "output_type": "stream",
          "name": "stdout",
          "text": [
            "Train size: 623, test size: 268\n"
          ]
        }
      ]
    },
    {
      "cell_type": "markdown",
      "metadata": {
        "id": "wZdHJOkkQiE4"
      },
      "source": [
        "Now that we have our sets defined lets see how the data looks."
      ]
    },
    {
      "cell_type": "code",
      "metadata": {
        "id": "634Od2yYwwmh",
        "colab": {
          "base_uri": "https://localhost:8080/"
        },
        "outputId": "706d1d1f-113e-4748-843a-1cb6d6b306e1"
      },
      "source": [
        "X_train.info()"
      ],
      "execution_count": 3,
      "outputs": [
        {
          "output_type": "stream",
          "name": "stdout",
          "text": [
            "<class 'pandas.core.frame.DataFrame'>\nInt64Index: 623 entries, 445 to 102\nData columns (total 5 columns):\n #   Column    Non-Null Count  Dtype  \n---  ------    --------------  -----  \n 0   Pclass    623 non-null    int64  \n 1   Sex       623 non-null    object \n 2   Age       499 non-null    float64\n 3   Fare      623 non-null    float64\n 4   Embarked  622 non-null    object \ndtypes: float64(2), int64(1), object(2)\nmemory usage: 29.2+ KB\n"
          ]
        }
      ]
    },
    {
      "cell_type": "markdown",
      "metadata": {
        "id": "yx5QedjGQ7sK"
      },
      "source": [
        "## 2. Preprocesing the data\r\n",
        "As we are dealing with dirty data, we need to preprocess it such that we can use it in a model.\r\n",
        "\r\n",
        "We are dealing with a combination of categorical (`Sex` and `Embarked`) and numerical (`Pclass`, `Age`, `Fare`) features. In addition `Age` and `Embarked` contain missing values. These we need to [impute](https://scikit-learn.org/stable/modules/generated/sklearn.impute.SimpleImputer.html) before we can fit a model."
      ]
    },
    {
      "cell_type": "code",
      "metadata": {
        "id": "JWsba2t6RZgx"
      },
      "source": [
        "numerical_features = ['Age', 'Fare', 'Pclass']\r\n",
        "categorical_features = ['Sex', 'Embarked']"
      ],
      "execution_count": 4,
      "outputs": []
    },
    {
      "cell_type": "markdown",
      "metadata": {
        "id": "Cpk8yGYqRfSK"
      },
      "source": [
        "Let's inspect the categorical features:"
      ]
    },
    {
      "cell_type": "code",
      "metadata": {
        "id": "GdfhG5pwzBUQ",
        "colab": {
          "base_uri": "https://localhost:8080/"
        },
        "outputId": "c52a8590-6912-47e2-fafc-0bd3bdadd75f"
      },
      "source": [
        "print(f'Stats for categorical features:\\n')\r\n",
        "print('\\n\\n'.join([str(X_train[feature].value_counts()) \r\n",
        "                   for feature in categorical_features]))"
      ],
      "execution_count": 5,
      "outputs": [
        {
          "output_type": "stream",
          "name": "stdout",
          "text": [
            "Stats for categorical features:\n\nmale      410\nfemale    213\nName: Sex, dtype: int64\n\nS    457\nC    110\nQ     55\nName: Embarked, dtype: int64\n"
          ]
        }
      ]
    },
    {
      "cell_type": "markdown",
      "metadata": {
        "id": "ceqT1D0OYCdQ"
      },
      "source": [
        "As we can see we, are dealing with a low number of categories that we need to map to a numerical value. In this case [ordinal encoding](https://scikit-learn.org/stable/modules/generated/sklearn.preprocessing.OrdinalEncoder.html) should suffice i.e. use the following mapping:\r\n",
        "- male: 0, female: 1\r\n",
        "- S: 0, C: 1, Q : 2"
      ]
    },
    {
      "cell_type": "markdown",
      "metadata": {
        "id": "r1YSuGsuYCha"
      },
      "source": [
        "\r\n",
        "\r\n",
        "In summary, before we fit a model to the dataset we need to:\r\n",
        "- Impute missing values\r\n",
        "- Encode categorical features\r\n",
        "\r\n",
        "This is a perfect job for the `scikit-learn` `Pipeline`. This object chains multiple [`Estimators`](https://scikit-learn.org/stable/developers/develop.html) essentially making the preprocessing part of the model. This simplifies execution, makes hyper parameter tuning on the preprocessing possible and reduces the risk of dataset leakage.\r\n",
        "\r\n",
        "Here is an visual example of such a `Pipeline` object:\r\n"
      ]
    },
    {
      "cell_type": "markdown",
      "metadata": {
        "id": "-PTcF-Iydj9U"
      },
      "source": [
        "![pipeline.png](data:image/png;base64,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)\r\n"
      ]
    },
    {
      "cell_type": "markdown",
      "metadata": {
        "id": "B9t6fDkAdpfd"
      },
      "source": [
        "The pipeline is divided into two main components: *preprocessing* and *modeling*. As we can see, the preprocessing applies operations separately to the numerical (num) features and to the categorical (cat) features. Next, we will replicate this preprocessor to solve our dataset issues."
      ]
    },
    {
      "cell_type": "markdown",
      "metadata": {
        "id": "R80qiMbXo6U1"
      },
      "source": [
        "---\n",
        "### Creating a preprocessing pipeline\n",
        "\n",
        "For the preprocessing we need to apply imputation to both the categorical and numerical features. In addition, the categorical features need to be encoded and it is good practice to normalize numerical features. Hence, we need to split the preprocessing pipeline into two branches: *numerical* and *categorical*. Let's define them both."
      ]
    },
    {
      "cell_type": "code",
      "metadata": {
        "id": "OJJ1VwIZwnG6"
      },
      "source": [
        "# Pipeline object that we introduced above\r\n",
        "from sklearn.pipeline import Pipeline \r\n",
        "# Imputation Transformer\r\n",
        "from sklearn.impute import SimpleImputer\r\n",
        "# Encoding Transformers\r\n",
        "from sklearn.preprocessing import OrdinalEncoder, StandardScaler\r\n",
        "\r\n",
        "# Defining the categorical pipeline\r\n",
        "#   steps of the pipeline have the form: ('name', TransformerObject)\r\n",
        "categorical_pipe = Pipeline(steps=[\r\n",
        "    ('imputer', SimpleImputer(strategy='most_frequent')),\r\n",
        "    ('encoder', OrdinalEncoder(categories='auto'))               \r\n",
        "])\r\n",
        "\r\n",
        "# Defining the numerical pipeline\r\n",
        "numerical_pipe = Pipeline(steps=[\r\n",
        "    ('imputer', SimpleImputer(strategy='mean')),\r\n",
        "    ('normalizer', StandardScaler())                                        \r\n",
        "])"
      ],
      "execution_count": 6,
      "outputs": []
    },
    {
      "cell_type": "markdown",
      "metadata": {
        "id": "3_ffb8UyG0KG"
      },
      "source": [
        "Let's have a look at what we created (it is interactive HTML!):"
      ]
    },
    {
      "cell_type": "code",
      "metadata": {
        "id": "Lm9umSvTisqi",
        "colab": {
          "base_uri": "https://localhost:8080/",
          "height": 111
        },
        "outputId": "372f466b-60e7-472b-9892-153f52c24b68"
      },
      "source": [
        "from sklearn import set_config\r\n",
        "set_config(display='diagram')\r\n",
        "\r\n",
        "categorical_pipe"
      ],
      "execution_count": 7,
      "outputs": [
        {
          "output_type": "execute_result",
          "data": {
            "text/plain": [
              "Pipeline(steps=[('imputer', SimpleImputer(strategy='most_frequent')),\n",
              "                ('encoder', OrdinalEncoder())])"
            ],
            "text/html": "<style>div.sk-top-container {color: black;background-color: white;}div.sk-toggleable {background-color: white;}label.sk-toggleable__label {cursor: pointer;display: block;width: 100%;margin-bottom: 0;padding: 0.2em 0.3em;box-sizing: border-box;text-align: center;}div.sk-toggleable__content {max-height: 0;max-width: 0;overflow: hidden;text-align: left;background-color: #f0f8ff;}div.sk-toggleable__content pre {margin: 0.2em;color: black;border-radius: 0.25em;background-color: #f0f8ff;}input.sk-toggleable__control:checked~div.sk-toggleable__content {max-height: 200px;max-width: 100%;overflow: auto;}div.sk-estimator input.sk-toggleable__control:checked~label.sk-toggleable__label {background-color: #d4ebff;}div.sk-label input.sk-toggleable__control:checked~label.sk-toggleable__label {background-color: #d4ebff;}input.sk-hidden--visually {border: 0;clip: rect(1px 1px 1px 1px);clip: rect(1px, 1px, 1px, 1px);height: 1px;margin: -1px;overflow: hidden;padding: 0;position: absolute;width: 1px;}div.sk-estimator {font-family: monospace;background-color: #f0f8ff;margin: 0.25em 0.25em;border: 1px dotted black;border-radius: 0.25em;box-sizing: border-box;}div.sk-estimator:hover {background-color: #d4ebff;}div.sk-parallel-item::after {content: \"\";width: 100%;border-bottom: 1px solid gray;flex-grow: 1;}div.sk-label:hover label.sk-toggleable__label {background-color: #d4ebff;}div.sk-serial::before {content: \"\";position: absolute;border-left: 1px solid gray;box-sizing: border-box;top: 2em;bottom: 0;left: 50%;}div.sk-serial {display: flex;flex-direction: column;align-items: center;background-color: white;}div.sk-item {z-index: 1;}div.sk-parallel {display: flex;align-items: stretch;justify-content: center;background-color: white;}div.sk-parallel-item {display: flex;flex-direction: column;position: relative;background-color: white;}div.sk-parallel-item:first-child::after {align-self: flex-end;width: 50%;}div.sk-parallel-item:last-child::after {align-self: flex-start;width: 50%;}div.sk-parallel-item:only-child::after {width: 0;}div.sk-dashed-wrapped {border: 1px dashed gray;margin: 0.2em;box-sizing: border-box;padding-bottom: 0.1em;background-color: white;position: relative;}div.sk-label label {font-family: monospace;font-weight: bold;background-color: white;display: inline-block;line-height: 1.2em;}div.sk-label-container {position: relative;z-index: 2;text-align: center;}div.sk-container {display: inline-block;position: relative;}</style><div class=\"sk-top-container\"><div class=\"sk-container\"><div class=\"sk-item sk-dashed-wrapped\"><div class=\"sk-label-container\"><div class=\"sk-label sk-toggleable\"><input class=\"sk-toggleable__control sk-hidden--visually\" id=\"16126692-7e3a-4fc2-ab01-d7d7d72949d5\" type=\"checkbox\" ><label class=\"sk-toggleable__label\" for=\"16126692-7e3a-4fc2-ab01-d7d7d72949d5\">Pipeline</label><div class=\"sk-toggleable__content\"><pre>Pipeline(steps=[('imputer', SimpleImputer(strategy='most_frequent')),\n                ('encoder', OrdinalEncoder())])</pre></div></div></div><div class=\"sk-serial\"><div class=\"sk-item\"><div class=\"sk-estimator sk-toggleable\"><input class=\"sk-toggleable__control sk-hidden--visually\" id=\"8a665ab8-4360-4791-b228-996ba238d5c0\" type=\"checkbox\" ><label class=\"sk-toggleable__label\" for=\"8a665ab8-4360-4791-b228-996ba238d5c0\">SimpleImputer</label><div class=\"sk-toggleable__content\"><pre>SimpleImputer(strategy='most_frequent')</pre></div></div></div><div class=\"sk-item\"><div class=\"sk-estimator sk-toggleable\"><input class=\"sk-toggleable__control sk-hidden--visually\" id=\"6793a3a0-c5e9-4468-8e9c-4f2ca7e3c040\" type=\"checkbox\" ><label class=\"sk-toggleable__label\" for=\"6793a3a0-c5e9-4468-8e9c-4f2ca7e3c040\">OrdinalEncoder</label><div class=\"sk-toggleable__content\"><pre>OrdinalEncoder()</pre></div></div></div></div></div></div></div>"
          },
          "metadata": {},
          "execution_count": 7
        }
      ]
    },
    {
      "cell_type": "code",
      "metadata": {
        "id": "wtUAM8C-i4ek",
        "colab": {
          "base_uri": "https://localhost:8080/",
          "height": 111
        },
        "outputId": "210b7855-71a0-4454-ac48-052f3c327d79"
      },
      "source": [
        "numerical_pipe"
      ],
      "execution_count": 8,
      "outputs": [
        {
          "output_type": "execute_result",
          "data": {
            "text/plain": [
              "Pipeline(steps=[('imputer', SimpleImputer()), ('normalizer', StandardScaler())])"
            ],
            "text/html": "<style>div.sk-top-container {color: black;background-color: white;}div.sk-toggleable {background-color: white;}label.sk-toggleable__label {cursor: pointer;display: block;width: 100%;margin-bottom: 0;padding: 0.2em 0.3em;box-sizing: border-box;text-align: center;}div.sk-toggleable__content {max-height: 0;max-width: 0;overflow: hidden;text-align: left;background-color: #f0f8ff;}div.sk-toggleable__content pre {margin: 0.2em;color: black;border-radius: 0.25em;background-color: #f0f8ff;}input.sk-toggleable__control:checked~div.sk-toggleable__content {max-height: 200px;max-width: 100%;overflow: auto;}div.sk-estimator input.sk-toggleable__control:checked~label.sk-toggleable__label {background-color: #d4ebff;}div.sk-label input.sk-toggleable__control:checked~label.sk-toggleable__label {background-color: #d4ebff;}input.sk-hidden--visually {border: 0;clip: rect(1px 1px 1px 1px);clip: rect(1px, 1px, 1px, 1px);height: 1px;margin: -1px;overflow: hidden;padding: 0;position: absolute;width: 1px;}div.sk-estimator {font-family: monospace;background-color: #f0f8ff;margin: 0.25em 0.25em;border: 1px dotted black;border-radius: 0.25em;box-sizing: border-box;}div.sk-estimator:hover {background-color: #d4ebff;}div.sk-parallel-item::after {content: \"\";width: 100%;border-bottom: 1px solid gray;flex-grow: 1;}div.sk-label:hover label.sk-toggleable__label {background-color: #d4ebff;}div.sk-serial::before {content: \"\";position: absolute;border-left: 1px solid gray;box-sizing: border-box;top: 2em;bottom: 0;left: 50%;}div.sk-serial {display: flex;flex-direction: column;align-items: center;background-color: white;}div.sk-item {z-index: 1;}div.sk-parallel {display: flex;align-items: stretch;justify-content: center;background-color: white;}div.sk-parallel-item {display: flex;flex-direction: column;position: relative;background-color: white;}div.sk-parallel-item:first-child::after {align-self: flex-end;width: 50%;}div.sk-parallel-item:last-child::after {align-self: flex-start;width: 50%;}div.sk-parallel-item:only-child::after {width: 0;}div.sk-dashed-wrapped {border: 1px dashed gray;margin: 0.2em;box-sizing: border-box;padding-bottom: 0.1em;background-color: white;position: relative;}div.sk-label label {font-family: monospace;font-weight: bold;background-color: white;display: inline-block;line-height: 1.2em;}div.sk-label-container {position: relative;z-index: 2;text-align: center;}div.sk-container {display: inline-block;position: relative;}</style><div class=\"sk-top-container\"><div class=\"sk-container\"><div class=\"sk-item sk-dashed-wrapped\"><div class=\"sk-label-container\"><div class=\"sk-label sk-toggleable\"><input class=\"sk-toggleable__control sk-hidden--visually\" id=\"33531b02-3863-4b5d-b948-c2c7186e1695\" type=\"checkbox\" ><label class=\"sk-toggleable__label\" for=\"33531b02-3863-4b5d-b948-c2c7186e1695\">Pipeline</label><div class=\"sk-toggleable__content\"><pre>Pipeline(steps=[('imputer', SimpleImputer()), ('normalizer', StandardScaler())])</pre></div></div></div><div class=\"sk-serial\"><div class=\"sk-item\"><div class=\"sk-estimator sk-toggleable\"><input class=\"sk-toggleable__control sk-hidden--visually\" id=\"34316f1c-92f1-43aa-9b31-136f31e86492\" type=\"checkbox\" ><label class=\"sk-toggleable__label\" for=\"34316f1c-92f1-43aa-9b31-136f31e86492\">SimpleImputer</label><div class=\"sk-toggleable__content\"><pre>SimpleImputer()</pre></div></div></div><div class=\"sk-item\"><div class=\"sk-estimator sk-toggleable\"><input class=\"sk-toggleable__control sk-hidden--visually\" id=\"227ddc52-d011-41de-8374-9e2f2dc5b599\" type=\"checkbox\" ><label class=\"sk-toggleable__label\" for=\"227ddc52-d011-41de-8374-9e2f2dc5b599\">StandardScaler</label><div class=\"sk-toggleable__content\"><pre>StandardScaler()</pre></div></div></div></div></div></div></div>"
          },
          "metadata": {},
          "execution_count": 8
        }
      ]
    },
    {
      "cell_type": "markdown",
      "metadata": {
        "id": "6-6HBEqiHAET"
      },
      "source": [
        "Now that we have created the preprocessing for the categorical and numerical features, we need to combine them into one. This can be done using the [`ColumnTransformer`](https://scikit-learn.org/stable/modules/generated/sklearn.compose.ColumnTransformer.html) which is a component that can apply different transformations to different columns of the DataFrame."
      ]
    },
    {
      "cell_type": "code",
      "metadata": {
        "id": "n3tQ4pGKe1Na",
        "colab": {
          "base_uri": "https://localhost:8080/",
          "height": 134
        },
        "outputId": "25963f37-ca2e-477a-e30c-d15ce37dbba6"
      },
      "source": [
        "from sklearn.compose import ColumnTransformer\r\n",
        "\r\n",
        "preprocessing_pipe = ColumnTransformer(\r\n",
        "    transformers=[\r\n",
        "      # ('name', Transformer, [column names])\r\n",
        "        ('num', numerical_pipe, numerical_features),\r\n",
        "        ('cat', categorical_pipe, categorical_features)]\r\n",
        ")\r\n",
        "\r\n",
        "preprocessing_pipe"
      ],
      "execution_count": 9,
      "outputs": [
        {
          "output_type": "execute_result",
          "data": {
            "text/plain": [
              "ColumnTransformer(transformers=[('num',\n",
              "                                 Pipeline(steps=[('imputer', SimpleImputer()),\n",
              "                                                 ('normalizer',\n",
              "                                                  StandardScaler())]),\n",
              "                                 ['Age', 'Fare', 'Pclass']),\n",
              "                                ('cat',\n",
              "                                 Pipeline(steps=[('imputer',\n",
              "                                                  SimpleImputer(strategy='most_frequent')),\n",
              "                                                 ('encoder',\n",
              "                                                  OrdinalEncoder())]),\n",
              "                                 ['Sex', 'Embarked'])])"
            ],
            "text/html": "<style>div.sk-top-container {color: black;background-color: white;}div.sk-toggleable {background-color: white;}label.sk-toggleable__label {cursor: pointer;display: block;width: 100%;margin-bottom: 0;padding: 0.2em 0.3em;box-sizing: border-box;text-align: center;}div.sk-toggleable__content {max-height: 0;max-width: 0;overflow: hidden;text-align: left;background-color: #f0f8ff;}div.sk-toggleable__content pre {margin: 0.2em;color: black;border-radius: 0.25em;background-color: #f0f8ff;}input.sk-toggleable__control:checked~div.sk-toggleable__content {max-height: 200px;max-width: 100%;overflow: auto;}div.sk-estimator input.sk-toggleable__control:checked~label.sk-toggleable__label {background-color: #d4ebff;}div.sk-label input.sk-toggleable__control:checked~label.sk-toggleable__label {background-color: #d4ebff;}input.sk-hidden--visually {border: 0;clip: rect(1px 1px 1px 1px);clip: rect(1px, 1px, 1px, 1px);height: 1px;margin: -1px;overflow: hidden;padding: 0;position: absolute;width: 1px;}div.sk-estimator {font-family: monospace;background-color: #f0f8ff;margin: 0.25em 0.25em;border: 1px dotted black;border-radius: 0.25em;box-sizing: border-box;}div.sk-estimator:hover {background-color: #d4ebff;}div.sk-parallel-item::after {content: \"\";width: 100%;border-bottom: 1px solid gray;flex-grow: 1;}div.sk-label:hover label.sk-toggleable__label {background-color: #d4ebff;}div.sk-serial::before {content: \"\";position: absolute;border-left: 1px solid gray;box-sizing: border-box;top: 2em;bottom: 0;left: 50%;}div.sk-serial {display: flex;flex-direction: column;align-items: center;background-color: white;}div.sk-item {z-index: 1;}div.sk-parallel {display: flex;align-items: stretch;justify-content: center;background-color: white;}div.sk-parallel-item {display: flex;flex-direction: column;position: relative;background-color: white;}div.sk-parallel-item:first-child::after {align-self: flex-end;width: 50%;}div.sk-parallel-item:last-child::after {align-self: flex-start;width: 50%;}div.sk-parallel-item:only-child::after {width: 0;}div.sk-dashed-wrapped {border: 1px dashed gray;margin: 0.2em;box-sizing: border-box;padding-bottom: 0.1em;background-color: white;position: relative;}div.sk-label label {font-family: monospace;font-weight: bold;background-color: white;display: inline-block;line-height: 1.2em;}div.sk-label-container {position: relative;z-index: 2;text-align: center;}div.sk-container {display: inline-block;position: relative;}</style><div class=\"sk-top-container\"><div class=\"sk-container\"><div class=\"sk-item sk-dashed-wrapped\"><div class=\"sk-label-container\"><div class=\"sk-label sk-toggleable\"><input class=\"sk-toggleable__control sk-hidden--visually\" id=\"72521ac6-d44e-488c-9924-23f26d1b710c\" type=\"checkbox\" ><label class=\"sk-toggleable__label\" for=\"72521ac6-d44e-488c-9924-23f26d1b710c\">ColumnTransformer</label><div class=\"sk-toggleable__content\"><pre>ColumnTransformer(transformers=[('num',\n                                 Pipeline(steps=[('imputer', SimpleImputer()),\n                                                 ('normalizer',\n                                                  StandardScaler())]),\n                                 ['Age', 'Fare', 'Pclass']),\n                                ('cat',\n                                 Pipeline(steps=[('imputer',\n                                                  SimpleImputer(strategy='most_frequent')),\n                                                 ('encoder',\n                                                  OrdinalEncoder())]),\n                                 ['Sex', 'Embarked'])])</pre></div></div></div><div class=\"sk-parallel\"><div class=\"sk-parallel-item\"><div class=\"sk-item\"><div class=\"sk-label-container\"><div class=\"sk-label sk-toggleable\"><input class=\"sk-toggleable__control sk-hidden--visually\" id=\"8e5e5351-a9a4-4f2c-abd7-3b8a74c0f95a\" type=\"checkbox\" ><label class=\"sk-toggleable__label\" for=\"8e5e5351-a9a4-4f2c-abd7-3b8a74c0f95a\">num</label><div class=\"sk-toggleable__content\"><pre>['Age', 'Fare', 'Pclass']</pre></div></div></div><div class=\"sk-serial\"><div class=\"sk-item\"><div class=\"sk-serial\"><div class=\"sk-item\"><div class=\"sk-estimator sk-toggleable\"><input class=\"sk-toggleable__control sk-hidden--visually\" id=\"ba3b2292-6993-4ac8-a713-d83f18b2f55b\" type=\"checkbox\" ><label class=\"sk-toggleable__label\" for=\"ba3b2292-6993-4ac8-a713-d83f18b2f55b\">SimpleImputer</label><div class=\"sk-toggleable__content\"><pre>SimpleImputer()</pre></div></div></div><div class=\"sk-item\"><div class=\"sk-estimator sk-toggleable\"><input class=\"sk-toggleable__control sk-hidden--visually\" id=\"9eaf8166-64ef-4af5-b464-a829154abf91\" type=\"checkbox\" ><label class=\"sk-toggleable__label\" for=\"9eaf8166-64ef-4af5-b464-a829154abf91\">StandardScaler</label><div class=\"sk-toggleable__content\"><pre>StandardScaler()</pre></div></div></div></div></div></div></div></div><div class=\"sk-parallel-item\"><div class=\"sk-item\"><div class=\"sk-label-container\"><div class=\"sk-label sk-toggleable\"><input class=\"sk-toggleable__control sk-hidden--visually\" id=\"e0337b14-0a44-45d4-81bf-f321494b4e02\" type=\"checkbox\" ><label class=\"sk-toggleable__label\" for=\"e0337b14-0a44-45d4-81bf-f321494b4e02\">cat</label><div class=\"sk-toggleable__content\"><pre>['Sex', 'Embarked']</pre></div></div></div><div class=\"sk-serial\"><div class=\"sk-item\"><div class=\"sk-serial\"><div class=\"sk-item\"><div class=\"sk-estimator sk-toggleable\"><input class=\"sk-toggleable__control sk-hidden--visually\" id=\"bfdabc2b-74b0-4829-8b34-74ac1d26f7a1\" type=\"checkbox\" ><label class=\"sk-toggleable__label\" for=\"bfdabc2b-74b0-4829-8b34-74ac1d26f7a1\">SimpleImputer</label><div class=\"sk-toggleable__content\"><pre>SimpleImputer(strategy='most_frequent')</pre></div></div></div><div class=\"sk-item\"><div class=\"sk-estimator sk-toggleable\"><input class=\"sk-toggleable__control sk-hidden--visually\" id=\"75090020-8b75-4ddf-b03d-fa91228cb5e1\" type=\"checkbox\" ><label class=\"sk-toggleable__label\" for=\"75090020-8b75-4ddf-b03d-fa91228cb5e1\">OrdinalEncoder</label><div class=\"sk-toggleable__content\"><pre>OrdinalEncoder()</pre></div></div></div></div></div></div></div></div></div></div></div></div>"
          },
          "metadata": {},
          "execution_count": 9
        }
      ]
    },
    {
      "cell_type": "markdown",
      "metadata": {
        "id": "BIDE-p4aHpik"
      },
      "source": [
        "A perfect match! Now to double check that indeed the preprocessing works, we call the fit_transform operation on the train data:"
      ]
    },
    {
      "cell_type": "code",
      "metadata": {
        "id": "972O8hRPA9SC",
        "colab": {
          "base_uri": "https://localhost:8080/"
        },
        "outputId": "66f30d70-7dba-49c7-daee-30ea9363681a"
      },
      "source": [
        "# You can see what the preprocessing pipeline does does if you execute the following code\r\n",
        "X_train_transformed = preprocessing_pipe.fit_transform(X_train)\r\n",
        "pd.DataFrame(X_train_transformed).info()"
      ],
      "execution_count": 10,
      "outputs": [
        {
          "output_type": "stream",
          "name": "stdout",
          "text": [
            "<class 'pandas.core.frame.DataFrame'>\nRangeIndex: 623 entries, 0 to 622\nData columns (total 5 columns):\n #   Column  Non-Null Count  Dtype  \n---  ------  --------------  -----  \n 0   0       623 non-null    float64\n 1   1       623 non-null    float64\n 2   2       623 non-null    float64\n 3   3       623 non-null    float64\n 4   4       623 non-null    float64\ndtypes: float64(5)\nmemory usage: 24.5 KB\n"
          ]
        }
      ]
    },
    {
      "cell_type": "markdown",
      "metadata": {
        "id": "Bajw4NnBH12t"
      },
      "source": [
        "All features are nicely imputed and are now of a numerical type. Let's add a prediction model on top of this!"
      ]
    },
    {
      "cell_type": "markdown",
      "metadata": {
        "id": "aeH6sqVfo3uN"
      },
      "source": [
        "## 3. Adding a scikit-learn model\r\n",
        "\r\n",
        "To do actual predictions using our features we need to add a model on top of the transformations. In this case we will add a simple `RandomForestClassifier`.\r\n",
        "\r\n"
      ]
    },
    {
      "cell_type": "code",
      "metadata": {
        "id": "q2OzodRTDKuz",
        "colab": {
          "base_uri": "https://localhost:8080/",
          "height": 198
        },
        "outputId": "50cae7a5-651d-4e21-eafb-8934d43a4b07"
      },
      "source": [
        "from sklearn.ensemble import RandomForestClassifier\n",
        "\n",
        "full_pipe = Pipeline(steps=[\n",
        "    ('preprocessor', preprocessing_pipe),\n",
        "    ('clf', RandomForestClassifier(n_estimators=20, random_state=42))\n",
        "])\n",
        "\n",
        "full_pipe"
      ],
      "execution_count": 11,
      "outputs": [
        {
          "output_type": "execute_result",
          "data": {
            "text/plain": [
              "Pipeline(steps=[('preprocessor',\n",
              "                 ColumnTransformer(transformers=[('num',\n",
              "                                                  Pipeline(steps=[('imputer',\n",
              "                                                                   SimpleImputer()),\n",
              "                                                                  ('normalizer',\n",
              "                                                                   StandardScaler())]),\n",
              "                                                  ['Age', 'Fare', 'Pclass']),\n",
              "                                                 ('cat',\n",
              "                                                  Pipeline(steps=[('imputer',\n",
              "                                                                   SimpleImputer(strategy='most_frequent')),\n",
              "                                                                  ('encoder',\n",
              "                                                                   OrdinalEncoder())]),\n",
              "                                                  ['Sex', 'Embarked'])])),\n",
              "                ('clf',\n",
              "                 RandomForestClassifier(n_estimators=20, random_state=42))])"
            ],
            "text/html": "<style>div.sk-top-container {color: black;background-color: white;}div.sk-toggleable {background-color: white;}label.sk-toggleable__label {cursor: pointer;display: block;width: 100%;margin-bottom: 0;padding: 0.2em 0.3em;box-sizing: border-box;text-align: center;}div.sk-toggleable__content {max-height: 0;max-width: 0;overflow: hidden;text-align: left;background-color: #f0f8ff;}div.sk-toggleable__content pre {margin: 0.2em;color: black;border-radius: 0.25em;background-color: #f0f8ff;}input.sk-toggleable__control:checked~div.sk-toggleable__content {max-height: 200px;max-width: 100%;overflow: auto;}div.sk-estimator input.sk-toggleable__control:checked~label.sk-toggleable__label {background-color: #d4ebff;}div.sk-label input.sk-toggleable__control:checked~label.sk-toggleable__label {background-color: #d4ebff;}input.sk-hidden--visually {border: 0;clip: rect(1px 1px 1px 1px);clip: rect(1px, 1px, 1px, 1px);height: 1px;margin: -1px;overflow: hidden;padding: 0;position: absolute;width: 1px;}div.sk-estimator {font-family: monospace;background-color: #f0f8ff;margin: 0.25em 0.25em;border: 1px dotted black;border-radius: 0.25em;box-sizing: border-box;}div.sk-estimator:hover {background-color: #d4ebff;}div.sk-parallel-item::after {content: \"\";width: 100%;border-bottom: 1px solid gray;flex-grow: 1;}div.sk-label:hover label.sk-toggleable__label {background-color: #d4ebff;}div.sk-serial::before {content: \"\";position: absolute;border-left: 1px solid gray;box-sizing: border-box;top: 2em;bottom: 0;left: 50%;}div.sk-serial {display: flex;flex-direction: column;align-items: center;background-color: white;}div.sk-item {z-index: 1;}div.sk-parallel {display: flex;align-items: stretch;justify-content: center;background-color: white;}div.sk-parallel-item {display: flex;flex-direction: column;position: relative;background-color: white;}div.sk-parallel-item:first-child::after {align-self: flex-end;width: 50%;}div.sk-parallel-item:last-child::after {align-self: flex-start;width: 50%;}div.sk-parallel-item:only-child::after {width: 0;}div.sk-dashed-wrapped {border: 1px dashed gray;margin: 0.2em;box-sizing: border-box;padding-bottom: 0.1em;background-color: white;position: relative;}div.sk-label label {font-family: monospace;font-weight: bold;background-color: white;display: inline-block;line-height: 1.2em;}div.sk-label-container {position: relative;z-index: 2;text-align: center;}div.sk-container {display: inline-block;position: relative;}</style><div class=\"sk-top-container\"><div class=\"sk-container\"><div class=\"sk-item sk-dashed-wrapped\"><div class=\"sk-label-container\"><div class=\"sk-label sk-toggleable\"><input class=\"sk-toggleable__control sk-hidden--visually\" id=\"e582b5ee-d829-4c25-806a-f128b8f7ad9b\" type=\"checkbox\" ><label class=\"sk-toggleable__label\" for=\"e582b5ee-d829-4c25-806a-f128b8f7ad9b\">Pipeline</label><div class=\"sk-toggleable__content\"><pre>Pipeline(steps=[('preprocessor',\n                 ColumnTransformer(transformers=[('num',\n                                                  Pipeline(steps=[('imputer',\n                                                                   SimpleImputer()),\n                                                                  ('normalizer',\n                                                                   StandardScaler())]),\n                                                  ['Age', 'Fare', 'Pclass']),\n                                                 ('cat',\n                                                  Pipeline(steps=[('imputer',\n                                                                   SimpleImputer(strategy='most_frequent')),\n                                                                  ('encoder',\n                                                                   OrdinalEncoder())]),\n                                                  ['Sex', 'Embarked'])])),\n                ('clf',\n                 RandomForestClassifier(n_estimators=20, random_state=42))])</pre></div></div></div><div class=\"sk-serial\"><div class=\"sk-item sk-dashed-wrapped\"><div class=\"sk-label-container\"><div class=\"sk-label sk-toggleable\"><input class=\"sk-toggleable__control sk-hidden--visually\" id=\"e6dd3344-9f6e-46bc-a8e7-ae783246ed7a\" type=\"checkbox\" ><label class=\"sk-toggleable__label\" for=\"e6dd3344-9f6e-46bc-a8e7-ae783246ed7a\">preprocessor: ColumnTransformer</label><div class=\"sk-toggleable__content\"><pre>ColumnTransformer(transformers=[('num',\n                                 Pipeline(steps=[('imputer', SimpleImputer()),\n                                                 ('normalizer',\n                                                  StandardScaler())]),\n                                 ['Age', 'Fare', 'Pclass']),\n                                ('cat',\n                                 Pipeline(steps=[('imputer',\n                                                  SimpleImputer(strategy='most_frequent')),\n                                                 ('encoder',\n                                                  OrdinalEncoder())]),\n                                 ['Sex', 'Embarked'])])</pre></div></div></div><div class=\"sk-parallel\"><div class=\"sk-parallel-item\"><div class=\"sk-item\"><div class=\"sk-label-container\"><div class=\"sk-label sk-toggleable\"><input class=\"sk-toggleable__control sk-hidden--visually\" id=\"dca380eb-d921-414b-858e-a33eac84a0e3\" type=\"checkbox\" ><label class=\"sk-toggleable__label\" for=\"dca380eb-d921-414b-858e-a33eac84a0e3\">num</label><div class=\"sk-toggleable__content\"><pre>['Age', 'Fare', 'Pclass']</pre></div></div></div><div class=\"sk-serial\"><div class=\"sk-item\"><div class=\"sk-serial\"><div class=\"sk-item\"><div class=\"sk-estimator sk-toggleable\"><input class=\"sk-toggleable__control sk-hidden--visually\" id=\"f08c7a61-e081-4a4b-8478-bdca1aced7ce\" type=\"checkbox\" ><label class=\"sk-toggleable__label\" for=\"f08c7a61-e081-4a4b-8478-bdca1aced7ce\">SimpleImputer</label><div class=\"sk-toggleable__content\"><pre>SimpleImputer()</pre></div></div></div><div class=\"sk-item\"><div class=\"sk-estimator sk-toggleable\"><input class=\"sk-toggleable__control sk-hidden--visually\" id=\"829e8c23-9c96-4cf6-aa48-abe25236dd5d\" type=\"checkbox\" ><label class=\"sk-toggleable__label\" for=\"829e8c23-9c96-4cf6-aa48-abe25236dd5d\">StandardScaler</label><div class=\"sk-toggleable__content\"><pre>StandardScaler()</pre></div></div></div></div></div></div></div></div><div class=\"sk-parallel-item\"><div class=\"sk-item\"><div class=\"sk-label-container\"><div class=\"sk-label sk-toggleable\"><input class=\"sk-toggleable__control sk-hidden--visually\" id=\"b87e0702-1143-4f30-9c53-59205fbfa868\" type=\"checkbox\" ><label class=\"sk-toggleable__label\" for=\"b87e0702-1143-4f30-9c53-59205fbfa868\">cat</label><div class=\"sk-toggleable__content\"><pre>['Sex', 'Embarked']</pre></div></div></div><div class=\"sk-serial\"><div class=\"sk-item\"><div class=\"sk-serial\"><div class=\"sk-item\"><div class=\"sk-estimator sk-toggleable\"><input class=\"sk-toggleable__control sk-hidden--visually\" id=\"3b2f70db-9b73-4f30-be45-16150b988881\" type=\"checkbox\" ><label class=\"sk-toggleable__label\" for=\"3b2f70db-9b73-4f30-be45-16150b988881\">SimpleImputer</label><div class=\"sk-toggleable__content\"><pre>SimpleImputer(strategy='most_frequent')</pre></div></div></div><div class=\"sk-item\"><div class=\"sk-estimator sk-toggleable\"><input class=\"sk-toggleable__control sk-hidden--visually\" id=\"c42192e9-c96b-4834-a551-2ae68c1cdd5c\" type=\"checkbox\" ><label class=\"sk-toggleable__label\" for=\"c42192e9-c96b-4834-a551-2ae68c1cdd5c\">OrdinalEncoder</label><div class=\"sk-toggleable__content\"><pre>OrdinalEncoder()</pre></div></div></div></div></div></div></div></div></div></div><div class=\"sk-item\"><div class=\"sk-estimator sk-toggleable\"><input class=\"sk-toggleable__control sk-hidden--visually\" id=\"5ac292d4-9aed-444a-8899-1ed5665f5263\" type=\"checkbox\" ><label class=\"sk-toggleable__label\" for=\"5ac292d4-9aed-444a-8899-1ed5665f5263\">RandomForestClassifier</label><div class=\"sk-toggleable__content\"><pre>RandomForestClassifier(n_estimators=20, random_state=42)</pre></div></div></div></div></div></div></div>"
          },
          "metadata": {},
          "execution_count": 11
        }
      ]
    },
    {
      "cell_type": "markdown",
      "metadata": {
        "id": "PqPu7H3WJ7kV"
      },
      "source": [
        "Now we can train our full pipeline, like you would a normal model, and assess the the accuracy. Note that the `X_train` *fitted* preprocessing is applied to `X_test` too."
      ]
    },
    {
      "cell_type": "code",
      "metadata": {
        "id": "MnERNmHYDjkz",
        "colab": {
          "base_uri": "https://localhost:8080/"
        },
        "outputId": "8d134cbe-c29c-44e5-8f75-55f2748729df"
      },
      "source": [
        "model = full_pipe.fit(X_train, y_train)\r\n",
        "\r\n",
        "print(f'Train accuracy: {model.score(X_train, y_train):.2f}')\r\n",
        "print(f'Test accuracy: {model.score(X_test, y_test):.2f}')"
      ],
      "execution_count": 12,
      "outputs": [
        {
          "output_type": "stream",
          "name": "stdout",
          "text": [
            "Train accuracy: 0.97\nTest accuracy: 0.79\n"
          ]
        }
      ]
    },
    {
      "cell_type": "markdown",
      "metadata": {
        "id": "hq7MtqcOKMtg"
      },
      "source": [
        "Actually our accuracy is pretty okay given the features that we have. However, \r\n",
        "let's assume we were dealing with a more complicated dataset and we wanted to squeeze out the last bits of performance, what to do? \r\n",
        "\r\n",
        "Given that we already tried a tree based model (bag of trees) on our dataset a logical next step would be a Gradient Boosting Tree model. In a recent comparison of ours, we found that the LightGBM model delivers the best performance/cpu time, so let's give that one a shot."
      ]
    },
    {
      "cell_type": "markdown",
      "metadata": {
        "id": "BEbWE-pONfaz"
      },
      "source": [
        "## 4. Move to LightGBM"
      ]
    },
    {
      "cell_type": "markdown",
      "metadata": {
        "id": "j_1_BIbhNEDm"
      },
      "source": [
        "Luckily for us (almost) all major structured data models in the ML space have a `scikit-learn` compatible API. From the `lightgbm` package we can simpy import the `LGBMClassifier` and substitute it for any `scikit-learn` classifier. The same holds true for the `LGBMRegressor`. "
      ]
    },
    {
      "cell_type": "code",
      "metadata": {
        "id": "dxn92CYUaWef",
        "colab": {
          "base_uri": "https://localhost:8080/",
          "height": 198
        },
        "outputId": "d30d6cf7-2f91-40a8-dab5-25bc69564641"
      },
      "source": [
        "from lightgbm import LGBMClassifier\n",
        "\n",
        "full_pipe = Pipeline(steps=[\n",
        "    ('preprocessor', preprocessing_pipe),\n",
        "    ('clf', LGBMClassifier(n_estimators=20, random_state=42))\n",
        "])\n",
        "\n",
        "full_pipe"
      ],
      "execution_count": 13,
      "outputs": [
        {
          "output_type": "execute_result",
          "data": {
            "text/plain": [
              "Pipeline(steps=[('preprocessor',\n",
              "                 ColumnTransformer(transformers=[('num',\n",
              "                                                  Pipeline(steps=[('imputer',\n",
              "                                                                   SimpleImputer()),\n",
              "                                                                  ('normalizer',\n",
              "                                                                   StandardScaler())]),\n",
              "                                                  ['Age', 'Fare', 'Pclass']),\n",
              "                                                 ('cat',\n",
              "                                                  Pipeline(steps=[('imputer',\n",
              "                                                                   SimpleImputer(strategy='most_frequent')),\n",
              "                                                                  ('encoder',\n",
              "                                                                   OrdinalEncoder())]),\n",
              "                                                  ['Sex', 'Embarked'])])),\n",
              "                ('clf', LGBMClassifier(n_estimators=20, random_state=42))])"
            ],
            "text/html": "<style>div.sk-top-container {color: black;background-color: white;}div.sk-toggleable {background-color: white;}label.sk-toggleable__label {cursor: pointer;display: block;width: 100%;margin-bottom: 0;padding: 0.2em 0.3em;box-sizing: border-box;text-align: center;}div.sk-toggleable__content {max-height: 0;max-width: 0;overflow: hidden;text-align: left;background-color: #f0f8ff;}div.sk-toggleable__content pre {margin: 0.2em;color: black;border-radius: 0.25em;background-color: #f0f8ff;}input.sk-toggleable__control:checked~div.sk-toggleable__content {max-height: 200px;max-width: 100%;overflow: auto;}div.sk-estimator input.sk-toggleable__control:checked~label.sk-toggleable__label {background-color: #d4ebff;}div.sk-label input.sk-toggleable__control:checked~label.sk-toggleable__label {background-color: #d4ebff;}input.sk-hidden--visually {border: 0;clip: rect(1px 1px 1px 1px);clip: rect(1px, 1px, 1px, 1px);height: 1px;margin: -1px;overflow: hidden;padding: 0;position: absolute;width: 1px;}div.sk-estimator {font-family: monospace;background-color: #f0f8ff;margin: 0.25em 0.25em;border: 1px dotted black;border-radius: 0.25em;box-sizing: border-box;}div.sk-estimator:hover {background-color: #d4ebff;}div.sk-parallel-item::after {content: \"\";width: 100%;border-bottom: 1px solid gray;flex-grow: 1;}div.sk-label:hover label.sk-toggleable__label {background-color: #d4ebff;}div.sk-serial::before {content: \"\";position: absolute;border-left: 1px solid gray;box-sizing: border-box;top: 2em;bottom: 0;left: 50%;}div.sk-serial {display: flex;flex-direction: column;align-items: center;background-color: white;}div.sk-item {z-index: 1;}div.sk-parallel {display: flex;align-items: stretch;justify-content: center;background-color: white;}div.sk-parallel-item {display: flex;flex-direction: column;position: relative;background-color: white;}div.sk-parallel-item:first-child::after {align-self: flex-end;width: 50%;}div.sk-parallel-item:last-child::after {align-self: flex-start;width: 50%;}div.sk-parallel-item:only-child::after {width: 0;}div.sk-dashed-wrapped {border: 1px dashed gray;margin: 0.2em;box-sizing: border-box;padding-bottom: 0.1em;background-color: white;position: relative;}div.sk-label label {font-family: monospace;font-weight: bold;background-color: white;display: inline-block;line-height: 1.2em;}div.sk-label-container {position: relative;z-index: 2;text-align: center;}div.sk-container {display: inline-block;position: relative;}</style><div class=\"sk-top-container\"><div class=\"sk-container\"><div class=\"sk-item sk-dashed-wrapped\"><div class=\"sk-label-container\"><div class=\"sk-label sk-toggleable\"><input class=\"sk-toggleable__control sk-hidden--visually\" id=\"9df2b702-ba82-4fe9-b23b-aa6ccd18971b\" type=\"checkbox\" ><label class=\"sk-toggleable__label\" for=\"9df2b702-ba82-4fe9-b23b-aa6ccd18971b\">Pipeline</label><div class=\"sk-toggleable__content\"><pre>Pipeline(steps=[('preprocessor',\n                 ColumnTransformer(transformers=[('num',\n                                                  Pipeline(steps=[('imputer',\n                                                                   SimpleImputer()),\n                                                                  ('normalizer',\n                                                                   StandardScaler())]),\n                                                  ['Age', 'Fare', 'Pclass']),\n                                                 ('cat',\n                                                  Pipeline(steps=[('imputer',\n                                                                   SimpleImputer(strategy='most_frequent')),\n                                                                  ('encoder',\n                                                                   OrdinalEncoder())]),\n                                                  ['Sex', 'Embarked'])])),\n                ('clf', LGBMClassifier(n_estimators=20, random_state=42))])</pre></div></div></div><div class=\"sk-serial\"><div class=\"sk-item sk-dashed-wrapped\"><div class=\"sk-label-container\"><div class=\"sk-label sk-toggleable\"><input class=\"sk-toggleable__control sk-hidden--visually\" id=\"69f51962-e6d0-456e-aeda-c70de80e6e76\" type=\"checkbox\" ><label class=\"sk-toggleable__label\" for=\"69f51962-e6d0-456e-aeda-c70de80e6e76\">preprocessor: ColumnTransformer</label><div class=\"sk-toggleable__content\"><pre>ColumnTransformer(transformers=[('num',\n                                 Pipeline(steps=[('imputer', SimpleImputer()),\n                                                 ('normalizer',\n                                                  StandardScaler())]),\n                                 ['Age', 'Fare', 'Pclass']),\n                                ('cat',\n                                 Pipeline(steps=[('imputer',\n                                                  SimpleImputer(strategy='most_frequent')),\n                                                 ('encoder',\n                                                  OrdinalEncoder())]),\n                                 ['Sex', 'Embarked'])])</pre></div></div></div><div class=\"sk-parallel\"><div class=\"sk-parallel-item\"><div class=\"sk-item\"><div class=\"sk-label-container\"><div class=\"sk-label sk-toggleable\"><input class=\"sk-toggleable__control sk-hidden--visually\" id=\"ff378fa1-6df8-4cca-afca-9f4a5ceaf600\" type=\"checkbox\" ><label class=\"sk-toggleable__label\" for=\"ff378fa1-6df8-4cca-afca-9f4a5ceaf600\">num</label><div class=\"sk-toggleable__content\"><pre>['Age', 'Fare', 'Pclass']</pre></div></div></div><div class=\"sk-serial\"><div class=\"sk-item\"><div class=\"sk-serial\"><div class=\"sk-item\"><div class=\"sk-estimator sk-toggleable\"><input class=\"sk-toggleable__control sk-hidden--visually\" id=\"81dacacf-0b74-4d6d-9ed7-7e06683521f4\" type=\"checkbox\" ><label class=\"sk-toggleable__label\" for=\"81dacacf-0b74-4d6d-9ed7-7e06683521f4\">SimpleImputer</label><div class=\"sk-toggleable__content\"><pre>SimpleImputer()</pre></div></div></div><div class=\"sk-item\"><div class=\"sk-estimator sk-toggleable\"><input class=\"sk-toggleable__control sk-hidden--visually\" id=\"f604bcaa-7f3a-495f-b013-7907506526ba\" type=\"checkbox\" ><label class=\"sk-toggleable__label\" for=\"f604bcaa-7f3a-495f-b013-7907506526ba\">StandardScaler</label><div class=\"sk-toggleable__content\"><pre>StandardScaler()</pre></div></div></div></div></div></div></div></div><div class=\"sk-parallel-item\"><div class=\"sk-item\"><div class=\"sk-label-container\"><div class=\"sk-label sk-toggleable\"><input class=\"sk-toggleable__control sk-hidden--visually\" id=\"916f1f14-ba04-400d-b3b7-023aa6c3f4f2\" type=\"checkbox\" ><label class=\"sk-toggleable__label\" for=\"916f1f14-ba04-400d-b3b7-023aa6c3f4f2\">cat</label><div class=\"sk-toggleable__content\"><pre>['Sex', 'Embarked']</pre></div></div></div><div class=\"sk-serial\"><div class=\"sk-item\"><div class=\"sk-serial\"><div class=\"sk-item\"><div class=\"sk-estimator sk-toggleable\"><input class=\"sk-toggleable__control sk-hidden--visually\" id=\"0eba13fd-ee28-4dd0-a981-cf328009d65e\" type=\"checkbox\" ><label class=\"sk-toggleable__label\" for=\"0eba13fd-ee28-4dd0-a981-cf328009d65e\">SimpleImputer</label><div class=\"sk-toggleable__content\"><pre>SimpleImputer(strategy='most_frequent')</pre></div></div></div><div class=\"sk-item\"><div class=\"sk-estimator sk-toggleable\"><input class=\"sk-toggleable__control sk-hidden--visually\" id=\"656a7769-b4d0-4be1-9071-2bae9b25ff3c\" type=\"checkbox\" ><label class=\"sk-toggleable__label\" for=\"656a7769-b4d0-4be1-9071-2bae9b25ff3c\">OrdinalEncoder</label><div class=\"sk-toggleable__content\"><pre>OrdinalEncoder()</pre></div></div></div></div></div></div></div></div></div></div><div class=\"sk-item\"><div class=\"sk-estimator sk-toggleable\"><input class=\"sk-toggleable__control sk-hidden--visually\" id=\"b11df88a-0544-4724-be66-56a4f62d2e3d\" type=\"checkbox\" ><label class=\"sk-toggleable__label\" for=\"b11df88a-0544-4724-be66-56a4f62d2e3d\">LGBMClassifier</label><div class=\"sk-toggleable__content\"><pre>LGBMClassifier(n_estimators=20, random_state=42)</pre></div></div></div></div></div></div></div>"
          },
          "metadata": {},
          "execution_count": 13
        }
      ]
    },
    {
      "cell_type": "code",
      "metadata": {
        "id": "Ri8b2LzoEybg",
        "colab": {
          "base_uri": "https://localhost:8080/"
        },
        "outputId": "43886fe7-49ab-4088-c8f7-133086c73fab"
      },
      "source": [
        "model = full_pipe.fit(X_train, y_train)\r\n",
        "\r\n",
        "print(f'Train accuracy: {model.score(X_train, y_train):.2f}')\r\n",
        "print(f'Test accuracy: {model.score(X_test, y_test):.2f}')"
      ],
      "execution_count": 14,
      "outputs": [
        {
          "output_type": "stream",
          "name": "stdout",
          "text": [
            "Train accuracy: 0.86\nTest accuracy: 0.80\n"
          ]
        }
      ]
    },
    {
      "cell_type": "markdown",
      "metadata": {
        "id": "uQFysEh0NiQJ"
      },
      "source": [
        "Not the performance gain you may have hoped for, as the dataset is too 'simple'. But not to worry, you will encounter more challenging situations in the field. And when you do, now you know how easy it is to get started on the latest Gradient Boosting Trees using scikit learn best practices.\r\n",
        "\r\n",
        "For the interested reader, we have added a section on hyper parameter tuning on the pipeline object. Make sure to check it out below!\r\n",
        "\r\n",
        "\r\n",
        "\r\n",
        "# In summary\r\n",
        "\r\n",
        "You have been introduced to the `scikit-learn` [`Pipeline`](https://scikit-learn.org/stable/modules/generated/sklearn.pipeline.Pipeline.html) object. This object chains preprocessing and modeling together for easy execution and hyper parameter tuning (see the bonus content). In addition, you have seen how you can easily combine scikit-learn with the latest GBMs to kickstart your next project."
      ]
    },
    {
      "cell_type": "markdown",
      "metadata": {
        "id": "RP99aRcMn96j"
      },
      "source": [
        "---\r\n",
        "\r\n",
        "## Bonus Content\r\n"
      ]
    },
    {
      "cell_type": "markdown",
      "metadata": {
        "id": "E0cKk-uKMaAj"
      },
      "source": [
        "\n",
        "### 5. Hyper parameter tuning\n",
        "\n",
        "Just building a model isn't all, you also need to find the right parameters for the model! This is important especially for gradient boosting as they are [very sensitive to hyper parameters](https://bradleyboehmke.github.io/HOML/gbm.html#tuning-strategy).\n",
        "\n",
        "In the next block we show how to build up the hyper parameter space, *including* tuning for the preprocessing.\n",
        "\n",
        "#### Defining the search space"
      ]
    },
    {
      "cell_type": "code",
      "metadata": {
        "id": "V212BwiwE374"
      },
      "source": [
        "# Import random sampling methods to more efficiently sample the hp search space\n",
        "from scipy.stats import uniform, randint\n",
        "from sklearn.utils.fixes import loguniform\n",
        "\n",
        "# Search space for the model\n",
        "search_space = {\n",
        "        'n_estimators': randint(low=50, high=500),  # Boosting steps\n",
        "        'boosting_type': ['gbdt', 'dart', 'goss'],  # See LightGBM docs\n",
        "        'max_depth': randint(low=3, high=9),  # Depth of the DTs\n",
        "        'num_leaves': [int(2**9)],  # Only restrict by depth\n",
        "        'learning_rate': loguniform(1e-4, 1),  # Sample on a log scale\n",
        "        'reg_alpha': uniform(loc=0.0, scale=2.0),  # Regularization\n",
        "        'reg_lambda': uniform(loc=0.0, scale=2.0),  # Regularization\n",
        "}\n",
        "# Add prefix to indicate to which part of the pipeline the search space belongs\n",
        "search_space = {'clf__' + key: value for key, value in search_space.items()}\n",
        "\n",
        "# Paramter tuning for the numerical impute strategy\n",
        "search_space.update({'preprocessor__num__imputer__strategy': ['mean', 'median'],})"
      ],
      "execution_count": 15,
      "outputs": []
    },
    {
      "cell_type": "markdown",
      "metadata": {
        "id": "1DyS2YKMnt-M"
      },
      "source": [
        "#### Setting the validation set strategy\n",
        "\n",
        "In addition to defining the search space, we also need to come up with a validation strategy. Typically a model is trained on various train and validation sets. The HPs are judged based on the score on the various validation sets. Here we will go for shuffle split, which is graphically explained below:\n",
        "\n",
        "![](https://scikit-learn.org/stable/_images/sphx_glr_plot_cv_indices_006.png)\n",
        "\n",
        "Many other strategies exist, for which we refer to the [scikit-learn documentation](https://scikit-learn.org/stable/auto_examples/model_selection/plot_cv_indices.html#sphx-glr-auto-examples-model-selection-plot-cv-indices-py)."
      ]
    },
    {
      "cell_type": "code",
      "metadata": {
        "id": "ZtR6iIjVnj1Y"
      },
      "source": [
        "from sklearn.model_selection import ShuffleSplit\r\n",
        "\r\n",
        "cross_validator = ShuffleSplit(n_splits=10, test_size=0.1, random_state=42)"
      ],
      "execution_count": 16,
      "outputs": []
    },
    {
      "cell_type": "markdown",
      "metadata": {
        "id": "7dE3zsrlSbSy"
      },
      "source": [
        "#### Randomized grid search\r\n",
        "\r\n",
        "We now have all the ingredients to apply hyperparameter tuning to our pipeline. We choose for *Randomized* grid search, which is more efficient than regular grid search in sampling the space. For more background please visit [scikit-learn grid search](https://scikit-learn.org/stable/modules/grid_search.html)."
      ]
    },
    {
      "cell_type": "code",
      "metadata": {
        "id": "_l4hMCE4nlcl",
        "colab": {
          "base_uri": "https://localhost:8080/",
          "height": 266
        },
        "outputId": "9a10c6f1-72d0-43e4-85b7-422f1894841f"
      },
      "source": [
        "from sklearn.model_selection import RandomizedSearchCV\r\n",
        "\r\n",
        "search = RandomizedSearchCV(estimator=full_pipe,\r\n",
        "                            cv=cross_validator,\r\n",
        "                            param_distributions=search_space,\r\n",
        "                            verbose=1,\r\n",
        "                            refit=True,  # After having found the best HPs refit to the whole set\r\n",
        "                            random_state=42,\r\n",
        "                            n_jobs=-1)  # Parallel <3\r\n",
        "\r\n",
        "search.fit(X_train, y_train)"
      ],
      "execution_count": 17,
      "outputs": [
        {
          "output_type": "stream",
          "name": "stdout",
          "text": [
            "Fitting 10 folds for each of 10 candidates, totalling 100 fits\n"
          ]
        },
        {
          "output_type": "execute_result",
          "data": {
            "text/plain": [
              "RandomizedSearchCV(cv=ShuffleSplit(n_splits=10, random_state=42, test_size=0.1, train_size=None),\n",
              "                   estimator=Pipeline(steps=[('preprocessor',\n",
              "                                              ColumnTransformer(transformers=[('num',\n",
              "                                                                               Pipeline(steps=[('imputer',\n",
              "                                                                                                SimpleImputer()),\n",
              "                                                                                               ('normalizer',\n",
              "                                                                                                StandardScaler())]),\n",
              "                                                                               ['Age',\n",
              "                                                                                'Fare',\n",
              "                                                                                'Pclass']),\n",
              "                                                                              ('cat',\n",
              "                                                                               Pipeline(steps=[('imputer',\n",
              "                                                                                                SimpleImputer(strategy='most_frequent'...\n",
              "                                        'clf__n_estimators': <scipy.stats._distn_infrastructure.rv_frozen object at 0x7f7777461a90>,\n",
              "                                        'clf__num_leaves': [512],\n",
              "                                        'clf__reg_alpha': <scipy.stats._distn_infrastructure.rv_frozen object at 0x7f777746a0d0>,\n",
              "                                        'clf__reg_lambda': <scipy.stats._distn_infrastructure.rv_frozen object at 0x7f777746a340>,\n",
              "                                        'preprocessor__num__imputer__strategy': ['mean',\n",
              "                                                                                 'median']},\n",
              "                   random_state=42, verbose=1)"
            ],
            "text/html": "<style>div.sk-top-container {color: black;background-color: white;}div.sk-toggleable {background-color: white;}label.sk-toggleable__label {cursor: pointer;display: block;width: 100%;margin-bottom: 0;padding: 0.2em 0.3em;box-sizing: border-box;text-align: center;}div.sk-toggleable__content {max-height: 0;max-width: 0;overflow: hidden;text-align: left;background-color: #f0f8ff;}div.sk-toggleable__content pre {margin: 0.2em;color: black;border-radius: 0.25em;background-color: #f0f8ff;}input.sk-toggleable__control:checked~div.sk-toggleable__content {max-height: 200px;max-width: 100%;overflow: auto;}div.sk-estimator input.sk-toggleable__control:checked~label.sk-toggleable__label {background-color: #d4ebff;}div.sk-label input.sk-toggleable__control:checked~label.sk-toggleable__label {background-color: #d4ebff;}input.sk-hidden--visually {border: 0;clip: rect(1px 1px 1px 1px);clip: rect(1px, 1px, 1px, 1px);height: 1px;margin: -1px;overflow: hidden;padding: 0;position: absolute;width: 1px;}div.sk-estimator {font-family: monospace;background-color: #f0f8ff;margin: 0.25em 0.25em;border: 1px dotted black;border-radius: 0.25em;box-sizing: border-box;}div.sk-estimator:hover {background-color: #d4ebff;}div.sk-parallel-item::after {content: \"\";width: 100%;border-bottom: 1px solid gray;flex-grow: 1;}div.sk-label:hover label.sk-toggleable__label {background-color: #d4ebff;}div.sk-serial::before {content: \"\";position: absolute;border-left: 1px solid gray;box-sizing: border-box;top: 2em;bottom: 0;left: 50%;}div.sk-serial {display: flex;flex-direction: column;align-items: center;background-color: white;}div.sk-item {z-index: 1;}div.sk-parallel {display: flex;align-items: stretch;justify-content: center;background-color: white;}div.sk-parallel-item {display: flex;flex-direction: column;position: relative;background-color: white;}div.sk-parallel-item:first-child::after {align-self: flex-end;width: 50%;}div.sk-parallel-item:last-child::after {align-self: flex-start;width: 50%;}div.sk-parallel-item:only-child::after {width: 0;}div.sk-dashed-wrapped {border: 1px dashed gray;margin: 0.2em;box-sizing: border-box;padding-bottom: 0.1em;background-color: white;position: relative;}div.sk-label label {font-family: monospace;font-weight: bold;background-color: white;display: inline-block;line-height: 1.2em;}div.sk-label-container {position: relative;z-index: 2;text-align: center;}div.sk-container {display: inline-block;position: relative;}</style><div class=\"sk-top-container\"><div class=\"sk-container\"><div class=\"sk-item sk-dashed-wrapped\"><div class=\"sk-label-container\"><div class=\"sk-label sk-toggleable\"><input class=\"sk-toggleable__control sk-hidden--visually\" id=\"47e91ba8-326a-4052-abf4-41c6c8062b51\" type=\"checkbox\" ><label class=\"sk-toggleable__label\" for=\"47e91ba8-326a-4052-abf4-41c6c8062b51\">RandomizedSearchCV</label><div class=\"sk-toggleable__content\"><pre>RandomizedSearchCV(cv=ShuffleSplit(n_splits=10, random_state=42, test_size=0.1, train_size=None),\n                   estimator=Pipeline(steps=[('preprocessor',\n                                              ColumnTransformer(transformers=[('num',\n                                                                               Pipeline(steps=[('imputer',\n                                                                                                SimpleImputer()),\n                                                                                               ('normalizer',\n                                                                                                StandardScaler())]),\n                                                                               ['Age',\n                                                                                'Fare',\n                                                                                'Pclass']),\n                                                                              ('cat',\n                                                                               Pipeline(steps=[('imputer',\n                                                                                                SimpleImputer(strategy='most_frequent'...\n                                        'clf__n_estimators': <scipy.stats._distn_infrastructure.rv_frozen object at 0x7f7777461a90>,\n                                        'clf__num_leaves': [512],\n                                        'clf__reg_alpha': <scipy.stats._distn_infrastructure.rv_frozen object at 0x7f777746a0d0>,\n                                        'clf__reg_lambda': <scipy.stats._distn_infrastructure.rv_frozen object at 0x7f777746a340>,\n                                        'preprocessor__num__imputer__strategy': ['mean',\n                                                                                 'median']},\n                   random_state=42, verbose=1)</pre></div></div></div><div class=\"sk-parallel\"><div class=\"sk-parallel-item\"><div class=\"sk-item\"><div class=\"sk-serial\"><div class=\"sk-item\"><div class=\"sk-serial\"><div class=\"sk-item sk-dashed-wrapped\"><div class=\"sk-label-container\"><div class=\"sk-label sk-toggleable\"><input class=\"sk-toggleable__control sk-hidden--visually\" id=\"3a978f63-58aa-464d-b3dc-7c52bee66852\" type=\"checkbox\" ><label class=\"sk-toggleable__label\" for=\"3a978f63-58aa-464d-b3dc-7c52bee66852\">preprocessor: ColumnTransformer</label><div class=\"sk-toggleable__content\"><pre>ColumnTransformer(transformers=[('num',\n                                 Pipeline(steps=[('imputer', SimpleImputer()),\n                                                 ('normalizer',\n                                                  StandardScaler())]),\n                                 ['Age', 'Fare', 'Pclass']),\n                                ('cat',\n                                 Pipeline(steps=[('imputer',\n                                                  SimpleImputer(strategy='most_frequent')),\n                                                 ('encoder',\n                                                  OrdinalEncoder())]),\n                                 ['Sex', 'Embarked'])])</pre></div></div></div><div class=\"sk-parallel\"><div class=\"sk-parallel-item\"><div class=\"sk-item\"><div class=\"sk-label-container\"><div class=\"sk-label sk-toggleable\"><input class=\"sk-toggleable__control sk-hidden--visually\" id=\"517fbdaa-b7fc-427e-9a9e-e44ab00050ea\" type=\"checkbox\" ><label class=\"sk-toggleable__label\" for=\"517fbdaa-b7fc-427e-9a9e-e44ab00050ea\">num</label><div class=\"sk-toggleable__content\"><pre>['Age', 'Fare', 'Pclass']</pre></div></div></div><div class=\"sk-serial\"><div class=\"sk-item\"><div class=\"sk-serial\"><div class=\"sk-item\"><div class=\"sk-estimator sk-toggleable\"><input class=\"sk-toggleable__control sk-hidden--visually\" id=\"1662bbfd-d2d5-42dc-94ef-c9d3d89a2ef5\" type=\"checkbox\" ><label class=\"sk-toggleable__label\" for=\"1662bbfd-d2d5-42dc-94ef-c9d3d89a2ef5\">SimpleImputer</label><div class=\"sk-toggleable__content\"><pre>SimpleImputer()</pre></div></div></div><div class=\"sk-item\"><div class=\"sk-estimator sk-toggleable\"><input class=\"sk-toggleable__control sk-hidden--visually\" id=\"0cd05a35-d6f0-4341-87e8-3e5780f34549\" type=\"checkbox\" ><label class=\"sk-toggleable__label\" for=\"0cd05a35-d6f0-4341-87e8-3e5780f34549\">StandardScaler</label><div class=\"sk-toggleable__content\"><pre>StandardScaler()</pre></div></div></div></div></div></div></div></div><div class=\"sk-parallel-item\"><div class=\"sk-item\"><div class=\"sk-label-container\"><div class=\"sk-label sk-toggleable\"><input class=\"sk-toggleable__control sk-hidden--visually\" id=\"6dc23761-eab5-4290-b1be-63d9c5d9b899\" type=\"checkbox\" ><label class=\"sk-toggleable__label\" for=\"6dc23761-eab5-4290-b1be-63d9c5d9b899\">cat</label><div class=\"sk-toggleable__content\"><pre>['Sex', 'Embarked']</pre></div></div></div><div class=\"sk-serial\"><div class=\"sk-item\"><div class=\"sk-serial\"><div class=\"sk-item\"><div class=\"sk-estimator sk-toggleable\"><input class=\"sk-toggleable__control sk-hidden--visually\" id=\"4630b69f-76c0-4263-b20d-dd908bdf5e43\" type=\"checkbox\" ><label class=\"sk-toggleable__label\" for=\"4630b69f-76c0-4263-b20d-dd908bdf5e43\">SimpleImputer</label><div class=\"sk-toggleable__content\"><pre>SimpleImputer(strategy='most_frequent')</pre></div></div></div><div class=\"sk-item\"><div class=\"sk-estimator sk-toggleable\"><input class=\"sk-toggleable__control sk-hidden--visually\" id=\"380efad7-f368-4f9f-973c-ec967b4f01e0\" type=\"checkbox\" ><label class=\"sk-toggleable__label\" for=\"380efad7-f368-4f9f-973c-ec967b4f01e0\">OrdinalEncoder</label><div class=\"sk-toggleable__content\"><pre>OrdinalEncoder()</pre></div></div></div></div></div></div></div></div></div></div><div class=\"sk-item\"><div class=\"sk-estimator sk-toggleable\"><input class=\"sk-toggleable__control sk-hidden--visually\" id=\"6b847bca-75ea-47d9-b148-1f068dd55754\" type=\"checkbox\" ><label class=\"sk-toggleable__label\" for=\"6b847bca-75ea-47d9-b148-1f068dd55754\">LGBMClassifier</label><div class=\"sk-toggleable__content\"><pre>LGBMClassifier(n_estimators=20, random_state=42)</pre></div></div></div></div></div></div></div></div></div></div></div></div>"
          },
          "metadata": {},
          "execution_count": 17
        }
      ]
    },
    {
      "cell_type": "code",
      "metadata": {
        "id": "bApKouIRVHQU",
        "colab": {
          "base_uri": "https://localhost:8080/"
        },
        "outputId": "a9ec0a3a-fb47-4e1b-da94-1b5a1dcae09a"
      },
      "source": [
        "# Extract the best pipeline\r\n",
        "best_model = search.best_estimator_\r\n",
        "\r\n",
        "print(f'Train accuracy: {model.score(X_train, y_train):.2f}')\r\n",
        "print(f'Test accuracy: {model.score(X_test, y_test):.2f}')"
      ],
      "execution_count": 18,
      "outputs": [
        {
          "output_type": "stream",
          "name": "stdout",
          "text": [
            "Train accuracy: 0.86\nTest accuracy: 0.80\n"
          ]
        }
      ]
    },
    {
      "cell_type": "markdown",
      "metadata": {
        "id": "vts4F89xO-Eu"
      },
      "source": [
        "# 6. Model and Instance Explainability\r\n",
        "\r\n",
        "A big plus of using Tree based models is that they are so called 'white-box' models i.e. decisions can be followed. Typically, these models have built-in features to display the 'feature importance', a number indicating how important a certain feature is for modeling decisions. Below is an example for LightGBM:"
      ]
    },
    {
      "cell_type": "code",
      "metadata": {
        "id": "zwt7VUnrlvD9",
        "colab": {
          "base_uri": "https://localhost:8080/",
          "height": 329
        },
        "outputId": "25ec0925-cc42-4f94-d7d5-7708731a3c59"
      },
      "source": [
        "from lightgbm import plot_importance\r\n",
        "\r\n",
        "plot_importance(best_model[1])\r\n",
        "\r\n",
        "print('Column mapping:')\r\n",
        "print(list(zip(range(5), X_train.columns)))"
      ],
      "execution_count": 19,
      "outputs": [
        {
          "output_type": "stream",
          "name": "stdout",
          "text": [
            "Column mapping:\n[(0, 'Pclass'), (1, 'Sex'), (2, 'Age'), (3, 'Fare'), (4, 'Embarked')]\n"
          ]
        },
        {
          "output_type": "display_data",
          "data": {
            "text/plain": "<Figure size 432x288 with 1 Axes>",
            "image/svg+xml": "<?xml version=\"1.0\" encoding=\"utf-8\" standalone=\"no\"?>\n<!DOCTYPE svg PUBLIC \"-//W3C//DTD SVG 1.1//EN\"\n  \"http://www.w3.org/Graphics/SVG/1.1/DTD/svg11.dtd\">\n<!-- Created with matplotlib (https://matplotlib.org/) -->\n<svg height=\"277.314375pt\" version=\"1.1\" viewBox=\"0 0 419.535937 277.314375\" width=\"419.535937pt\" xmlns=\"http://www.w3.org/2000/svg\" xmlns:xlink=\"http://www.w3.org/1999/xlink\">\n <metadata>\n  <rdf:RDF xmlns:cc=\"http://creativecommons.org/ns#\" xmlns:dc=\"http://purl.org/dc/elements/1.1/\" xmlns:rdf=\"http://www.w3.org/1999/02/22-rdf-syntax-ns#\">\n   <cc:Work>\n    <dc:type rdf:resource=\"http://purl.org/dc/dcmitype/StillImage\"/>\n    <dc:date>2021-03-02T18:20:25.174956</dc:date>\n    <dc:format>image/svg+xml</dc:format>\n    <dc:creator>\n     <cc:Agent>\n      <dc:title>Matplotlib v3.3.3, https://matplotlib.org/</dc:title>\n     </cc:Agent>\n    </dc:creator>\n   </cc:Work>\n  </rdf:RDF>\n </metadata>\n <defs>\n  <style type=\"text/css\">*{stroke-linecap:butt;stroke-linejoin:round;}</style>\n </defs>\n <g id=\"figure_1\">\n  <g id=\"patch_1\">\n   <path d=\"M 0 277.314375 \nL 419.535937 277.314375 \nL 419.535937 0 \nL 0 0 \nz\n\" style=\"fill:none;\"/>\n  </g>\n  <g id=\"axes_1\">\n   <g id=\"patch_2\">\n    <path d=\"M 77.535938 239.758125 \nL 412.335938 239.758125 \nL 412.335938 22.318125 \nL 77.535938 22.318125 \nz\n\" style=\"fill:#ffffff;\"/>\n   </g>\n   <g id=\"patch_3\">\n    <path clip-path=\"url(#p65b8759c43)\" d=\"M 77.535938 207.142125 \nL 107.880348 207.142125 \nL 107.880348 199.894125 \nL 77.535938 199.894125 \nz\n\" style=\"fill:#1f77b4;\"/>\n   </g>\n   <g id=\"patch_4\">\n    <path clip-path=\"url(#p65b8759c43)\" d=\"M 77.535938 170.902125 \nL 112.477986 170.902125 \nL 112.477986 163.654125 \nL 77.535938 163.654125 \nz\n\" style=\"fill:#1f77b4;\"/>\n   </g>\n   <g id=\"patch_5\">\n    <path clip-path=\"url(#p65b8759c43)\" d=\"M 77.535938 134.662125 \nL 124.431845 134.662125 \nL 124.431845 127.414125 \nL 77.535938 127.414125 \nz\n\" style=\"fill:#1f77b4;\"/>\n   </g>\n   <g id=\"patch_6\">\n    <path clip-path=\"url(#p65b8759c43)\" d=\"M 77.535938 98.422125 \nL 288.107758 98.422125 \nL 288.107758 91.174125 \nL 77.535938 91.174125 \nz\n\" style=\"fill:#1f77b4;\"/>\n   </g>\n   <g id=\"patch_7\">\n    <path clip-path=\"url(#p65b8759c43)\" d=\"M 77.535938 62.182125 \nL 381.899574 62.182125 \nL 381.899574 54.934125 \nL 77.535938 54.934125 \nz\n\" style=\"fill:#1f77b4;\"/>\n   </g>\n   <g id=\"matplotlib.axis_1\">\n    <g id=\"xtick_1\">\n     <g id=\"line2d_1\">\n      <path clip-path=\"url(#p65b8759c43)\" d=\"M 77.535938 239.758125 \nL 77.535938 22.318125 \n\" style=\"fill:none;stroke:#b0b0b0;stroke-linecap:square;stroke-width:0.8;\"/>\n     </g>\n     <g id=\"line2d_2\">\n      <defs>\n       <path d=\"M 0 0 \nL 0 3.5 \n\" id=\"mbec3c08dc2\" style=\"stroke:#000000;stroke-width:0.8;\"/>\n      </defs>\n      <g>\n       <use style=\"stroke:#000000;stroke-width:0.8;\" x=\"77.535938\" xlink:href=\"#mbec3c08dc2\" y=\"239.758125\"/>\n      </g>\n     </g>\n     <g id=\"text_1\">\n      <!-- 0 -->\n      <g transform=\"translate(74.354688 254.356562)scale(0.1 -0.1)\">\n       <defs>\n        <path d=\"M 31.78125 66.40625 \nQ 24.171875 66.40625 20.328125 58.90625 \nQ 16.5 51.421875 16.5 36.375 \nQ 16.5 21.390625 20.328125 13.890625 \nQ 24.171875 6.390625 31.78125 6.390625 \nQ 39.453125 6.390625 43.28125 13.890625 \nQ 47.125 21.390625 47.125 36.375 \nQ 47.125 51.421875 43.28125 58.90625 \nQ 39.453125 66.40625 31.78125 66.40625 \nz\nM 31.78125 74.21875 \nQ 44.046875 74.21875 50.515625 64.515625 \nQ 56.984375 54.828125 56.984375 36.375 \nQ 56.984375 17.96875 50.515625 8.265625 \nQ 44.046875 -1.421875 31.78125 -1.421875 \nQ 19.53125 -1.421875 13.0625 8.265625 \nQ 6.59375 17.96875 6.59375 36.375 \nQ 6.59375 54.828125 13.0625 64.515625 \nQ 19.53125 74.21875 31.78125 74.21875 \nz\n\" id=\"DejaVuSans-48\"/>\n       </defs>\n       <use xlink:href=\"#DejaVuSans-48\"/>\n      </g>\n     </g>\n    </g>\n    <g id=\"xtick_2\">\n     <g id=\"line2d_3\">\n      <path clip-path=\"url(#p65b8759c43)\" d=\"M 123.512318 239.758125 \nL 123.512318 22.318125 \n\" style=\"fill:none;stroke:#b0b0b0;stroke-linecap:square;stroke-width:0.8;\"/>\n     </g>\n     <g id=\"line2d_4\">\n      <g>\n       <use style=\"stroke:#000000;stroke-width:0.8;\" x=\"123.512318\" xlink:href=\"#mbec3c08dc2\" y=\"239.758125\"/>\n      </g>\n     </g>\n     <g id=\"text_2\">\n      <!-- 50 -->\n      <g transform=\"translate(117.149818 254.356562)scale(0.1 -0.1)\">\n       <defs>\n        <path d=\"M 10.796875 72.90625 \nL 49.515625 72.90625 \nL 49.515625 64.59375 \nL 19.828125 64.59375 \nL 19.828125 46.734375 \nQ 21.96875 47.46875 24.109375 47.828125 \nQ 26.265625 48.1875 28.421875 48.1875 \nQ 40.625 48.1875 47.75 41.5 \nQ 54.890625 34.8125 54.890625 23.390625 \nQ 54.890625 11.625 47.5625 5.09375 \nQ 40.234375 -1.421875 26.90625 -1.421875 \nQ 22.3125 -1.421875 17.546875 -0.640625 \nQ 12.796875 0.140625 7.71875 1.703125 \nL 7.71875 11.625 \nQ 12.109375 9.234375 16.796875 8.0625 \nQ 21.484375 6.890625 26.703125 6.890625 \nQ 35.15625 6.890625 40.078125 11.328125 \nQ 45.015625 15.765625 45.015625 23.390625 \nQ 45.015625 31 40.078125 35.4375 \nQ 35.15625 39.890625 26.703125 39.890625 \nQ 22.75 39.890625 18.8125 39.015625 \nQ 14.890625 38.140625 10.796875 36.28125 \nz\n\" id=\"DejaVuSans-53\"/>\n       </defs>\n       <use xlink:href=\"#DejaVuSans-53\"/>\n       <use x=\"63.623047\" xlink:href=\"#DejaVuSans-48\"/>\n      </g>\n     </g>\n    </g>\n    <g id=\"xtick_3\">\n     <g id=\"line2d_5\">\n      <path clip-path=\"url(#p65b8759c43)\" d=\"M 169.488698 239.758125 \nL 169.488698 22.318125 \n\" style=\"fill:none;stroke:#b0b0b0;stroke-linecap:square;stroke-width:0.8;\"/>\n     </g>\n     <g id=\"line2d_6\">\n      <g>\n       <use style=\"stroke:#000000;stroke-width:0.8;\" x=\"169.488698\" xlink:href=\"#mbec3c08dc2\" y=\"239.758125\"/>\n      </g>\n     </g>\n     <g id=\"text_3\">\n      <!-- 100 -->\n      <g transform=\"translate(159.944948 254.356562)scale(0.1 -0.1)\">\n       <defs>\n        <path d=\"M 12.40625 8.296875 \nL 28.515625 8.296875 \nL 28.515625 63.921875 \nL 10.984375 60.40625 \nL 10.984375 69.390625 \nL 28.421875 72.90625 \nL 38.28125 72.90625 \nL 38.28125 8.296875 \nL 54.390625 8.296875 \nL 54.390625 0 \nL 12.40625 0 \nz\n\" id=\"DejaVuSans-49\"/>\n       </defs>\n       <use xlink:href=\"#DejaVuSans-49\"/>\n       <use x=\"63.623047\" xlink:href=\"#DejaVuSans-48\"/>\n       <use x=\"127.246094\" xlink:href=\"#DejaVuSans-48\"/>\n      </g>\n     </g>\n    </g>\n    <g id=\"xtick_4\">\n     <g id=\"line2d_7\">\n      <path clip-path=\"url(#p65b8759c43)\" d=\"M 215.465078 239.758125 \nL 215.465078 22.318125 \n\" style=\"fill:none;stroke:#b0b0b0;stroke-linecap:square;stroke-width:0.8;\"/>\n     </g>\n     <g id=\"line2d_8\">\n      <g>\n       <use style=\"stroke:#000000;stroke-width:0.8;\" x=\"215.465078\" xlink:href=\"#mbec3c08dc2\" y=\"239.758125\"/>\n      </g>\n     </g>\n     <g id=\"text_4\">\n      <!-- 150 -->\n      <g transform=\"translate(205.921328 254.356562)scale(0.1 -0.1)\">\n       <use xlink:href=\"#DejaVuSans-49\"/>\n       <use x=\"63.623047\" xlink:href=\"#DejaVuSans-53\"/>\n       <use x=\"127.246094\" xlink:href=\"#DejaVuSans-48\"/>\n      </g>\n     </g>\n    </g>\n    <g id=\"xtick_5\">\n     <g id=\"line2d_9\">\n      <path clip-path=\"url(#p65b8759c43)\" d=\"M 261.441458 239.758125 \nL 261.441458 22.318125 \n\" style=\"fill:none;stroke:#b0b0b0;stroke-linecap:square;stroke-width:0.8;\"/>\n     </g>\n     <g id=\"line2d_10\">\n      <g>\n       <use style=\"stroke:#000000;stroke-width:0.8;\" x=\"261.441458\" xlink:href=\"#mbec3c08dc2\" y=\"239.758125\"/>\n      </g>\n     </g>\n     <g id=\"text_5\">\n      <!-- 200 -->\n      <g transform=\"translate(251.897708 254.356562)scale(0.1 -0.1)\">\n       <defs>\n        <path d=\"M 19.1875 8.296875 \nL 53.609375 8.296875 \nL 53.609375 0 \nL 7.328125 0 \nL 7.328125 8.296875 \nQ 12.9375 14.109375 22.625 23.890625 \nQ 32.328125 33.6875 34.8125 36.53125 \nQ 39.546875 41.84375 41.421875 45.53125 \nQ 43.3125 49.21875 43.3125 52.78125 \nQ 43.3125 58.59375 39.234375 62.25 \nQ 35.15625 65.921875 28.609375 65.921875 \nQ 23.96875 65.921875 18.8125 64.3125 \nQ 13.671875 62.703125 7.8125 59.421875 \nL 7.8125 69.390625 \nQ 13.765625 71.78125 18.9375 73 \nQ 24.125 74.21875 28.421875 74.21875 \nQ 39.75 74.21875 46.484375 68.546875 \nQ 53.21875 62.890625 53.21875 53.421875 \nQ 53.21875 48.921875 51.53125 44.890625 \nQ 49.859375 40.875 45.40625 35.40625 \nQ 44.1875 33.984375 37.640625 27.21875 \nQ 31.109375 20.453125 19.1875 8.296875 \nz\n\" id=\"DejaVuSans-50\"/>\n       </defs>\n       <use xlink:href=\"#DejaVuSans-50\"/>\n       <use x=\"63.623047\" xlink:href=\"#DejaVuSans-48\"/>\n       <use x=\"127.246094\" xlink:href=\"#DejaVuSans-48\"/>\n      </g>\n     </g>\n    </g>\n    <g id=\"xtick_6\">\n     <g id=\"line2d_11\">\n      <path clip-path=\"url(#p65b8759c43)\" d=\"M 307.417838 239.758125 \nL 307.417838 22.318125 \n\" style=\"fill:none;stroke:#b0b0b0;stroke-linecap:square;stroke-width:0.8;\"/>\n     </g>\n     <g id=\"line2d_12\">\n      <g>\n       <use style=\"stroke:#000000;stroke-width:0.8;\" x=\"307.417838\" xlink:href=\"#mbec3c08dc2\" y=\"239.758125\"/>\n      </g>\n     </g>\n     <g id=\"text_6\">\n      <!-- 250 -->\n      <g transform=\"translate(297.874088 254.356562)scale(0.1 -0.1)\">\n       <use xlink:href=\"#DejaVuSans-50\"/>\n       <use x=\"63.623047\" xlink:href=\"#DejaVuSans-53\"/>\n       <use x=\"127.246094\" xlink:href=\"#DejaVuSans-48\"/>\n      </g>\n     </g>\n    </g>\n    <g id=\"xtick_7\">\n     <g id=\"line2d_13\">\n      <path clip-path=\"url(#p65b8759c43)\" d=\"M 353.394218 239.758125 \nL 353.394218 22.318125 \n\" style=\"fill:none;stroke:#b0b0b0;stroke-linecap:square;stroke-width:0.8;\"/>\n     </g>\n     <g id=\"line2d_14\">\n      <g>\n       <use style=\"stroke:#000000;stroke-width:0.8;\" x=\"353.394218\" xlink:href=\"#mbec3c08dc2\" y=\"239.758125\"/>\n      </g>\n     </g>\n     <g id=\"text_7\">\n      <!-- 300 -->\n      <g transform=\"translate(343.850468 254.356562)scale(0.1 -0.1)\">\n       <defs>\n        <path d=\"M 40.578125 39.3125 \nQ 47.65625 37.796875 51.625 33 \nQ 55.609375 28.21875 55.609375 21.1875 \nQ 55.609375 10.40625 48.1875 4.484375 \nQ 40.765625 -1.421875 27.09375 -1.421875 \nQ 22.515625 -1.421875 17.65625 -0.515625 \nQ 12.796875 0.390625 7.625 2.203125 \nL 7.625 11.71875 \nQ 11.71875 9.328125 16.59375 8.109375 \nQ 21.484375 6.890625 26.8125 6.890625 \nQ 36.078125 6.890625 40.9375 10.546875 \nQ 45.796875 14.203125 45.796875 21.1875 \nQ 45.796875 27.640625 41.28125 31.265625 \nQ 36.765625 34.90625 28.71875 34.90625 \nL 20.21875 34.90625 \nL 20.21875 43.015625 \nL 29.109375 43.015625 \nQ 36.375 43.015625 40.234375 45.921875 \nQ 44.09375 48.828125 44.09375 54.296875 \nQ 44.09375 59.90625 40.109375 62.90625 \nQ 36.140625 65.921875 28.71875 65.921875 \nQ 24.65625 65.921875 20.015625 65.03125 \nQ 15.375 64.15625 9.8125 62.3125 \nL 9.8125 71.09375 \nQ 15.4375 72.65625 20.34375 73.4375 \nQ 25.25 74.21875 29.59375 74.21875 \nQ 40.828125 74.21875 47.359375 69.109375 \nQ 53.90625 64.015625 53.90625 55.328125 \nQ 53.90625 49.265625 50.4375 45.09375 \nQ 46.96875 40.921875 40.578125 39.3125 \nz\n\" id=\"DejaVuSans-51\"/>\n       </defs>\n       <use xlink:href=\"#DejaVuSans-51\"/>\n       <use x=\"63.623047\" xlink:href=\"#DejaVuSans-48\"/>\n       <use x=\"127.246094\" xlink:href=\"#DejaVuSans-48\"/>\n      </g>\n     </g>\n    </g>\n    <g id=\"xtick_8\">\n     <g id=\"line2d_15\">\n      <path clip-path=\"url(#p65b8759c43)\" d=\"M 399.370598 239.758125 \nL 399.370598 22.318125 \n\" style=\"fill:none;stroke:#b0b0b0;stroke-linecap:square;stroke-width:0.8;\"/>\n     </g>\n     <g id=\"line2d_16\">\n      <g>\n       <use style=\"stroke:#000000;stroke-width:0.8;\" x=\"399.370598\" xlink:href=\"#mbec3c08dc2\" y=\"239.758125\"/>\n      </g>\n     </g>\n     <g id=\"text_8\">\n      <!-- 350 -->\n      <g transform=\"translate(389.826848 254.356562)scale(0.1 -0.1)\">\n       <use xlink:href=\"#DejaVuSans-51\"/>\n       <use x=\"63.623047\" xlink:href=\"#DejaVuSans-53\"/>\n       <use x=\"127.246094\" xlink:href=\"#DejaVuSans-48\"/>\n      </g>\n     </g>\n    </g>\n    <g id=\"text_9\">\n     <!-- Feature importance -->\n     <g transform=\"translate(195.889844 268.034687)scale(0.1 -0.1)\">\n      <defs>\n       <path d=\"M 9.8125 72.90625 \nL 51.703125 72.90625 \nL 51.703125 64.59375 \nL 19.671875 64.59375 \nL 19.671875 43.109375 \nL 48.578125 43.109375 \nL 48.578125 34.8125 \nL 19.671875 34.8125 \nL 19.671875 0 \nL 9.8125 0 \nz\n\" id=\"DejaVuSans-70\"/>\n       <path d=\"M 56.203125 29.59375 \nL 56.203125 25.203125 \nL 14.890625 25.203125 \nQ 15.484375 15.921875 20.484375 11.0625 \nQ 25.484375 6.203125 34.421875 6.203125 \nQ 39.59375 6.203125 44.453125 7.46875 \nQ 49.3125 8.734375 54.109375 11.28125 \nL 54.109375 2.78125 \nQ 49.265625 0.734375 44.1875 -0.34375 \nQ 39.109375 -1.421875 33.890625 -1.421875 \nQ 20.796875 -1.421875 13.15625 6.1875 \nQ 5.515625 13.8125 5.515625 26.8125 \nQ 5.515625 40.234375 12.765625 48.109375 \nQ 20.015625 56 32.328125 56 \nQ 43.359375 56 49.78125 48.890625 \nQ 56.203125 41.796875 56.203125 29.59375 \nz\nM 47.21875 32.234375 \nQ 47.125 39.59375 43.09375 43.984375 \nQ 39.0625 48.390625 32.421875 48.390625 \nQ 24.90625 48.390625 20.390625 44.140625 \nQ 15.875 39.890625 15.1875 32.171875 \nz\n\" id=\"DejaVuSans-101\"/>\n       <path d=\"M 34.28125 27.484375 \nQ 23.390625 27.484375 19.1875 25 \nQ 14.984375 22.515625 14.984375 16.5 \nQ 14.984375 11.71875 18.140625 8.90625 \nQ 21.296875 6.109375 26.703125 6.109375 \nQ 34.1875 6.109375 38.703125 11.40625 \nQ 43.21875 16.703125 43.21875 25.484375 \nL 43.21875 27.484375 \nz\nM 52.203125 31.203125 \nL 52.203125 0 \nL 43.21875 0 \nL 43.21875 8.296875 \nQ 40.140625 3.328125 35.546875 0.953125 \nQ 30.953125 -1.421875 24.3125 -1.421875 \nQ 15.921875 -1.421875 10.953125 3.296875 \nQ 6 8.015625 6 15.921875 \nQ 6 25.140625 12.171875 29.828125 \nQ 18.359375 34.515625 30.609375 34.515625 \nL 43.21875 34.515625 \nL 43.21875 35.40625 \nQ 43.21875 41.609375 39.140625 45 \nQ 35.0625 48.390625 27.6875 48.390625 \nQ 23 48.390625 18.546875 47.265625 \nQ 14.109375 46.140625 10.015625 43.890625 \nL 10.015625 52.203125 \nQ 14.9375 54.109375 19.578125 55.046875 \nQ 24.21875 56 28.609375 56 \nQ 40.484375 56 46.34375 49.84375 \nQ 52.203125 43.703125 52.203125 31.203125 \nz\n\" id=\"DejaVuSans-97\"/>\n       <path d=\"M 18.3125 70.21875 \nL 18.3125 54.6875 \nL 36.8125 54.6875 \nL 36.8125 47.703125 \nL 18.3125 47.703125 \nL 18.3125 18.015625 \nQ 18.3125 11.328125 20.140625 9.421875 \nQ 21.96875 7.515625 27.59375 7.515625 \nL 36.8125 7.515625 \nL 36.8125 0 \nL 27.59375 0 \nQ 17.1875 0 13.234375 3.875 \nQ 9.28125 7.765625 9.28125 18.015625 \nL 9.28125 47.703125 \nL 2.6875 47.703125 \nL 2.6875 54.6875 \nL 9.28125 54.6875 \nL 9.28125 70.21875 \nz\n\" id=\"DejaVuSans-116\"/>\n       <path d=\"M 8.5 21.578125 \nL 8.5 54.6875 \nL 17.484375 54.6875 \nL 17.484375 21.921875 \nQ 17.484375 14.15625 20.5 10.265625 \nQ 23.53125 6.390625 29.59375 6.390625 \nQ 36.859375 6.390625 41.078125 11.03125 \nQ 45.3125 15.671875 45.3125 23.6875 \nL 45.3125 54.6875 \nL 54.296875 54.6875 \nL 54.296875 0 \nL 45.3125 0 \nL 45.3125 8.40625 \nQ 42.046875 3.421875 37.71875 1 \nQ 33.40625 -1.421875 27.6875 -1.421875 \nQ 18.265625 -1.421875 13.375 4.4375 \nQ 8.5 10.296875 8.5 21.578125 \nz\nM 31.109375 56 \nz\n\" id=\"DejaVuSans-117\"/>\n       <path d=\"M 41.109375 46.296875 \nQ 39.59375 47.171875 37.8125 47.578125 \nQ 36.03125 48 33.890625 48 \nQ 26.265625 48 22.1875 43.046875 \nQ 18.109375 38.09375 18.109375 28.8125 \nL 18.109375 0 \nL 9.078125 0 \nL 9.078125 54.6875 \nL 18.109375 54.6875 \nL 18.109375 46.1875 \nQ 20.953125 51.171875 25.484375 53.578125 \nQ 30.03125 56 36.53125 56 \nQ 37.453125 56 38.578125 55.875 \nQ 39.703125 55.765625 41.0625 55.515625 \nz\n\" id=\"DejaVuSans-114\"/>\n       <path id=\"DejaVuSans-32\"/>\n       <path d=\"M 9.421875 54.6875 \nL 18.40625 54.6875 \nL 18.40625 0 \nL 9.421875 0 \nz\nM 9.421875 75.984375 \nL 18.40625 75.984375 \nL 18.40625 64.59375 \nL 9.421875 64.59375 \nz\n\" id=\"DejaVuSans-105\"/>\n       <path d=\"M 52 44.1875 \nQ 55.375 50.25 60.0625 53.125 \nQ 64.75 56 71.09375 56 \nQ 79.640625 56 84.28125 50.015625 \nQ 88.921875 44.046875 88.921875 33.015625 \nL 88.921875 0 \nL 79.890625 0 \nL 79.890625 32.71875 \nQ 79.890625 40.578125 77.09375 44.375 \nQ 74.3125 48.1875 68.609375 48.1875 \nQ 61.625 48.1875 57.5625 43.546875 \nQ 53.515625 38.921875 53.515625 30.90625 \nL 53.515625 0 \nL 44.484375 0 \nL 44.484375 32.71875 \nQ 44.484375 40.625 41.703125 44.40625 \nQ 38.921875 48.1875 33.109375 48.1875 \nQ 26.21875 48.1875 22.15625 43.53125 \nQ 18.109375 38.875 18.109375 30.90625 \nL 18.109375 0 \nL 9.078125 0 \nL 9.078125 54.6875 \nL 18.109375 54.6875 \nL 18.109375 46.1875 \nQ 21.1875 51.21875 25.484375 53.609375 \nQ 29.78125 56 35.6875 56 \nQ 41.65625 56 45.828125 52.96875 \nQ 50 49.953125 52 44.1875 \nz\n\" id=\"DejaVuSans-109\"/>\n       <path d=\"M 18.109375 8.203125 \nL 18.109375 -20.796875 \nL 9.078125 -20.796875 \nL 9.078125 54.6875 \nL 18.109375 54.6875 \nL 18.109375 46.390625 \nQ 20.953125 51.265625 25.265625 53.625 \nQ 29.59375 56 35.59375 56 \nQ 45.5625 56 51.78125 48.09375 \nQ 58.015625 40.1875 58.015625 27.296875 \nQ 58.015625 14.40625 51.78125 6.484375 \nQ 45.5625 -1.421875 35.59375 -1.421875 \nQ 29.59375 -1.421875 25.265625 0.953125 \nQ 20.953125 3.328125 18.109375 8.203125 \nz\nM 48.6875 27.296875 \nQ 48.6875 37.203125 44.609375 42.84375 \nQ 40.53125 48.484375 33.40625 48.484375 \nQ 26.265625 48.484375 22.1875 42.84375 \nQ 18.109375 37.203125 18.109375 27.296875 \nQ 18.109375 17.390625 22.1875 11.75 \nQ 26.265625 6.109375 33.40625 6.109375 \nQ 40.53125 6.109375 44.609375 11.75 \nQ 48.6875 17.390625 48.6875 27.296875 \nz\n\" id=\"DejaVuSans-112\"/>\n       <path d=\"M 30.609375 48.390625 \nQ 23.390625 48.390625 19.1875 42.75 \nQ 14.984375 37.109375 14.984375 27.296875 \nQ 14.984375 17.484375 19.15625 11.84375 \nQ 23.34375 6.203125 30.609375 6.203125 \nQ 37.796875 6.203125 41.984375 11.859375 \nQ 46.1875 17.53125 46.1875 27.296875 \nQ 46.1875 37.015625 41.984375 42.703125 \nQ 37.796875 48.390625 30.609375 48.390625 \nz\nM 30.609375 56 \nQ 42.328125 56 49.015625 48.375 \nQ 55.71875 40.765625 55.71875 27.296875 \nQ 55.71875 13.875 49.015625 6.21875 \nQ 42.328125 -1.421875 30.609375 -1.421875 \nQ 18.84375 -1.421875 12.171875 6.21875 \nQ 5.515625 13.875 5.515625 27.296875 \nQ 5.515625 40.765625 12.171875 48.375 \nQ 18.84375 56 30.609375 56 \nz\n\" id=\"DejaVuSans-111\"/>\n       <path d=\"M 54.890625 33.015625 \nL 54.890625 0 \nL 45.90625 0 \nL 45.90625 32.71875 \nQ 45.90625 40.484375 42.875 44.328125 \nQ 39.84375 48.1875 33.796875 48.1875 \nQ 26.515625 48.1875 22.3125 43.546875 \nQ 18.109375 38.921875 18.109375 30.90625 \nL 18.109375 0 \nL 9.078125 0 \nL 9.078125 54.6875 \nL 18.109375 54.6875 \nL 18.109375 46.1875 \nQ 21.34375 51.125 25.703125 53.5625 \nQ 30.078125 56 35.796875 56 \nQ 45.21875 56 50.046875 50.171875 \nQ 54.890625 44.34375 54.890625 33.015625 \nz\n\" id=\"DejaVuSans-110\"/>\n       <path d=\"M 48.78125 52.59375 \nL 48.78125 44.1875 \nQ 44.96875 46.296875 41.140625 47.34375 \nQ 37.3125 48.390625 33.40625 48.390625 \nQ 24.65625 48.390625 19.8125 42.84375 \nQ 14.984375 37.3125 14.984375 27.296875 \nQ 14.984375 17.28125 19.8125 11.734375 \nQ 24.65625 6.203125 33.40625 6.203125 \nQ 37.3125 6.203125 41.140625 7.25 \nQ 44.96875 8.296875 48.78125 10.40625 \nL 48.78125 2.09375 \nQ 45.015625 0.34375 40.984375 -0.53125 \nQ 36.96875 -1.421875 32.421875 -1.421875 \nQ 20.0625 -1.421875 12.78125 6.34375 \nQ 5.515625 14.109375 5.515625 27.296875 \nQ 5.515625 40.671875 12.859375 48.328125 \nQ 20.21875 56 33.015625 56 \nQ 37.15625 56 41.109375 55.140625 \nQ 45.0625 54.296875 48.78125 52.59375 \nz\n\" id=\"DejaVuSans-99\"/>\n      </defs>\n      <use xlink:href=\"#DejaVuSans-70\"/>\n      <use x=\"52.019531\" xlink:href=\"#DejaVuSans-101\"/>\n      <use x=\"113.542969\" xlink:href=\"#DejaVuSans-97\"/>\n      <use x=\"174.822266\" xlink:href=\"#DejaVuSans-116\"/>\n      <use x=\"214.03125\" xlink:href=\"#DejaVuSans-117\"/>\n      <use x=\"277.410156\" xlink:href=\"#DejaVuSans-114\"/>\n      <use x=\"316.273438\" xlink:href=\"#DejaVuSans-101\"/>\n      <use x=\"377.796875\" xlink:href=\"#DejaVuSans-32\"/>\n      <use x=\"409.583984\" xlink:href=\"#DejaVuSans-105\"/>\n      <use x=\"437.367188\" xlink:href=\"#DejaVuSans-109\"/>\n      <use x=\"534.779297\" xlink:href=\"#DejaVuSans-112\"/>\n      <use x=\"598.255859\" xlink:href=\"#DejaVuSans-111\"/>\n      <use x=\"659.4375\" xlink:href=\"#DejaVuSans-114\"/>\n      <use x=\"700.550781\" xlink:href=\"#DejaVuSans-116\"/>\n      <use x=\"739.759766\" xlink:href=\"#DejaVuSans-97\"/>\n      <use x=\"801.039062\" xlink:href=\"#DejaVuSans-110\"/>\n      <use x=\"864.417969\" xlink:href=\"#DejaVuSans-99\"/>\n      <use x=\"919.398438\" xlink:href=\"#DejaVuSans-101\"/>\n     </g>\n    </g>\n   </g>\n   <g id=\"matplotlib.axis_2\">\n    <g id=\"ytick_1\">\n     <g id=\"line2d_17\">\n      <path clip-path=\"url(#p65b8759c43)\" d=\"M 77.535938 203.518125 \nL 412.335938 203.518125 \n\" style=\"fill:none;stroke:#b0b0b0;stroke-linecap:square;stroke-width:0.8;\"/>\n     </g>\n     <g id=\"line2d_18\">\n      <defs>\n       <path d=\"M 0 0 \nL -3.5 0 \n\" id=\"m1d4042ce2b\" style=\"stroke:#000000;stroke-width:0.8;\"/>\n      </defs>\n      <g>\n       <use style=\"stroke:#000000;stroke-width:0.8;\" x=\"77.535938\" xlink:href=\"#m1d4042ce2b\" y=\"203.518125\"/>\n      </g>\n     </g>\n     <g id=\"text_10\">\n      <!-- Column_4 -->\n      <g transform=\"translate(20.878125 207.317344)scale(0.1 -0.1)\">\n       <defs>\n        <path d=\"M 64.40625 67.28125 \nL 64.40625 56.890625 \nQ 59.421875 61.53125 53.78125 63.8125 \nQ 48.140625 66.109375 41.796875 66.109375 \nQ 29.296875 66.109375 22.65625 58.46875 \nQ 16.015625 50.828125 16.015625 36.375 \nQ 16.015625 21.96875 22.65625 14.328125 \nQ 29.296875 6.6875 41.796875 6.6875 \nQ 48.140625 6.6875 53.78125 8.984375 \nQ 59.421875 11.28125 64.40625 15.921875 \nL 64.40625 5.609375 \nQ 59.234375 2.09375 53.4375 0.328125 \nQ 47.65625 -1.421875 41.21875 -1.421875 \nQ 24.65625 -1.421875 15.125 8.703125 \nQ 5.609375 18.84375 5.609375 36.375 \nQ 5.609375 53.953125 15.125 64.078125 \nQ 24.65625 74.21875 41.21875 74.21875 \nQ 47.75 74.21875 53.53125 72.484375 \nQ 59.328125 70.75 64.40625 67.28125 \nz\n\" id=\"DejaVuSans-67\"/>\n        <path d=\"M 9.421875 75.984375 \nL 18.40625 75.984375 \nL 18.40625 0 \nL 9.421875 0 \nz\n\" id=\"DejaVuSans-108\"/>\n        <path d=\"M 50.984375 -16.609375 \nL 50.984375 -23.578125 \nL -0.984375 -23.578125 \nL -0.984375 -16.609375 \nz\n\" id=\"DejaVuSans-95\"/>\n        <path d=\"M 37.796875 64.3125 \nL 12.890625 25.390625 \nL 37.796875 25.390625 \nz\nM 35.203125 72.90625 \nL 47.609375 72.90625 \nL 47.609375 25.390625 \nL 58.015625 25.390625 \nL 58.015625 17.1875 \nL 47.609375 17.1875 \nL 47.609375 0 \nL 37.796875 0 \nL 37.796875 17.1875 \nL 4.890625 17.1875 \nL 4.890625 26.703125 \nz\n\" id=\"DejaVuSans-52\"/>\n       </defs>\n       <use xlink:href=\"#DejaVuSans-67\"/>\n       <use x=\"69.824219\" xlink:href=\"#DejaVuSans-111\"/>\n       <use x=\"131.005859\" xlink:href=\"#DejaVuSans-108\"/>\n       <use x=\"158.789062\" xlink:href=\"#DejaVuSans-117\"/>\n       <use x=\"222.167969\" xlink:href=\"#DejaVuSans-109\"/>\n       <use x=\"319.580078\" xlink:href=\"#DejaVuSans-110\"/>\n       <use x=\"382.958984\" xlink:href=\"#DejaVuSans-95\"/>\n       <use x=\"432.958984\" xlink:href=\"#DejaVuSans-52\"/>\n      </g>\n     </g>\n    </g>\n    <g id=\"ytick_2\">\n     <g id=\"line2d_19\">\n      <path clip-path=\"url(#p65b8759c43)\" d=\"M 77.535938 167.278125 \nL 412.335938 167.278125 \n\" style=\"fill:none;stroke:#b0b0b0;stroke-linecap:square;stroke-width:0.8;\"/>\n     </g>\n     <g id=\"line2d_20\">\n      <g>\n       <use style=\"stroke:#000000;stroke-width:0.8;\" x=\"77.535938\" xlink:href=\"#m1d4042ce2b\" y=\"167.278125\"/>\n      </g>\n     </g>\n     <g id=\"text_11\">\n      <!-- Column_3 -->\n      <g transform=\"translate(20.878125 171.077344)scale(0.1 -0.1)\">\n       <use xlink:href=\"#DejaVuSans-67\"/>\n       <use x=\"69.824219\" xlink:href=\"#DejaVuSans-111\"/>\n       <use x=\"131.005859\" xlink:href=\"#DejaVuSans-108\"/>\n       <use x=\"158.789062\" xlink:href=\"#DejaVuSans-117\"/>\n       <use x=\"222.167969\" xlink:href=\"#DejaVuSans-109\"/>\n       <use x=\"319.580078\" xlink:href=\"#DejaVuSans-110\"/>\n       <use x=\"382.958984\" xlink:href=\"#DejaVuSans-95\"/>\n       <use x=\"432.958984\" xlink:href=\"#DejaVuSans-51\"/>\n      </g>\n     </g>\n    </g>\n    <g id=\"ytick_3\">\n     <g id=\"line2d_21\">\n      <path clip-path=\"url(#p65b8759c43)\" d=\"M 77.535938 131.038125 \nL 412.335938 131.038125 \n\" style=\"fill:none;stroke:#b0b0b0;stroke-linecap:square;stroke-width:0.8;\"/>\n     </g>\n     <g id=\"line2d_22\">\n      <g>\n       <use style=\"stroke:#000000;stroke-width:0.8;\" x=\"77.535938\" xlink:href=\"#m1d4042ce2b\" y=\"131.038125\"/>\n      </g>\n     </g>\n     <g id=\"text_12\">\n      <!-- Column_2 -->\n      <g transform=\"translate(20.878125 134.837344)scale(0.1 -0.1)\">\n       <use xlink:href=\"#DejaVuSans-67\"/>\n       <use x=\"69.824219\" xlink:href=\"#DejaVuSans-111\"/>\n       <use x=\"131.005859\" xlink:href=\"#DejaVuSans-108\"/>\n       <use x=\"158.789062\" xlink:href=\"#DejaVuSans-117\"/>\n       <use x=\"222.167969\" xlink:href=\"#DejaVuSans-109\"/>\n       <use x=\"319.580078\" xlink:href=\"#DejaVuSans-110\"/>\n       <use x=\"382.958984\" xlink:href=\"#DejaVuSans-95\"/>\n       <use x=\"432.958984\" xlink:href=\"#DejaVuSans-50\"/>\n      </g>\n     </g>\n    </g>\n    <g id=\"ytick_4\">\n     <g id=\"line2d_23\">\n      <path clip-path=\"url(#p65b8759c43)\" d=\"M 77.535938 94.798125 \nL 412.335938 94.798125 \n\" style=\"fill:none;stroke:#b0b0b0;stroke-linecap:square;stroke-width:0.8;\"/>\n     </g>\n     <g id=\"line2d_24\">\n      <g>\n       <use style=\"stroke:#000000;stroke-width:0.8;\" x=\"77.535938\" xlink:href=\"#m1d4042ce2b\" y=\"94.798125\"/>\n      </g>\n     </g>\n     <g id=\"text_13\">\n      <!-- Column_0 -->\n      <g transform=\"translate(20.878125 98.597344)scale(0.1 -0.1)\">\n       <use xlink:href=\"#DejaVuSans-67\"/>\n       <use x=\"69.824219\" xlink:href=\"#DejaVuSans-111\"/>\n       <use x=\"131.005859\" xlink:href=\"#DejaVuSans-108\"/>\n       <use x=\"158.789062\" xlink:href=\"#DejaVuSans-117\"/>\n       <use x=\"222.167969\" xlink:href=\"#DejaVuSans-109\"/>\n       <use x=\"319.580078\" xlink:href=\"#DejaVuSans-110\"/>\n       <use x=\"382.958984\" xlink:href=\"#DejaVuSans-95\"/>\n       <use x=\"432.958984\" xlink:href=\"#DejaVuSans-48\"/>\n      </g>\n     </g>\n    </g>\n    <g id=\"ytick_5\">\n     <g id=\"line2d_25\">\n      <path clip-path=\"url(#p65b8759c43)\" d=\"M 77.535938 58.558125 \nL 412.335938 58.558125 \n\" style=\"fill:none;stroke:#b0b0b0;stroke-linecap:square;stroke-width:0.8;\"/>\n     </g>\n     <g id=\"line2d_26\">\n      <g>\n       <use style=\"stroke:#000000;stroke-width:0.8;\" x=\"77.535938\" xlink:href=\"#m1d4042ce2b\" y=\"58.558125\"/>\n      </g>\n     </g>\n     <g id=\"text_14\">\n      <!-- Column_1 -->\n      <g transform=\"translate(20.878125 62.357344)scale(0.1 -0.1)\">\n       <use xlink:href=\"#DejaVuSans-67\"/>\n       <use x=\"69.824219\" xlink:href=\"#DejaVuSans-111\"/>\n       <use x=\"131.005859\" xlink:href=\"#DejaVuSans-108\"/>\n       <use x=\"158.789062\" xlink:href=\"#DejaVuSans-117\"/>\n       <use x=\"222.167969\" xlink:href=\"#DejaVuSans-109\"/>\n       <use x=\"319.580078\" xlink:href=\"#DejaVuSans-110\"/>\n       <use x=\"382.958984\" xlink:href=\"#DejaVuSans-95\"/>\n       <use x=\"432.958984\" xlink:href=\"#DejaVuSans-49\"/>\n      </g>\n     </g>\n    </g>\n    <g id=\"text_15\">\n     <!-- Features -->\n     <g transform=\"translate(14.798438 152.532656)rotate(-90)scale(0.1 -0.1)\">\n      <defs>\n       <path d=\"M 44.28125 53.078125 \nL 44.28125 44.578125 \nQ 40.484375 46.53125 36.375 47.5 \nQ 32.28125 48.484375 27.875 48.484375 \nQ 21.1875 48.484375 17.84375 46.4375 \nQ 14.5 44.390625 14.5 40.28125 \nQ 14.5 37.15625 16.890625 35.375 \nQ 19.28125 33.59375 26.515625 31.984375 \nL 29.59375 31.296875 \nQ 39.15625 29.25 43.1875 25.515625 \nQ 47.21875 21.78125 47.21875 15.09375 \nQ 47.21875 7.46875 41.1875 3.015625 \nQ 35.15625 -1.421875 24.609375 -1.421875 \nQ 20.21875 -1.421875 15.453125 -0.5625 \nQ 10.6875 0.296875 5.421875 2 \nL 5.421875 11.28125 \nQ 10.40625 8.6875 15.234375 7.390625 \nQ 20.0625 6.109375 24.8125 6.109375 \nQ 31.15625 6.109375 34.5625 8.28125 \nQ 37.984375 10.453125 37.984375 14.40625 \nQ 37.984375 18.0625 35.515625 20.015625 \nQ 33.0625 21.96875 24.703125 23.78125 \nL 21.578125 24.515625 \nQ 13.234375 26.265625 9.515625 29.90625 \nQ 5.8125 33.546875 5.8125 39.890625 \nQ 5.8125 47.609375 11.28125 51.796875 \nQ 16.75 56 26.8125 56 \nQ 31.78125 56 36.171875 55.265625 \nQ 40.578125 54.546875 44.28125 53.078125 \nz\n\" id=\"DejaVuSans-115\"/>\n      </defs>\n      <use xlink:href=\"#DejaVuSans-70\"/>\n      <use x=\"52.019531\" xlink:href=\"#DejaVuSans-101\"/>\n      <use x=\"113.542969\" xlink:href=\"#DejaVuSans-97\"/>\n      <use x=\"174.822266\" xlink:href=\"#DejaVuSans-116\"/>\n      <use x=\"214.03125\" xlink:href=\"#DejaVuSans-117\"/>\n      <use x=\"277.410156\" xlink:href=\"#DejaVuSans-114\"/>\n      <use x=\"316.273438\" xlink:href=\"#DejaVuSans-101\"/>\n      <use x=\"377.796875\" xlink:href=\"#DejaVuSans-115\"/>\n     </g>\n    </g>\n   </g>\n   <g id=\"patch_8\">\n    <path d=\"M 77.535938 239.758125 \nL 77.535938 22.318125 \n\" style=\"fill:none;stroke:#000000;stroke-linecap:square;stroke-linejoin:miter;stroke-width:0.8;\"/>\n   </g>\n   <g id=\"patch_9\">\n    <path d=\"M 412.335938 239.758125 \nL 412.335938 22.318125 \n\" style=\"fill:none;stroke:#000000;stroke-linecap:square;stroke-linejoin:miter;stroke-width:0.8;\"/>\n   </g>\n   <g id=\"patch_10\">\n    <path d=\"M 77.535938 239.758125 \nL 412.335938 239.758125 \n\" style=\"fill:none;stroke:#000000;stroke-linecap:square;stroke-linejoin:miter;stroke-width:0.8;\"/>\n   </g>\n   <g id=\"patch_11\">\n    <path d=\"M 77.535938 22.318125 \nL 412.335938 22.318125 \n\" style=\"fill:none;stroke:#000000;stroke-linecap:square;stroke-linejoin:miter;stroke-width:0.8;\"/>\n   </g>\n   <g id=\"text_16\">\n    <!-- 33 -->\n    <g transform=\"translate(108.799876 206.2775)scale(0.1 -0.1)\">\n     <use xlink:href=\"#DejaVuSans-51\"/>\n     <use x=\"63.623047\" xlink:href=\"#DejaVuSans-51\"/>\n    </g>\n   </g>\n   <g id=\"text_17\">\n    <!-- 38 -->\n    <g transform=\"translate(113.397514 170.0375)scale(0.1 -0.1)\">\n     <defs>\n      <path d=\"M 31.78125 34.625 \nQ 24.75 34.625 20.71875 30.859375 \nQ 16.703125 27.09375 16.703125 20.515625 \nQ 16.703125 13.921875 20.71875 10.15625 \nQ 24.75 6.390625 31.78125 6.390625 \nQ 38.8125 6.390625 42.859375 10.171875 \nQ 46.921875 13.96875 46.921875 20.515625 \nQ 46.921875 27.09375 42.890625 30.859375 \nQ 38.875 34.625 31.78125 34.625 \nz\nM 21.921875 38.8125 \nQ 15.578125 40.375 12.03125 44.71875 \nQ 8.5 49.078125 8.5 55.328125 \nQ 8.5 64.0625 14.71875 69.140625 \nQ 20.953125 74.21875 31.78125 74.21875 \nQ 42.671875 74.21875 48.875 69.140625 \nQ 55.078125 64.0625 55.078125 55.328125 \nQ 55.078125 49.078125 51.53125 44.71875 \nQ 48 40.375 41.703125 38.8125 \nQ 48.828125 37.15625 52.796875 32.3125 \nQ 56.78125 27.484375 56.78125 20.515625 \nQ 56.78125 9.90625 50.3125 4.234375 \nQ 43.84375 -1.421875 31.78125 -1.421875 \nQ 19.734375 -1.421875 13.25 4.234375 \nQ 6.78125 9.90625 6.78125 20.515625 \nQ 6.78125 27.484375 10.78125 32.3125 \nQ 14.796875 37.15625 21.921875 38.8125 \nz\nM 18.3125 54.390625 \nQ 18.3125 48.734375 21.84375 45.5625 \nQ 25.390625 42.390625 31.78125 42.390625 \nQ 38.140625 42.390625 41.71875 45.5625 \nQ 45.3125 48.734375 45.3125 54.390625 \nQ 45.3125 60.0625 41.71875 63.234375 \nQ 38.140625 66.40625 31.78125 66.40625 \nQ 25.390625 66.40625 21.84375 63.234375 \nQ 18.3125 60.0625 18.3125 54.390625 \nz\n\" id=\"DejaVuSans-56\"/>\n     </defs>\n     <use xlink:href=\"#DejaVuSans-51\"/>\n     <use x=\"63.623047\" xlink:href=\"#DejaVuSans-56\"/>\n    </g>\n   </g>\n   <g id=\"text_18\">\n    <!-- 51 -->\n    <g transform=\"translate(125.351373 133.7975)scale(0.1 -0.1)\">\n     <use xlink:href=\"#DejaVuSans-53\"/>\n     <use x=\"63.623047\" xlink:href=\"#DejaVuSans-49\"/>\n    </g>\n   </g>\n   <g id=\"text_19\">\n    <!-- 229 -->\n    <g transform=\"translate(289.027286 97.5575)scale(0.1 -0.1)\">\n     <defs>\n      <path d=\"M 10.984375 1.515625 \nL 10.984375 10.5 \nQ 14.703125 8.734375 18.5 7.8125 \nQ 22.3125 6.890625 25.984375 6.890625 \nQ 35.75 6.890625 40.890625 13.453125 \nQ 46.046875 20.015625 46.78125 33.40625 \nQ 43.953125 29.203125 39.59375 26.953125 \nQ 35.25 24.703125 29.984375 24.703125 \nQ 19.046875 24.703125 12.671875 31.3125 \nQ 6.296875 37.9375 6.296875 49.421875 \nQ 6.296875 60.640625 12.9375 67.421875 \nQ 19.578125 74.21875 30.609375 74.21875 \nQ 43.265625 74.21875 49.921875 64.515625 \nQ 56.59375 54.828125 56.59375 36.375 \nQ 56.59375 19.140625 48.40625 8.859375 \nQ 40.234375 -1.421875 26.421875 -1.421875 \nQ 22.703125 -1.421875 18.890625 -0.6875 \nQ 15.09375 0.046875 10.984375 1.515625 \nz\nM 30.609375 32.421875 \nQ 37.25 32.421875 41.125 36.953125 \nQ 45.015625 41.5 45.015625 49.421875 \nQ 45.015625 57.28125 41.125 61.84375 \nQ 37.25 66.40625 30.609375 66.40625 \nQ 23.96875 66.40625 20.09375 61.84375 \nQ 16.21875 57.28125 16.21875 49.421875 \nQ 16.21875 41.5 20.09375 36.953125 \nQ 23.96875 32.421875 30.609375 32.421875 \nz\n\" id=\"DejaVuSans-57\"/>\n     </defs>\n     <use xlink:href=\"#DejaVuSans-50\"/>\n     <use x=\"63.623047\" xlink:href=\"#DejaVuSans-50\"/>\n     <use x=\"127.246094\" xlink:href=\"#DejaVuSans-57\"/>\n    </g>\n   </g>\n   <g id=\"text_20\">\n    <!-- 331 -->\n    <g transform=\"translate(382.819101 61.3175)scale(0.1 -0.1)\">\n     <use xlink:href=\"#DejaVuSans-51\"/>\n     <use x=\"63.623047\" xlink:href=\"#DejaVuSans-51\"/>\n     <use x=\"127.246094\" xlink:href=\"#DejaVuSans-49\"/>\n    </g>\n   </g>\n   <g id=\"text_21\">\n    <!-- Feature importance -->\n    <g transform=\"translate(186.080625 16.318125)scale(0.12 -0.12)\">\n     <use xlink:href=\"#DejaVuSans-70\"/>\n     <use x=\"52.019531\" xlink:href=\"#DejaVuSans-101\"/>\n     <use x=\"113.542969\" xlink:href=\"#DejaVuSans-97\"/>\n     <use x=\"174.822266\" xlink:href=\"#DejaVuSans-116\"/>\n     <use x=\"214.03125\" xlink:href=\"#DejaVuSans-117\"/>\n     <use x=\"277.410156\" xlink:href=\"#DejaVuSans-114\"/>\n     <use x=\"316.273438\" xlink:href=\"#DejaVuSans-101\"/>\n     <use x=\"377.796875\" xlink:href=\"#DejaVuSans-32\"/>\n     <use x=\"409.583984\" xlink:href=\"#DejaVuSans-105\"/>\n     <use x=\"437.367188\" xlink:href=\"#DejaVuSans-109\"/>\n     <use x=\"534.779297\" xlink:href=\"#DejaVuSans-112\"/>\n     <use x=\"598.255859\" xlink:href=\"#DejaVuSans-111\"/>\n     <use x=\"659.4375\" xlink:href=\"#DejaVuSans-114\"/>\n     <use x=\"700.550781\" xlink:href=\"#DejaVuSans-116\"/>\n     <use x=\"739.759766\" xlink:href=\"#DejaVuSans-97\"/>\n     <use x=\"801.039062\" xlink:href=\"#DejaVuSans-110\"/>\n     <use x=\"864.417969\" xlink:href=\"#DejaVuSans-99\"/>\n     <use x=\"919.398438\" xlink:href=\"#DejaVuSans-101\"/>\n    </g>\n   </g>\n  </g>\n </g>\n <defs>\n  <clipPath id=\"p65b8759c43\">\n   <rect height=\"217.44\" width=\"334.8\" x=\"77.535938\" y=\"22.318125\"/>\n  </clipPath>\n </defs>\n</svg>\n",
            "image/png": "[encoded data removed]"
          },
          "metadata": {
            "needs_background": "light"
          }
        }
      ]
    },
    {
      "cell_type": "markdown",
      "metadata": {
        "id": "trnIPzyrhIsW"
      },
      "source": [
        "If you want to go a step further and not only explain global model behavior, but go up to the instance / individual sample level we advice you to have a look at [SHAP](https://github.com/slundberg/shap). And stay tuned, as in the future we will probably take a deep dive into that library."
      ]
    }
  ]
}