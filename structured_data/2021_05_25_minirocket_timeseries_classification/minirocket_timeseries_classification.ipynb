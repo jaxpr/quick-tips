{
  "nbformat": 4,
  "nbformat_minor": 0,
  "metadata": {
    "colab": {
      "name": "minirocket_timeseries_classification.ipynb",
      "provenance": [],
      "collapsed_sections": [
        "dFQQhhFO3XJt",
        "fPbgCtA-Bcsw",
        "Dluqokv30aOs",
        "SrAl2_bcBdxa",
        "s8kkPFlj_6cg",
        "UJs1Ox2dLgWa",
        "XOxQt-ZhNoiw"
      ],
      "toc_visible": true
    },
    "kernelspec": {
      "display_name": "Python 3",
      "name": "python3"
    },
    "language_info": {
      "name": "python"
    },
    "accelerator": "GPU"
  },
  "cells": [
    {
      "cell_type": "markdown",
      "metadata": {
        "id": "B6VOmYD2zLsJ"
      },
      "source": [
        "# MINIROCKET 🚀"
      ]
    },
    {
      "cell_type": "markdown",
      "metadata": {
        "id": "MASVDEDz6shP"
      },
      "source": [
        "## Introduction\n",
        "This notebook will present the exploration and analysis of the recently surfaced _MINIROCKET: A Very Fast (Almost) Deterministic Transform for Time Series Classification_ (A. Dempster et al., 2020).\n",
        "\n",
        "With its kernel-based feature extraction, _MINIROCKET_ can extract features in both CPU and GPU environments at a fraction of _tsfresh_'s execution time (especially for large datasets) while enabling on par performance at the cost of feature interpretability. Additionally, it generally offers better performance than Fourier transformed (_fft_/_stft_) features. For a detailed description of the development process and implementation of the feature transform, please refer to its [publication preprint on arXiv](https://arxiv.org/abs/2012.08791) and on the accompanying [official GitHub repository](https://github.com/angus924/minirocket).\n",
        "\n",
        "Specifically, with this notebook a basic implementation of _MINIROCKET_ is provided and tested against _tsfresh_ feature extraction in terms of speed and performance for a medium sized dataset ([_Experiment 1_](#experiment-1)). It also looks into the difference in runtime of CPU and GPU implementations for large datasets ([_Experiment 2_](#experiment-2)). Finally, this notebook is concluded with a number of key [_Take-aways_](#takeaways) on when and how to use _MINIROCKET_."
      ]
    },
    {
      "cell_type": "code",
      "metadata": {
        "id": "-g7tdHV1Kvc8",
        "cellView": "form"
      },
      "source": [
        "#@title A number of notes to consider before you start running this notebook...  { run: \"auto\" }\n",
        "#@markdown 1. To explore all features present in this notebook, make sure you **execture the notebook's contents using a GPU runtime**. This can be checked using the [_Environment setup_](#gpu-test) code cell.\n",
        "#@markdown 2. In order to ensure that your runtime is restarted after installing missing Python packages, **the runtime will be purposefully crashed** after executing the [_Install packages_](#package-installation) code cell. You should be able to simply continue running the remainder of the notebook after this forced restart!  \n",
        "#@markdown 3. Extracting features using the _tsfresh_ method will take around 10 minutes. **If you are (absolutely, 100%, no doubt) certain that you want to wait while _tsfresh_ are being extracted, tick the checkbox below**.\n",
        "run_tsfresh_check = False #@param {type:\"boolean\", run:\"auto\"}\n"
      ],
      "execution_count": null,
      "outputs": []
    },
    {
      "cell_type": "markdown",
      "metadata": {
        "id": "dFQQhhFO3XJt"
      },
      "source": [
        "<a name=\"setup\"></a>\n",
        "## Setup\n",
        "This section deals with setting up the Google Colab environment and importing all the necessary dependencies. \n",
        "\n",
        "Note that **your session will crash when running** `Install packages` **if missing packages have to be installed**. This is **normal behaviour**, as this forces the runtime to be restarted _with_ the installed packages."
      ]
    },
    {
      "cell_type": "markdown",
      "metadata": {
        "id": "xvyR5sPzB0lW"
      },
      "source": [
        "<a name=\"package-installation\"></a>\n",
        "### Install packages\n",
        "This cell will check if all packages are installed. If not, **they will be installed and your session will be restarted (or rather, crashed and forced to restart)**! Rerunning this cell will confirm that the installation was successful, meaning you can move on."
      ]
    },
    {
      "cell_type": "code",
      "metadata": {
        "colab": {
          "base_uri": "https://localhost:8080/"
        },
        "id": "1vAhrYtIt5Sq",
        "outputId": "ba6aa640-ff80-4e37-c1e8-1a39b89d2fce"
      },
      "source": [
        "import_errors = []\n",
        "\n",
        "import scipy\n",
        "if scipy.__version__ == '1.4.1':\n",
        "    print(f'Upgrading package: \"{\"scipy\"}\"...')\n",
        "    !pip install scipy>=1.5\n",
        "    import_errors.append('scipy')\n",
        "\n",
        "try:\n",
        "    import tsai\n",
        "except ImportError as e:\n",
        "    print(f'Installing package: \"{\"tsai\"}\"...')\n",
        "    #!pip install -Uqq tsai\n",
        "    !pip install -Uqq git+https://github.com/timeseriesAI/tsai.git\n",
        "    import_errors.append('tsai')\n",
        "\n",
        "if import_errors:\n",
        "    print(f'The following 3rd party packages had to be installed: {import_errors}.')\n",
        "    print('Restarting runtime...')\n",
        "    import os\n",
        "    os.kill(os.getpid(), 9)\n",
        "else:\n",
        "    print('All packages are installed and up-to-date!')"
      ],
      "execution_count": null,
      "outputs": [
        {
          "output_type": "stream",
          "text": [
            "All packages are installed and up-to-date!\n"
          ],
          "name": "stdout"
        }
      ]
    },
    {
      "cell_type": "markdown",
      "metadata": {
        "id": "fPbgCtA-Bcsw"
      },
      "source": [
        "### Import dependencies"
      ]
    },
    {
      "cell_type": "code",
      "metadata": {
        "id": "EaEqtgyU3WUe",
        "colab": {
          "base_uri": "https://localhost:8080/"
        },
        "outputId": "9f27863a-07c4-47a7-dc6e-da9a6f20821a"
      },
      "source": [
        "# Import native packages\n",
        "import json\n",
        "import os\n",
        "import requests\n",
        "\n",
        "# Import auxillary packages\n",
        "from matplotlib import pyplot as plt\n",
        "import numpy as np\n",
        "import pandas as pd\n",
        "import tabulate\n",
        "\n",
        "# Import machine learning packages\n",
        "import fastai\n",
        "\n",
        "from lightgbm import LGBMClassifier\n",
        "\n",
        "from scipy import signal\n",
        "from scipy.fft import fft, rfft\n",
        "\n",
        "import seaborn as sn\n",
        "\n",
        "from sklearn.feature_selection import VarianceThreshold\n",
        "from sklearn.linear_model import RidgeClassifierCV\n",
        "from sklearn.metrics import accuracy_score, precision_score, recall_score, roc_auc_score, confusion_matrix, f1_score\n",
        "from sklearn.pipeline import make_pipeline\n",
        "from sklearn.svm import SVC\n",
        "\n",
        "from sktime.transformations.panel.rocket import MiniRocket as MiniRocket_sktime, MiniRocketMultivariate as MiniRocketMultivariate_sktime\n",
        "from sktime.datasets.base import load_UCR_UEA_dataset\n",
        "\n",
        "import torch\n",
        "\n",
        "from tsai.all import *\n",
        "from tsai.all import MiniRocketClassifier as MiniRocket_fastai\n",
        "\n",
        "import tsfresh\n",
        "from tsfresh.feature_extraction.settings import ComprehensiveFCParameters, MinimalFCParameters, EfficientFCParameters"
      ],
      "execution_count": null,
      "outputs": [
        {
          "output_type": "stream",
          "text": [
            "/usr/local/lib/python3.7/dist-packages/numba/np/ufunc/parallel.py:365: NumbaWarning: The TBB threading layer requires TBB version 2019.5 or later i.e., TBB_INTERFACE_VERSION >= 11005. Found TBB_INTERFACE_VERSION = 9107. The TBB threading layer is disabled.\n",
            "  warnings.warn(problem)\n"
          ],
          "name": "stderr"
        }
      ]
    },
    {
      "cell_type": "markdown",
      "metadata": {
        "id": "WmN1fEcKBcvI"
      },
      "source": [
        "<a name=\"gpu-test\"></a>\n",
        "### Environment setup\n",
        "Running this checks if your colab instance is connected to a GPU. If it is, CUDA will be available and a GPU name will be returned."
      ]
    },
    {
      "cell_type": "code",
      "metadata": {
        "id": "mlf8Dfj1Bnja",
        "colab": {
          "base_uri": "https://localhost:8080/"
        },
        "outputId": "1636a537-86d9-47aa-fb63-68c68ab48c5a"
      },
      "source": [
        "print(\n",
        "    tabulate.tabulate(\n",
        "        [\n",
        "            ['CUDA available:', torch.cuda.is_available()],\n",
        "            ['GPU name:', torch.cuda.get_device_name(0)]\n",
        "        ],\n",
        "        tablefmt='plain'\n",
        "    )\n",
        ")"
      ],
      "execution_count": null,
      "outputs": [
        {
          "output_type": "stream",
          "text": [
            "CUDA available:  True\n",
            "GPU name:        Tesla T4\n"
          ],
          "name": "stdout"
        }
      ]
    },
    {
      "cell_type": "markdown",
      "metadata": {
        "id": "Dluqokv30aOs"
      },
      "source": [
        "<a name='data'></a>\n",
        "## Data\n",
        "In this section, code is provided for gathering data from the [UEA & UCR Time Series Classification Repository](http://www.timeseriesclassification.com/index.php) and reshaping it for use with the `fastai` library.  We use these datasets to compare the _MINIROCKET_ and _tsfresh_ feature extraction methods.\n"
      ]
    },
    {
      "cell_type": "markdown",
      "metadata": {
        "id": "SrAl2_bcBdxa"
      },
      "source": [
        "### Helper functions\n",
        "A number of alterations to an existing `sktime` function to fix issues and better suit our needs. The `load_from_arff_to_dataframe` function is used to read the dataset from `.arff` or _Attribute-Relation File Format_ files in case the more common `.ts` or _TypeScript_ files are missing.\n"
      ]
    },
    {
      "cell_type": "code",
      "metadata": {
        "id": "9cbh_tw881KM"
      },
      "source": [
        "def load_from_arff_to_dataframe(\n",
        "    full_file_path_and_name,\n",
        "    has_class_labels=True,\n",
        "    return_separate_X_and_y=True,\n",
        "    replace_missing_vals_with=\"NaN\",\n",
        "):\n",
        "    \"\"\"Loads data from a .arff file into a Pandas DataFrame.\n",
        "\n",
        "    Args:\n",
        "        full_file_path_and_name: str\n",
        "            The full pathname of the .arff file to read.\n",
        "        has_class_labels: bool\n",
        "            true then line contains separated strings and class value contains\n",
        "            list of separated strings, check for 'return_separate_X_and_y'\n",
        "            false otherwise.\n",
        "        return_separate_X_and_y: bool\n",
        "            true then X and y values should be returned as separate Data Frames (\n",
        "            X) and a numpy array (y), false otherwise.\n",
        "            This is only relevant for data.\n",
        "        replace_missing_vals_with: str\n",
        "            The value that missing values in the text file should be replaced\n",
        "            with prior to parsing.\n",
        "\n",
        "    Returns:\n",
        "        DataFrame, ndarray\n",
        "            If return_separate_X_and_y then a tuple containing a DataFrame and a\n",
        "            numpy array containing the relevant time-series and corresponding\n",
        "            class values.\n",
        "        DataFrame\n",
        "            If not return_separate_X_and_y then a single DataFrame containing\n",
        "            all time series and (if relevant) a column \"class_vals\" the\n",
        "            associated class values.\n",
        "    \"\"\"\n",
        "\n",
        "    instance_list = []\n",
        "    class_val_list = []\n",
        "\n",
        "    data_started = False\n",
        "    is_multi_variate = False\n",
        "    is_first_case = True\n",
        "\n",
        "    # Parse the file\n",
        "    with open(full_file_path_and_name, \"r\") as f:\n",
        "        for line in f:\n",
        "\n",
        "            if line.strip():\n",
        "                if (\n",
        "                    is_multi_variate is False\n",
        "                    and \"@attribute\" in line.lower()\n",
        "                    and \"relational\" in line.lower()\n",
        "                ):\n",
        "                    is_multi_variate = True\n",
        "\n",
        "                if \"@data\" in line.lower():\n",
        "                    data_started = True\n",
        "                    continue\n",
        "\n",
        "                # if the 'data tag has been found, the header information\n",
        "                # has been cleared and now data can be loaded\n",
        "                if data_started:\n",
        "                    line = line.replace(\"?\", replace_missing_vals_with)\n",
        "\n",
        "                    if is_multi_variate:\n",
        "                        if has_class_labels:\n",
        "                            line, class_val = line.split(\"',\")\n",
        "                            class_val_list.append(class_val.strip())\n",
        "                        dimensions = line.split(\"\\\\n\")\n",
        "                        dimensions[0] = dimensions[0].replace(\"'\", \"\")\n",
        "\n",
        "                        if is_first_case:\n",
        "                            for _d in range(len(dimensions)):\n",
        "                                instance_list.append([])\n",
        "                            is_first_case = False\n",
        "\n",
        "                        for dim in range(len(dimensions)):\n",
        "                            instance_list[dim].append(\n",
        "                                pd.Series(\n",
        "                                    [float(i) for i in dimensions[dim].split(\",\") if i != '']\n",
        "                                )\n",
        "                            )\n",
        "\n",
        "                    else:\n",
        "                        if is_first_case:\n",
        "                            instance_list.append([])\n",
        "                            is_first_case = False\n",
        "\n",
        "                        line_parts = line.split(\",\")\n",
        "                        if has_class_labels:\n",
        "                            instance_list[0].append(\n",
        "                                pd.Series(\n",
        "                                    [\n",
        "                                        float(i)\n",
        "                                        for i in line_parts[: len(line_parts) - 1]\n",
        "                                    ]\n",
        "                                )\n",
        "                            )\n",
        "                            class_val_list.append(line_parts[-1].strip())\n",
        "                        else:\n",
        "                            instance_list[0].append(\n",
        "                                pd.Series(\n",
        "                                    [float(i) for i in line_parts[: len(line_parts)]]\n",
        "                                )\n",
        "                            )\n",
        "\n",
        "    x_data = pd.DataFrame(dtype=np.float32)\n",
        "    for dim in range(len(instance_list)):\n",
        "        x_data[\"dim_\" + str(dim)] = instance_list[dim]\n",
        "\n",
        "    if has_class_labels:\n",
        "        if return_separate_X_and_y:\n",
        "            return x_data, np.asarray(class_val_list)\n",
        "        else:\n",
        "            x_data[\"class_vals\"] = pd.Series(class_val_list)\n",
        "\n",
        "    return x_data\n"
      ],
      "execution_count": null,
      "outputs": []
    },
    {
      "cell_type": "markdown",
      "metadata": {
        "id": "X5ZKuMLsN4zH"
      },
      "source": [
        "### Main functions"
      ]
    },
    {
      "cell_type": "code",
      "metadata": {
        "id": "2IMygdHk7yE2"
      },
      "source": [
        "def get_data(data, split):\n",
        "    \"\"\"Wrapper around the sktime `load_from_arff_to_dataframe` function that\n",
        "    attempts to read the dataset from .ts files and falls back to .arff files\n",
        "    in case the former are missing.\n",
        "\n",
        "    Args:\n",
        "        data: str\n",
        "            The nominal name of the dataset corresponding to the name given in \n",
        "            the UEA and UCR repository for time series classification.\n",
        "        split: str\n",
        "            Whether to return the split for training ('train') or testing\n",
        "            ('test') the classifier.\n",
        "\n",
        "    Returns:\n",
        "        Dataframe, ndarray\n",
        "            A tuple containing a DataFrame and a numpy array containing the \n",
        "            relevant time series and corresponding class values.\n",
        "    \"\"\"\n",
        "    try:\n",
        "        X, y = load_UCR_UEA_dataset(data, split=split.lower(), return_X_y=True)\n",
        "    except FileNotFoundError as e:\n",
        "        error_path = str(e).split(' ')[-1].strip(\"'\")\n",
        "        arff_base_path = '/'.join('.'.join(error_path.split('.')[:-1]) .split('/')[:-1])\n",
        "        arff_path = '/'.join(arff_base_path.split('/')[:-1]) + '/' + arff_base_path.split('/')[-1] + '/' + data + '/'\n",
        "        \n",
        "        arff_file = arff_path + f'{data}_{split.upper()}.arff'\n",
        "        \n",
        "        X, y = load_from_arff_to_dataframe(arff_file)\n",
        "\n",
        "\n",
        "    # Standardize labelling to integers that start at 0 and increase incrementally\n",
        "    y_standard = np.zeros_like(y)\n",
        "    for index, label in enumerate(np.unique(y)):\n",
        "        y_standard[y == label] = index\n",
        "    y = y_standard\n",
        "\n",
        "    return X, y"
      ],
      "execution_count": null,
      "outputs": []
    },
    {
      "cell_type": "code",
      "metadata": {
        "id": "vwC_Vh8R09ot"
      },
      "source": [
        "def reshape_fastai_data(X, y):\n",
        "    \"\"\"Reshapes the raw time series into the format required by the fastai \n",
        "    library.\n",
        "\n",
        "    Args:\n",
        "        X: Dataframe\n",
        "            The time series that must be transformed.\n",
        "        y: ndarray\n",
        "            The corresponding class values of the time series in X.\n",
        "            \n",
        "    Returns:\n",
        "        Dataframe, ndarray\n",
        "            A tuple containing the reshaped DataFrame and a numpy array \n",
        "            containing the relevant time series and corresponding class values.\n",
        "    \"\"\"\n",
        "    X_reshaped = []\n",
        "    for col in X.columns:\n",
        "        for i, row in X[col].iteritems():\n",
        "            X_reshaped.append(row.to_numpy(dtype=np.float32).reshape(1, -1))\n",
        "    X_reshaped = np.array(X_reshaped)\n",
        "    \n",
        "    return X_reshaped, y"
      ],
      "execution_count": null,
      "outputs": []
    },
    {
      "cell_type": "markdown",
      "metadata": {
        "id": "s8kkPFlj_6cg"
      },
      "source": [
        "<a name=\"models\"></a>\n",
        "## Models\n",
        "This section implements the different time series transformers and classifiers for testing, namely the *MINIROCKET* feature transformation and the *tsfresh* feature extraction, both paired with a ridge classifier to reproduce the *MINIROCKET* results described in their paper and to allow for fair comparison between both feature extraction methods."
      ]
    },
    {
      "cell_type": "markdown",
      "metadata": {
        "id": "q_3i-y8c__Pk"
      },
      "source": [
        "<a name=\"minirocket\"></a>\n",
        "### *MINIROCKET*\n",
        "This wrapper function makes *MINIROCKET* configuration easier. Do you want to train the classifier using the _sktime_ or the _tsai_ implementation? Execute on CPU or GPU? Train and test online or offline? Perform data augmentation?\n"
      ]
    },
    {
      "cell_type": "code",
      "metadata": {
        "id": "X5Kh6HxYD0Qb"
      },
      "source": [
        "def minirocket_classifier(data,\n",
        "                          mode='cpu',\n",
        "                          src='tsai',\n",
        "                          epochs=50,\n",
        "                          offline=True,\n",
        "                          augm=False):\n",
        "    \"\"\"A wrapper around the *MINIROCKET* feature transformation method to allow\n",
        "    for easy configuration.\n",
        "\n",
        "    Args:\n",
        "        data: str\n",
        "            The nominal name of the dataset corresponding to the name given in \n",
        "            the UEA and UCR repository for time series classification.\n",
        "        mode: str\n",
        "            Whether to run the transformation on CPU ('cpu') or GPU ('gpu').\n",
        "        src: str\n",
        "            Whether to run the transformation using the sktime or tsai\n",
        "            implementation.\n",
        "        epochs: int\n",
        "            The number of epochs to train the classifier for.\n",
        "        offline: bool\n",
        "            When running on GPU, whether to run the transformation offline or \n",
        "            online.\n",
        "        aug: bool\n",
        "            When running on GPU, whether to augment to input time series or not.\n",
        "    Returns:\n",
        "        ndarray, ndarray\n",
        "            A tuple of the predicted classes for the test split of the data and\n",
        "            the actual classes of these test samples.\n",
        "    \"\"\"\n",
        "    print('Running MINIROCKET classifier...')\n",
        "\n",
        "    # Catch configuration conflicts\n",
        "    if mode not in ['cpu', 'gpu']:\n",
        "        raise ValueError('MINIROCKET mode should be either \"cpu\" or \"gpu\"...')\n",
        "    \n",
        "    if mode == 'gpu' and src == 'sktime':\n",
        "        raise ValueError('MINIROCKET by sktime can only be run on GPU...')\n",
        "\n",
        "    # Load dataset\n",
        "    timer.start(False)\n",
        "    X_train, y_train = get_data(data, split='train')\n",
        "    X_test, y_test = get_data(data, split='test')\n",
        "    t1 = timer.stop()\n",
        "    print('  Data loading:  ', t1)\n",
        "\n",
        "   # Initialize pipeline\n",
        "    if mode == 'cpu':\n",
        "        if src == 'sktime':\n",
        "            # Define MINIROCKET transformer\n",
        "            if X_train.shape[1] == 1:\n",
        "                # Univariate data\n",
        "                minirocket = MiniRocket_sktime()\n",
        "            else:\n",
        "                # Multivariate data\n",
        "                minirocket = MiniRocketMultivariate_sktime()\n",
        "    \n",
        "            # Define classifier\n",
        "            classifier = RidgeClassifierCV(alphas=np.logspace(-3, 3, 10), normalize=True)\n",
        "\n",
        "            # Construct pipeline\n",
        "            model = make_pipeline(\n",
        "                minirocket, \n",
        "                classifier\n",
        "            )\n",
        "        elif src == 'tsai':\n",
        "            model = MiniRocket_fastai()\n",
        "        else:\n",
        "            raise ValueError('MINIROCKET source should be either \"sktime\" or \"tsai\"...')\n",
        "    elif mode == 'gpu':\n",
        "        # Reshape data\n",
        "        X_train, y_train = reshape_fastai_data(X_train, y_train)\n",
        "        X_test, y_test = reshape_fastai_data(X_test, y_test)\n",
        "        \n",
        "        X = np.concatenate([X_train, X_test], axis=0)\n",
        "        y = np.concatenate([y_train, y_test], axis=0)\n",
        "        splits = [range(len(X_train)), range(len(X_train), len(X_train) + len(X_test))]\n",
        "\n",
        "        # Configure transformations\n",
        "        transformations = [None, TSClassification()]\n",
        "        if augm:\n",
        "            batch_transformations = [TSStandardize(by_sample=True), TSMagScale(), TSWindowWarp()]\n",
        "        else:\n",
        "            batch_transformations = TSStandardize(by_sample=True)\n",
        "\n",
        "            \n",
        "        # Using tsai/fastai, create DataLoaders and model\n",
        "        if offline:          \n",
        "            # Create MiniRocket feature transformer\n",
        "            minirocket_features = MiniRocketFeatures(\n",
        "                c_in=X.shape[1], \n",
        "                seq_len=X.shape[2]\n",
        "            ).to(default_device())\n",
        "\n",
        "            # Fit transformer to training features\n",
        "            X_train = torch.from_numpy(X[splits[0]]).to(default_device())\n",
        "            minirocket_features.fit(X_train)\n",
        "\n",
        "            # Transform train and test features\n",
        "            X_feat = get_minirocket_features(X, minirocket_features, chunksize=1024, to_np=True)\n",
        "            X_feat.shape, type(X_feat)\n",
        "\n",
        "            dataloaders = get_ts_dls(X_feat, y, splits=splits, tfms=transformations, batch_tfms=batch_transformations)\n",
        "            # Model is a linear classifier Head\n",
        "            minirocket_classifier = build_ts_model(MiniRocketHead, dls=dataloaders)\n",
        "        else: # online\n",
        "            dataloaders = get_ts_dls(X, y, splits=splits, tfms=transformations, batch_tfms=batch_transformations)\n",
        "            minirocket_classifier = build_ts_model(MiniRocket, dls=dataloaders)\n",
        "        \n",
        "        model = Learner(dataloaders, minirocket_classifier, metrics=accuracy, cbs=ShowGraph())\n",
        "\n",
        "\n",
        "    # Train pipeline\n",
        "    timer.start(False)\n",
        "    if mode == 'cpu':\n",
        "        model.fit(X_train, y_train)\n",
        "    elif mode == 'gpu':\n",
        "        print('Finding optimal learning rate')\n",
        "        # Drop into fastai and use it to find a good learning rate\n",
        "        lr = model.lr_find()\n",
        "\n",
        "        # Train learner\n",
        "        model.fit_one_cycle(epochs, lr.lr_min)                \n",
        "    t2 = timer.stop()\n",
        "    print('  Model training:', t2)\n",
        "\n",
        "    # Test pipeline\n",
        "    timer.start(False)\n",
        "    if mode == 'cpu':\n",
        "        r_test = model.predict(X_test)\n",
        "        acc_test = model.score(X_test, y_test)\n",
        "    elif mode == 'gpu':\n",
        "        r_test, y_test = model.get_preds()\n",
        "        acc_test = len(np.where(np.array(np.argmax(r_test, axis=1)) == np.array(y_test))[0]) / len(r_test) \n",
        "    t3 = timer.stop()\n",
        "    print('  Model testing: ', t3)\n",
        "\n",
        "    # Print results\n",
        "    print('  Configuration:')\n",
        "    print(\n",
        "        tabulate.tabulate(\n",
        "            [\n",
        "                ['', '', 'data:', f'\"{data}\" ({\"univariate\" if X_train.shape[1] == 1 else \"multivariate\"})'],\n",
        "                ['', '', 'mode:', f'\"{mode}\"'],\n",
        "                ['', '', 'src:', f'\"{src}\"']\n",
        "            ],\n",
        "            tablefmt='plain'\n",
        "        )\n",
        "    )\n",
        "    print('  Performance:')\n",
        "    print(\n",
        "        tabulate.tabulate(\n",
        "            [\n",
        "                ['', '', 'test_acc:', f'{acc_test:.4f}'],\n",
        "            ],\n",
        "            tablefmt='plain'\n",
        "        )\n",
        "    )\n",
        "    print('  Run time:')\n",
        "    print(\n",
        "        tabulate.tabulate(\n",
        "            [\n",
        "                ['', 'data:', t1],\n",
        "                ['', 'training:', t2],\n",
        "                ['', 'testing:', t3],\n",
        "            ],\n",
        "            headers=['', 'total:', t1+t2+t3],\n",
        "            tablefmt='plain'\n",
        "        )\n",
        "    )\n",
        "\n",
        "    return r_test, y_test"
      ],
      "execution_count": null,
      "outputs": []
    },
    {
      "cell_type": "markdown",
      "metadata": {
        "id": "LcWZKEI3HyLl"
      },
      "source": [
        "<a name=\"tsfresh\"></a>\n",
        "### *tsfresh*\n",
        "A wrapper around time series classification with feature extraction using [`tsfresh`](https://tsfresh.readthedocs.io/en/latest/) feature extraction. However, since we aim to offer a fair comparison between the qualities of `MINIROCKET` and `tsfresh` — the current go to feature extraction method for time series — we only include a ridge classifier."
      ]
    },
    {
      "cell_type": "markdown",
      "metadata": {
        "id": "UJs1Ox2dLgWa"
      },
      "source": [
        "##### Helper functions\n",
        "A number of alterations to existing `tsai` functions to fix issues and better suit our needs.\n"
      ]
    },
    {
      "cell_type": "code",
      "metadata": {
        "id": "bH1oICDZGIoD"
      },
      "source": [
        "def get_relevant_ts_features(X:Union[np.ndarray, torch.Tensor], \n",
        "                             y:Union[None, np.ndarray, torch.Tensor]=None, \n",
        "                             features:Union[str, dict]='min',\n",
        "                             n_jobs:Optional[int]=None, \n",
        "                             **kwargs):\n",
        "    \"\"\"Feature extraction using the tsfresh package.\n",
        "\n",
        "    Args:\n",
        "        X: Union[np.ndarray, torch.Tensor]\n",
        "             np.array or torch.Tesnor of shape [samples, dimensions, timesteps].\n",
        "        y: Union[None, np.ndarray, torch.Tensor]\n",
        "            Not required for unlabeled data. Otherwise, you need to pass it.\n",
        "        features: Union[str, dict]\n",
        "            'min', 'efficient', 'all', or a dictionary. Be aware that \n",
        "            'efficient' and 'all' may required substantial memory and time.\n",
        "        n_jobs: Optional[int]\n",
        "            The number of jobs to run the feature exctaction with.\n",
        "\n",
        "    Returns:\n",
        "        Dataframe\n",
        "            A dataframe containing the features extracted using the\n",
        "            configuration specified with the function's arguments.\n",
        "    \"\"\"\n",
        "    df = to_tsfresh_df(X)\n",
        "    n_jobs = ifnone(n_jobs, defaults.cpus)\n",
        "    if 'default_fc_parameters' in kwargs.keys(): default_fc_parameters = default_fc_parameters\n",
        "    elif features == 'min': default_fc_parameters = MinimalFCParameters()\n",
        "    elif features == 'efficient': default_fc_parameters = EfficientFCParameters()\n",
        "    elif features == 'all': default_fc_parameters = ComprehensiveFCParameters()\n",
        "    else: default_fc_parameters = None\n",
        "    df = tsfresh.extract_relevant_features(df, y=pd.Series(data=y), column_id=\"id\", n_jobs=n_jobs, default_fc_parameters=default_fc_parameters, **kwargs)\n",
        "    if y is not None:\n",
        "        if y.ndim == 1: y = y.reshape(-1,1)\n",
        "        for i in range(y.shape[-1]):\n",
        "            df['target' if y.shape[-1] == 1 else f'target_{i}'] = y[:, i]\n",
        "    return df\n"
      ],
      "execution_count": null,
      "outputs": []
    },
    {
      "cell_type": "markdown",
      "metadata": {
        "id": "o-ojkVG2dxNC"
      },
      "source": [
        "#### Main functions"
      ]
    },
    {
      "cell_type": "code",
      "metadata": {
        "id": "TX96nwQ5YENe"
      },
      "source": [
        "def tsfresh_classifier(data,\n",
        "                       features):\n",
        "    \"\"\"A wrapper around the tsfresh feature transformation method to allow\n",
        "    for easy configuration.\n",
        "\n",
        "    Args:\n",
        "        data: str\n",
        "            The nominal name of the dataset corresponding to the name given in \n",
        "            the UEA and UCR repository for time series classification.\n",
        "        features: str\n",
        "            A configuration parameter for tsfresh feature extraction ('min', \n",
        "            'efficient', 'all').\n",
        "\n",
        "    Returns:\n",
        "        ndarray, ndarray\n",
        "            A tuple of the predicted classes for the test split of the data and\n",
        "            the actual classes of these test samples.\n",
        "    \"\"\"\n",
        "    # Catch configuration conflicts\n",
        "    if features not in ['all', 'efficient', 'min']:\n",
        "        raise ValueError('TSFRESH features must be \"all\", \"efficient\", or \"min\"...')\n",
        "\n",
        "    # Load and reshape dataset\n",
        "    timer.start(False)\n",
        "    X_train, y_train = get_data(data, split='train')\n",
        "    X_train, y_train = reshape_fastai_data(X_train, y_train)\n",
        "\n",
        "    X_test, y_test = get_data(data, split='test')\n",
        "    X_test, y_test = reshape_fastai_data(X_test, y_test)\n",
        "    t1 = timer.stop()\n",
        "\n",
        "    # Combine train and test data\n",
        "    X = np.concatenate([X_train, X_test], axis=0)\n",
        "    y = np.concatenate([y_train, y_test], axis=0)\n",
        "    splits = [range(len(X_train)), range(len(X_train), len(X_train) + len(X_test))]\n",
        "\n",
        "    # Extract features\n",
        "    timer.start(False)\n",
        "    feat = get_relevant_ts_features(X, y, features=features, n_jobs=4)\n",
        "    feat = feat.dropna(axis=1)\n",
        "\n",
        "    # Split and shuffle training and test data\n",
        "    train_feat = feat.iloc[splits[0]].sample(frac=1).reset_index(drop=True)\n",
        "    X_train_feat, y_train = train_feat.drop(columns=['target']), train_feat['target']\n",
        "    \n",
        "    test_feat = feat.iloc[splits[1]]\n",
        "    X_test_feat, y_test = test_feat.drop(columns=['target']), test_feat['target']\n",
        "\n",
        "    # Train classifier\n",
        "    ridge_classifier = RidgeClassifierCV(alphas=np.logspace(-3, 3, 10), normalize=True)\n",
        "    ridge_classifier.fit(X_train_feat, y_train)\n",
        "    t2 = timer.stop()\n",
        "\n",
        "    # Test classifier\n",
        "    timer.start(False)\n",
        "    r_test = ridge_classifier.predict(X_test_feat)\n",
        "    acc_test = ridge_classifier.score(X_test_feat, y_test)\n",
        "    t3 = timer.stop()\n",
        "\n",
        "    # Print results\n",
        "    print('  Configuration:')\n",
        "    print(\n",
        "        tabulate.tabulate(\n",
        "            [\n",
        "                ['', '', 'data:', f'\"{data}\" ({\"univariate\" if X_train.shape[1] == 1 else \"multivariate\"})'],\n",
        "                ['', '', 'features:', f'\"{features}\"'],\n",
        "            ],\n",
        "            tablefmt='plain'\n",
        "        )\n",
        "    )\n",
        "    print('  Performance:')\n",
        "    print(\n",
        "        tabulate.tabulate(\n",
        "            [\n",
        "                ['', '', 'test_acc:', f'{acc_test:.4f}'],\n",
        "            ],\n",
        "            tablefmt='plain'\n",
        "        )\n",
        "    )\n",
        "    print('  Run time:')\n",
        "    print(\n",
        "        tabulate.tabulate(\n",
        "            [\n",
        "                ['', 'data:', t1],\n",
        "                ['', 'training:', t2],\n",
        "                ['', 'testing:', t3],\n",
        "            ],\n",
        "            headers=['', 'total:', t1+t2+t3],\n",
        "            tablefmt='plain'\n",
        "        )\n",
        "    )\n",
        "\n",
        "    return r_test, y_test.to_numpy() # Return labels as a NumPy array"
      ],
      "execution_count": null,
      "outputs": []
    },
    {
      "cell_type": "markdown",
      "metadata": {
        "id": "gJdHf7rVDVv-"
      },
      "source": [
        "### _scipy.fft_"
      ]
    },
    {
      "cell_type": "markdown",
      "metadata": {
        "id": "UyNnd5zYq6_8"
      },
      "source": [
        "A wrapper around time series classification with feature extraction using [_scipy_](https://docs.scipy.org/doc/scipy/reference/tutorial/fft.html)'s Fast Fourier Transform (_fft_) feature extraction. To offer a fair comparison between the qualities of _MINIROCKET_ and _fft_, we only pair these features with a ridge classifier."
      ]
    },
    {
      "cell_type": "code",
      "metadata": {
        "id": "d2wXJNWADYNp"
      },
      "source": [
        "def fft_classifier(data):\n",
        "    \"\"\"A wrapper around the fft feature transformation method to allow\n",
        "    for easy configuration.\n",
        "\n",
        "    Args:\n",
        "        data: str\n",
        "            The nominal name of the dataset corresponding to the name given in \n",
        "            the UEA and UCR repository for time series classification.\n",
        "\n",
        "    Returns:\n",
        "        ndarray, ndarray\n",
        "            A tuple of the predicted classes for the test split of the data and\n",
        "            the actual classes of these test samples.\n",
        "    \"\"\"\n",
        "    # Load and reshape dataset\n",
        "    timer.start(False)\n",
        "    X_train, y_train = get_data(data, split='train')\n",
        "    X_train, y_train = reshape_fastai_data(X_train, y_train)\n",
        "\n",
        "    X_test, y_test = get_data(data, split='test')\n",
        "    X_test, y_test = reshape_fastai_data(X_test, y_test)\n",
        "    t1 = timer.stop()\n",
        "\n",
        "    # Combine train and test data\n",
        "    X = np.concatenate([X_train, X_test], axis=0)\n",
        "    y = np.concatenate([y_train, y_test], axis=0)\n",
        "    splits = [range(len(X_train)), range(len(X_train), len(X_train) + len(X_test))]\n",
        "    \n",
        "    # Extract features\n",
        "    timer.start(False)\n",
        "    fourier = fft(X)\n",
        "    feat = np.column_stack((fourier.real, fourier.imag))\n",
        "\n",
        "    # Split and shuffle training and test data\n",
        "    X_train_feat = feat[splits[0]]\n",
        "    X_test_feat = feat[splits[1]]\n",
        "\n",
        "    # Train classifier\n",
        "    nsamples, nx, ny = X_train_feat.shape\n",
        "    X_train_feat = X_train_feat.reshape((nsamples,nx*ny))\n",
        "\n",
        "    ridge_classifier = RidgeClassifierCV(alphas=np.logspace(-3, 3, 10), normalize=True)\n",
        "    ridge_classifier.fit(X_train_feat, y_train)\n",
        "    t2 = timer.stop()\n",
        "\n",
        "    # Test classifier\n",
        "    timer.start(False)\n",
        "    nsamples, nx, ny = X_test_feat.shape\n",
        "    X_test_feat = X_test_feat.reshape((nsamples,nx*ny))\n",
        "\n",
        "    r_test = ridge_classifier.predict(X_test_feat)\n",
        "    acc_test = ridge_classifier.score(X_test_feat, y_test)\n",
        "    t3 = timer.stop()\n",
        "\n",
        "    # Print results\n",
        "    print('  Configuration:')\n",
        "    print(\n",
        "        tabulate.tabulate(\n",
        "            [\n",
        "                ['', '', 'data:', f'\"{data}\" ({\"univariate\" if X_train.shape[1] == 1 else \"multivariate\"})']\n",
        "            ],\n",
        "            tablefmt='plain'\n",
        "        )\n",
        "    )\n",
        "    print('  Performance:')\n",
        "    print(\n",
        "        tabulate.tabulate(\n",
        "            [\n",
        "                ['', '', 'test_acc:', f'{acc_test:.4f}'],\n",
        "            ],\n",
        "            tablefmt='plain'\n",
        "        )\n",
        "    )\n",
        "    print('  Run time:')\n",
        "    print(\n",
        "        tabulate.tabulate(\n",
        "            [\n",
        "                ['', 'data:', t1],\n",
        "                ['', 'training:', t2],\n",
        "                ['', 'testing:', t3],\n",
        "            ],\n",
        "            headers=['', 'total:', t1+t2+t3],\n",
        "            tablefmt='plain'\n",
        "        )\n",
        "    )\n",
        "\n",
        "    return r_test, y_test"
      ],
      "execution_count": null,
      "outputs": []
    },
    {
      "cell_type": "markdown",
      "metadata": {
        "id": "c6EAsC0triyz"
      },
      "source": [
        "### _scipy.signal.stft_\n",
        "A wrapper around time series classification with feature extraction using [_scipy_](https://docs.scipy.org/doc/scipy/reference/generated/scipy.signal.stft.html)'s Short Time Fourier Transform (_stft_) feature extraction. To offer a fair comparison between the qualities of _MINIROCKET_ and _stft_, we only pair these features with a ridge classifier."
      ]
    },
    {
      "cell_type": "code",
      "metadata": {
        "id": "a9ngnEyPPFof"
      },
      "source": [
        "def stft_classifier(data):\n",
        "    \"\"\"A wrapper around the fft feature transformation method to allow\n",
        "    for easy configuration.\n",
        "\n",
        "    Args:\n",
        "        data: str\n",
        "            The nominal name of the dataset corresponding to the name given in \n",
        "            the UEA and UCR repository for time series classification.\n",
        "\n",
        "    Returns:\n",
        "        ndarray, ndarray\n",
        "            A tuple of the predicted classes for the test split of the data and\n",
        "            the actual classes of these test samples.\n",
        "    \"\"\"\n",
        "    # Load and reshape dataset\n",
        "    timer.start(False)\n",
        "    X_train, y_train = get_data(data, split='train')\n",
        "    X_train, y_train = reshape_fastai_data(X_train, y_train)\n",
        "\n",
        "    X_test, y_test = get_data(data, split='test')\n",
        "    X_test, y_test = reshape_fastai_data(X_test, y_test)\n",
        "    t1 = timer.stop()\n",
        "\n",
        "    # Combine train and test data\n",
        "    X = np.concatenate([X_train, X_test], axis=0)\n",
        "    y = np.concatenate([y_train, y_test], axis=0)\n",
        "    splits = [range(len(X_train)), range(len(X_train), len(X_train) + len(X_test))]\n",
        "\n",
        "    # Extract features\n",
        "    timer.start(False)\n",
        "    f, ts, feat = signal.stft(X, nperseg=X.shape[2])\n",
        "    feat=np.abs(feat)\n",
        "\n",
        "    # Split and shuffle training and test data\n",
        "    X_train_feat = feat[splits[0]]\n",
        "    X_test_feat = feat[splits[1]]\n",
        "\n",
        "    # Train classifier\n",
        "    nsamples, nx, ny, nz = X_train_feat.shape\n",
        "    X_train_feat = X_train_feat.reshape((nsamples,nx*ny*nz))\n",
        "\n",
        "    ridge_classifier = RidgeClassifierCV(alphas=np.logspace(-3, 3, 10), normalize=True)\n",
        "    ridge_classifier.fit(X_train_feat, y_train)\n",
        "    t2 = timer.stop()\n",
        "\n",
        "    # Test classifier\n",
        "    timer.start(False)\n",
        "    nsamples, nx, ny, nz = X_test_feat.shape\n",
        "    X_test_feat = X_test_feat.reshape((nsamples,nx*ny*nz))\n",
        "\n",
        "    r_test = ridge_classifier.predict(X_test_feat)\n",
        "    acc_test = ridge_classifier.score(X_test_feat, y_test)\n",
        "    t3 = timer.stop()\n",
        "\n",
        "    # Print results\n",
        "    print('  Configuration:')\n",
        "    print(\n",
        "        tabulate.tabulate(\n",
        "            [\n",
        "                ['', '', 'data:', f'\"{data}\" ({\"univariate\" if X_train.shape[1] == 1 else \"multivariate\"})']\n",
        "            ],\n",
        "            tablefmt='plain'\n",
        "        )\n",
        "    )\n",
        "    print('  Performance:')\n",
        "    print(\n",
        "        tabulate.tabulate(\n",
        "            [\n",
        "                ['', '', 'test_acc:', f'{acc_test:.4f}'],\n",
        "            ],\n",
        "            tablefmt='plain'\n",
        "        )\n",
        "    )\n",
        "    print('  Run time:')\n",
        "    print(\n",
        "        tabulate.tabulate(\n",
        "            [\n",
        "                ['', 'data:', t1],\n",
        "                ['', 'training:', t2],\n",
        "                ['', 'testing:', t3],\n",
        "            ],\n",
        "            headers=['', 'total:', t1+t2+t3],\n",
        "            tablefmt='plain'\n",
        "        )\n",
        "    )\n",
        "\n",
        "    return r_test, y_test"
      ],
      "execution_count": null,
      "outputs": []
    },
    {
      "cell_type": "markdown",
      "metadata": {
        "id": "XOxQt-ZhNoiw"
      },
      "source": [
        "## Metrics\n",
        "A selection of metrics and plots to assess performance of the  models being compared in this notebook. For each model (variation) being tested, its accuracy, precision, recall, F1, AUC and confusion matrix is determined and displayed for easy performance comparison."
      ]
    },
    {
      "cell_type": "code",
      "metadata": {
        "id": "B585NLyBNo54"
      },
      "source": [
        "def evaluate_predictions(pred, truth, model=None):\n",
        "    # Convert tensors to numpy arrays\n",
        "    if not isinstance(pred, np.ndarray) or not isinstance(truth, np.ndarray):\n",
        "        pred, truth = np.argmax(pred.cpu().detach().numpy(), axis=1), truth.cpu().detach().numpy()\n",
        "\n",
        "    # Correct dtypes of arrays\n",
        "    truth = np.array(truth, dtype=int)\n",
        "    pred = np.array(pred, dtype=int)\n",
        "\n",
        "    # Calculate metrics\n",
        "    accuracy = accuracy_score(truth, pred)\n",
        "    precision = precision_score(truth, pred, labels=np.unique(pred), average='weighted')\n",
        "\n",
        "    recall = recall_score(truth, pred, average='weighted')\n",
        "\n",
        "    f1 = 2 * (precision * recall) / (precision + recall)\n",
        "    if len(np.unique(truth)) > 2: \n",
        "        # One-hot encoding of predictions is required for multiclass ROC calculation\n",
        "        truth_onehot = np.eye(np.max(truth) + 1)[truth]\n",
        "        pred_onehot = np.eye(np.max(truth) + 1)[pred]\n",
        "        roc_auc = roc_auc_score(truth, pred_onehot, average='weighted', multi_class='ovr')\n",
        "    else:\n",
        "        roc_auc = roc_auc_score(truth, pred, average='weighted', multi_class='ovr')\n",
        "    conf_matrix = confusion_matrix(truth, pred)\n",
        "    \n",
        "\n",
        "    # Print results\n",
        "    print('  Detailed performance')\n",
        "    print(\n",
        "        tabulate.tabulate(\n",
        "            [\n",
        "                    ['', '', 'accuracy:', f'{accuracy:4f}'],\n",
        "                    ['', '', 'precision:', f'{precision:4f}'],\n",
        "                    ['', '', 'recall:', f'{recall:4f}'],\n",
        "                    ['', '', 'f1:', f'{f1:4f}'],\n",
        "                    ['', '', 'roc auc:', f'{roc_auc:4f}'],\n",
        "                    ['', '', 'confusion matrix:', '']\n",
        "            ],\n",
        "            tablefmt='plain'\n",
        "        )\n",
        "    )    \n",
        "    \n",
        "    # Show confusion matrix\n",
        "    df_cm = pd.DataFrame(conf_matrix, index=range(len(conf_matrix)), columns=range(len(conf_matrix[0])))\n",
        "    plt.figure(figsize = (10,7))\n",
        "    sn.heatmap(df_cm, annot=True, cmap=sn.color_palette(\"rocket_r\", as_cmap=True))\n"
      ],
      "execution_count": null,
      "outputs": []
    },
    {
      "cell_type": "markdown",
      "metadata": {
        "id": "5oJjG1E_A38Z"
      },
      "source": [
        "## Experiments\n",
        "You have arrived at the most important part of the notebook!\n",
        "Prepare for lift-off... 🚀\n"
      ]
    },
    {
      "cell_type": "markdown",
      "metadata": {
        "id": "qQrk9TvYMhC-"
      },
      "source": [
        "<a name=\"experiment-1\"></a>\n",
        "### Experiment 1: Feature extraction with *MINIROCKET* vs. _tsfresh_\n",
        "In this first experiment, the _MINIROCKET_ feature transformation is compared to the current frequently used method for feature extraction, namely _tsfresh_. Both performance and training and inference speed will be assessed for a(n arbitrarily) medium sized dataset: the UEA & UCR Time Series Classification Repository [_Wafer_](http://www.timeseriesclassification.com/description.php?Dataset=Wafer) dataset."
      ]
    },
    {
      "cell_type": "markdown",
      "metadata": {
        "id": "VMP8VM4MuFpl"
      },
      "source": [
        "- **Train size**: 1000\n",
        "- **Test size**: 6164\n",
        "- **Sample length**: 152\n",
        "- **Number of classes**: 2 (abnormal: 0, normal: 1)\n",
        "\n",
        "This dataset relates to semiconductor microelectronics fabrication: each sample in the wafer database contains measurements recorded by one sensor during the processing of one wafer by one tool. The measurements are classified as either normal or abnormal. \n",
        "\n",
        "The dataset is imbalanced, favoring normal measurments (1-9)."
      ]
    },
    {
      "cell_type": "markdown",
      "metadata": {
        "id": "sqB4FjqdWowk"
      },
      "source": [
        "#### *MINIROCKET*"
      ]
    },
    {
      "cell_type": "code",
      "metadata": {
        "id": "2LyrvRtTWoDG",
        "colab": {
          "base_uri": "https://localhost:8080/",
          "height": 808
        },
        "outputId": "9806763b-3ecc-48f0-f804-ad53e181be8f"
      },
      "source": [
        "minirocket_preds, minirocket_truths = minirocket_classifier(data='Wafer', mode='cpu', src='sktime')\n",
        "evaluate_predictions(minirocket_preds, minirocket_truths)"
      ],
      "execution_count": null,
      "outputs": [
        {
          "output_type": "stream",
          "text": [
            "Running MINIROCKET classifier...\n",
            "  Data loading:   0:00:03.053218\n",
            "  Model training: 0:00:01.258611\n",
            "  Model testing:  0:00:04.956889\n",
            "  Configuration:\n",
            "    data:  \"Wafer\" (univariate)\n",
            "    mode:  \"cpu\"\n",
            "    src:   \"sktime\"\n",
            "  Performance:\n",
            "    test_acc:  0.9994\n",
            "  Run time:\n",
            "    total:     0:00:09.268718\n",
            "    data:      0:00:03.053218\n",
            "    training:  0:00:01.258611\n",
            "    testing:   0:00:04.956889\n",
            "  Detailed performance\n",
            "    accuracy:          0.999351\n",
            "    precision:         0.999351\n",
            "    recall:            0.999351\n",
            "    f1:                0.999351\n",
            "    roc auc:           0.998314\n",
            "    confusion matrix:\n"
          ],
          "name": "stdout"
        },
        {
          "output_type": "display_data",
          "data": {
            "image/png": "[encoded data removed]",
            "text/plain": [
              "<Figure size 720x504 with 2 Axes>"
            ]
          },
          "metadata": {
            "tags": [],
            "needs_background": "light"
          }
        }
      ]
    },
    {
      "cell_type": "markdown",
      "metadata": {
        "id": "aE2NkcOl_O1W"
      },
      "source": [
        "After a mere **7,50 seconds** — including 1,3 seconds to load the data — _MINIROCKET_ features enabled the classifier to achieve **near-perfect performance** with only 5 of the 6.164 test samples classified incorrectly in the presence of a heavy class imbalance. With little to no optimizations for the dataset, features were extracted quickly to enable versatile classification of imbalanced datasets.\n",
        "\n",
        "Unfortunately, the performance of the classifier cannot be attributed to a selection of _MINIROCKET_'s features as a feature cannot (currently) be linked to the kernel that enabled its calculation... This causes the feature transformation to **lack any explainability whatsoever**."
      ]
    },
    {
      "cell_type": "markdown",
      "metadata": {
        "id": "OJHP8VsNXcwy"
      },
      "source": [
        "#### _tsfresh_ (min)"
      ]
    },
    {
      "cell_type": "code",
      "metadata": {
        "colab": {
          "base_uri": "https://localhost:8080/",
          "height": 739
        },
        "id": "FyLpqr8YXdBp",
        "outputId": "21a6d6aa-a988-468a-ff9b-0947ce45b3a1"
      },
      "source": [
        "tsfresh_min_preds, tsfresh_min_truths = tsfresh_classifier('Wafer', 'min')\n",
        "evaluate_predictions(tsfresh_min_preds, tsfresh_min_truths)"
      ],
      "execution_count": null,
      "outputs": [
        {
          "output_type": "stream",
          "text": [
            "Feature Extraction: 100%|██████████| 20/20 [00:03<00:00,  6.45it/s]\n"
          ],
          "name": "stderr"
        },
        {
          "output_type": "stream",
          "text": [
            "  Configuration:\n",
            "    data:      \"Wafer\" (univariate)\n",
            "    features:  \"min\"\n",
            "  Performance:\n",
            "    test_acc:  0.8933\n",
            "  Run time:\n",
            "    total:     0:00:05.516722\n",
            "    data:      0:00:01.452837\n",
            "    training:  0:00:04.049162\n",
            "    testing:   0:00:00.014723\n",
            "  Detailed performance\n",
            "    accuracy:          0.893251\n",
            "    precision:         0.904659\n",
            "    recall:            0.893251\n",
            "    f1:                0.898919\n",
            "    roc auc:           0.505263\n",
            "    confusion matrix:\n"
          ],
          "name": "stdout"
        },
        {
          "output_type": "display_data",
          "data": {
            "image/png": "[encoded data removed]",
            "text/plain": [
              "<Figure size 720x504 with 2 Axes>"
            ]
          },
          "metadata": {
            "tags": [],
            "needs_background": "light"
          }
        }
      ]
    },
    {
      "cell_type": "markdown",
      "metadata": {
        "id": "EGh4da_sUoVs"
      },
      "source": [
        "While minimal _tsfresh_ feature extraction is just faster than _MINIROCKET_ feature transformation — clocking in at **just under 5,5 seconds** — it is clear that this configuration does not allow the classifier to distinguish between both target classes and causes it to **default to the majority class**."
      ]
    },
    {
      "cell_type": "markdown",
      "metadata": {
        "id": "TLWWmaYMt6oS"
      },
      "source": [
        "#### *tsfresh* (efficient)"
      ]
    },
    {
      "cell_type": "code",
      "metadata": {
        "colab": {
          "base_uri": "https://localhost:8080/"
        },
        "id": "S38T4Sb2Mrps",
        "outputId": "b27d8333-c038-4ced-ba6e-713759749e62"
      },
      "source": [
        "if run_tsfresh_check:\n",
        "    tsfresh_efficient_preds, tsfresh_efficient_truths = tsfresh_classifier('Wafer', 'efficient')\n",
        "else:\n",
        "    # Print manually \"cached\" tsfresh results\n",
        "    print(\"\"\"Feature Extraction: 100%|██████████| 20/20 [10:16<00:00, 30.81s/it]\n",
        "Configuration:\n",
        "data:      \"Wafer\" (univariate)\n",
        "features:  \"efficient\"\n",
        "Performance:\n",
        "test_acc:  1\n",
        "Run time:\n",
        "    total:     0:10:37.877604\n",
        "    data:      0:00:01.294506\n",
        "    training:  0:10:36.538375\n",
        "    testing:   0:00:00.044723\n",
        "    \"\"\")"
      ],
      "execution_count": null,
      "outputs": [
        {
          "output_type": "stream",
          "text": [
            "Feature Extraction: 100%|██████████| 20/20 [10:16<00:00, 30.81s/it]\n",
            "Configuration:\n",
            "data:      \"Wafer\" (univariate)\n",
            "features:  \"efficient\"\n",
            "Performance:\n",
            "test_acc:  1\n",
            "Run time:\n",
            "    total:     0:10:37.877604\n",
            "    data:      0:00:01.294506\n",
            "    training:  0:10:36.538375\n",
            "    testing:   0:00:00.044723\n",
            "    \n"
          ],
          "name": "stdout"
        }
      ]
    },
    {
      "cell_type": "markdown",
      "metadata": {
        "id": "Qzvh2UE4UgMr"
      },
      "source": [
        "To achieve performance on par with _MINIROCKET_ (actually even achieving perfect performance), _tsfresh_'s efficient configuration required over 10 minutes — that is 600 seconds or about **70 times longer than _MINIROCKET_**.\n",
        "\n",
        "While it does offer **perfect performance**, the increase in classification accuracy is only marginal (5 samples) and does thus not outweigh the exponential increase in run time. A bigger trade-off is that of explainability; whereas _MINIROCKET_ offers 10.000 features that cannot be traced back to the kernel that they originated from, _tsfresh_ features are **theoretical statistical measures from the data that offer (some) interpretability**; note that this is only a limited form of explainability, as the interpretation of, e.g., a time series' _5th Welch density coefficient_ may offer very little insights.\n",
        "\n",
        "Since perfect performance could be achieved, running _tsfresh_ configured to extract all features is unnecessary as it would run even longer (though not much) with no accuracy increase."
      ]
    },
    {
      "cell_type": "markdown",
      "metadata": {
        "id": "WQ867ds5r-xU"
      },
      "source": [
        "#### _fft_/_stft_"
      ]
    },
    {
      "cell_type": "code",
      "metadata": {
        "colab": {
          "base_uri": "https://localhost:8080/",
          "height": 705
        },
        "id": "_1Koljipr-Yg",
        "outputId": "85b7edb4-05f7-48e2-aaa7-39e1d39012a1"
      },
      "source": [
        "fft_min_preds, fft_min_truths = fft_classifier('Wafer')\n",
        "evaluate_predictions(fft_min_preds, fft_min_truths)"
      ],
      "execution_count": null,
      "outputs": [
        {
          "output_type": "stream",
          "text": [
            "  Configuration:\n",
            "    data:  \"Wafer\" (univariate)\n",
            "  Performance:\n",
            "    test_acc:  0.9267\n",
            "  Run time:\n",
            "    total:     0:00:01.590737\n",
            "    data:      0:00:01.464711\n",
            "    training:  0:00:00.105057\n",
            "    testing:   0:00:00.020969\n",
            "  Detailed performance\n",
            "    accuracy:          0.926671\n",
            "    precision:         0.926045\n",
            "    recall:            0.926671\n",
            "    f1:                0.926358\n",
            "    roc auc:           0.674030\n",
            "    confusion matrix:\n"
          ],
          "name": "stdout"
        },
        {
          "output_type": "display_data",
          "data": {
            "image/png": "[encoded data removed]",
            "text/plain": [
              "<Figure size 720x504 with 2 Axes>"
            ]
          },
          "metadata": {
            "tags": [],
            "needs_background": "light"
          }
        }
      ]
    },
    {
      "cell_type": "code",
      "metadata": {
        "colab": {
          "base_uri": "https://localhost:8080/",
          "height": 705
        },
        "id": "YUFN_Fq_sTY-",
        "outputId": "ce9695e9-7332-43e1-b45b-1f8929c5ddd3"
      },
      "source": [
        "stft_min_preds, stft_min_truths = stft_classifier('Wafer')\n",
        "evaluate_predictions(stft_min_preds, stft_min_truths)"
      ],
      "execution_count": null,
      "outputs": [
        {
          "output_type": "stream",
          "text": [
            "  Configuration:\n",
            "    data:  \"Wafer\" (univariate)\n",
            "  Performance:\n",
            "    test_acc:  0.9966\n",
            "  Run time:\n",
            "    total:     0:00:01.884898\n",
            "    data:      0:00:01.746312\n",
            "    training:  0:00:00.122217\n",
            "    testing:   0:00:00.016369\n",
            "  Detailed performance\n",
            "    accuracy:          0.996593\n",
            "    precision:         0.996644\n",
            "    recall:            0.996593\n",
            "    f1:                0.996619\n",
            "    roc auc:           0.995447\n",
            "    confusion matrix:\n"
          ],
          "name": "stdout"
        },
        {
          "output_type": "display_data",
          "data": {
            "image/png": "[encoded data removed]",
            "text/plain": [
              "<Figure size 720x504 with 2 Axes>"
            ]
          },
          "metadata": {
            "tags": [],
            "needs_background": "light"
          }
        }
      ]
    },
    {
      "cell_type": "markdown",
      "metadata": {
        "id": "kfcNYFkjslB7"
      },
      "source": [
        "While Fourier transformed features are also quick to calculate (and can even extract features for large datasets in a matter of seconds), **classification performance when learning with these features is generally worse** than with _MINIROCKET_ features. Additionally, while inherently interpretable, depending on the use case Fourier transformed features **may or may not offer additional insights into how predictions are made**."
      ]
    },
    {
      "cell_type": "markdown",
      "metadata": {
        "id": "v-ZsD-KdLBOS"
      },
      "source": [
        "<a name=\"experiment-2\"></a>\n",
        "### Experiment 2: *MINIROCKET* execution on CPU vs. GPU\n",
        "The second experiment compares MINIROCKET implementations for CPU and GPU execution in terms of their execution speeds on so-called _large sized_ datasets (\\> 10.000 samples as defined by the authors) and checkes their performances for any discrepancies in accuracy. For this, the UEA & UCR Time Series Classification Repository [_ElectricDevices_](http://www.timeseriesclassification.com/description.php?Dataset=ElectricDevices) dataset was used."
      ]
    },
    {
      "cell_type": "markdown",
      "metadata": {
        "id": "CihqT-X6J2ID"
      },
      "source": [
        "- **Train size**: 8926\n",
        "- **Test size**: 7711\n",
        "- **Sample length**: 96\n",
        "- **Number of classes**: 7 (types of electric devices)\n",
        "\n",
        "The intention of this dataset was to collect behavioural data about how consumers use electricity within the home to help reduce the UK's carbon footprint. The data contains readings from 251 households, sampled in two-minute intervals over a month."
      ]
    },
    {
      "cell_type": "markdown",
      "metadata": {
        "id": "pvqaBJJRYSYT"
      },
      "source": [
        "#### CPU\n",
        "A CPU implementation is provided by both the [_sktime_](https://github.com/alan-turing-institute/sktime) (specialized time series algorithms and scikit-learn compatible tools to build, tune and validate time series models for multiple learning problems) and [_tsai_](https://github.com/timeseriesAI/tsai) (state-of-the-art deep learning for time series and sequence modeling, built on top of _Pytorch_ and _fastai_) packages. Experiments showed that the _sktime_ implementation was increasingly faster for growing dataset sizes and will thus be preferred here."
      ]
    },
    {
      "cell_type": "code",
      "metadata": {
        "id": "jXz2S0T5YZ2Q",
        "colab": {
          "base_uri": "https://localhost:8080/",
          "height": 808
        },
        "outputId": "2594179e-ea12-4279-b05d-00cbf67f1a88"
      },
      "source": [
        "cpu_preds, cpu_truths = minirocket_classifier(data='ElectricDevices', mode='cpu', src='sktime')\n",
        "evaluate_predictions(cpu_preds, cpu_truths)"
      ],
      "execution_count": null,
      "outputs": [
        {
          "output_type": "stream",
          "text": [
            "Running MINIROCKET classifier...\n",
            "  Data loading:   0:00:02.512973\n",
            "  Model training: 0:03:06.543910\n",
            "  Model testing:  0:00:04.175349\n",
            "  Configuration:\n",
            "    data:  \"ElectricDevices\" (univariate)\n",
            "    mode:  \"cpu\"\n",
            "    src:   \"sktime\"\n",
            "  Performance:\n",
            "    test_acc:  0.7401\n",
            "  Run time:\n",
            "    total:     0:03:13.232232\n",
            "    data:      0:00:02.512973\n",
            "    training:  0:03:06.543910\n",
            "    testing:   0:00:04.175349\n",
            "  Detailed performance\n",
            "    accuracy:          0.740112\n",
            "    precision:         0.739217\n",
            "    recall:            0.740112\n",
            "    f1:                0.739664\n",
            "    roc auc:           0.841407\n",
            "    confusion matrix:\n"
          ],
          "name": "stdout"
        },
        {
          "output_type": "display_data",
          "data": {
            "image/png": "[encoded data removed]",
            "text/plain": [
              "<Figure size 720x504 with 2 Axes>"
            ]
          },
          "metadata": {
            "tags": [],
            "needs_background": "light"
          }
        }
      ]
    },
    {
      "cell_type": "markdown",
      "metadata": {
        "id": "Bt8I1vNKkrNK"
      },
      "source": [
        "While still very manageble, _MINIROCKET_ on CPU for large(r) datasets takes around 3 minutes and 13 seconds: just above 3 minutes for training and about 4 seconds for inference."
      ]
    },
    {
      "cell_type": "markdown",
      "metadata": {
        "id": "T2SrsTylYWmw"
      },
      "source": [
        "#### GPU\n",
        "The [_tsai_](https://github.com/timeseriesAI/tsai) package also provides the GPU implementation of _MINIROCKET_."
      ]
    },
    {
      "cell_type": "code",
      "metadata": {
        "id": "yISvkTPEYaOt",
        "colab": {
          "base_uri": "https://localhost:8080/",
          "height": 1000
        },
        "outputId": "3ffca6e3-a5d3-4551-c524-33745365b653"
      },
      "source": [
        "gpu_preds, gpu_truths = minirocket_classifier(data='ElectricDevices', mode='gpu', src='tsai')\n",
        "evaluate_predictions(gpu_preds, gpu_truths)"
      ],
      "execution_count": null,
      "outputs": [
        {
          "output_type": "stream",
          "text": [
            "Running MINIROCKET classifier...\n",
            "  Data loading:   0:00:02.480717\n",
            "Finding optimal learning rate\n"
          ],
          "name": "stdout"
        },
        {
          "output_type": "display_data",
          "data": {
            "text/html": [
              ""
            ],
            "text/plain": [
              "<IPython.core.display.HTML object>"
            ]
          },
          "metadata": {
            "tags": []
          }
        },
        {
          "output_type": "display_data",
          "data": {
            "text/html": [
              "<table border=\"1\" class=\"dataframe\">\n",
              "  <thead>\n",
              "    <tr style=\"text-align: left;\">\n",
              "      <th>epoch</th>\n",
              "      <th>train_loss</th>\n",
              "      <th>valid_loss</th>\n",
              "      <th>accuracy</th>\n",
              "      <th>time</th>\n",
              "    </tr>\n",
              "  </thead>\n",
              "  <tbody>\n",
              "    <tr>\n",
              "      <td>0</td>\n",
              "      <td>1.014210</td>\n",
              "      <td>1.071049</td>\n",
              "      <td>0.659707</td>\n",
              "      <td>00:01</td>\n",
              "    </tr>\n",
              "    <tr>\n",
              "      <td>1</td>\n",
              "      <td>0.730426</td>\n",
              "      <td>1.029928</td>\n",
              "      <td>0.680197</td>\n",
              "      <td>00:01</td>\n",
              "    </tr>\n",
              "    <tr>\n",
              "      <td>2</td>\n",
              "      <td>0.576631</td>\n",
              "      <td>1.077388</td>\n",
              "      <td>0.679030</td>\n",
              "      <td>00:01</td>\n",
              "    </tr>\n",
              "    <tr>\n",
              "      <td>3</td>\n",
              "      <td>0.483152</td>\n",
              "      <td>1.043403</td>\n",
              "      <td>0.709636</td>\n",
              "      <td>00:01</td>\n",
              "    </tr>\n",
              "    <tr>\n",
              "      <td>4</td>\n",
              "      <td>0.443674</td>\n",
              "      <td>1.058951</td>\n",
              "      <td>0.705745</td>\n",
              "      <td>00:01</td>\n",
              "    </tr>\n",
              "    <tr>\n",
              "      <td>5</td>\n",
              "      <td>0.400666</td>\n",
              "      <td>0.982115</td>\n",
              "      <td>0.741408</td>\n",
              "      <td>00:01</td>\n",
              "    </tr>\n",
              "    <tr>\n",
              "      <td>6</td>\n",
              "      <td>0.386302</td>\n",
              "      <td>1.058740</td>\n",
              "      <td>0.702762</td>\n",
              "      <td>00:01</td>\n",
              "    </tr>\n",
              "    <tr>\n",
              "      <td>7</td>\n",
              "      <td>0.353656</td>\n",
              "      <td>1.119221</td>\n",
              "      <td>0.707561</td>\n",
              "      <td>00:01</td>\n",
              "    </tr>\n",
              "    <tr>\n",
              "      <td>8</td>\n",
              "      <td>0.345954</td>\n",
              "      <td>1.404489</td>\n",
              "      <td>0.628583</td>\n",
              "      <td>00:01</td>\n",
              "    </tr>\n",
              "    <tr>\n",
              "      <td>9</td>\n",
              "      <td>0.356524</td>\n",
              "      <td>1.283165</td>\n",
              "      <td>0.687719</td>\n",
              "      <td>00:01</td>\n",
              "    </tr>\n",
              "    <tr>\n",
              "      <td>10</td>\n",
              "      <td>0.328091</td>\n",
              "      <td>1.325613</td>\n",
              "      <td>0.716120</td>\n",
              "      <td>00:01</td>\n",
              "    </tr>\n",
              "    <tr>\n",
              "      <td>11</td>\n",
              "      <td>0.308156</td>\n",
              "      <td>1.317724</td>\n",
              "      <td>0.682791</td>\n",
              "      <td>00:01</td>\n",
              "    </tr>\n",
              "    <tr>\n",
              "      <td>12</td>\n",
              "      <td>0.339057</td>\n",
              "      <td>1.318356</td>\n",
              "      <td>0.666969</td>\n",
              "      <td>00:01</td>\n",
              "    </tr>\n",
              "    <tr>\n",
              "      <td>13</td>\n",
              "      <td>0.289731</td>\n",
              "      <td>1.199610</td>\n",
              "      <td>0.731941</td>\n",
              "      <td>00:01</td>\n",
              "    </tr>\n",
              "    <tr>\n",
              "      <td>14</td>\n",
              "      <td>0.290690</td>\n",
              "      <td>1.285127</td>\n",
              "      <td>0.674491</td>\n",
              "      <td>00:01</td>\n",
              "    </tr>\n",
              "    <tr>\n",
              "      <td>15</td>\n",
              "      <td>0.280001</td>\n",
              "      <td>1.364421</td>\n",
              "      <td>0.683958</td>\n",
              "      <td>00:01</td>\n",
              "    </tr>\n",
              "    <tr>\n",
              "      <td>16</td>\n",
              "      <td>0.283370</td>\n",
              "      <td>1.348270</td>\n",
              "      <td>0.692517</td>\n",
              "      <td>00:01</td>\n",
              "    </tr>\n",
              "    <tr>\n",
              "      <td>17</td>\n",
              "      <td>0.282194</td>\n",
              "      <td>1.355512</td>\n",
              "      <td>0.710803</td>\n",
              "      <td>00:01</td>\n",
              "    </tr>\n",
              "    <tr>\n",
              "      <td>18</td>\n",
              "      <td>0.246473</td>\n",
              "      <td>1.368283</td>\n",
              "      <td>0.735183</td>\n",
              "      <td>00:01</td>\n",
              "    </tr>\n",
              "    <tr>\n",
              "      <td>19</td>\n",
              "      <td>0.262662</td>\n",
              "      <td>1.399158</td>\n",
              "      <td>0.677214</td>\n",
              "      <td>00:01</td>\n",
              "    </tr>\n",
              "    <tr>\n",
              "      <td>20</td>\n",
              "      <td>0.263949</td>\n",
              "      <td>1.546158</td>\n",
              "      <td>0.675010</td>\n",
              "      <td>00:01</td>\n",
              "    </tr>\n",
              "    <tr>\n",
              "      <td>21</td>\n",
              "      <td>0.242496</td>\n",
              "      <td>1.459175</td>\n",
              "      <td>0.696926</td>\n",
              "      <td>00:01</td>\n",
              "    </tr>\n",
              "    <tr>\n",
              "      <td>22</td>\n",
              "      <td>0.226440</td>\n",
              "      <td>1.445888</td>\n",
              "      <td>0.699780</td>\n",
              "      <td>00:01</td>\n",
              "    </tr>\n",
              "    <tr>\n",
              "      <td>23</td>\n",
              "      <td>0.227118</td>\n",
              "      <td>1.450106</td>\n",
              "      <td>0.715860</td>\n",
              "      <td>00:01</td>\n",
              "    </tr>\n",
              "    <tr>\n",
              "      <td>24</td>\n",
              "      <td>0.224938</td>\n",
              "      <td>1.568743</td>\n",
              "      <td>0.709376</td>\n",
              "      <td>00:01</td>\n",
              "    </tr>\n",
              "    <tr>\n",
              "      <td>25</td>\n",
              "      <td>0.203324</td>\n",
              "      <td>1.435863</td>\n",
              "      <td>0.722863</td>\n",
              "      <td>00:01</td>\n",
              "    </tr>\n",
              "    <tr>\n",
              "      <td>26</td>\n",
              "      <td>0.204084</td>\n",
              "      <td>1.440995</td>\n",
              "      <td>0.719751</td>\n",
              "      <td>00:01</td>\n",
              "    </tr>\n",
              "    <tr>\n",
              "      <td>27</td>\n",
              "      <td>0.191083</td>\n",
              "      <td>1.573647</td>\n",
              "      <td>0.703540</td>\n",
              "      <td>00:01</td>\n",
              "    </tr>\n",
              "    <tr>\n",
              "      <td>28</td>\n",
              "      <td>0.212204</td>\n",
              "      <td>1.485939</td>\n",
              "      <td>0.703670</td>\n",
              "      <td>00:01</td>\n",
              "    </tr>\n",
              "    <tr>\n",
              "      <td>29</td>\n",
              "      <td>0.190121</td>\n",
              "      <td>1.483480</td>\n",
              "      <td>0.703540</td>\n",
              "      <td>00:01</td>\n",
              "    </tr>\n",
              "    <tr>\n",
              "      <td>30</td>\n",
              "      <td>0.180679</td>\n",
              "      <td>1.390890</td>\n",
              "      <td>0.726884</td>\n",
              "      <td>00:01</td>\n",
              "    </tr>\n",
              "    <tr>\n",
              "      <td>31</td>\n",
              "      <td>0.200048</td>\n",
              "      <td>1.507524</td>\n",
              "      <td>0.698612</td>\n",
              "      <td>00:01</td>\n",
              "    </tr>\n",
              "    <tr>\n",
              "      <td>32</td>\n",
              "      <td>0.177178</td>\n",
              "      <td>1.426076</td>\n",
              "      <td>0.697056</td>\n",
              "      <td>00:01</td>\n",
              "    </tr>\n",
              "    <tr>\n",
              "      <td>33</td>\n",
              "      <td>0.187408</td>\n",
              "      <td>1.354694</td>\n",
              "      <td>0.733368</td>\n",
              "      <td>00:01</td>\n",
              "    </tr>\n",
              "    <tr>\n",
              "      <td>34</td>\n",
              "      <td>0.173732</td>\n",
              "      <td>1.491099</td>\n",
              "      <td>0.701076</td>\n",
              "      <td>00:01</td>\n",
              "    </tr>\n",
              "    <tr>\n",
              "      <td>35</td>\n",
              "      <td>0.166470</td>\n",
              "      <td>1.483214</td>\n",
              "      <td>0.720788</td>\n",
              "      <td>00:01</td>\n",
              "    </tr>\n",
              "    <tr>\n",
              "      <td>36</td>\n",
              "      <td>0.164628</td>\n",
              "      <td>1.386287</td>\n",
              "      <td>0.716768</td>\n",
              "      <td>00:01</td>\n",
              "    </tr>\n",
              "    <tr>\n",
              "      <td>37</td>\n",
              "      <td>0.155238</td>\n",
              "      <td>1.404606</td>\n",
              "      <td>0.717806</td>\n",
              "      <td>00:01</td>\n",
              "    </tr>\n",
              "    <tr>\n",
              "      <td>38</td>\n",
              "      <td>0.159911</td>\n",
              "      <td>1.455648</td>\n",
              "      <td>0.706393</td>\n",
              "      <td>00:01</td>\n",
              "    </tr>\n",
              "    <tr>\n",
              "      <td>39</td>\n",
              "      <td>0.150660</td>\n",
              "      <td>1.471894</td>\n",
              "      <td>0.698223</td>\n",
              "      <td>00:01</td>\n",
              "    </tr>\n",
              "    <tr>\n",
              "      <td>40</td>\n",
              "      <td>0.153630</td>\n",
              "      <td>1.409682</td>\n",
              "      <td>0.707042</td>\n",
              "      <td>00:01</td>\n",
              "    </tr>\n",
              "    <tr>\n",
              "      <td>41</td>\n",
              "      <td>0.157240</td>\n",
              "      <td>1.361418</td>\n",
              "      <td>0.721048</td>\n",
              "      <td>00:01</td>\n",
              "    </tr>\n",
              "    <tr>\n",
              "      <td>42</td>\n",
              "      <td>0.149074</td>\n",
              "      <td>1.469406</td>\n",
              "      <td>0.697575</td>\n",
              "      <td>00:01</td>\n",
              "    </tr>\n",
              "    <tr>\n",
              "      <td>43</td>\n",
              "      <td>0.147735</td>\n",
              "      <td>1.434592</td>\n",
              "      <td>0.704319</td>\n",
              "      <td>00:01</td>\n",
              "    </tr>\n",
              "    <tr>\n",
              "      <td>44</td>\n",
              "      <td>0.151967</td>\n",
              "      <td>1.411206</td>\n",
              "      <td>0.702114</td>\n",
              "      <td>00:01</td>\n",
              "    </tr>\n",
              "    <tr>\n",
              "      <td>45</td>\n",
              "      <td>0.149329</td>\n",
              "      <td>1.409486</td>\n",
              "      <td>0.710025</td>\n",
              "      <td>00:01</td>\n",
              "    </tr>\n",
              "    <tr>\n",
              "      <td>46</td>\n",
              "      <td>0.147314</td>\n",
              "      <td>1.437107</td>\n",
              "      <td>0.704059</td>\n",
              "      <td>00:01</td>\n",
              "    </tr>\n",
              "    <tr>\n",
              "      <td>47</td>\n",
              "      <td>0.148041</td>\n",
              "      <td>1.409081</td>\n",
              "      <td>0.711970</td>\n",
              "      <td>00:01</td>\n",
              "    </tr>\n",
              "    <tr>\n",
              "      <td>48</td>\n",
              "      <td>0.142338</td>\n",
              "      <td>1.419797</td>\n",
              "      <td>0.714823</td>\n",
              "      <td>00:01</td>\n",
              "    </tr>\n",
              "    <tr>\n",
              "      <td>49</td>\n",
              "      <td>0.146748</td>\n",
              "      <td>1.420813</td>\n",
              "      <td>0.712229</td>\n",
              "      <td>00:01</td>\n",
              "    </tr>\n",
              "  </tbody>\n",
              "</table>"
            ],
            "text/plain": [
              "<IPython.core.display.HTML object>"
            ]
          },
          "metadata": {
            "tags": []
          }
        },
        {
          "output_type": "display_data",
          "data": {
            "image/png": "[encoded data removed]",
            "text/plain": [
              "<Figure size 432x288 with 1 Axes>"
            ]
          },
          "metadata": {
            "tags": []
          }
        },
        {
          "output_type": "display_data",
          "data": {
            "image/png": "[encoded data removed]",
            "text/plain": [
              "<Figure size 432x288 with 1 Axes>"
            ]
          },
          "metadata": {
            "tags": [],
            "needs_background": "light"
          }
        },
        {
          "output_type": "display_data",
          "data": {
            "image/png": "[encoded data removed]",
            "text/plain": [
              "<Figure size 864x288 with 2 Axes>"
            ]
          },
          "metadata": {
            "tags": [],
            "needs_background": "light"
          }
        },
        {
          "output_type": "stream",
          "text": [
            "  Model training: 0:01:22.202834\n"
          ],
          "name": "stdout"
        },
        {
          "output_type": "display_data",
          "data": {
            "text/html": [
              ""
            ],
            "text/plain": [
              "<IPython.core.display.HTML object>"
            ]
          },
          "metadata": {
            "tags": []
          }
        },
        {
          "output_type": "stream",
          "text": [
            "  Model testing:  0:00:00.538189\n",
            "  Configuration:\n",
            "    data:  \"ElectricDevices\" (univariate)\n",
            "    mode:  \"gpu\"\n",
            "    src:   \"tsai\"\n",
            "  Performance:\n",
            "    test_acc:  0.7122\n",
            "  Run time:\n",
            "    total:     0:01:25.221740\n",
            "    data:      0:00:02.480717\n",
            "    training:  0:01:22.202834\n",
            "    testing:   0:00:00.538189\n",
            "  Detailed performance\n",
            "    accuracy:          0.712229\n",
            "    precision:         0.709947\n",
            "    recall:            0.712229\n",
            "    f1:                0.711086\n",
            "    roc auc:           0.825029\n",
            "    confusion matrix:\n"
          ],
          "name": "stdout"
        },
        {
          "output_type": "display_data",
          "data": {
            "image/png": "[encoded data removed]",
            "text/plain": [
              "<Figure size 720x504 with 2 Axes>"
            ]
          },
          "metadata": {
            "tags": [],
            "needs_background": "light"
          }
        }
      ]
    },
    {
      "cell_type": "markdown",
      "metadata": {
        "id": "2HprND06g7Zg"
      },
      "source": [
        "As expected, GPU _MINIROCKET_ accuracy is in the same ball-park as its CPU counterpart (and discrepancies can thus be allotted randomness in the kernel selection) and both implementations seem to enable the same classification errors when looking at the confusion matrix. However, the **runtime is significantly shorter** — running on GPU took less than half the training time and about an eight of the inference time!"
      ]
    },
    {
      "cell_type": "markdown",
      "metadata": {
        "id": "8sHNjkShdaed"
      },
      "source": [
        "<a name='takeaways'></a>\n",
        "## Take-aways\n",
        "Based on the results of the two experiments in this notebook, the following guidelines can be considered:\n",
        "- Features transformed with **_MINIROCKET_ enable performance on par with the current way of working** (namely 'efficient'/'all' _tsfresh_ feature extraction).\n",
        "- **_MINIROCKET_ significantly reduces the runtime required for a similar accuracy** as _tsfresh_. Whereas runtimes of _tsfresh_ increase exponentially for growing dataset sizes and become infeasible quite fast, _MINIROCKET_ runtimes stay manageble even for large datasets (of datasets with long samples) by using its GPU implementation.\n",
        "- Though slower and somewhat less interpretable, _MINIROCKET_ features generally **enable a classifier to be more performant than when trained with Fourier features**.\n",
        "- **_MINIROCKET_'s GPU implementation is useful for datasets with over 10.000 samples**; for smaller datasets use its CPU implementation for the minimal runtime.\n",
        "- The above _MINIROCKET_ perks come **at the cost of model interpretability**; its features cannot be linked back to the kernels that they originated from and can thus not be explained. On the contrary, _tsfresh_ features are theoretical statistical measures that can be interpreted (but can still offer very little insights).\n",
        "\n",
        "Considering the above guidelines, _MINIROCKET_ feature extraction thus offers a great way to quickly establish a baseline performance for a new time series classification problem before delving into more time consuming or more interpretable methods. Additionally, it can be used to obtain state-of-the-art performance with minimal effort if explainability is not required."
      ]
    }
  ]
}