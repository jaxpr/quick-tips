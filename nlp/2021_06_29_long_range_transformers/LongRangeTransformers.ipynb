{
 "cells": [
  {
   "cell_type": "markdown",
   "metadata": {
    "id": "7XEv8E2SALpN"
   },
   "source": [
    "# 🏉 Go long! Long range transformers\n",
    "\n",
    "In recent research there has been an extensive study for improving the calculation of attention in transformer architectures. Mostly for improving their capacity to handle longer sequences. 👊\n",
    "\n",
    "The attention calculation is known to be quadratic in compatation time with respect to the sequence length 👎. These recent advances, however, are able to perform attention calculation in linear time with respect to the sequence length. This allows us to scale the transformer architecture such that it can handle input sequences beyond the usual 512 token length. \n",
    "\n",
    "In this notebook we compare traditional transfomers with novel efficient transformers. We'll use roBERTa as a baseline to compare against LongFormer and BigBird.  \n",
    "\n",
    "Let's put these architectures to the test and see which one comes out on top 🏆!  \n"
   ]
  },
  {
   "cell_type": "markdown",
   "metadata": {
    "id": "l8ymZTD_BSZS"
   },
   "source": [
    "## 🛠️ Getting started: Install packages & download models\n",
    "\n",
    "The below cells will setup everything that is required to get started with keyword extraction:\n",
    "\n",
    "* Install python specific packages\n",
    "* Import required packages"
   ]
  },
  {
   "cell_type": "code",
   "execution_count": 14,
   "metadata": {
    "id": "eDI558ScBWpZ"
   },
   "outputs": [],
   "source": [
    "!pip install -q sklearn transformers datasets torch plotly colour"
   ]
  },
  {
   "cell_type": "code",
   "execution_count": 15,
   "metadata": {
    "id": "x7x9s2l_VMLV"
   },
   "outputs": [],
   "source": [
    "import time \n",
    "import sys \n",
    "import json\n",
    "import pandas as pd\n",
    "import numpy as np\n",
    "from enum import Enum\n",
    "import shelve\n",
    "import torch\n",
    "\n",
    "import plotly.express as px\n",
    "import plotly.graph_objects as go\n",
    "\n",
    "\n",
    "from sklearn.metrics import accuracy_score, precision_recall_fscore_support\n",
    "from transformers import  BigBirdTokenizerFast,BigBirdForSequenceClassification\n",
    "from transformers import RobertaTokenizer, RobertaForSequenceClassification\n",
    "from transformers import LongformerConfig, LongformerForSequenceClassification\n",
    "from transformers import TrainingArguments, Trainer\n",
    "from transformers import LongformerTokenizerFast\n",
    "from transformers import TransfoXLTokenizer, TransfoXLForSequenceClassification\n",
    "from datasets import load_dataset, Dataset, load_metric\n",
    "from colour import Color"
   ]
  },
  {
   "cell_type": "markdown",
   "metadata": {
    "id": "UOdkK5pXBSZT"
   },
   "source": [
    "## 💾 Dataset & downstream task\n",
    "\n",
    "We will use the IMDB movie review dataset for binary sentiment classification. In the paper publication of LongFormer and BigBird, both architectures were compared against RoBERTa with this exact dataset.\n",
    "*   13.6 % of the reviews are larger than 512 wordpieces \n",
    "*   evaluation was done on the entire dataset and the performance improvement was .4% and .8% compared to the RoBERTa architecture for LongFormer and BigBird respectively 💪.\n",
    "\n",
    "We aim to gain more insight in when to use which architecture, therefore we will go *one step beyond 🔥*, and evaluate the architectures on 2 distinct subsets of the data, namely: \n",
    "\n",
    "1.   Short sequences: containting less than 512 wordpieces but more than 256 wordpieces\n",
    "2.   Long sequences: containing more than 512 wordpieces\n",
    "\n",
    "\n",
    "\n",
    "\n"
   ]
  },
  {
   "cell_type": "code",
   "execution_count": null,
   "metadata": {
    "colab": {
     "base_uri": "https://localhost:8080/"
    },
    "id": "s63EKk7JVdsY",
    "outputId": "5d2a0c41-0507-4f4d-b9be-1ae24019b74f"
   },
   "outputs": [],
   "source": [
    "ds = load_dataset('imdb')\n",
    "\n",
    "class IMDBDatasetTokenCountType(Enum):\n",
    "    SHORT = 1\n",
    "    LONG = 2\n",
    "\n",
    "def filter_dataset_with_tokencount(ds, tokencount_type):\n",
    "    tokenizer =  RobertaTokenizer.from_pretrained('roberta-base')\n",
    "    if tokencount_type == IMDBDatasetTokenCountType.LONG:\n",
    "        return ds.filter(lambda x: len(tokenizer.batch_encode_plus([x['text']]).input_ids[0]) > 512)\n",
    "    if tokencount_type == IMDBDatasetTokenCountType.SHORT:\n",
    "        return ds.filter(lambda x: len(tokenizer.batch_encode_plus([x['text']]).input_ids[0]) < 512).filter(lambda x: len(tokenizer.batch_encode_plus([x['text']]).input_ids[0]) > 256)\n",
    "    \n",
    "def filter_train_test_dataset_with_tokencount(train_ds, test_ds, tokencount_type):\n",
    "    filt_train_ds =  filter_dataset_with_tokencount(train_ds, tokencount_type)\n",
    "    filt_test_ds = filter_dataset_with_tokencount(test_ds, tokencount_type)\n",
    "    return filt_train_ds, filt_test_ds"
   ]
  },
  {
   "cell_type": "code",
   "execution_count": 13,
   "metadata": {
    "id": "t43_73glBSZU"
   },
   "outputs": [],
   "source": [
    "def get_deep_size(obj, seen=None):\n",
    "    \"\"\"Recursively accumulates size of objects\"\"\"\n",
    "    size = sys.getsizeof(obj)\n",
    "    if seen is None:\n",
    "        seen = set()\n",
    "    obj_id = id(obj)\n",
    "    if obj_id in seen:\n",
    "        return 0\n",
    "    # Important mark as seen *before* entering recursion to gracefully handle\n",
    "    # self-referential objects\n",
    "    seen.add(obj_id)\n",
    "    if isinstance(obj, dict):\n",
    "        size += sum([get_deep_size(v, seen) for v in obj.values()])\n",
    "        size += sum([get_deep_size(k, seen) for k in obj.keys()])\n",
    "    elif hasattr(obj, '__dict__'):\n",
    "        size += get_deep_size(obj.__dict__, seen)\n",
    "    elif hasattr(obj, '__iter__') and not isinstance(obj, (str, bytes, bytearray)):\n",
    "        size += sum([get_deep_size(i, seen) for i in obj])\n",
    "    return size\n"
   ]
  },
  {
   "cell_type": "markdown",
   "metadata": {},
   "source": [
    "# Models\n",
    "\n",
    "Run the cells below to redo the training of each model\n",
    "\n",
    "🛎️ Disclaimer: this will take some time, you could also opt for downloading our final results by running the following import cell and skipping the training phases. "
   ]
  },
  {
   "cell_type": "markdown",
   "metadata": {},
   "source": [
    "## Importing results"
   ]
  },
  {
   "cell_type": "code",
   "execution_count": 12,
   "metadata": {},
   "outputs": [
    {
     "name": "stdout",
     "output_type": "stream",
     "text": [
      "Cloning into 'quick-tips'...\n",
      "remote: Enumerating objects: 666, done.\u001b[K\n",
      "remote: Counting objects: 100% (666/666), done.\u001b[K\n",
      "remote: Compressing objects: 100% (312/312), done.\u001b[K\n",
      "remote: Total 666 (delta 358), reused 627 (delta 325), pack-reused 0\u001b[K\n",
      "Receiving objects: 100% (666/666), 4.26 MiB | 1.49 MiB/s, done.\n",
      "Resolving deltas: 100% (358/358), done.\n",
      "Branch 'feature/long_seq_transformers' set up to track remote branch 'feature/long_seq_transformers' from 'origin'.\n",
      "Switched to a new branch 'feature/long_seq_transformers'\n"
     ]
    }
   ],
   "source": [
    "!git clone https://github.com/ml6team/quick-tips.git\n",
    "!cd quick-tips && git checkout feature/long_seq_transformers\n",
    "!mv quick-tips/nlp/2021_06_29_long_range_transformers/models ./models\n",
    "!rm -rf quick-tips"
   ]
  },
  {
   "cell_type": "markdown",
   "metadata": {},
   "source": [
    "## Training"
   ]
  },
  {
   "cell_type": "code",
   "execution_count": 14,
   "metadata": {
    "id": "PJ6mWoPjVstv"
   },
   "outputs": [],
   "source": [
    "def compute_metrics(pred):\n",
    "    labels = pred.label_ids\n",
    "    preds = pred.predictions.argmax(-1)\n",
    "    precision, recall, f1, _ = precision_recall_fscore_support(labels, preds, average='binary')\n",
    "    acc = accuracy_score(labels, preds)\n",
    "    return {\n",
    "        'accuracy': acc,\n",
    "        'f1': f1,\n",
    "        'precision': precision,\n",
    "        'recall': recall\n",
    "    }\n",
    "\n",
    "def train_and_evaluate(model, identifier, tokenizer, train_ds, test_ds, max_length=1024):\n",
    "    def tokenization(batched_text):\n",
    "        return tokenizer(batched_text['text'], padding='max_length', truncation=True, max_length=max_length)\n",
    "\n",
    "    # tokenizing both the training and test dataset \n",
    "    train_ds = train_ds.map(\n",
    "        tokenization, batched=True, batch_size=len(train_ds), remove_columns=['text'])\n",
    "    test_ds = test_ds.map(tokenization, batched=True,\n",
    "                          batch_size=len(test_ds),  remove_columns=['text'])\n",
    "    train_ds.set_format(\n",
    "        'torch', columns=['input_ids', 'attention_mask', 'label'])\n",
    "    test_ds.set_format('torch', columns=[\n",
    "                       'input_ids', 'attention_mask', 'label'])\n",
    "\n",
    "\n",
    "    parameters = model.num_parameters()\n",
    "    training_args = TrainingArguments(\n",
    "        num_train_epochs=5,\n",
    "        per_device_train_batch_size=4,\n",
    "        gradient_accumulation_steps=2,\n",
    "        per_device_eval_batch_size=4,\n",
    "        evaluation_strategy=\"steps\",\n",
    "        eval_steps=100, \n",
    "        disable_tqdm=False,\n",
    "        load_best_model_at_end=True,\n",
    "        metric_for_best_model='accuracy', # default value is validation loss, we want the model with the highest accuracy \n",
    "        warmup_steps=200,\n",
    "        logging_steps=100,\n",
    "        learning_rate=5e-6,\n",
    "        fp16=True,\n",
    "        dataloader_num_workers=0,\n",
    "        output_dir='./{}-classification-consumer-complaints-results'.format(\n",
    "            identifier),\n",
    "        run_name='{}-classification-consumer-complaints'.format(identifier),\n",
    "        logging_dir='./{}-classification-consumer-complaints-logging'.format(\n",
    "            identifier),\n",
    "        save_strategy=\"steps\"\n",
    "    )\n",
    "\n",
    "    trainer = Trainer(\n",
    "        model=model,\n",
    "        args=training_args,\n",
    "        compute_metrics=compute_metrics,\n",
    "        train_dataset=train_ds,\n",
    "        eval_dataset=test_ds,\n",
    "    )\n",
    "    start_time = time.time()\n",
    "    trainer.train()\n",
    "    duration = time.time() - start_time\n",
    "\n",
    "    metrics = trainer.evaluate()\n",
    "\n",
    "    trainer.save_model(f\"models/{identifier}\")\n",
    "    tokenizer.save_pretrained(f\"models/{identifier}\")\n",
    "\n",
    "    return trainer, parameters, metrics, duration"
   ]
  },
  {
   "cell_type": "code",
   "execution_count": 15,
   "metadata": {
    "id": "_VomBSwDejiy"
   },
   "outputs": [],
   "source": [
    "token_count_cutoff = IMDBDatasetTokenCountType.LONG # Run for both SHORT and LONG scenario"
   ]
  },
  {
   "cell_type": "code",
   "execution_count": null,
   "metadata": {
    "colab": {
     "base_uri": "https://localhost:8080/"
    },
    "id": "1JYNVDC8BSZW",
    "outputId": "0ad30f96-d5b9-4ec9-d3a9-8aa3ee3683b9"
   },
   "outputs": [],
   "source": [
    "train_ds, test_ds = filter_train_test_dataset_with_tokencount(ds['train'], ds['test'], token_count_cutoff)\n",
    "# To fairly compare both scenarios, we want to limit the size of both the training and test set to the most most restricting size. \n",
    "max_train_samples = 1270\n",
    "max_test_samples = 1186\n",
    "\n",
    "# shuffle datasets to avoid imbalanced data issues during training/evaluation\n",
    "train_ds = train_ds.shuffle(seed=42).select(range(max_train_samples))\n",
    "test_ds = test_ds.shuffle(seed=42).select(range(max_test_samples))\n"
   ]
  },
  {
   "cell_type": "code",
   "execution_count": 17,
   "metadata": {
    "id": "88g5S6z7BSZX"
   },
   "outputs": [],
   "source": [
    "def run_training(model, tokenizer, model_name, train_ds, test_ds, max_length=1024):\n",
    "    torch.cuda.empty_cache()\n",
    "\n",
    "    identifier = '{}-{}'.format(model_name, token_count_cutoff.name).lower()\n",
    "    trainer, parameters, metrics, duration  = train_and_evaluate(model, identifier, tokenizer, train_ds, test_ds, max_length)\n",
    "    \n",
    "    \n",
    "    results_and_metrics = {\n",
    "        \"model_name\": model_name,\n",
    "        \"parameters\": parameters,\n",
    "        \"artefact_size\": get_deep_size(trainer.model),\n",
    "        \"duration\": duration,\n",
    "        \"metrics\": metrics,\n",
    "        'tokencount': token_count_cutoff.name\n",
    "    }\n",
    "    with open(f'./models/{identifier}/results.json', \"w\") as fd:\n",
    "        json.dump(results_and_metrics, fd)\n",
    "    del model \n",
    "    del trainer \n"
   ]
  },
  {
   "cell_type": "markdown",
   "metadata": {
    "id": "tJ7op1C0V35E"
   },
   "source": [
    "### roBERTa"
   ]
  },
  {
   "cell_type": "code",
   "execution_count": null,
   "metadata": {
    "colab": {
     "base_uri": "https://localhost:8080/",
     "height": 1000
    },
    "id": "W8eiPIItV7Am",
    "outputId": "19745d97-095d-4893-e301-e9bae3fa3b88",
    "scrolled": true
   },
   "outputs": [
    {
     "name": "stderr",
     "output_type": "stream",
     "text": [
      "Some weights of the model checkpoint at roberta-base were not used when initializing RobertaForSequenceClassification: ['roberta.pooler.dense.weight', 'lm_head.layer_norm.weight', 'lm_head.bias', 'lm_head.decoder.weight', 'roberta.pooler.dense.bias', 'lm_head.layer_norm.bias', 'lm_head.dense.bias', 'lm_head.dense.weight']\n",
      "- This IS expected if you are initializing RobertaForSequenceClassification from the checkpoint of a model trained on another task or with another architecture (e.g. initializing a BertForSequenceClassification model from a BertForPreTraining model).\n",
      "- This IS NOT expected if you are initializing RobertaForSequenceClassification from the checkpoint of a model that you expect to be exactly identical (initializing a BertForSequenceClassification model from a BertForSequenceClassification model).\n",
      "Some weights of RobertaForSequenceClassification were not initialized from the model checkpoint at roberta-base and are newly initialized: ['classifier.out_proj.bias', 'classifier.dense.weight', 'classifier.dense.bias', 'classifier.out_proj.weight']\n",
      "You should probably TRAIN this model on a down-stream task to be able to use it for predictions and inference.\n",
      "Loading cached processed dataset at /home/jupyter/.cache/huggingface/datasets/imdb/plain_text/1.0.0/90099cb476936b753383ba2ae6ab2eae419b2e87f71cd5189cb9c8e5814d12a3/cache-81300ebfa25ff3bf.arrow\n",
      "Loading cached processed dataset at /home/jupyter/.cache/huggingface/datasets/imdb/plain_text/1.0.0/90099cb476936b753383ba2ae6ab2eae419b2e87f71cd5189cb9c8e5814d12a3/cache-b441e544aeaf3d01.arrow\n"
     ]
    },
    {
     "data": {
      "text/html": [
       "\n",
       "    <div>\n",
       "      \n",
       "      <progress value='677' max='795' style='width:300px; height:20px; vertical-align: middle;'></progress>\n",
       "      [677/795 11:20 < 01:58, 0.99 it/s, Epoch 4.25/5]\n",
       "    </div>\n",
       "    <table border=\"1\" class=\"dataframe\">\n",
       "  <thead>\n",
       "    <tr style=\"text-align: left;\">\n",
       "      <th>Step</th>\n",
       "      <th>Training Loss</th>\n",
       "      <th>Validation Loss</th>\n",
       "      <th>Accuracy</th>\n",
       "      <th>F1</th>\n",
       "      <th>Precision</th>\n",
       "      <th>Recall</th>\n",
       "    </tr>\n",
       "  </thead>\n",
       "  <tbody>\n",
       "    <tr>\n",
       "      <td>100</td>\n",
       "      <td>0.694100</td>\n",
       "      <td>0.691903</td>\n",
       "      <td>0.489039</td>\n",
       "      <td>0.656852</td>\n",
       "      <td>0.489039</td>\n",
       "      <td>1.000000</td>\n",
       "    </tr>\n",
       "    <tr>\n",
       "      <td>200</td>\n",
       "      <td>0.663400</td>\n",
       "      <td>0.432657</td>\n",
       "      <td>0.850759</td>\n",
       "      <td>0.840684</td>\n",
       "      <td>0.879473</td>\n",
       "      <td>0.805172</td>\n",
       "    </tr>\n",
       "    <tr>\n",
       "      <td>300</td>\n",
       "      <td>0.360200</td>\n",
       "      <td>0.351535</td>\n",
       "      <td>0.891231</td>\n",
       "      <td>0.888118</td>\n",
       "      <td>0.893543</td>\n",
       "      <td>0.882759</td>\n",
       "    </tr>\n",
       "    <tr>\n",
       "      <td>400</td>\n",
       "      <td>0.286200</td>\n",
       "      <td>0.443211</td>\n",
       "      <td>0.887858</td>\n",
       "      <td>0.879855</td>\n",
       "      <td>0.924099</td>\n",
       "      <td>0.839655</td>\n",
       "    </tr>\n",
       "    <tr>\n",
       "      <td>500</td>\n",
       "      <td>0.258600</td>\n",
       "      <td>0.450579</td>\n",
       "      <td>0.895447</td>\n",
       "      <td>0.888087</td>\n",
       "      <td>0.931818</td>\n",
       "      <td>0.848276</td>\n",
       "    </tr>\n",
       "    <tr>\n",
       "      <td>600</td>\n",
       "      <td>0.255000</td>\n",
       "      <td>0.485321</td>\n",
       "      <td>0.899663</td>\n",
       "      <td>0.900251</td>\n",
       "      <td>0.876020</td>\n",
       "      <td>0.925862</td>\n",
       "    </tr>\n",
       "  </tbody>\n",
       "</table><p>"
      ],
      "text/plain": [
       "<IPython.core.display.HTML object>"
      ]
     },
     "metadata": {},
     "output_type": "display_data"
    }
   ],
   "source": [
    "tokenizer = RobertaTokenizer.from_pretrained('roberta-base')\n",
    "\n",
    "model = RobertaForSequenceClassification.from_pretrained(\n",
    "    'roberta-base',  gradient_checkpointing=True, num_labels=2)\n",
    "\n",
    "run_training(model, tokenizer, 'roberta', train_ds, test_ds, max_length=512)"
   ]
  },
  {
   "cell_type": "markdown",
   "metadata": {
    "id": "k_7w9sa3V-gM"
   },
   "source": [
    "### LongFormer"
   ]
  },
  {
   "cell_type": "code",
   "execution_count": null,
   "metadata": {
    "id": "Njsdd-OaWBpW"
   },
   "outputs": [],
   "source": [
    "tokenizer = LongformerTokenizerFast.from_pretrained('allenai/longformer-base-4096')\n",
    "model = LongformerForSequenceClassification.from_pretrained('allenai/longformer-base-4096',\n",
    "                                                            gradient_checkpointing=True,\n",
    "                                                            attention_window=128,  num_labels=2)\n",
    "run_training(model, tokenizer, 'longformer', train_ds, test_ds)"
   ]
  },
  {
   "cell_type": "markdown",
   "metadata": {
    "id": "FghxNwiCWF0V"
   },
   "source": [
    "### BigBird"
   ]
  },
  {
   "cell_type": "code",
   "execution_count": 18,
   "metadata": {
    "id": "C4pEtCiBWE0z"
   },
   "outputs": [
    {
     "name": "stderr",
     "output_type": "stream",
     "text": [
      "Some weights of the model checkpoint at google/bigbird-roberta-base were not used when initializing BigBirdForSequenceClassification: ['cls.predictions.transform.LayerNorm.weight', 'cls.predictions.bias', 'cls.seq_relationship.bias', 'cls.seq_relationship.weight', 'cls.predictions.transform.dense.weight', 'cls.predictions.transform.LayerNorm.bias', 'cls.predictions.transform.dense.bias', 'cls.predictions.decoder.bias', 'cls.predictions.decoder.weight']\n",
      "- This IS expected if you are initializing BigBirdForSequenceClassification from the checkpoint of a model trained on another task or with another architecture (e.g. initializing a BertForSequenceClassification model from a BertForPreTraining model).\n",
      "- This IS NOT expected if you are initializing BigBirdForSequenceClassification from the checkpoint of a model that you expect to be exactly identical (initializing a BertForSequenceClassification model from a BertForSequenceClassification model).\n",
      "Some weights of BigBirdForSequenceClassification were not initialized from the model checkpoint at google/bigbird-roberta-base and are newly initialized: ['classifier.out_proj.weight', 'classifier.dense.bias', 'classifier.out_proj.bias', 'classifier.dense.weight']\n",
      "You should probably TRAIN this model on a down-stream task to be able to use it for predictions and inference.\n",
      "Loading cached processed dataset at /home/jupyter/.cache/huggingface/datasets/imdb/plain_text/1.0.0/90099cb476936b753383ba2ae6ab2eae419b2e87f71cd5189cb9c8e5814d12a3/cache-ad1057ca816431f1.arrow\n",
      "Loading cached processed dataset at /home/jupyter/.cache/huggingface/datasets/imdb/plain_text/1.0.0/90099cb476936b753383ba2ae6ab2eae419b2e87f71cd5189cb9c8e5814d12a3/cache-3ddbb70389cd3d20.arrow\n"
     ]
    },
    {
     "data": {
      "text/html": [
       "\n",
       "    <div>\n",
       "      \n",
       "      <progress value='795' max='795' style='width:300px; height:20px; vertical-align: middle;'></progress>\n",
       "      [795/795 39:18, Epoch 5/5]\n",
       "    </div>\n",
       "    <table border=\"1\" class=\"dataframe\">\n",
       "  <thead>\n",
       "    <tr style=\"text-align: left;\">\n",
       "      <th>Step</th>\n",
       "      <th>Training Loss</th>\n",
       "      <th>Validation Loss</th>\n",
       "      <th>Accuracy</th>\n",
       "      <th>F1</th>\n",
       "      <th>Precision</th>\n",
       "      <th>Recall</th>\n",
       "    </tr>\n",
       "  </thead>\n",
       "  <tbody>\n",
       "    <tr>\n",
       "      <td>100</td>\n",
       "      <td>0.693500</td>\n",
       "      <td>0.686911</td>\n",
       "      <td>0.501686</td>\n",
       "      <td>0.660540</td>\n",
       "      <td>0.495263</td>\n",
       "      <td>0.991379</td>\n",
       "    </tr>\n",
       "    <tr>\n",
       "      <td>200</td>\n",
       "      <td>0.645400</td>\n",
       "      <td>0.484782</td>\n",
       "      <td>0.844013</td>\n",
       "      <td>0.845705</td>\n",
       "      <td>0.819063</td>\n",
       "      <td>0.874138</td>\n",
       "    </tr>\n",
       "    <tr>\n",
       "      <td>300</td>\n",
       "      <td>0.324800</td>\n",
       "      <td>0.259358</td>\n",
       "      <td>0.908094</td>\n",
       "      <td>0.906758</td>\n",
       "      <td>0.899830</td>\n",
       "      <td>0.913793</td>\n",
       "    </tr>\n",
       "    <tr>\n",
       "      <td>400</td>\n",
       "      <td>0.202000</td>\n",
       "      <td>0.277644</td>\n",
       "      <td>0.910624</td>\n",
       "      <td>0.903986</td>\n",
       "      <td>0.952290</td>\n",
       "      <td>0.860345</td>\n",
       "    </tr>\n",
       "    <tr>\n",
       "      <td>500</td>\n",
       "      <td>0.164200</td>\n",
       "      <td>0.280647</td>\n",
       "      <td>0.923272</td>\n",
       "      <td>0.920105</td>\n",
       "      <td>0.937388</td>\n",
       "      <td>0.903448</td>\n",
       "    </tr>\n",
       "    <tr>\n",
       "      <td>600</td>\n",
       "      <td>0.126400</td>\n",
       "      <td>0.303254</td>\n",
       "      <td>0.922428</td>\n",
       "      <td>0.920962</td>\n",
       "      <td>0.917808</td>\n",
       "      <td>0.924138</td>\n",
       "    </tr>\n",
       "    <tr>\n",
       "      <td>700</td>\n",
       "      <td>0.125600</td>\n",
       "      <td>0.321688</td>\n",
       "      <td>0.922428</td>\n",
       "      <td>0.921233</td>\n",
       "      <td>0.914966</td>\n",
       "      <td>0.927586</td>\n",
       "    </tr>\n",
       "  </tbody>\n",
       "</table><p>"
      ],
      "text/plain": [
       "<IPython.core.display.HTML object>"
      ]
     },
     "metadata": {},
     "output_type": "display_data"
    },
    {
     "data": {
      "text/html": [
       "\n",
       "    <div>\n",
       "      \n",
       "      <progress value='297' max='297' style='width:300px; height:20px; vertical-align: middle;'></progress>\n",
       "      [297/297 01:15]\n",
       "    </div>\n",
       "    "
      ],
      "text/plain": [
       "<IPython.core.display.HTML object>"
      ]
     },
     "metadata": {},
     "output_type": "display_data"
    }
   ],
   "source": [
    "tokenizer = BigBirdTokenizerFast.from_pretrained('google/bigbird-roberta-base')\n",
    "model = BigBirdForSequenceClassification.from_pretrained(\n",
    "    'google/bigbird-roberta-base', gradient_checkpointing=True, num_labels=2)\n",
    "\n",
    "run_training(model, tokenizer, 'big-bird', train_ds, test_ds)"
   ]
  },
  {
   "cell_type": "markdown",
   "metadata": {
    "id": "qSrz1KcnZrKe"
   },
   "source": [
    "# Visualize"
   ]
  },
  {
   "cell_type": "code",
   "execution_count": 29,
   "metadata": {
    "id": "BbwOrTy3BSZY"
   },
   "outputs": [],
   "source": [
    "import os \n",
    "run_dict = []\n",
    "\n",
    "# loop to collect the results from each model\n",
    "for root, dirs, files in os.walk('./models'):\n",
    "    for name in files:\n",
    "        if name.endswith((\"results.json\")):\n",
    "            full_path = os.path.join(root, name)\n",
    "            with open(full_path) as f:\n",
    "                data = json.load(f)\n",
    "                run_dict.append(data)\n"
   ]
  },
  {
   "cell_type": "code",
   "execution_count": 30,
   "metadata": {
    "id": "fX1rutdXBSZZ"
   },
   "outputs": [
    {
     "data": {
      "text/html": [
       "<div>\n",
       "<style scoped>\n",
       "    .dataframe tbody tr th:only-of-type {\n",
       "        vertical-align: middle;\n",
       "    }\n",
       "\n",
       "    .dataframe tbody tr th {\n",
       "        vertical-align: top;\n",
       "    }\n",
       "\n",
       "    .dataframe thead th {\n",
       "        text-align: right;\n",
       "    }\n",
       "</style>\n",
       "<table border=\"1\" class=\"dataframe\">\n",
       "  <thead>\n",
       "    <tr style=\"text-align: right;\">\n",
       "      <th></th>\n",
       "      <th>model_name</th>\n",
       "      <th>parameters</th>\n",
       "      <th>artefact_size</th>\n",
       "      <th>duration</th>\n",
       "      <th>tokencount</th>\n",
       "      <th>eval_loss</th>\n",
       "      <th>eval_accuracy</th>\n",
       "      <th>eval_f1</th>\n",
       "      <th>eval_precision</th>\n",
       "      <th>eval_recall</th>\n",
       "      <th>eval_runtime</th>\n",
       "      <th>eval_samples_per_second</th>\n",
       "      <th>eval_steps_per_second</th>\n",
       "      <th>epoch</th>\n",
       "      <th>max_token_length</th>\n",
       "      <th>iden</th>\n",
       "    </tr>\n",
       "  </thead>\n",
       "  <tbody>\n",
       "    <tr>\n",
       "      <th>0</th>\n",
       "      <td>longformer</td>\n",
       "      <td>148.660994</td>\n",
       "      <td>839482</td>\n",
       "      <td>2054.166195</td>\n",
       "      <td>SHORT</td>\n",
       "      <td>0.263781</td>\n",
       "      <td>0.941821</td>\n",
       "      <td>0.941476</td>\n",
       "      <td>0.918874</td>\n",
       "      <td>0.965217</td>\n",
       "      <td>68.7760</td>\n",
       "      <td>17.244</td>\n",
       "      <td>4.318</td>\n",
       "      <td>5.0</td>\n",
       "      <td>512</td>\n",
       "      <td>longformer-512</td>\n",
       "    </tr>\n",
       "    <tr>\n",
       "      <th>1</th>\n",
       "      <td>big-bird</td>\n",
       "      <td>128.060930</td>\n",
       "      <td>711616</td>\n",
       "      <td>2387.062487</td>\n",
       "      <td>SHORT</td>\n",
       "      <td>0.219696</td>\n",
       "      <td>0.943508</td>\n",
       "      <td>0.941891</td>\n",
       "      <td>0.939446</td>\n",
       "      <td>0.944348</td>\n",
       "      <td>74.1597</td>\n",
       "      <td>15.993</td>\n",
       "      <td>4.005</td>\n",
       "      <td>5.0</td>\n",
       "      <td>512</td>\n",
       "      <td>big-bird-512</td>\n",
       "    </tr>\n",
       "    <tr>\n",
       "      <th>2</th>\n",
       "      <td>roberta</td>\n",
       "      <td>124.647170</td>\n",
       "      <td>743692</td>\n",
       "      <td>795.234547</td>\n",
       "      <td>SHORT</td>\n",
       "      <td>0.217354</td>\n",
       "      <td>0.946880</td>\n",
       "      <td>0.946200</td>\n",
       "      <td>0.929530</td>\n",
       "      <td>0.963478</td>\n",
       "      <td>24.7230</td>\n",
       "      <td>47.972</td>\n",
       "      <td>12.013</td>\n",
       "      <td>5.0</td>\n",
       "      <td>512</td>\n",
       "      <td>roberta-512</td>\n",
       "    </tr>\n",
       "    <tr>\n",
       "      <th>3</th>\n",
       "      <td>longformer</td>\n",
       "      <td>148.660994</td>\n",
       "      <td>839482</td>\n",
       "      <td>2049.965436</td>\n",
       "      <td>LONG</td>\n",
       "      <td>0.371911</td>\n",
       "      <td>0.923272</td>\n",
       "      <td>0.921888</td>\n",
       "      <td>0.917949</td>\n",
       "      <td>0.925862</td>\n",
       "      <td>68.2604</td>\n",
       "      <td>17.375</td>\n",
       "      <td>4.351</td>\n",
       "      <td>5.0</td>\n",
       "      <td>1024</td>\n",
       "      <td>longformer-1024</td>\n",
       "    </tr>\n",
       "    <tr>\n",
       "      <th>4</th>\n",
       "      <td>big-bird</td>\n",
       "      <td>128.060930</td>\n",
       "      <td>711616</td>\n",
       "      <td>2360.915053</td>\n",
       "      <td>LONG</td>\n",
       "      <td>0.280647</td>\n",
       "      <td>0.923272</td>\n",
       "      <td>0.920105</td>\n",
       "      <td>0.937388</td>\n",
       "      <td>0.903448</td>\n",
       "      <td>75.4542</td>\n",
       "      <td>15.718</td>\n",
       "      <td>3.936</td>\n",
       "      <td>5.0</td>\n",
       "      <td>1024</td>\n",
       "      <td>big-bird-1024</td>\n",
       "    </tr>\n",
       "    <tr>\n",
       "      <th>5</th>\n",
       "      <td>roberta</td>\n",
       "      <td>124.647170</td>\n",
       "      <td>743692</td>\n",
       "      <td>794.416961</td>\n",
       "      <td>LONG</td>\n",
       "      <td>0.485321</td>\n",
       "      <td>0.899663</td>\n",
       "      <td>0.900251</td>\n",
       "      <td>0.876020</td>\n",
       "      <td>0.925862</td>\n",
       "      <td>24.7082</td>\n",
       "      <td>48.000</td>\n",
       "      <td>12.020</td>\n",
       "      <td>5.0</td>\n",
       "      <td>1024</td>\n",
       "      <td>roberta-1024</td>\n",
       "    </tr>\n",
       "  </tbody>\n",
       "</table>\n",
       "</div>"
      ],
      "text/plain": [
       "   model_name  parameters  artefact_size     duration tokencount  eval_loss  \\\n",
       "0  longformer  148.660994         839482  2054.166195      SHORT   0.263781   \n",
       "1    big-bird  128.060930         711616  2387.062487      SHORT   0.219696   \n",
       "2     roberta  124.647170         743692   795.234547      SHORT   0.217354   \n",
       "3  longformer  148.660994         839482  2049.965436       LONG   0.371911   \n",
       "4    big-bird  128.060930         711616  2360.915053       LONG   0.280647   \n",
       "5     roberta  124.647170         743692   794.416961       LONG   0.485321   \n",
       "\n",
       "   eval_accuracy   eval_f1  eval_precision  eval_recall  eval_runtime  \\\n",
       "0       0.941821  0.941476        0.918874     0.965217       68.7760   \n",
       "1       0.943508  0.941891        0.939446     0.944348       74.1597   \n",
       "2       0.946880  0.946200        0.929530     0.963478       24.7230   \n",
       "3       0.923272  0.921888        0.917949     0.925862       68.2604   \n",
       "4       0.923272  0.920105        0.937388     0.903448       75.4542   \n",
       "5       0.899663  0.900251        0.876020     0.925862       24.7082   \n",
       "\n",
       "   eval_samples_per_second  eval_steps_per_second  epoch  max_token_length  \\\n",
       "0                   17.244                  4.318    5.0               512   \n",
       "1                   15.993                  4.005    5.0               512   \n",
       "2                   47.972                 12.013    5.0               512   \n",
       "3                   17.375                  4.351    5.0              1024   \n",
       "4                   15.718                  3.936    5.0              1024   \n",
       "5                   48.000                 12.020    5.0              1024   \n",
       "\n",
       "              iden  \n",
       "0   longformer-512  \n",
       "1     big-bird-512  \n",
       "2      roberta-512  \n",
       "3  longformer-1024  \n",
       "4    big-bird-1024  \n",
       "5     roberta-1024  "
      ]
     },
     "execution_count": 30,
     "metadata": {},
     "output_type": "execute_result"
    }
   ],
   "source": [
    "df = pd.DataFrame(run_dict)\n",
    "df2 = df.metrics.apply(pd.Series)\n",
    "result = pd.concat([df.drop('metrics', axis=1), df2], axis=1)\n",
    "result['max_token_length'] = result['tokencount'].apply(lambda x: 512 if x == \"SHORT\" else 1024 )\n",
    "result[\"iden\"] = result[\"model_name\"] + '-' + result[\"max_token_length\"].astype(str)\n",
    "result['parameters'] /= 1e6\n",
    "result"
   ]
  },
  {
   "cell_type": "code",
   "execution_count": 31,
   "metadata": {},
   "outputs": [
    {
     "data": {
      "application/vnd.plotly.v1+json": {
       "config": {
        "plotlyServerURL": "https://plot.ly"
       },
       "data": [
        {
         "marker": {
          "color": "#ef553b"
         },
         "name": "longformer-512",
         "opacity": 0.8,
         "type": "bar",
         "x": [
          "longformer"
         ],
         "y": [
          0.9418212478920742
         ]
        },
        {
         "marker": {
          "color": "#e7482f"
         },
         "name": "longformer-1024",
         "opacity": 0.8,
         "type": "bar",
         "x": [
          "longformer"
         ],
         "y": [
          0.9232715008431703
         ]
        },
        {
         "marker": {
          "color": "#00cc96"
         },
         "name": "big-bird-512",
         "opacity": 0.8,
         "type": "bar",
         "x": [
          "big-bird"
         ],
         "y": [
          0.9435075885328836
         ]
        },
        {
         "marker": {
          "color": "#06b868"
         },
         "name": "big-bird-1024",
         "opacity": 0.8,
         "type": "bar",
         "x": [
          "big-bird"
         ],
         "y": [
          0.9232715008431703
         ]
        },
        {
         "marker": {
          "color": "#ff97ff"
         },
         "name": "roberta-512",
         "opacity": 0.8,
         "type": "bar",
         "x": [
          "roberta"
         ],
         "y": [
          0.9468802698145026
         ]
        },
        {
         "marker": {
          "color": "#d180fb"
         },
         "name": "roberta-1024",
         "opacity": 0.8,
         "type": "bar",
         "x": [
          "roberta"
         ],
         "y": [
          0.8996627318718381
         ]
        }
       ],
       "layout": {
        "autosize": true,
        "barmode": "group",
        "template": {
         "data": {
          "bar": [
           {
            "error_x": {
             "color": "#2a3f5f"
            },
            "error_y": {
             "color": "#2a3f5f"
            },
            "marker": {
             "line": {
              "color": "#E5ECF6",
              "width": 0.5
             },
             "pattern": {
              "fillmode": "overlay",
              "size": 10,
              "solidity": 0.2
             }
            },
            "type": "bar"
           }
          ],
          "barpolar": [
           {
            "marker": {
             "line": {
              "color": "#E5ECF6",
              "width": 0.5
             },
             "pattern": {
              "fillmode": "overlay",
              "size": 10,
              "solidity": 0.2
             }
            },
            "type": "barpolar"
           }
          ],
          "carpet": [
           {
            "aaxis": {
             "endlinecolor": "#2a3f5f",
             "gridcolor": "white",
             "linecolor": "white",
             "minorgridcolor": "white",
             "startlinecolor": "#2a3f5f"
            },
            "baxis": {
             "endlinecolor": "#2a3f5f",
             "gridcolor": "white",
             "linecolor": "white",
             "minorgridcolor": "white",
             "startlinecolor": "#2a3f5f"
            },
            "type": "carpet"
           }
          ],
          "choropleth": [
           {
            "colorbar": {
             "outlinewidth": 0,
             "ticks": ""
            },
            "type": "choropleth"
           }
          ],
          "contour": [
           {
            "colorbar": {
             "outlinewidth": 0,
             "ticks": ""
            },
            "colorscale": [
             [
              0,
              "#0d0887"
             ],
             [
              0.1111111111111111,
              "#46039f"
             ],
             [
              0.2222222222222222,
              "#7201a8"
             ],
             [
              0.3333333333333333,
              "#9c179e"
             ],
             [
              0.4444444444444444,
              "#bd3786"
             ],
             [
              0.5555555555555556,
              "#d8576b"
             ],
             [
              0.6666666666666666,
              "#ed7953"
             ],
             [
              0.7777777777777778,
              "#fb9f3a"
             ],
             [
              0.8888888888888888,
              "#fdca26"
             ],
             [
              1,
              "#f0f921"
             ]
            ],
            "type": "contour"
           }
          ],
          "contourcarpet": [
           {
            "colorbar": {
             "outlinewidth": 0,
             "ticks": ""
            },
            "type": "contourcarpet"
           }
          ],
          "heatmap": [
           {
            "colorbar": {
             "outlinewidth": 0,
             "ticks": ""
            },
            "colorscale": [
             [
              0,
              "#0d0887"
             ],
             [
              0.1111111111111111,
              "#46039f"
             ],
             [
              0.2222222222222222,
              "#7201a8"
             ],
             [
              0.3333333333333333,
              "#9c179e"
             ],
             [
              0.4444444444444444,
              "#bd3786"
             ],
             [
              0.5555555555555556,
              "#d8576b"
             ],
             [
              0.6666666666666666,
              "#ed7953"
             ],
             [
              0.7777777777777778,
              "#fb9f3a"
             ],
             [
              0.8888888888888888,
              "#fdca26"
             ],
             [
              1,
              "#f0f921"
             ]
            ],
            "type": "heatmap"
           }
          ],
          "heatmapgl": [
           {
            "colorbar": {
             "outlinewidth": 0,
             "ticks": ""
            },
            "colorscale": [
             [
              0,
              "#0d0887"
             ],
             [
              0.1111111111111111,
              "#46039f"
             ],
             [
              0.2222222222222222,
              "#7201a8"
             ],
             [
              0.3333333333333333,
              "#9c179e"
             ],
             [
              0.4444444444444444,
              "#bd3786"
             ],
             [
              0.5555555555555556,
              "#d8576b"
             ],
             [
              0.6666666666666666,
              "#ed7953"
             ],
             [
              0.7777777777777778,
              "#fb9f3a"
             ],
             [
              0.8888888888888888,
              "#fdca26"
             ],
             [
              1,
              "#f0f921"
             ]
            ],
            "type": "heatmapgl"
           }
          ],
          "histogram": [
           {
            "marker": {
             "pattern": {
              "fillmode": "overlay",
              "size": 10,
              "solidity": 0.2
             }
            },
            "type": "histogram"
           }
          ],
          "histogram2d": [
           {
            "colorbar": {
             "outlinewidth": 0,
             "ticks": ""
            },
            "colorscale": [
             [
              0,
              "#0d0887"
             ],
             [
              0.1111111111111111,
              "#46039f"
             ],
             [
              0.2222222222222222,
              "#7201a8"
             ],
             [
              0.3333333333333333,
              "#9c179e"
             ],
             [
              0.4444444444444444,
              "#bd3786"
             ],
             [
              0.5555555555555556,
              "#d8576b"
             ],
             [
              0.6666666666666666,
              "#ed7953"
             ],
             [
              0.7777777777777778,
              "#fb9f3a"
             ],
             [
              0.8888888888888888,
              "#fdca26"
             ],
             [
              1,
              "#f0f921"
             ]
            ],
            "type": "histogram2d"
           }
          ],
          "histogram2dcontour": [
           {
            "colorbar": {
             "outlinewidth": 0,
             "ticks": ""
            },
            "colorscale": [
             [
              0,
              "#0d0887"
             ],
             [
              0.1111111111111111,
              "#46039f"
             ],
             [
              0.2222222222222222,
              "#7201a8"
             ],
             [
              0.3333333333333333,
              "#9c179e"
             ],
             [
              0.4444444444444444,
              "#bd3786"
             ],
             [
              0.5555555555555556,
              "#d8576b"
             ],
             [
              0.6666666666666666,
              "#ed7953"
             ],
             [
              0.7777777777777778,
              "#fb9f3a"
             ],
             [
              0.8888888888888888,
              "#fdca26"
             ],
             [
              1,
              "#f0f921"
             ]
            ],
            "type": "histogram2dcontour"
           }
          ],
          "mesh3d": [
           {
            "colorbar": {
             "outlinewidth": 0,
             "ticks": ""
            },
            "type": "mesh3d"
           }
          ],
          "parcoords": [
           {
            "line": {
             "colorbar": {
              "outlinewidth": 0,
              "ticks": ""
             }
            },
            "type": "parcoords"
           }
          ],
          "pie": [
           {
            "automargin": true,
            "type": "pie"
           }
          ],
          "scatter": [
           {
            "marker": {
             "colorbar": {
              "outlinewidth": 0,
              "ticks": ""
             }
            },
            "type": "scatter"
           }
          ],
          "scatter3d": [
           {
            "line": {
             "colorbar": {
              "outlinewidth": 0,
              "ticks": ""
             }
            },
            "marker": {
             "colorbar": {
              "outlinewidth": 0,
              "ticks": ""
             }
            },
            "type": "scatter3d"
           }
          ],
          "scattercarpet": [
           {
            "marker": {
             "colorbar": {
              "outlinewidth": 0,
              "ticks": ""
             }
            },
            "type": "scattercarpet"
           }
          ],
          "scattergeo": [
           {
            "marker": {
             "colorbar": {
              "outlinewidth": 0,
              "ticks": ""
             }
            },
            "type": "scattergeo"
           }
          ],
          "scattergl": [
           {
            "marker": {
             "colorbar": {
              "outlinewidth": 0,
              "ticks": ""
             }
            },
            "type": "scattergl"
           }
          ],
          "scattermapbox": [
           {
            "marker": {
             "colorbar": {
              "outlinewidth": 0,
              "ticks": ""
             }
            },
            "type": "scattermapbox"
           }
          ],
          "scatterpolar": [
           {
            "marker": {
             "colorbar": {
              "outlinewidth": 0,
              "ticks": ""
             }
            },
            "type": "scatterpolar"
           }
          ],
          "scatterpolargl": [
           {
            "marker": {
             "colorbar": {
              "outlinewidth": 0,
              "ticks": ""
             }
            },
            "type": "scatterpolargl"
           }
          ],
          "scatterternary": [
           {
            "marker": {
             "colorbar": {
              "outlinewidth": 0,
              "ticks": ""
             }
            },
            "type": "scatterternary"
           }
          ],
          "surface": [
           {
            "colorbar": {
             "outlinewidth": 0,
             "ticks": ""
            },
            "colorscale": [
             [
              0,
              "#0d0887"
             ],
             [
              0.1111111111111111,
              "#46039f"
             ],
             [
              0.2222222222222222,
              "#7201a8"
             ],
             [
              0.3333333333333333,
              "#9c179e"
             ],
             [
              0.4444444444444444,
              "#bd3786"
             ],
             [
              0.5555555555555556,
              "#d8576b"
             ],
             [
              0.6666666666666666,
              "#ed7953"
             ],
             [
              0.7777777777777778,
              "#fb9f3a"
             ],
             [
              0.8888888888888888,
              "#fdca26"
             ],
             [
              1,
              "#f0f921"
             ]
            ],
            "type": "surface"
           }
          ],
          "table": [
           {
            "cells": {
             "fill": {
              "color": "#EBF0F8"
             },
             "line": {
              "color": "white"
             }
            },
            "header": {
             "fill": {
              "color": "#C8D4E3"
             },
             "line": {
              "color": "white"
             }
            },
            "type": "table"
           }
          ]
         },
         "layout": {
          "annotationdefaults": {
           "arrowcolor": "#2a3f5f",
           "arrowhead": 0,
           "arrowwidth": 1
          },
          "autotypenumbers": "strict",
          "coloraxis": {
           "colorbar": {
            "outlinewidth": 0,
            "ticks": ""
           }
          },
          "colorscale": {
           "diverging": [
            [
             0,
             "#8e0152"
            ],
            [
             0.1,
             "#c51b7d"
            ],
            [
             0.2,
             "#de77ae"
            ],
            [
             0.3,
             "#f1b6da"
            ],
            [
             0.4,
             "#fde0ef"
            ],
            [
             0.5,
             "#f7f7f7"
            ],
            [
             0.6,
             "#e6f5d0"
            ],
            [
             0.7,
             "#b8e186"
            ],
            [
             0.8,
             "#7fbc41"
            ],
            [
             0.9,
             "#4d9221"
            ],
            [
             1,
             "#276419"
            ]
           ],
           "sequential": [
            [
             0,
             "#0d0887"
            ],
            [
             0.1111111111111111,
             "#46039f"
            ],
            [
             0.2222222222222222,
             "#7201a8"
            ],
            [
             0.3333333333333333,
             "#9c179e"
            ],
            [
             0.4444444444444444,
             "#bd3786"
            ],
            [
             0.5555555555555556,
             "#d8576b"
            ],
            [
             0.6666666666666666,
             "#ed7953"
            ],
            [
             0.7777777777777778,
             "#fb9f3a"
            ],
            [
             0.8888888888888888,
             "#fdca26"
            ],
            [
             1,
             "#f0f921"
            ]
           ],
           "sequentialminus": [
            [
             0,
             "#0d0887"
            ],
            [
             0.1111111111111111,
             "#46039f"
            ],
            [
             0.2222222222222222,
             "#7201a8"
            ],
            [
             0.3333333333333333,
             "#9c179e"
            ],
            [
             0.4444444444444444,
             "#bd3786"
            ],
            [
             0.5555555555555556,
             "#d8576b"
            ],
            [
             0.6666666666666666,
             "#ed7953"
            ],
            [
             0.7777777777777778,
             "#fb9f3a"
            ],
            [
             0.8888888888888888,
             "#fdca26"
            ],
            [
             1,
             "#f0f921"
            ]
           ]
          },
          "colorway": [
           "#636efa",
           "#EF553B",
           "#00cc96",
           "#ab63fa",
           "#FFA15A",
           "#19d3f3",
           "#FF6692",
           "#B6E880",
           "#FF97FF",
           "#FECB52"
          ],
          "font": {
           "color": "#2a3f5f"
          },
          "geo": {
           "bgcolor": "white",
           "lakecolor": "white",
           "landcolor": "#E5ECF6",
           "showlakes": true,
           "showland": true,
           "subunitcolor": "white"
          },
          "hoverlabel": {
           "align": "left"
          },
          "hovermode": "closest",
          "mapbox": {
           "style": "light"
          },
          "paper_bgcolor": "white",
          "plot_bgcolor": "#E5ECF6",
          "polar": {
           "angularaxis": {
            "gridcolor": "white",
            "linecolor": "white",
            "ticks": ""
           },
           "bgcolor": "#E5ECF6",
           "radialaxis": {
            "gridcolor": "white",
            "linecolor": "white",
            "ticks": ""
           }
          },
          "scene": {
           "xaxis": {
            "backgroundcolor": "#E5ECF6",
            "gridcolor": "white",
            "gridwidth": 2,
            "linecolor": "white",
            "showbackground": true,
            "ticks": "",
            "zerolinecolor": "white"
           },
           "yaxis": {
            "backgroundcolor": "#E5ECF6",
            "gridcolor": "white",
            "gridwidth": 2,
            "linecolor": "white",
            "showbackground": true,
            "ticks": "",
            "zerolinecolor": "white"
           },
           "zaxis": {
            "backgroundcolor": "#E5ECF6",
            "gridcolor": "white",
            "gridwidth": 2,
            "linecolor": "white",
            "showbackground": true,
            "ticks": "",
            "zerolinecolor": "white"
           }
          },
          "shapedefaults": {
           "line": {
            "color": "#2a3f5f"
           }
          },
          "ternary": {
           "aaxis": {
            "gridcolor": "white",
            "linecolor": "white",
            "ticks": ""
           },
           "baxis": {
            "gridcolor": "white",
            "linecolor": "white",
            "ticks": ""
           },
           "bgcolor": "#E5ECF6",
           "caxis": {
            "gridcolor": "white",
            "linecolor": "white",
            "ticks": ""
           }
          },
          "title": {
           "x": 0.05
          },
          "xaxis": {
           "automargin": true,
           "gridcolor": "white",
           "linecolor": "white",
           "ticks": "",
           "title": {
            "standoff": 15
           },
           "zerolinecolor": "white",
           "zerolinewidth": 2
          },
          "yaxis": {
           "automargin": true,
           "gridcolor": "white",
           "linecolor": "white",
           "ticks": "",
           "title": {
            "standoff": 15
           },
           "zerolinecolor": "white",
           "zerolinewidth": 2
          }
         }
        },
        "title": {
         "text": "Accuracy vs model architecture"
        },
        "xaxis": {
         "autorange": true,
         "range": [
          -0.5,
          2.5
         ],
         "title": {
          "text": "Model architecture"
         },
         "type": "category"
        },
        "yaxis": {
         "range": [
          0.8,
          1
         ],
         "title": {
          "text": "Accuracy on the test-set"
         },
         "type": "linear"
        }
       }
      },
      "image/png": "[encoded data removed]",
      "text/html": [
       "<div>                            <div id=\"3f6e2e10-173d-41bd-9fe9-8f7adef1dec9\" class=\"plotly-graph-div\" style=\"height:525px; width:100%;\"></div>            <script type=\"text/javascript\">                require([\"plotly\"], function(Plotly) {                    window.PLOTLYENV=window.PLOTLYENV || {};                                    if (document.getElementById(\"3f6e2e10-173d-41bd-9fe9-8f7adef1dec9\")) {                    Plotly.newPlot(                        \"3f6e2e10-173d-41bd-9fe9-8f7adef1dec9\",                        [{\"marker\":{\"color\":\"#ef553b\"},\"name\":\"longformer-512\",\"opacity\":0.8,\"type\":\"bar\",\"x\":[\"longformer\"],\"y\":[0.9418212478920742]},{\"marker\":{\"color\":\"#e7482f\"},\"name\":\"longformer-1024\",\"opacity\":0.8,\"type\":\"bar\",\"x\":[\"longformer\"],\"y\":[0.9232715008431703]},{\"marker\":{\"color\":\"#00cc96\"},\"name\":\"big-bird-512\",\"opacity\":0.8,\"type\":\"bar\",\"x\":[\"big-bird\"],\"y\":[0.9435075885328836]},{\"marker\":{\"color\":\"#06b868\"},\"name\":\"big-bird-1024\",\"opacity\":0.8,\"type\":\"bar\",\"x\":[\"big-bird\"],\"y\":[0.9232715008431703]},{\"marker\":{\"color\":\"#ff97ff\"},\"name\":\"roberta-512\",\"opacity\":0.8,\"type\":\"bar\",\"x\":[\"roberta\"],\"y\":[0.9468802698145026]},{\"marker\":{\"color\":\"#d180fb\"},\"name\":\"roberta-1024\",\"opacity\":0.8,\"type\":\"bar\",\"x\":[\"roberta\"],\"y\":[0.8996627318718381]}],                        {\"barmode\":\"group\",\"template\":{\"data\":{\"bar\":[{\"error_x\":{\"color\":\"#2a3f5f\"},\"error_y\":{\"color\":\"#2a3f5f\"},\"marker\":{\"line\":{\"color\":\"#E5ECF6\",\"width\":0.5},\"pattern\":{\"fillmode\":\"overlay\",\"size\":10,\"solidity\":0.2}},\"type\":\"bar\"}],\"barpolar\":[{\"marker\":{\"line\":{\"color\":\"#E5ECF6\",\"width\":0.5},\"pattern\":{\"fillmode\":\"overlay\",\"size\":10,\"solidity\":0.2}},\"type\":\"barpolar\"}],\"carpet\":[{\"aaxis\":{\"endlinecolor\":\"#2a3f5f\",\"gridcolor\":\"white\",\"linecolor\":\"white\",\"minorgridcolor\":\"white\",\"startlinecolor\":\"#2a3f5f\"},\"baxis\":{\"endlinecolor\":\"#2a3f5f\",\"gridcolor\":\"white\",\"linecolor\":\"white\",\"minorgridcolor\":\"white\",\"startlinecolor\":\"#2a3f5f\"},\"type\":\"carpet\"}],\"choropleth\":[{\"colorbar\":{\"outlinewidth\":0,\"ticks\":\"\"},\"type\":\"choropleth\"}],\"contour\":[{\"colorbar\":{\"outlinewidth\":0,\"ticks\":\"\"},\"colorscale\":[[0.0,\"#0d0887\"],[0.1111111111111111,\"#46039f\"],[0.2222222222222222,\"#7201a8\"],[0.3333333333333333,\"#9c179e\"],[0.4444444444444444,\"#bd3786\"],[0.5555555555555556,\"#d8576b\"],[0.6666666666666666,\"#ed7953\"],[0.7777777777777778,\"#fb9f3a\"],[0.8888888888888888,\"#fdca26\"],[1.0,\"#f0f921\"]],\"type\":\"contour\"}],\"contourcarpet\":[{\"colorbar\":{\"outlinewidth\":0,\"ticks\":\"\"},\"type\":\"contourcarpet\"}],\"heatmap\":[{\"colorbar\":{\"outlinewidth\":0,\"ticks\":\"\"},\"colorscale\":[[0.0,\"#0d0887\"],[0.1111111111111111,\"#46039f\"],[0.2222222222222222,\"#7201a8\"],[0.3333333333333333,\"#9c179e\"],[0.4444444444444444,\"#bd3786\"],[0.5555555555555556,\"#d8576b\"],[0.6666666666666666,\"#ed7953\"],[0.7777777777777778,\"#fb9f3a\"],[0.8888888888888888,\"#fdca26\"],[1.0,\"#f0f921\"]],\"type\":\"heatmap\"}],\"heatmapgl\":[{\"colorbar\":{\"outlinewidth\":0,\"ticks\":\"\"},\"colorscale\":[[0.0,\"#0d0887\"],[0.1111111111111111,\"#46039f\"],[0.2222222222222222,\"#7201a8\"],[0.3333333333333333,\"#9c179e\"],[0.4444444444444444,\"#bd3786\"],[0.5555555555555556,\"#d8576b\"],[0.6666666666666666,\"#ed7953\"],[0.7777777777777778,\"#fb9f3a\"],[0.8888888888888888,\"#fdca26\"],[1.0,\"#f0f921\"]],\"type\":\"heatmapgl\"}],\"histogram\":[{\"marker\":{\"pattern\":{\"fillmode\":\"overlay\",\"size\":10,\"solidity\":0.2}},\"type\":\"histogram\"}],\"histogram2d\":[{\"colorbar\":{\"outlinewidth\":0,\"ticks\":\"\"},\"colorscale\":[[0.0,\"#0d0887\"],[0.1111111111111111,\"#46039f\"],[0.2222222222222222,\"#7201a8\"],[0.3333333333333333,\"#9c179e\"],[0.4444444444444444,\"#bd3786\"],[0.5555555555555556,\"#d8576b\"],[0.6666666666666666,\"#ed7953\"],[0.7777777777777778,\"#fb9f3a\"],[0.8888888888888888,\"#fdca26\"],[1.0,\"#f0f921\"]],\"type\":\"histogram2d\"}],\"histogram2dcontour\":[{\"colorbar\":{\"outlinewidth\":0,\"ticks\":\"\"},\"colorscale\":[[0.0,\"#0d0887\"],[0.1111111111111111,\"#46039f\"],[0.2222222222222222,\"#7201a8\"],[0.3333333333333333,\"#9c179e\"],[0.4444444444444444,\"#bd3786\"],[0.5555555555555556,\"#d8576b\"],[0.6666666666666666,\"#ed7953\"],[0.7777777777777778,\"#fb9f3a\"],[0.8888888888888888,\"#fdca26\"],[1.0,\"#f0f921\"]],\"type\":\"histogram2dcontour\"}],\"mesh3d\":[{\"colorbar\":{\"outlinewidth\":0,\"ticks\":\"\"},\"type\":\"mesh3d\"}],\"parcoords\":[{\"line\":{\"colorbar\":{\"outlinewidth\":0,\"ticks\":\"\"}},\"type\":\"parcoords\"}],\"pie\":[{\"automargin\":true,\"type\":\"pie\"}],\"scatter\":[{\"marker\":{\"colorbar\":{\"outlinewidth\":0,\"ticks\":\"\"}},\"type\":\"scatter\"}],\"scatter3d\":[{\"line\":{\"colorbar\":{\"outlinewidth\":0,\"ticks\":\"\"}},\"marker\":{\"colorbar\":{\"outlinewidth\":0,\"ticks\":\"\"}},\"type\":\"scatter3d\"}],\"scattercarpet\":[{\"marker\":{\"colorbar\":{\"outlinewidth\":0,\"ticks\":\"\"}},\"type\":\"scattercarpet\"}],\"scattergeo\":[{\"marker\":{\"colorbar\":{\"outlinewidth\":0,\"ticks\":\"\"}},\"type\":\"scattergeo\"}],\"scattergl\":[{\"marker\":{\"colorbar\":{\"outlinewidth\":0,\"ticks\":\"\"}},\"type\":\"scattergl\"}],\"scattermapbox\":[{\"marker\":{\"colorbar\":{\"outlinewidth\":0,\"ticks\":\"\"}},\"type\":\"scattermapbox\"}],\"scatterpolar\":[{\"marker\":{\"colorbar\":{\"outlinewidth\":0,\"ticks\":\"\"}},\"type\":\"scatterpolar\"}],\"scatterpolargl\":[{\"marker\":{\"colorbar\":{\"outlinewidth\":0,\"ticks\":\"\"}},\"type\":\"scatterpolargl\"}],\"scatterternary\":[{\"marker\":{\"colorbar\":{\"outlinewidth\":0,\"ticks\":\"\"}},\"type\":\"scatterternary\"}],\"surface\":[{\"colorbar\":{\"outlinewidth\":0,\"ticks\":\"\"},\"colorscale\":[[0.0,\"#0d0887\"],[0.1111111111111111,\"#46039f\"],[0.2222222222222222,\"#7201a8\"],[0.3333333333333333,\"#9c179e\"],[0.4444444444444444,\"#bd3786\"],[0.5555555555555556,\"#d8576b\"],[0.6666666666666666,\"#ed7953\"],[0.7777777777777778,\"#fb9f3a\"],[0.8888888888888888,\"#fdca26\"],[1.0,\"#f0f921\"]],\"type\":\"surface\"}],\"table\":[{\"cells\":{\"fill\":{\"color\":\"#EBF0F8\"},\"line\":{\"color\":\"white\"}},\"header\":{\"fill\":{\"color\":\"#C8D4E3\"},\"line\":{\"color\":\"white\"}},\"type\":\"table\"}]},\"layout\":{\"annotationdefaults\":{\"arrowcolor\":\"#2a3f5f\",\"arrowhead\":0,\"arrowwidth\":1},\"autotypenumbers\":\"strict\",\"coloraxis\":{\"colorbar\":{\"outlinewidth\":0,\"ticks\":\"\"}},\"colorscale\":{\"diverging\":[[0,\"#8e0152\"],[0.1,\"#c51b7d\"],[0.2,\"#de77ae\"],[0.3,\"#f1b6da\"],[0.4,\"#fde0ef\"],[0.5,\"#f7f7f7\"],[0.6,\"#e6f5d0\"],[0.7,\"#b8e186\"],[0.8,\"#7fbc41\"],[0.9,\"#4d9221\"],[1,\"#276419\"]],\"sequential\":[[0.0,\"#0d0887\"],[0.1111111111111111,\"#46039f\"],[0.2222222222222222,\"#7201a8\"],[0.3333333333333333,\"#9c179e\"],[0.4444444444444444,\"#bd3786\"],[0.5555555555555556,\"#d8576b\"],[0.6666666666666666,\"#ed7953\"],[0.7777777777777778,\"#fb9f3a\"],[0.8888888888888888,\"#fdca26\"],[1.0,\"#f0f921\"]],\"sequentialminus\":[[0.0,\"#0d0887\"],[0.1111111111111111,\"#46039f\"],[0.2222222222222222,\"#7201a8\"],[0.3333333333333333,\"#9c179e\"],[0.4444444444444444,\"#bd3786\"],[0.5555555555555556,\"#d8576b\"],[0.6666666666666666,\"#ed7953\"],[0.7777777777777778,\"#fb9f3a\"],[0.8888888888888888,\"#fdca26\"],[1.0,\"#f0f921\"]]},\"colorway\":[\"#636efa\",\"#EF553B\",\"#00cc96\",\"#ab63fa\",\"#FFA15A\",\"#19d3f3\",\"#FF6692\",\"#B6E880\",\"#FF97FF\",\"#FECB52\"],\"font\":{\"color\":\"#2a3f5f\"},\"geo\":{\"bgcolor\":\"white\",\"lakecolor\":\"white\",\"landcolor\":\"#E5ECF6\",\"showlakes\":true,\"showland\":true,\"subunitcolor\":\"white\"},\"hoverlabel\":{\"align\":\"left\"},\"hovermode\":\"closest\",\"mapbox\":{\"style\":\"light\"},\"paper_bgcolor\":\"white\",\"plot_bgcolor\":\"#E5ECF6\",\"polar\":{\"angularaxis\":{\"gridcolor\":\"white\",\"linecolor\":\"white\",\"ticks\":\"\"},\"bgcolor\":\"#E5ECF6\",\"radialaxis\":{\"gridcolor\":\"white\",\"linecolor\":\"white\",\"ticks\":\"\"}},\"scene\":{\"xaxis\":{\"backgroundcolor\":\"#E5ECF6\",\"gridcolor\":\"white\",\"gridwidth\":2,\"linecolor\":\"white\",\"showbackground\":true,\"ticks\":\"\",\"zerolinecolor\":\"white\"},\"yaxis\":{\"backgroundcolor\":\"#E5ECF6\",\"gridcolor\":\"white\",\"gridwidth\":2,\"linecolor\":\"white\",\"showbackground\":true,\"ticks\":\"\",\"zerolinecolor\":\"white\"},\"zaxis\":{\"backgroundcolor\":\"#E5ECF6\",\"gridcolor\":\"white\",\"gridwidth\":2,\"linecolor\":\"white\",\"showbackground\":true,\"ticks\":\"\",\"zerolinecolor\":\"white\"}},\"shapedefaults\":{\"line\":{\"color\":\"#2a3f5f\"}},\"ternary\":{\"aaxis\":{\"gridcolor\":\"white\",\"linecolor\":\"white\",\"ticks\":\"\"},\"baxis\":{\"gridcolor\":\"white\",\"linecolor\":\"white\",\"ticks\":\"\"},\"bgcolor\":\"#E5ECF6\",\"caxis\":{\"gridcolor\":\"white\",\"linecolor\":\"white\",\"ticks\":\"\"}},\"title\":{\"x\":0.05},\"xaxis\":{\"automargin\":true,\"gridcolor\":\"white\",\"linecolor\":\"white\",\"ticks\":\"\",\"title\":{\"standoff\":15},\"zerolinecolor\":\"white\",\"zerolinewidth\":2},\"yaxis\":{\"automargin\":true,\"gridcolor\":\"white\",\"linecolor\":\"white\",\"ticks\":\"\",\"title\":{\"standoff\":15},\"zerolinecolor\":\"white\",\"zerolinewidth\":2}}},\"title\":{\"text\":\"Accuracy vs model architecture\"},\"xaxis\":{\"title\":{\"text\":\"Model architecture\"}},\"yaxis\":{\"range\":[0.8,1],\"title\":{\"text\":\"Accuracy on the test-set\"}}},                        {\"responsive\": true}                    ).then(function(){\n",
       "                            \n",
       "var gd = document.getElementById('3f6e2e10-173d-41bd-9fe9-8f7adef1dec9');\n",
       "var x = new MutationObserver(function (mutations, observer) {{\n",
       "        var display = window.getComputedStyle(gd).display;\n",
       "        if (!display || display === 'none') {{\n",
       "            console.log([gd, 'removed!']);\n",
       "            Plotly.purge(gd);\n",
       "            observer.disconnect();\n",
       "        }}\n",
       "}});\n",
       "\n",
       "// Listen for the removal of the full notebook cells\n",
       "var notebookContainer = gd.closest('#notebook-container');\n",
       "if (notebookContainer) {{\n",
       "    x.observe(notebookContainer, {childList: true});\n",
       "}}\n",
       "\n",
       "// Listen for the clearing of the current output cell\n",
       "var outputEl = gd.closest('.output');\n",
       "if (outputEl) {{\n",
       "    x.observe(outputEl, {childList: true});\n",
       "}}\n",
       "\n",
       "                        })                };                });            </script>        </div>"
      ]
     },
     "metadata": {},
     "output_type": "display_data"
    }
   ],
   "source": [
    "fig = go.Figure()\n",
    "colors=[px.colors.qualitative.Plotly[1],px.colors.qualitative.Plotly[2],px.colors.qualitative.Plotly[8]]\n",
    "\n",
    "for index, model_name in enumerate(result['model_name'].unique()):\n",
    "    trace_data = result[result.model_name == model_name].sort_values('max_token_length').reset_index()\n",
    "    color_map = list(Color(colors[index]).range_to(Color('#000'), 75))\n",
    "    for i, row in trace_data.iterrows():\n",
    "        fig.add_trace(go.Bar(\n",
    "            x=[row[\"model_name\"]],\n",
    "            y=[row[\"eval_accuracy\"]],\n",
    "            marker_color=color_map[i*5].hex,\n",
    "            opacity=0.8,\n",
    "            name=row['iden'],\n",
    "        ))\n",
    "\n",
    "fig.update_layout(\n",
    "    title=\"Accuracy vs model architecture\",\n",
    "    xaxis_title=\"Model architecture\",\n",
    "    yaxis_title=\"Accuracy on the test-set\",\n",
    "    yaxis_range=[0.8,1],\n",
    "    \n",
    ")\n",
    "fig.update_layout(barmode='group')\n",
    "\n",
    "fig.show()"
   ]
  },
  {
   "cell_type": "markdown",
   "metadata": {},
   "source": [
    "# 🎁 Wrapping up \n",
    "\n",
    "Nicely done! Let's wrap up some of our findings 🧪.\n",
    "\n",
    "* Both LongFormer and BigBird outperform roBERTa for longer sequences by a small margin 💥 **Sparse attention for the win** 👑\n",
    "* BigBird and LongFormer also show excellent performance on shorter sequences, in line with roBERTa's performance 💪 \n",
    "* The **performance hit** between short and long sequence lengths is **less noticeable** for the efficient transformer architectures \n",
    "* LongFormer and BigBird have **higher training and inference times**. However, we didn't use the architectures to its full capactity of 4096 wordpieces 🙋‍\n",
    "\n"
   ]
  }
 ],
 "metadata": {
  "accelerator": "GPU",
  "colab": {
   "collapsed_sections": [],
   "name": "LongRangeTransformers.ipynb",
   "provenance": [],
   "toc_visible": true
  },
  "environment": {
   "name": "common-cu101.m59",
   "type": "gcloud",
   "uri": "gcr.io/deeplearning-platform-release/base-cu101:m59"
  },
  "interpreter": {
   "hash": "86993f52baa5a6752b4073e845d54786683e91310bee8dfb64ea6af9c3404bcd"
  },
  "kernelspec": {
   "display_name": "Python 3",
   "language": "python",
   "name": "python3"
  },
  "language_info": {
   "codemirror_mode": {
    "name": "ipython",
    "version": 3
   },
   "file_extension": ".py",
   "mimetype": "text/x-python",
   "name": "python",
   "nbconvert_exporter": "python",
   "pygments_lexer": "ipython3",
   "version": "3.7.8"
  },
  "widgets": {
   "application/vnd.jupyter.widget-state+json": {
    "state": {},
    "version_major": 2,
    "version_minor": 0
   }
  }
 },
 "nbformat": 4,
 "nbformat_minor": 4
}
