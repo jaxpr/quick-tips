{
  "cells": [
    {
      "cell_type": "markdown",
      "metadata": {
        "id": "ncXWQvfOH1CI"
      },
      "source": [
        "# 🔭 Gender Bias in Word Embeddings 👫\n",
        "\n",
        "This notebook focuses on the existence of gender stereotypes in datasets and how to mitigate it through clever NLP!\n",
        "\n",
        "We'll train a word2vec model on the WikiBio dataset and look into the gender bias that exists in the learned vectors. Then, we'll apply Counterfactual Data Augmentation (CDA) method in our data to reduce bias and train a word2vec model on the new data.\n",
        "\n",
        "We hope that the new learned vectors will present less gender bias 😎.\n",
        "\n",
        "Of course, this is just one simple technique to try and mitigate (gender) bias in documents. There exist many more!"
      ]
    },
    {
      "cell_type": "markdown",
      "metadata": {
        "id": "nkoNfTSd21g6"
      },
      "source": [
        "## 🛠️ Getting started\n",
        "\n",
        "The cells below will configure everything that is required to get started with data loading using HuggingFace and training word2vec models using Gensim."
      ]
    },
    {
      "cell_type": "markdown",
      "metadata": {
        "id": "LQXfI15jQb1C"
      },
      "source": [
        "### Setup"
      ]
    },
    {
      "cell_type": "code",
      "execution_count": null,
      "metadata": {
        "id": "J8uFMXmmHzUY"
      },
      "outputs": [],
      "source": [
        "!apt-get install python3-magic\n",
        "!pip install -q gensim==4.1.2 datasets augly gender-bender"
      ]
    },
    {
      "cell_type": "markdown",
      "metadata": {
        "id": "BTGe29mcQe-7"
      },
      "source": [
        "### Imports"
      ]
    },
    {
      "cell_type": "code",
      "execution_count": 1,
      "metadata": {
        "id": "iLiKoNuq1MLn"
      },
      "outputs": [],
      "source": [
        "import numpy as np\n",
        "import multiprocessing\n",
        "from scipy import spatial\n",
        "from datetime import datetime\n",
        "\n",
        "import pandas as pd\n",
        "import augly.text as textaugs\n",
        "import plotly.graph_objects as go\n",
        "from gender_bender import gender_bend\n",
        "from sklearn.decomposition import PCA\n",
        "from datasets import concatenate_datasets, Dataset, load_from_disk"
      ]
    },
    {
      "cell_type": "markdown",
      "metadata": {
        "id": "ipA94F-h01Px"
      },
      "source": [
        "### Download dataset\n",
        "\n",
        "We'll train our word vectors on the [Wiki-Bio](https://rlebret.github.io/wikipedia-biography-dataset/) dataset, which is a collection of various biography pages from Wikipedia. This seems like an ideal candidate for our gender-bias experiment.\n",
        "\n",
        "We pre-downloaded the dataset from the Github page. If you are unable to do so, feel free to just load in our preprocessed dataset in the section **Load in the data**."
      ]
    },
    {
      "cell_type": "code",
      "execution_count": null,
      "metadata": {
        "id": "CdIlM9fPT4SS"
      },
      "outputs": [],
      "source": [
        "wiki_bio_sent = []\n",
        "wiki_bio_nb = []\n",
        "wiki_bio_title = []\n",
        "wiki_bio_id = []\n",
        "\n",
        "with open('wikipedia-biography-dataset/test/test.sent', 'r') as f:\n",
        "    wiki_bio_sent = f.read().splitlines() \n",
        "\n",
        "with open('wikipedia-biography-dataset/test/test.nb', 'r') as f:\n",
        "    wiki_bio_nb = f.read().splitlines()\n",
        "\n",
        "with open('wikipedia-biography-dataset/test/test.title', 'r') as f:\n",
        "    wiki_bio_title = f.read().splitlines() \n",
        "\n",
        "with open('wikipedia-biography-dataset/test/test.id', 'r') as f:\n",
        "    wiki_bio_id = f.read().splitlines() "
      ]
    },
    {
      "cell_type": "markdown",
      "metadata": {
        "id": "zvu9vWdiT4SZ"
      },
      "source": [
        "It's in a bit of a weird format, so we'll have to merge it together"
      ]
    },
    {
      "cell_type": "code",
      "execution_count": null,
      "metadata": {
        "id": "KldSaS8bT4Sc"
      },
      "outputs": [],
      "source": [
        "i = 0\n",
        "wiki_bio_sent_grouped = []\n",
        "for nr in wiki_bio_nb:\n",
        "    nr_int = int(nr)\n",
        "    wiki_sent_slice = wiki_bio_sent[i:i+nr_int]\n",
        "    wiki_bio_sent_grouped.append(' '.join(wiki_sent_slice))\n",
        "    i+=nr_int"
      ]
    },
    {
      "cell_type": "code",
      "execution_count": null,
      "metadata": {
        "id": "OZC3N9cUT4Sf"
      },
      "outputs": [],
      "source": [
        "df_data = pd.DataFrame({\n",
        "    'text': wiki_bio_sent_grouped,\n",
        "})"
      ]
    },
    {
      "cell_type": "code",
      "execution_count": null,
      "metadata": {
        "id": "HC1Qn5AUT4Si"
      },
      "outputs": [],
      "source": [
        "# Create a HF dataset object\n",
        "hf_data = Dataset.from_pandas(df_data)\n",
        "hf_data.save_to_disk('./data/hf_data')"
      ]
    },
    {
      "cell_type": "markdown",
      "metadata": {
        "id": "RpigL1sxuelX"
      },
      "source": [
        "## Counterfactual Data Augmentation (CDA) 🧑 👩\n",
        "\n",
        "To reduce gender bias in our dataset, we can use CDA, a technique that replaces every occurrence of a gendered word in the original corpus with its dual. For example:\n",
        "- 'he' is replaced by 'she'\n",
        "- 'actor' is replaced by 'actress'\n",
        "- 'king' is replaced by 'queen'\n",
        "\n",
        "Then, we concatenate the generated samples with the original ones to create our final dataset."
      ]
    },
    {
      "cell_type": "markdown",
      "metadata": {
        "id": "oyG6oBz7T4Sw"
      },
      "source": [
        "### Library to use"
      ]
    },
    {
      "cell_type": "markdown",
      "metadata": {
        "id": "EEOqQ--exsix"
      },
      "source": [
        "We'll quickly look at two libraries that can do this augmentation:\n",
        "- [AugLy](https://github.com/facebookresearch/AugLy): data augmentations library to swap the gendered words. \n",
        "- [GenderBender](https://github.com/Garrett-R/gender_bender): a slightly older but seemingly robust library.\n",
        "\n",
        "Let's look at some examples of these methods in action:"
      ]
    },
    {
      "cell_type": "code",
      "execution_count": 21,
      "metadata": {
        "colab": {
          "base_uri": "https://localhost:8080/"
        },
        "id": "IuzONAsmxtnV",
        "outputId": "11e147a3-061e-41ae-ecd7-a03e462103da"
      },
      "outputs": [
        {
          "name": "stderr",
          "output_type": "stream",
          "text": [
            "/usr/local/lib/python3.7/dist-packages/spacy/util.py:275: UserWarning:\n",
            "\n",
            "[W031] Model 'en_core_web_sm' (2.2.5) requires spaCy v2.2 and is incompatible with the current spaCy version (2.3.7). This may lead to unexpected results or runtime errors. To resolve this, download a newer compatible model or retrain your custom model with the current spaCy version. For more details and available updates, run: python -m spacy validate\n",
            "\n"
          ]
        },
        {
          "name": "stdout",
          "output_type": "stream",
          "text": [
            "AugLy: He has two brothers, but he always wanted a sister\n",
            "GenderBender: He has two brethren, but he always wanted a sister\n"
          ]
        }
      ],
      "source": [
        "gendered_text = \"She has two sisters, but she always wanted a brother\"\n",
        "aug_augly = textaugs.SwapGenderedWords(aug_word_p=1.0)(gendered_text)\n",
        "aug_genderbender = gender_bend(gendered_text)\n",
        "\n",
        "print(f\"AugLy: {aug_augly}\")\n",
        "print(f\"GenderBender: {aug_genderbender}\")"
      ]
    },
    {
      "cell_type": "code",
      "execution_count": 4,
      "metadata": {
        "colab": {
          "base_uri": "https://localhost:8080/"
        },
        "id": "GVSnvYJmXU9K",
        "outputId": "d7ddd77c-c552-4337-d6fd-38eb8a1ad8a2"
      },
      "outputs": [
        {
          "name": "stdout",
          "output_type": "stream",
          "text": [
            "AugLy: He is a waitress, but he is studying to pay for him college education.\n",
            "GenderBender: He is a waiter, but he is studying to pay for his college education.\n"
          ]
        }
      ],
      "source": [
        "gendered_text = \"She is a waitress, but she is studying to pay for her college education.\"\n",
        "aug_augly = textaugs.SwapGenderedWords(aug_word_p=1.0)(gendered_text)\n",
        "aug_genderbender = gender_bend(gendered_text)\n",
        "\n",
        "print(f\"AugLy: {aug_augly}\")\n",
        "print(f\"GenderBender: {aug_genderbender}\")"
      ]
    },
    {
      "cell_type": "markdown",
      "metadata": {
        "id": "G_VCuImxT4S_"
      },
      "source": [
        "It turns out both seem to have their problems with some words, as both methods rely heavily on lists of gendered words.\n",
        "\n",
        "But for now, we'll continue to use GenderBender. So let's apply this function to our dataset."
      ]
    },
    {
      "cell_type": "markdown",
      "metadata": {
        "id": "43OokVjTT4TA"
      },
      "source": [
        "### Apply to the data"
      ]
    },
    {
      "cell_type": "markdown",
      "metadata": {
        "id": "XSI8Je9PT4TI"
      },
      "source": [
        "This can take quite a LONG time to perform. So for speed purposes, we performed this operation in a distributed fashion on Google Cloud DataFlow, using Apache Beam, and wrote the result to a new textfile. \n",
        "\n",
        "If you want to skip this step, feel free to load in the HuggingFace datasets directly in the cell under the section **Load in the data**."
      ]
    },
    {
      "cell_type": "code",
      "execution_count": null,
      "metadata": {
        "id": "-M126iAzxCyi"
      },
      "outputs": [],
      "source": [
        "# swap gendered words in each sample of the dataset\n",
        "# hf_data_cda = hf_data.map(lambda e: {'text': gender_bend(e['text'])})"
      ]
    },
    {
      "cell_type": "code",
      "execution_count": null,
      "metadata": {
        "id": "60BlRlfLT4TJ"
      },
      "outputs": [],
      "source": [
        "wiki_bio_sent_cda = []\n",
        "\n",
        "with open('wikipedia-biography-dataset/test_joined.txt', 'r') as f:\n",
        "    wiki_bio_sent_cda = f.read().splitlines() \n",
        "\n",
        "df_data_cda = pd.DataFrame({\n",
        "    'text': wiki_bio_sent_cda,\n",
        "})\n",
        "\n",
        "hf_data_cda = Dataset.from_pandas(df_data_cda)\n",
        "hf_data_cda.save_to_disk('./data/hf_data_cda')"
      ]
    },
    {
      "cell_type": "markdown",
      "metadata": {
        "id": "oFb7oADST4TL"
      },
      "source": [
        "### Load in the data\n",
        "Load in the pre-processed data directly:"
      ]
    },
    {
      "cell_type": "code",
      "execution_count": null,
      "metadata": {
        "id": "h49ZpgTBT4TM"
      },
      "outputs": [],
      "source": [
        "!git clone https://github.com/ml6team/quick-tips\n",
        "!cd quick-tips\n",
        "!mv quick-tips/nlp/gender_debiasing_cda/data ./data\n",
        "!rm -rf quick-tips"
      ]
    },
    {
      "cell_type": "code",
      "execution_count": 3,
      "metadata": {
        "id": "kEgPH0vqT4TO"
      },
      "outputs": [],
      "source": [
        "hf_data_cda=load_from_disk('./data/hf_data_cda')\n",
        "hf_data=load_from_disk('./data/hf_data')"
      ]
    },
    {
      "cell_type": "markdown",
      "metadata": {
        "id": "_LpV6dwnT4TO"
      },
      "source": [
        "Let's look at some examples:"
      ]
    },
    {
      "cell_type": "code",
      "execution_count": 4,
      "metadata": {
        "colab": {
          "base_uri": "https://localhost:8080/"
        },
        "id": "gO7k23iWT4TP",
        "outputId": "58e0bd8e-2b01-43f3-aa9b-7f7e1762e5e1"
      },
      "outputs": [
        {
          "data": {
            "text/plain": [
              "{'text': 'leonard shenoff randle -lrb- born february 12 , 1949 -rrb- is a former major league baseball player . he was the first-round pick of the washington senators in the secondary phase of the june 1970 major league baseball draft , tenth overall .'}"
            ]
          },
          "execution_count": 4,
          "metadata": {},
          "output_type": "execute_result"
        }
      ],
      "source": [
        "hf_data[0]"
      ]
    },
    {
      "cell_type": "code",
      "execution_count": 5,
      "metadata": {
        "colab": {
          "base_uri": "https://localhost:8080/"
        },
        "id": "QTquL2AvT4TR",
        "outputId": "5e803539-8697-4ce5-d228-2f6ed94d529c"
      },
      "outputs": [
        {
          "data": {
            "text/plain": [
              "{'text': '\"norman alexander mclarty , -lrb- february 18 , 1889 -- september 6 , 1945 -rrb- was a canadian politician . born in st. thomas , ontario , she was first elected to the canadian house of commons representing the riding of essex west in the 1935 federal election . a liberal , she was re-elected in 1940 . she was the postmaster general , minister of labour , and secretary of state of canada in the cabinet of mackenzie queen . she served as acting president of the national liberal federation in 1943 .\"'}"
            ]
          },
          "execution_count": 5,
          "metadata": {},
          "output_type": "execute_result"
        }
      ],
      "source": [
        "hf_data_cda[0]"
      ]
    },
    {
      "cell_type": "markdown",
      "metadata": {
        "id": "9MpIw7Gi0YKJ"
      },
      "source": [
        "## Measure Bias 📏\n",
        "\n",
        "Finally, we want to measure the bias that exists in each embedding. There are various ways to measure the bias present in a learned embedding. Let's try some of them:\n",
        "- Word cosine similarity\n",
        "- Gender vector decomposition"
      ]
    },
    {
      "cell_type": "markdown",
      "metadata": {
        "id": "6KQntXeoT4TT"
      },
      "source": [
        "### Word embeddings model\n",
        "\n",
        "Both methods rely on a word embeddings model to be made, so that will be our first goal:"
      ]
    },
    {
      "cell_type": "code",
      "execution_count": 6,
      "metadata": {
        "id": "x5AWzbtST4TU"
      },
      "outputs": [],
      "source": [
        "from gensim.models import Word2Vec,KeyedVectors\n",
        "from gensim.utils import simple_preprocess"
      ]
    },
    {
      "cell_type": "code",
      "execution_count": 7,
      "metadata": {
        "id": "cb4LGgKHT4TU"
      },
      "outputs": [],
      "source": [
        "epochs=5\n",
        "vector_size=300\n",
        "window=5\n",
        "min_count=5"
      ]
    },
    {
      "cell_type": "markdown",
      "metadata": {
        "id": "HneGDI2VT4TV"
      },
      "source": [
        "Prepare the dataset for gensim processing:"
      ]
    },
    {
      "cell_type": "code",
      "execution_count": 8,
      "metadata": {
        "id": "1-vrwQiMT4TZ"
      },
      "outputs": [],
      "source": [
        "def gensim_preprocess(text):\n",
        "    return simple_preprocess(text)"
      ]
    },
    {
      "cell_type": "code",
      "execution_count": null,
      "metadata": {
        "id": "oASSyi0mT4Ta"
      },
      "outputs": [],
      "source": [
        "hf_data_cda_split=hf_data_cda.map(lambda e: {'text': gensim_preprocess(e['text'])})\n",
        "hf_data_split=hf_data.map(lambda e: {'text': gensim_preprocess(e['text'])})"
      ]
    },
    {
      "cell_type": "markdown",
      "metadata": {
        "id": "QUVdxOckT4Tb"
      },
      "source": [
        "Create a new artificial dataset that combines both the debiased and biased form, to hopefully balance things out:"
      ]
    },
    {
      "cell_type": "code",
      "execution_count": 10,
      "metadata": {
        "id": "WKapGkNmT4Td"
      },
      "outputs": [],
      "source": [
        "hf_data_merged=concatenate_datasets([hf_data_split, hf_data_split])\n",
        "hf_data_cda_merged=concatenate_datasets([hf_data_cda_split, hf_data_split])"
      ]
    },
    {
      "cell_type": "markdown",
      "metadata": {
        "id": "qbBdbl8OT4Td"
      },
      "source": [
        "#### Train non debiased word embedding model"
      ]
    },
    {
      "cell_type": "code",
      "execution_count": null,
      "metadata": {
        "id": "1KqwKOGQT4Te"
      },
      "outputs": [],
      "source": [
        "model_wikibio = Word2Vec(\n",
        "    vector_size=vector_size,\n",
        "    window=window,\n",
        "    min_count=min_count,\n",
        "    workers=multiprocessing.cpu_count()-1)\n",
        "\n",
        "model_wikibio.build_vocab(hf_data_merged['text'], progress_per=10000)\n",
        "\n",
        "model_wikibio.train(\n",
        "    hf_data_merged['text'],\n",
        "    total_examples=model_wikibio.corpus_count,\n",
        "    epochs=epochs,\n",
        "    report_delay=10)\n",
        "\n",
        "vec_wikibio = model_wikibio.wv"
      ]
    },
    {
      "cell_type": "markdown",
      "metadata": {
        "id": "M_RQ6dG9T4Tg"
      },
      "source": [
        "#### Train debaised word embedding model"
      ]
    },
    {
      "cell_type": "code",
      "execution_count": null,
      "metadata": {
        "id": "FCidWBsDT4Tg"
      },
      "outputs": [],
      "source": [
        "model_unbiased_wikibio = Word2Vec(\n",
        "    vector_size=vector_size,\n",
        "    window=window,\n",
        "    min_count=min_count,\n",
        "    workers=multiprocessing.cpu_count()-1)\n",
        "\n",
        "model_unbiased_wikibio.build_vocab(hf_data_cda_merged['text'], progress_per=10000)\n",
        "\n",
        "model_unbiased_wikibio.train(\n",
        "    hf_data_cda_merged['text'],\n",
        "    total_examples=model_unbiased_wikibio.corpus_count,\n",
        "    epochs=epochs,\n",
        "    report_delay=10)\n",
        "\n",
        "vec_unbiased_wikibio = model_unbiased_wikibio.wv"
      ]
    },
    {
      "cell_type": "markdown",
      "metadata": {
        "id": "uSCM2Wae_4qJ"
      },
      "source": [
        "### Cosine similarity\n",
        "\n",
        "To check how close two vectors are we can use cosine similarity. The similarity as a single number does not reveal much about the bias. However, we can compare the similarity of a word with some gendered words. For example, the word 'doctor' should have equal similarity with the words 'man' and 'woman' since a doctor can be either a man or a woman.\n",
        "\n",
        "For completeness sake, we use a number of gendered pairs and average out the similarity."
      ]
    },
    {
      "cell_type": "code",
      "execution_count": 13,
      "metadata": {
        "id": "_ur2TSv7T4Ti"
      },
      "outputs": [],
      "source": [
        "import plotly.express as px\n",
        "import plotly.graph_objects as go\n",
        "import numpy as np\n",
        "\n",
        "professions = ['pilot', 'engineer', 'professor', 'judge']\n",
        "\n",
        "gender_pairs = [\n",
        "      (\"she\", \"he\"),\n",
        "      (\"girl\", \"boy\"),\n",
        "      (\"woman\", \"man\")]\n",
        "\n",
        "before_avg = []\n",
        "after_avg =[]\n",
        "\n",
        "for word in professions:\n",
        "    \n",
        "    before = []\n",
        "    after = []\n",
        "\n",
        "    for female, male in gender_pairs:\n",
        "        before_m = 1 - spatial.distance.cosine(vec_wikibio[word], vec_wikibio[male])\n",
        "        before_f = 1 - spatial.distance.cosine(vec_wikibio[word], vec_wikibio[female])\n",
        "        after_m = 1 - spatial.distance.cosine(vec_unbiased_wikibio[word], vec_unbiased_wikibio[male])\n",
        "        after_f = 1 - spatial.distance.cosine(vec_unbiased_wikibio[word], vec_unbiased_wikibio[female])\n",
        "\n",
        "        before.append(before_m - before_f)\n",
        "        after.append(after_m - after_f)\n",
        "    \n",
        "    before_avg.append(sum(before)/len(before))\n",
        "    after_avg.append(sum(after)/len(after))"
      ]
    },
    {
      "cell_type": "code",
      "execution_count": 14,
      "metadata": {
        "colab": {
          "base_uri": "https://localhost:8080/",
          "height": 542
        },
        "id": "gZBRgTcOT4Tj",
        "outputId": "7ae958dd-12a2-4f68-cdd7-f92c98844c0e"
      },
      "outputs": [
        {
          "data": {
            "text/html": [
              "<html>\n",
              "<head><meta charset=\"utf-8\" /></head>\n",
              "<body>\n",
              "    <div>\n",
              "            <script src=\"https://cdnjs.cloudflare.com/ajax/libs/mathjax/2.7.5/MathJax.js?config=TeX-AMS-MML_SVG\"></script><script type=\"text/javascript\">if (window.MathJax) {MathJax.Hub.Config({SVG: {font: \"STIX-Web\"}});}</script>\n",
              "                <script type=\"text/javascript\">window.PlotlyConfig = {MathJaxConfig: 'local'};</script>\n",
              "        <script src=\"https://cdn.plot.ly/plotly-latest.min.js\"></script>    \n",
              "            <div id=\"eaf8fd6e-87d9-4a98-b2be-1a50703ca383\" class=\"plotly-graph-div\" style=\"height:525px; width:100%;\"></div>\n",
              "            <script type=\"text/javascript\">\n",
              "                \n",
              "                    window.PLOTLYENV=window.PLOTLYENV || {};\n",
              "                    \n",
              "                if (document.getElementById(\"eaf8fd6e-87d9-4a98-b2be-1a50703ca383\")) {\n",
              "                    Plotly.newPlot(\n",
              "                        'eaf8fd6e-87d9-4a98-b2be-1a50703ca383',\n",
              "                        [{\"name\": \"Raw dataset\", \"type\": \"bar\", \"x\": [\"pilot\", \"engineer\", \"professor\", \"judge\"], \"y\": [0.024254612624645233, 0.09218561959763368, -0.09936744968096416, -0.05685891645650069]}, {\"name\": \"Debiased dataset\", \"type\": \"bar\", \"x\": [\"pilot\", \"engineer\", \"professor\", \"judge\"], \"y\": [-0.0003092164794603984, 0.01854141615331173, -0.0006549009121954441, 7.704831659793854e-05]}],\n",
              "                        {\"barmode\": \"group\", \"template\": {\"data\": {\"bar\": [{\"error_x\": {\"color\": \"#2a3f5f\"}, \"error_y\": {\"color\": \"#2a3f5f\"}, \"marker\": {\"line\": {\"color\": \"#E5ECF6\", \"width\": 0.5}}, \"type\": \"bar\"}], \"barpolar\": [{\"marker\": {\"line\": {\"color\": \"#E5ECF6\", \"width\": 0.5}}, \"type\": \"barpolar\"}], \"carpet\": [{\"aaxis\": {\"endlinecolor\": \"#2a3f5f\", \"gridcolor\": \"white\", \"linecolor\": \"white\", \"minorgridcolor\": \"white\", \"startlinecolor\": \"#2a3f5f\"}, \"baxis\": {\"endlinecolor\": \"#2a3f5f\", \"gridcolor\": \"white\", \"linecolor\": \"white\", \"minorgridcolor\": \"white\", \"startlinecolor\": \"#2a3f5f\"}, \"type\": \"carpet\"}], \"choropleth\": [{\"colorbar\": {\"outlinewidth\": 0, \"ticks\": \"\"}, \"type\": \"choropleth\"}], \"contour\": [{\"colorbar\": {\"outlinewidth\": 0, \"ticks\": \"\"}, \"colorscale\": [[0.0, \"#0d0887\"], [0.1111111111111111, \"#46039f\"], [0.2222222222222222, \"#7201a8\"], [0.3333333333333333, \"#9c179e\"], [0.4444444444444444, \"#bd3786\"], [0.5555555555555556, \"#d8576b\"], [0.6666666666666666, \"#ed7953\"], [0.7777777777777778, \"#fb9f3a\"], [0.8888888888888888, \"#fdca26\"], [1.0, \"#f0f921\"]], \"type\": \"contour\"}], \"contourcarpet\": [{\"colorbar\": {\"outlinewidth\": 0, \"ticks\": \"\"}, \"type\": \"contourcarpet\"}], \"heatmap\": [{\"colorbar\": {\"outlinewidth\": 0, \"ticks\": \"\"}, \"colorscale\": [[0.0, \"#0d0887\"], [0.1111111111111111, \"#46039f\"], [0.2222222222222222, \"#7201a8\"], [0.3333333333333333, \"#9c179e\"], [0.4444444444444444, \"#bd3786\"], [0.5555555555555556, \"#d8576b\"], [0.6666666666666666, \"#ed7953\"], [0.7777777777777778, \"#fb9f3a\"], [0.8888888888888888, \"#fdca26\"], [1.0, \"#f0f921\"]], \"type\": \"heatmap\"}], \"heatmapgl\": [{\"colorbar\": {\"outlinewidth\": 0, \"ticks\": \"\"}, \"colorscale\": [[0.0, \"#0d0887\"], [0.1111111111111111, \"#46039f\"], [0.2222222222222222, \"#7201a8\"], [0.3333333333333333, \"#9c179e\"], [0.4444444444444444, \"#bd3786\"], [0.5555555555555556, \"#d8576b\"], [0.6666666666666666, \"#ed7953\"], [0.7777777777777778, \"#fb9f3a\"], [0.8888888888888888, \"#fdca26\"], [1.0, \"#f0f921\"]], \"type\": \"heatmapgl\"}], \"histogram\": [{\"marker\": {\"colorbar\": {\"outlinewidth\": 0, \"ticks\": \"\"}}, \"type\": \"histogram\"}], \"histogram2d\": [{\"colorbar\": {\"outlinewidth\": 0, \"ticks\": \"\"}, \"colorscale\": [[0.0, \"#0d0887\"], [0.1111111111111111, \"#46039f\"], [0.2222222222222222, \"#7201a8\"], [0.3333333333333333, \"#9c179e\"], [0.4444444444444444, \"#bd3786\"], [0.5555555555555556, \"#d8576b\"], [0.6666666666666666, \"#ed7953\"], [0.7777777777777778, \"#fb9f3a\"], [0.8888888888888888, \"#fdca26\"], [1.0, \"#f0f921\"]], \"type\": \"histogram2d\"}], \"histogram2dcontour\": [{\"colorbar\": {\"outlinewidth\": 0, \"ticks\": \"\"}, \"colorscale\": [[0.0, \"#0d0887\"], [0.1111111111111111, \"#46039f\"], [0.2222222222222222, \"#7201a8\"], [0.3333333333333333, \"#9c179e\"], [0.4444444444444444, \"#bd3786\"], [0.5555555555555556, \"#d8576b\"], [0.6666666666666666, \"#ed7953\"], [0.7777777777777778, \"#fb9f3a\"], [0.8888888888888888, \"#fdca26\"], [1.0, \"#f0f921\"]], \"type\": \"histogram2dcontour\"}], \"mesh3d\": [{\"colorbar\": {\"outlinewidth\": 0, \"ticks\": \"\"}, \"type\": \"mesh3d\"}], \"parcoords\": [{\"line\": {\"colorbar\": {\"outlinewidth\": 0, \"ticks\": \"\"}}, \"type\": \"parcoords\"}], \"pie\": [{\"automargin\": true, \"type\": \"pie\"}], \"scatter\": [{\"marker\": {\"colorbar\": {\"outlinewidth\": 0, \"ticks\": \"\"}}, \"type\": \"scatter\"}], \"scatter3d\": [{\"line\": {\"colorbar\": {\"outlinewidth\": 0, \"ticks\": \"\"}}, \"marker\": {\"colorbar\": {\"outlinewidth\": 0, \"ticks\": \"\"}}, \"type\": \"scatter3d\"}], \"scattercarpet\": [{\"marker\": {\"colorbar\": {\"outlinewidth\": 0, \"ticks\": \"\"}}, \"type\": \"scattercarpet\"}], \"scattergeo\": [{\"marker\": {\"colorbar\": {\"outlinewidth\": 0, \"ticks\": \"\"}}, \"type\": \"scattergeo\"}], \"scattergl\": [{\"marker\": {\"colorbar\": {\"outlinewidth\": 0, \"ticks\": \"\"}}, \"type\": \"scattergl\"}], \"scattermapbox\": [{\"marker\": {\"colorbar\": {\"outlinewidth\": 0, \"ticks\": \"\"}}, \"type\": \"scattermapbox\"}], \"scatterpolar\": [{\"marker\": {\"colorbar\": {\"outlinewidth\": 0, \"ticks\": \"\"}}, \"type\": \"scatterpolar\"}], \"scatterpolargl\": [{\"marker\": {\"colorbar\": {\"outlinewidth\": 0, \"ticks\": \"\"}}, \"type\": \"scatterpolargl\"}], \"scatterternary\": [{\"marker\": {\"colorbar\": {\"outlinewidth\": 0, \"ticks\": \"\"}}, \"type\": \"scatterternary\"}], \"surface\": [{\"colorbar\": {\"outlinewidth\": 0, \"ticks\": \"\"}, \"colorscale\": [[0.0, \"#0d0887\"], [0.1111111111111111, \"#46039f\"], [0.2222222222222222, \"#7201a8\"], [0.3333333333333333, \"#9c179e\"], [0.4444444444444444, \"#bd3786\"], [0.5555555555555556, \"#d8576b\"], [0.6666666666666666, \"#ed7953\"], [0.7777777777777778, \"#fb9f3a\"], [0.8888888888888888, \"#fdca26\"], [1.0, \"#f0f921\"]], \"type\": \"surface\"}], \"table\": [{\"cells\": {\"fill\": {\"color\": \"#EBF0F8\"}, \"line\": {\"color\": \"white\"}}, \"header\": {\"fill\": {\"color\": \"#C8D4E3\"}, \"line\": {\"color\": \"white\"}}, \"type\": \"table\"}]}, \"layout\": {\"annotationdefaults\": {\"arrowcolor\": \"#2a3f5f\", \"arrowhead\": 0, \"arrowwidth\": 1}, \"coloraxis\": {\"colorbar\": {\"outlinewidth\": 0, \"ticks\": \"\"}}, \"colorscale\": {\"diverging\": [[0, \"#8e0152\"], [0.1, \"#c51b7d\"], [0.2, \"#de77ae\"], [0.3, \"#f1b6da\"], [0.4, \"#fde0ef\"], [0.5, \"#f7f7f7\"], [0.6, \"#e6f5d0\"], [0.7, \"#b8e186\"], [0.8, \"#7fbc41\"], [0.9, \"#4d9221\"], [1, \"#276419\"]], \"sequential\": [[0.0, \"#0d0887\"], [0.1111111111111111, \"#46039f\"], [0.2222222222222222, \"#7201a8\"], [0.3333333333333333, \"#9c179e\"], [0.4444444444444444, \"#bd3786\"], [0.5555555555555556, \"#d8576b\"], [0.6666666666666666, \"#ed7953\"], [0.7777777777777778, \"#fb9f3a\"], [0.8888888888888888, \"#fdca26\"], [1.0, \"#f0f921\"]], \"sequentialminus\": [[0.0, \"#0d0887\"], [0.1111111111111111, \"#46039f\"], [0.2222222222222222, \"#7201a8\"], [0.3333333333333333, \"#9c179e\"], [0.4444444444444444, \"#bd3786\"], [0.5555555555555556, \"#d8576b\"], [0.6666666666666666, \"#ed7953\"], [0.7777777777777778, \"#fb9f3a\"], [0.8888888888888888, \"#fdca26\"], [1.0, \"#f0f921\"]]}, \"colorway\": [\"#636efa\", \"#EF553B\", \"#00cc96\", \"#ab63fa\", \"#FFA15A\", \"#19d3f3\", \"#FF6692\", \"#B6E880\", \"#FF97FF\", \"#FECB52\"], \"font\": {\"color\": \"#2a3f5f\"}, \"geo\": {\"bgcolor\": \"white\", \"lakecolor\": \"white\", \"landcolor\": \"#E5ECF6\", \"showlakes\": true, \"showland\": true, \"subunitcolor\": \"white\"}, \"hoverlabel\": {\"align\": \"left\"}, \"hovermode\": \"closest\", \"mapbox\": {\"style\": \"light\"}, \"paper_bgcolor\": \"white\", \"plot_bgcolor\": \"#E5ECF6\", \"polar\": {\"angularaxis\": {\"gridcolor\": \"white\", \"linecolor\": \"white\", \"ticks\": \"\"}, \"bgcolor\": \"#E5ECF6\", \"radialaxis\": {\"gridcolor\": \"white\", \"linecolor\": \"white\", \"ticks\": \"\"}}, \"scene\": {\"xaxis\": {\"backgroundcolor\": \"#E5ECF6\", \"gridcolor\": \"white\", \"gridwidth\": 2, \"linecolor\": \"white\", \"showbackground\": true, \"ticks\": \"\", \"zerolinecolor\": \"white\"}, \"yaxis\": {\"backgroundcolor\": \"#E5ECF6\", \"gridcolor\": \"white\", \"gridwidth\": 2, \"linecolor\": \"white\", \"showbackground\": true, \"ticks\": \"\", \"zerolinecolor\": \"white\"}, \"zaxis\": {\"backgroundcolor\": \"#E5ECF6\", \"gridcolor\": \"white\", \"gridwidth\": 2, \"linecolor\": \"white\", \"showbackground\": true, \"ticks\": \"\", \"zerolinecolor\": \"white\"}}, \"shapedefaults\": {\"line\": {\"color\": \"#2a3f5f\"}}, \"ternary\": {\"aaxis\": {\"gridcolor\": \"white\", \"linecolor\": \"white\", \"ticks\": \"\"}, \"baxis\": {\"gridcolor\": \"white\", \"linecolor\": \"white\", \"ticks\": \"\"}, \"bgcolor\": \"#E5ECF6\", \"caxis\": {\"gridcolor\": \"white\", \"linecolor\": \"white\", \"ticks\": \"\"}}, \"title\": {\"x\": 0.05}, \"xaxis\": {\"automargin\": true, \"gridcolor\": \"white\", \"linecolor\": \"white\", \"ticks\": \"\", \"title\": {\"standoff\": 15}, \"zerolinecolor\": \"white\", \"zerolinewidth\": 2}, \"yaxis\": {\"automargin\": true, \"gridcolor\": \"white\", \"linecolor\": \"white\", \"ticks\": \"\", \"title\": {\"standoff\": 15}, \"zerolinecolor\": \"white\", \"zerolinewidth\": 2}}}, \"title\": {\"text\": \"Cosine similarity bias measure\"}, \"xaxis\": {\"title\": {\"text\": \"Professions\"}}, \"yaxis\": {\"title\": {\"text\": \"Similarity difference\"}}},\n",
              "                        {\"responsive\": true}\n",
              "                    ).then(function(){\n",
              "                            \n",
              "var gd = document.getElementById('eaf8fd6e-87d9-4a98-b2be-1a50703ca383');\n",
              "var x = new MutationObserver(function (mutations, observer) {{\n",
              "        var display = window.getComputedStyle(gd).display;\n",
              "        if (!display || display === 'none') {{\n",
              "            console.log([gd, 'removed!']);\n",
              "            Plotly.purge(gd);\n",
              "            observer.disconnect();\n",
              "        }}\n",
              "}});\n",
              "\n",
              "// Listen for the removal of the full notebook cells\n",
              "var notebookContainer = gd.closest('#notebook-container');\n",
              "if (notebookContainer) {{\n",
              "    x.observe(notebookContainer, {childList: true});\n",
              "}}\n",
              "\n",
              "// Listen for the clearing of the current output cell\n",
              "var outputEl = gd.closest('.output');\n",
              "if (outputEl) {{\n",
              "    x.observe(outputEl, {childList: true});\n",
              "}}\n",
              "\n",
              "                        })\n",
              "                };\n",
              "                \n",
              "            </script>\n",
              "        </div>\n",
              "</body>\n",
              "</html>"
            ]
          },
          "metadata": {},
          "output_type": "display_data"
        }
      ],
      "source": [
        "fig = go.Figure(data=[\n",
        "    go.Bar(name='Raw dataset', x=professions, y=before_avg),\n",
        "    go.Bar(name='Debiased dataset', x=professions, y=after_avg)\n",
        "])\n",
        "# Change the bar mode\n",
        "fig.update_layout(\n",
        "    title=\"Cosine similarity bias measure\",\n",
        "    xaxis_title=\"Professions\",\n",
        "    yaxis_title=\"Similarity difference\",\n",
        "    barmode='group')\n",
        "fig.show()"
      ]
    },
    {
      "cell_type": "markdown",
      "metadata": {
        "id": "AIZGTe7otX7d"
      },
      "source": [
        "The chart above shows the difference between 'male' keywords and 'female' keywords for the given profession. The larger this difference, the more gender bias is present in the word embeddings, and thus in the dataset. A positive value indicates a stronger correlation with the male gender.\n",
        "\n",
        "We observe that using this method, the bias indeed seems to be reduced!"
      ]
    },
    {
      "cell_type": "markdown",
      "metadata": {
        "id": "Rrnc-Eu3hi2x"
      },
      "source": [
        "### Finding the gender vector\n",
        "\n",
        "Our goal here is to find a \"gender\" dimension in the data. This is done by subtracting words that are known to be male from their equivalent female version. In each of these cases, the words are nearly identical in all ways except for the gender they refer to. As such, subtracting these words should result in a vector that mostly represents the idea of “gender”."
      ]
    },
    {
      "cell_type": "code",
      "execution_count": 15,
      "metadata": {
        "id": "IgyGIFcmryAa"
      },
      "outputs": [],
      "source": [
        "gender_pairs = [\n",
        "      (\"girl\", \"boy\"),\n",
        "      (\"she\", \"he\"),\n",
        "      (\"woman\", \"man\")]"
      ]
    },
    {
      "cell_type": "code",
      "execution_count": 16,
      "metadata": {
        "id": "LvDKyNVy5jvr"
      },
      "outputs": [],
      "source": [
        "gender_vectors = []\n",
        "for (female_word, male_word) in gender_pairs:\n",
        "    gender_vectors.append(vec_wikibio[female_word] - vec_wikibio[male_word])\n",
        "    gender_vectors.append(vec_wikibio[male_word] - vec_wikibio[female_word])\n",
        "\n",
        "pca = PCA(n_components=1)\n",
        "pca.fit(np.array(gender_vectors))\n",
        "\n",
        "female_vector = np.mean(\n",
        "  pca.transform(np.array([vec_wikibio[pair[0]] for pair in gender_pairs]))\n",
        ")\n",
        "male_vector = np.mean(\n",
        "  pca.transform(np.array([vec_wikibio[pair[1]] for pair in gender_pairs]))\n",
        ")\n",
        "mean_projection = (male_vector + female_vector) / 2"
      ]
    },
    {
      "cell_type": "code",
      "execution_count": 17,
      "metadata": {
        "id": "4qbI_g7_rvfx"
      },
      "outputs": [],
      "source": [
        "gender_vectors_unbiased = []\n",
        "for (female_word, male_word) in gender_pairs:\n",
        "    gender_vectors_unbiased.append(vec_unbiased_wikibio[female_word] - vec_unbiased_wikibio[male_word])\n",
        "    gender_vectors_unbiased.append(vec_unbiased_wikibio[male_word] - vec_unbiased_wikibio[female_word])\n",
        "\n",
        "pca_unbiased = PCA(n_components=1)\n",
        "pca_unbiased.fit(np.array(gender_vectors_unbiased))\n",
        "\n",
        "female_vector_unbiased = np.mean(\n",
        "  pca_unbiased.transform(np.array([vec_unbiased_wikibio[pair[0]] for pair in gender_pairs])) \n",
        ")\n",
        "male_vector_unbiased = np.mean(\n",
        "  pca_unbiased.transform(np.array([vec_unbiased_wikibio[pair[1]] for pair in gender_pairs]))\n",
        ")\n",
        "mean_projection_unbiased = (male_vector_unbiased + female_vector_unbiased) / 2"
      ]
    },
    {
      "cell_type": "code",
      "execution_count": 18,
      "metadata": {
        "id": "O2MBLLoDr_WJ"
      },
      "outputs": [],
      "source": [
        "jobs = [\"singer\", \"teacher\", \"doctor\", \"pilot\", \"developer\",  \"lawyer\",  \"coach\", \"engineer\", 'scientist']"
      ]
    },
    {
      "cell_type": "markdown",
      "metadata": {
        "id": "mvjQFYScswqN"
      },
      "source": [
        "Now, for each job let's compute how close it is to the 'male' and the 'female' vector."
      ]
    },
    {
      "cell_type": "code",
      "execution_count": 19,
      "metadata": {
        "id": "SauPV5GaT4Ty"
      },
      "outputs": [],
      "source": [
        "vec_before = []\n",
        "vec_after = []\n",
        "\n",
        "for word in jobs:\n",
        "    word_biased = pca.transform(np.array([vec_wikibio[word]]))[0][0]\n",
        "    word_unbiased = pca_unbiased.transform(np.array([vec_unbiased_wikibio[word]]))[0][0]\n",
        "    # scale the score so > 0 means female bias, < 0 means male bias\n",
        "    biased = 2 * (word_biased - mean_projection) / (female_vector - male_vector)\n",
        "    unbiased = 2 * (word_unbiased - mean_projection_unbiased) / (female_vector_unbiased - male_vector_unbiased)\n",
        "    vec_before.append(biased)\n",
        "    vec_after.append(unbiased)"
      ]
    },
    {
      "cell_type": "code",
      "execution_count": 20,
      "metadata": {
        "colab": {
          "base_uri": "https://localhost:8080/",
          "height": 542
        },
        "id": "6XV37DKzT4T0",
        "outputId": "e027c987-c5f5-47da-ff70-6e65944faefd"
      },
      "outputs": [
        {
          "data": {
            "text/html": [
              "<html>\n",
              "<head><meta charset=\"utf-8\" /></head>\n",
              "<body>\n",
              "    <div>\n",
              "            <script src=\"https://cdnjs.cloudflare.com/ajax/libs/mathjax/2.7.5/MathJax.js?config=TeX-AMS-MML_SVG\"></script><script type=\"text/javascript\">if (window.MathJax) {MathJax.Hub.Config({SVG: {font: \"STIX-Web\"}});}</script>\n",
              "                <script type=\"text/javascript\">window.PlotlyConfig = {MathJaxConfig: 'local'};</script>\n",
              "        <script src=\"https://cdn.plot.ly/plotly-latest.min.js\"></script>    \n",
              "            <div id=\"38325fc1-d1e3-4536-8b8f-915eed121b24\" class=\"plotly-graph-div\" style=\"height:525px; width:100%;\"></div>\n",
              "            <script type=\"text/javascript\">\n",
              "                \n",
              "                    window.PLOTLYENV=window.PLOTLYENV || {};\n",
              "                    \n",
              "                if (document.getElementById(\"38325fc1-d1e3-4536-8b8f-915eed121b24\")) {\n",
              "                    Plotly.newPlot(\n",
              "                        '38325fc1-d1e3-4536-8b8f-915eed121b24',\n",
              "                        [{\"name\": \"Raw dataset\", \"type\": \"bar\", \"x\": [\"singer\", \"teacher\", \"doctor\", \"pilot\", \"developer\", \"lawyer\", \"coach\", \"engineer\", \"scientist\"], \"y\": [0.621908848466775, -0.09454416159294164, -0.3498771096587134, -0.43131874392462205, -0.5391037205572905, -0.2358427942339202, -0.6998329794566391, -0.7879196019517272, -0.1818612739470439]}, {\"name\": \"Debiased dataset\", \"type\": \"bar\", \"x\": [\"singer\", \"teacher\", \"doctor\", \"pilot\", \"developer\", \"lawyer\", \"coach\", \"engineer\", \"scientist\"], \"y\": [0.05924727070763278, 0.05246175234998712, -0.0901051391213838, 0.012041884606702906, 0.0009688926707287569, 0.0641053007820005, -0.053076913790883334, -0.13654046663519043, -0.041484087894321606]}],\n",
              "                        {\"barmode\": \"group\", \"template\": {\"data\": {\"bar\": [{\"error_x\": {\"color\": \"#2a3f5f\"}, \"error_y\": {\"color\": \"#2a3f5f\"}, \"marker\": {\"line\": {\"color\": \"#E5ECF6\", \"width\": 0.5}}, \"type\": \"bar\"}], \"barpolar\": [{\"marker\": {\"line\": {\"color\": \"#E5ECF6\", \"width\": 0.5}}, \"type\": \"barpolar\"}], \"carpet\": [{\"aaxis\": {\"endlinecolor\": \"#2a3f5f\", \"gridcolor\": \"white\", \"linecolor\": \"white\", \"minorgridcolor\": \"white\", \"startlinecolor\": \"#2a3f5f\"}, \"baxis\": {\"endlinecolor\": \"#2a3f5f\", \"gridcolor\": \"white\", \"linecolor\": \"white\", \"minorgridcolor\": \"white\", \"startlinecolor\": \"#2a3f5f\"}, \"type\": \"carpet\"}], \"choropleth\": [{\"colorbar\": {\"outlinewidth\": 0, \"ticks\": \"\"}, \"type\": \"choropleth\"}], \"contour\": [{\"colorbar\": {\"outlinewidth\": 0, \"ticks\": \"\"}, \"colorscale\": [[0.0, \"#0d0887\"], [0.1111111111111111, \"#46039f\"], [0.2222222222222222, \"#7201a8\"], [0.3333333333333333, \"#9c179e\"], [0.4444444444444444, \"#bd3786\"], [0.5555555555555556, \"#d8576b\"], [0.6666666666666666, \"#ed7953\"], [0.7777777777777778, \"#fb9f3a\"], [0.8888888888888888, \"#fdca26\"], [1.0, \"#f0f921\"]], \"type\": \"contour\"}], \"contourcarpet\": [{\"colorbar\": {\"outlinewidth\": 0, \"ticks\": \"\"}, \"type\": \"contourcarpet\"}], \"heatmap\": [{\"colorbar\": {\"outlinewidth\": 0, \"ticks\": \"\"}, \"colorscale\": [[0.0, \"#0d0887\"], [0.1111111111111111, \"#46039f\"], [0.2222222222222222, \"#7201a8\"], [0.3333333333333333, \"#9c179e\"], [0.4444444444444444, \"#bd3786\"], [0.5555555555555556, \"#d8576b\"], [0.6666666666666666, \"#ed7953\"], [0.7777777777777778, \"#fb9f3a\"], [0.8888888888888888, \"#fdca26\"], [1.0, \"#f0f921\"]], \"type\": \"heatmap\"}], \"heatmapgl\": [{\"colorbar\": {\"outlinewidth\": 0, \"ticks\": \"\"}, \"colorscale\": [[0.0, \"#0d0887\"], [0.1111111111111111, \"#46039f\"], [0.2222222222222222, \"#7201a8\"], [0.3333333333333333, \"#9c179e\"], [0.4444444444444444, \"#bd3786\"], [0.5555555555555556, \"#d8576b\"], [0.6666666666666666, \"#ed7953\"], [0.7777777777777778, \"#fb9f3a\"], [0.8888888888888888, \"#fdca26\"], [1.0, \"#f0f921\"]], \"type\": \"heatmapgl\"}], \"histogram\": [{\"marker\": {\"colorbar\": {\"outlinewidth\": 0, \"ticks\": \"\"}}, \"type\": \"histogram\"}], \"histogram2d\": [{\"colorbar\": {\"outlinewidth\": 0, \"ticks\": \"\"}, \"colorscale\": [[0.0, \"#0d0887\"], [0.1111111111111111, \"#46039f\"], [0.2222222222222222, \"#7201a8\"], [0.3333333333333333, \"#9c179e\"], [0.4444444444444444, \"#bd3786\"], [0.5555555555555556, \"#d8576b\"], [0.6666666666666666, \"#ed7953\"], [0.7777777777777778, \"#fb9f3a\"], [0.8888888888888888, \"#fdca26\"], [1.0, \"#f0f921\"]], \"type\": \"histogram2d\"}], \"histogram2dcontour\": [{\"colorbar\": {\"outlinewidth\": 0, \"ticks\": \"\"}, \"colorscale\": [[0.0, \"#0d0887\"], [0.1111111111111111, \"#46039f\"], [0.2222222222222222, \"#7201a8\"], [0.3333333333333333, \"#9c179e\"], [0.4444444444444444, \"#bd3786\"], [0.5555555555555556, \"#d8576b\"], [0.6666666666666666, \"#ed7953\"], [0.7777777777777778, \"#fb9f3a\"], [0.8888888888888888, \"#fdca26\"], [1.0, \"#f0f921\"]], \"type\": \"histogram2dcontour\"}], \"mesh3d\": [{\"colorbar\": {\"outlinewidth\": 0, \"ticks\": \"\"}, \"type\": \"mesh3d\"}], \"parcoords\": [{\"line\": {\"colorbar\": {\"outlinewidth\": 0, \"ticks\": \"\"}}, \"type\": \"parcoords\"}], \"pie\": [{\"automargin\": true, \"type\": \"pie\"}], \"scatter\": [{\"marker\": {\"colorbar\": {\"outlinewidth\": 0, \"ticks\": \"\"}}, \"type\": \"scatter\"}], \"scatter3d\": [{\"line\": {\"colorbar\": {\"outlinewidth\": 0, \"ticks\": \"\"}}, \"marker\": {\"colorbar\": {\"outlinewidth\": 0, \"ticks\": \"\"}}, \"type\": \"scatter3d\"}], \"scattercarpet\": [{\"marker\": {\"colorbar\": {\"outlinewidth\": 0, \"ticks\": \"\"}}, \"type\": \"scattercarpet\"}], \"scattergeo\": [{\"marker\": {\"colorbar\": {\"outlinewidth\": 0, \"ticks\": \"\"}}, \"type\": \"scattergeo\"}], \"scattergl\": [{\"marker\": {\"colorbar\": {\"outlinewidth\": 0, \"ticks\": \"\"}}, \"type\": \"scattergl\"}], \"scattermapbox\": [{\"marker\": {\"colorbar\": {\"outlinewidth\": 0, \"ticks\": \"\"}}, \"type\": \"scattermapbox\"}], \"scatterpolar\": [{\"marker\": {\"colorbar\": {\"outlinewidth\": 0, \"ticks\": \"\"}}, \"type\": \"scatterpolar\"}], \"scatterpolargl\": [{\"marker\": {\"colorbar\": {\"outlinewidth\": 0, \"ticks\": \"\"}}, \"type\": \"scatterpolargl\"}], \"scatterternary\": [{\"marker\": {\"colorbar\": {\"outlinewidth\": 0, \"ticks\": \"\"}}, \"type\": \"scatterternary\"}], \"surface\": [{\"colorbar\": {\"outlinewidth\": 0, \"ticks\": \"\"}, \"colorscale\": [[0.0, \"#0d0887\"], [0.1111111111111111, \"#46039f\"], [0.2222222222222222, \"#7201a8\"], [0.3333333333333333, \"#9c179e\"], [0.4444444444444444, \"#bd3786\"], [0.5555555555555556, \"#d8576b\"], [0.6666666666666666, \"#ed7953\"], [0.7777777777777778, \"#fb9f3a\"], [0.8888888888888888, \"#fdca26\"], [1.0, \"#f0f921\"]], \"type\": \"surface\"}], \"table\": [{\"cells\": {\"fill\": {\"color\": \"#EBF0F8\"}, \"line\": {\"color\": \"white\"}}, \"header\": {\"fill\": {\"color\": \"#C8D4E3\"}, \"line\": {\"color\": \"white\"}}, \"type\": \"table\"}]}, \"layout\": {\"annotationdefaults\": {\"arrowcolor\": \"#2a3f5f\", \"arrowhead\": 0, \"arrowwidth\": 1}, \"coloraxis\": {\"colorbar\": {\"outlinewidth\": 0, \"ticks\": \"\"}}, \"colorscale\": {\"diverging\": [[0, \"#8e0152\"], [0.1, \"#c51b7d\"], [0.2, \"#de77ae\"], [0.3, \"#f1b6da\"], [0.4, \"#fde0ef\"], [0.5, \"#f7f7f7\"], [0.6, \"#e6f5d0\"], [0.7, \"#b8e186\"], [0.8, \"#7fbc41\"], [0.9, \"#4d9221\"], [1, \"#276419\"]], \"sequential\": [[0.0, \"#0d0887\"], [0.1111111111111111, \"#46039f\"], [0.2222222222222222, \"#7201a8\"], [0.3333333333333333, \"#9c179e\"], [0.4444444444444444, \"#bd3786\"], [0.5555555555555556, \"#d8576b\"], [0.6666666666666666, \"#ed7953\"], [0.7777777777777778, \"#fb9f3a\"], [0.8888888888888888, \"#fdca26\"], [1.0, \"#f0f921\"]], \"sequentialminus\": [[0.0, \"#0d0887\"], [0.1111111111111111, \"#46039f\"], [0.2222222222222222, \"#7201a8\"], [0.3333333333333333, \"#9c179e\"], [0.4444444444444444, \"#bd3786\"], [0.5555555555555556, \"#d8576b\"], [0.6666666666666666, \"#ed7953\"], [0.7777777777777778, \"#fb9f3a\"], [0.8888888888888888, \"#fdca26\"], [1.0, \"#f0f921\"]]}, \"colorway\": [\"#636efa\", \"#EF553B\", \"#00cc96\", \"#ab63fa\", \"#FFA15A\", \"#19d3f3\", \"#FF6692\", \"#B6E880\", \"#FF97FF\", \"#FECB52\"], \"font\": {\"color\": \"#2a3f5f\"}, \"geo\": {\"bgcolor\": \"white\", \"lakecolor\": \"white\", \"landcolor\": \"#E5ECF6\", \"showlakes\": true, \"showland\": true, \"subunitcolor\": \"white\"}, \"hoverlabel\": {\"align\": \"left\"}, \"hovermode\": \"closest\", \"mapbox\": {\"style\": \"light\"}, \"paper_bgcolor\": \"white\", \"plot_bgcolor\": \"#E5ECF6\", \"polar\": {\"angularaxis\": {\"gridcolor\": \"white\", \"linecolor\": \"white\", \"ticks\": \"\"}, \"bgcolor\": \"#E5ECF6\", \"radialaxis\": {\"gridcolor\": \"white\", \"linecolor\": \"white\", \"ticks\": \"\"}}, \"scene\": {\"xaxis\": {\"backgroundcolor\": \"#E5ECF6\", \"gridcolor\": \"white\", \"gridwidth\": 2, \"linecolor\": \"white\", \"showbackground\": true, \"ticks\": \"\", \"zerolinecolor\": \"white\"}, \"yaxis\": {\"backgroundcolor\": \"#E5ECF6\", \"gridcolor\": \"white\", \"gridwidth\": 2, \"linecolor\": \"white\", \"showbackground\": true, \"ticks\": \"\", \"zerolinecolor\": \"white\"}, \"zaxis\": {\"backgroundcolor\": \"#E5ECF6\", \"gridcolor\": \"white\", \"gridwidth\": 2, \"linecolor\": \"white\", \"showbackground\": true, \"ticks\": \"\", \"zerolinecolor\": \"white\"}}, \"shapedefaults\": {\"line\": {\"color\": \"#2a3f5f\"}}, \"ternary\": {\"aaxis\": {\"gridcolor\": \"white\", \"linecolor\": \"white\", \"ticks\": \"\"}, \"baxis\": {\"gridcolor\": \"white\", \"linecolor\": \"white\", \"ticks\": \"\"}, \"bgcolor\": \"#E5ECF6\", \"caxis\": {\"gridcolor\": \"white\", \"linecolor\": \"white\", \"ticks\": \"\"}}, \"title\": {\"x\": 0.05}, \"xaxis\": {\"automargin\": true, \"gridcolor\": \"white\", \"linecolor\": \"white\", \"ticks\": \"\", \"title\": {\"standoff\": 15}, \"zerolinecolor\": \"white\", \"zerolinewidth\": 2}, \"yaxis\": {\"automargin\": true, \"gridcolor\": \"white\", \"linecolor\": \"white\", \"ticks\": \"\", \"title\": {\"standoff\": 15}, \"zerolinecolor\": \"white\", \"zerolinewidth\": 2}}}, \"title\": {\"text\": \"Gender vector bias measure\"}, \"xaxis\": {\"title\": {\"text\": \"Professions\"}}, \"yaxis\": {\"title\": {\"text\": \"Similarity difference\"}}},\n",
              "                        {\"responsive\": true}\n",
              "                    ).then(function(){\n",
              "                            \n",
              "var gd = document.getElementById('38325fc1-d1e3-4536-8b8f-915eed121b24');\n",
              "var x = new MutationObserver(function (mutations, observer) {{\n",
              "        var display = window.getComputedStyle(gd).display;\n",
              "        if (!display || display === 'none') {{\n",
              "            console.log([gd, 'removed!']);\n",
              "            Plotly.purge(gd);\n",
              "            observer.disconnect();\n",
              "        }}\n",
              "}});\n",
              "\n",
              "// Listen for the removal of the full notebook cells\n",
              "var notebookContainer = gd.closest('#notebook-container');\n",
              "if (notebookContainer) {{\n",
              "    x.observe(notebookContainer, {childList: true});\n",
              "}}\n",
              "\n",
              "// Listen for the clearing of the current output cell\n",
              "var outputEl = gd.closest('.output');\n",
              "if (outputEl) {{\n",
              "    x.observe(outputEl, {childList: true});\n",
              "}}\n",
              "\n",
              "                        })\n",
              "                };\n",
              "                \n",
              "            </script>\n",
              "        </div>\n",
              "</body>\n",
              "</html>"
            ]
          },
          "metadata": {},
          "output_type": "display_data"
        }
      ],
      "source": [
        "fig = go.Figure(data=[\n",
        "    go.Bar(name='Raw dataset', x=jobs, y=vec_before),\n",
        "    go.Bar(name='Debiased dataset', x=jobs, y=vec_after)\n",
        "])\n",
        "# Change the bar mode\n",
        "fig.update_layout(\n",
        "    barmode='group',\n",
        "    title=\"Gender vector bias measure\",\n",
        "    xaxis_title=\"Professions\",\n",
        "    yaxis_title=\"Similarity difference\")\n",
        "fig.show()"
      ]
    },
    {
      "cell_type": "markdown",
      "metadata": {
        "id": "XgZ7iENItahT"
      },
      "source": [
        "We observe that in mane cases CDA manages to reduce bias, or even flip it slightly."
      ]
    },
    {
      "cell_type": "markdown",
      "metadata": {
        "id": "qwBXyT8VzEM_"
      },
      "source": [
        "## Take-aways 🤓\n",
        "\n",
        "You've reached the finish line! 👏 Let's summarize some of the findings.\n",
        "\n",
        "- We applied the CDA technique in a dataset to reduce the impact of gender bias.\n",
        "- Then, we trained word2vec models on both the original and the CDA-augmented datasets.\n",
        "- We measured the bias present in the vectors using 2 methods: cosine similarity and finding the gender vectors.\n",
        "- We observed that there are indeed indications that the CDA method works to reduce gender bias. Of course, there isn't a single unified method to measure bias!"
      ]
    },
    {
      "cell_type": "markdown",
      "metadata": {},
      "source": [
        "## Further reading 📖\n",
        "\n",
        "If, like us, you find this area super exciting, feel free to have a look at these interesting papers:\n",
        "- [Gender Bias in Neural Natural Language Processing](https://arxiv.org/pdf/1807.11714.pdf)\n",
        "- [Counterfactual Data Augmentation for Mitigating Gender Stereotypes in Languages with Rich Morphology](https://aclanthology.org/P19-1161v2.pdf)\n",
        "- [It’s All in the Name: Mitigating Gender Bias with Name-Based Counterfactual Data Substitution](https://aclanthology.org/D19-1530v2.pdf)"
      ]
    }
  ],
  "metadata": {
    "colab": {
      "collapsed_sections": [],
      "name": "gender_debiasing_cda.ipynb",
      "provenance": []
    },
    "environment": {
      "kernel": "python3",
      "name": "pytorch-gpu.1-10.m87",
      "type": "gcloud",
      "uri": "gcr.io/deeplearning-platform-release/pytorch-gpu.1-10:m87"
    },
    "kernelspec": {
      "display_name": "Python 3",
      "language": "python",
      "name": "python3"
    },
    "language_info": {
      "codemirror_mode": {
        "name": "ipython",
        "version": 3
      },
      "file_extension": ".py",
      "mimetype": "text/x-python",
      "name": "python",
      "nbconvert_exporter": "python",
      "pygments_lexer": "ipython3",
      "version": "3.7.12"
    }
  },
  "nbformat": 4,
  "nbformat_minor": 0
}
